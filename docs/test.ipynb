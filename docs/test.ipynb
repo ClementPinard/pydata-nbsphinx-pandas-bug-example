{
 "cells": [
  {
   "cell_type": "markdown",
   "id": "d8bae799",
   "metadata": {},
   "source": [
    "## DataFrame in tabs formatting Example"
   ]
  },
  {
   "cell_type": "code",
   "execution_count": null,
   "id": "08b41049",
   "metadata": {},
   "outputs": [],
   "source": [
    "import pandas as pd\n",
    "import numpy as np\n",
    "import ipywidgets as widgets\n",
    "from IPython.display import display\n",
    "\n",
    "tab = widgets.Tab()\n",
    "\n",
    "descr_str = \"Hello\"\n",
    "\n",
    "title = widgets.HTML(descr_str)\n",
    "\n",
    "# create output widgets\n",
    "widget_images = widgets.Output()\n",
    "widget_annotations = widgets.Output()\n",
    "\n",
    "# render in output widgets\n",
    "with widget_images:\n",
    "    display(pd.DataFrame(np.random.randn(10,10)))\n",
    "with widget_annotations:\n",
    "    display(pd.DataFrame(np.random.randn(10,10)))\n",
    "\n",
    "tab.children = [widget_images, widget_annotations]\n",
    "tab.titles = [\"Images\", \"Annotations\"]\n",
    "\n",
    "display(widgets.VBox([title, tab]))"
   ]
  },
  {
   "cell_type": "code",
   "execution_count": null,
   "id": "bdbcee9f",
   "metadata": {},
   "outputs": [],
   "source": []
  }
 ],
 "metadata": {
  "kernelspec": {
   "display_name": "Python 3 (ipykernel)",
   "language": "python",
   "name": "python3"
  },
  "language_info": {
   "codemirror_mode": {
    "name": "ipython",
    "version": 3
   },
   "file_extension": ".py",
   "mimetype": "text/x-python",
   "name": "python",
   "nbconvert_exporter": "python",
   "pygments_lexer": "ipython3",
   "version": "3.9.7"
  },
  "vscode": {
   "interpreter": {
    "hash": "d15bc42e10f6e7149cb5e7de369410465be1925b6fa47ed3bcc6075bff3941fa"
   }
  },
  "widgets": {
   "application/vnd.jupyter.widget-state+json": {
    "state": {
     "00fb447339d94f0aa29e3300001295e5": {
      "model_module": "@jupyter-widgets/base",
      "model_module_version": "2.0.0",
      "model_name": "LayoutModel",
      "state": {}
     },
     "023b800bc92f4dd1a732b909cd97ffed": {
      "model_module": "@jupyter-widgets/base",
      "model_module_version": "2.0.0",
      "model_name": "LayoutModel",
      "state": {}
     },
     "02e29071cf7d489080abbed11d4e57de": {
      "model_module": "@jupyter-widgets/base",
      "model_module_version": "2.0.0",
      "model_name": "LayoutModel",
      "state": {}
     },
     "0359b50ba49a49018725ad06d83c30a1": {
      "model_module": "@jupyter-widgets/base",
      "model_module_version": "2.0.0",
      "model_name": "LayoutModel",
      "state": {}
     },
     "04923e365af647078c51d894aa811d16": {
      "model_module": "@jupyter-widgets/output",
      "model_module_version": "1.0.0",
      "model_name": "OutputModel",
      "state": {
       "layout": "IPY_MODEL_2e9582e654014086b81fbc7a7d693e80",
       "outputs": [
        {
         "data": {
          "text/html": "<div>\n<style scoped>\n    .dataframe tbody tr th:only-of-type {\n        vertical-align: middle;\n    }\n\n    .dataframe tbody tr th {\n        vertical-align: top;\n    }\n\n    .dataframe thead th {\n        text-align: right;\n    }\n</style>\n<table border=\"1\" class=\"dataframe\">\n  <thead>\n    <tr style=\"text-align: right;\">\n      <th></th>\n      <th>area</th>\n      <th>image_id</th>\n      <th>category_id</th>\n      <th>split</th>\n      <th>xmin</th>\n      <th>ymin</th>\n      <th>box_width</th>\n      <th>box_height</th>\n      <th>category_str</th>\n    </tr>\n    <tr>\n      <th>id</th>\n      <th></th>\n      <th></th>\n      <th></th>\n      <th></th>\n      <th></th>\n      <th></th>\n      <th></th>\n      <th></th>\n      <th></th>\n    </tr>\n  </thead>\n  <tbody>\n    <tr>\n      <th>460450</th>\n      <td>48685.67910</td>\n      <td>352582</td>\n      <td>1</td>\n      <td>valid</td>\n      <td>112.43</td>\n      <td>195.32</td>\n      <td>214.78</td>\n      <td>438.19</td>\n      <td>person</td>\n    </tr>\n    <tr>\n      <th>535917</th>\n      <td>22650.73800</td>\n      <td>352582</td>\n      <td>1</td>\n      <td>valid</td>\n      <td>0.00</td>\n      <td>256.00</td>\n      <td>80.54</td>\n      <td>376.81</td>\n      <td>person</td>\n    </tr>\n    <tr>\n      <th>602093</th>\n      <td>2605.72090</td>\n      <td>352582</td>\n      <td>34</td>\n      <td>valid</td>\n      <td>171.63</td>\n      <td>424.03</td>\n      <td>85.89</td>\n      <td>40.67</td>\n      <td>frisbee</td>\n    </tr>\n    <tr>\n      <th>589077</th>\n      <td>9978.94125</td>\n      <td>113354</td>\n      <td>24</td>\n      <td>valid</td>\n      <td>260.99</td>\n      <td>158.88</td>\n      <td>141.52</td>\n      <td>194.11</td>\n      <td>zebra</td>\n    </tr>\n    <tr>\n      <th>589740</th>\n      <td>5784.68620</td>\n      <td>113354</td>\n      <td>24</td>\n      <td>valid</td>\n      <td>366.49</td>\n      <td>174.59</td>\n      <td>115.67</td>\n      <td>142.71</td>\n      <td>zebra</td>\n    </tr>\n    <tr>\n      <th>...</th>\n      <td>...</td>\n      <td>...</td>\n      <td>...</td>\n      <td>...</td>\n      <td>...</td>\n      <td>...</td>\n      <td>...</td>\n      <td>...</td>\n      <td>...</td>\n    </tr>\n    <tr>\n      <th>331107</th>\n      <td>12029.44125</td>\n      <td>349837</td>\n      <td>82</td>\n      <td>valid</td>\n      <td>66.00</td>\n      <td>94.87</td>\n      <td>71.25</td>\n      <td>194.26</td>\n      <td>refrigerator</td>\n    </tr>\n    <tr>\n      <th>332788</th>\n      <td>23037.46875</td>\n      <td>349837</td>\n      <td>82</td>\n      <td>valid</td>\n      <td>138.00</td>\n      <td>62.63</td>\n      <td>98.25</td>\n      <td>252.00</td>\n      <td>refrigerator</td>\n    </tr>\n    <tr>\n      <th>333394</th>\n      <td>30406.51295</td>\n      <td>349837</td>\n      <td>82</td>\n      <td>valid</td>\n      <td>234.44</td>\n      <td>29.87</td>\n      <td>113.49</td>\n      <td>298.65</td>\n      <td>refrigerator</td>\n    </tr>\n    <tr>\n      <th>333685</th>\n      <td>37187.97840</td>\n      <td>349837</td>\n      <td>82</td>\n      <td>valid</td>\n      <td>335.04</td>\n      <td>10.48</td>\n      <td>125.17</td>\n      <td>318.78</td>\n      <td>refrigerator</td>\n    </tr>\n    <tr>\n      <th>333731</th>\n      <td>12492.52165</td>\n      <td>349837</td>\n      <td>82</td>\n      <td>valid</td>\n      <td>460.39</td>\n      <td>0.00</td>\n      <td>39.61</td>\n      <td>328.64</td>\n      <td>refrigerator</td>\n    </tr>\n  </tbody>\n</table>\n<p>36781 rows × 9 columns</p>\n</div>",
          "text/plain": "               area  image_id  category_id  split    xmin    ymin  box_width  \\\nid                                                                             \n460450  48685.67910    352582            1  valid  112.43  195.32     214.78   \n535917  22650.73800    352582            1  valid    0.00  256.00      80.54   \n602093   2605.72090    352582           34  valid  171.63  424.03      85.89   \n589077   9978.94125    113354           24  valid  260.99  158.88     141.52   \n589740   5784.68620    113354           24  valid  366.49  174.59     115.67   \n...             ...       ...          ...    ...     ...     ...        ...   \n331107  12029.44125    349837           82  valid   66.00   94.87      71.25   \n332788  23037.46875    349837           82  valid  138.00   62.63      98.25   \n333394  30406.51295    349837           82  valid  234.44   29.87     113.49   \n333685  37187.97840    349837           82  valid  335.04   10.48     125.17   \n333731  12492.52165    349837           82  valid  460.39    0.00      39.61   \n\n        box_height  category_str  \nid                                \n460450      438.19        person  \n535917      376.81        person  \n602093       40.67       frisbee  \n589077      194.11         zebra  \n589740      142.71         zebra  \n...            ...           ...  \n331107      194.26  refrigerator  \n332788      252.00  refrigerator  \n333394      298.65  refrigerator  \n333685      318.78  refrigerator  \n333731      328.64  refrigerator  \n\n[36781 rows x 9 columns]"
         },
         "metadata": {},
         "output_type": "display_data"
        }
       ]
      }
     },
     "04a6ba81bc25413f9fb6853852961a39": {
      "model_module": "@jupyter-widgets/output",
      "model_module_version": "1.0.0",
      "model_name": "OutputModel",
      "state": {
       "layout": "IPY_MODEL_f7e885702c4042b595534d634d9ea388",
       "outputs": [
        {
         "data": {
          "text/html": "<div>\n<style scoped>\n    .dataframe tbody tr th:only-of-type {\n        vertical-align: middle;\n    }\n\n    .dataframe tbody tr th {\n        vertical-align: top;\n    }\n\n    .dataframe thead th {\n        text-align: right;\n    }\n</style>\n<table border=\"1\" class=\"dataframe\">\n  <thead>\n    <tr style=\"text-align: right;\">\n      <th></th>\n      <th>file_name</th>\n      <th>height</th>\n      <th>width</th>\n      <th>split</th>\n      <th>relative_path</th>\n      <th>type</th>\n    </tr>\n    <tr>\n      <th>id</th>\n      <th></th>\n      <th></th>\n      <th></th>\n      <th></th>\n      <th></th>\n      <th></th>\n    </tr>\n  </thead>\n  <tbody>\n    <tr>\n      <th>0</th>\n      <td>000000000632.jpg</td>\n      <td>483</td>\n      <td>640</td>\n      <td>valid</td>\n      <td>Images/valid/000000000632.jpg</td>\n      <td>.jpg</td>\n    </tr>\n    <tr>\n      <th>1</th>\n      <td>000000000724.jpg</td>\n      <td>500</td>\n      <td>375</td>\n      <td>valid</td>\n      <td>Images/valid/000000000724.jpg</td>\n      <td>.jpg</td>\n    </tr>\n    <tr>\n      <th>2</th>\n      <td>000000000776.jpg</td>\n      <td>640</td>\n      <td>428</td>\n      <td>valid</td>\n      <td>Images/valid/000000000776.jpg</td>\n      <td>.jpg</td>\n    </tr>\n    <tr>\n      <th>3</th>\n      <td>000000000785.jpg</td>\n      <td>425</td>\n      <td>640</td>\n      <td>valid</td>\n      <td>Images/valid/000000000785.jpg</td>\n      <td>.jpg</td>\n    </tr>\n    <tr>\n      <th>4</th>\n      <td>000000001268.jpg</td>\n      <td>427</td>\n      <td>640</td>\n      <td>valid</td>\n      <td>Images/valid/000000001268.jpg</td>\n      <td>.jpg</td>\n    </tr>\n    <tr>\n      <th>...</th>\n      <td>...</td>\n      <td>...</td>\n      <td>...</td>\n      <td>...</td>\n      <td>...</td>\n      <td>...</td>\n    </tr>\n    <tr>\n      <th>4995</th>\n      <td>000000580418.jpg</td>\n      <td>428</td>\n      <td>640</td>\n      <td>valid</td>\n      <td>Images/valid/000000580418.jpg</td>\n      <td>.jpg</td>\n    </tr>\n    <tr>\n      <th>4996</th>\n      <td>000000580757.jpg</td>\n      <td>425</td>\n      <td>640</td>\n      <td>valid</td>\n      <td>Images/valid/000000580757.jpg</td>\n      <td>.jpg</td>\n    </tr>\n    <tr>\n      <th>4997</th>\n      <td>000000581062.jpg</td>\n      <td>375</td>\n      <td>500</td>\n      <td>valid</td>\n      <td>Images/valid/000000581062.jpg</td>\n      <td>.jpg</td>\n    </tr>\n    <tr>\n      <th>4998</th>\n      <td>000000581206.jpg</td>\n      <td>640</td>\n      <td>479</td>\n      <td>valid</td>\n      <td>Images/valid/000000581206.jpg</td>\n      <td>.jpg</td>\n    </tr>\n    <tr>\n      <th>4999</th>\n      <td>000000581615.jpg</td>\n      <td>640</td>\n      <td>478</td>\n      <td>valid</td>\n      <td>Images/valid/000000581615.jpg</td>\n      <td>.jpg</td>\n    </tr>\n  </tbody>\n</table>\n<p>5000 rows × 6 columns</p>\n</div>",
          "text/plain": "             file_name  height  width  split                  relative_path  \\\nid                                                                            \n0     000000000632.jpg     483    640  valid  Images/valid/000000000632.jpg   \n1     000000000724.jpg     500    375  valid  Images/valid/000000000724.jpg   \n2     000000000776.jpg     640    428  valid  Images/valid/000000000776.jpg   \n3     000000000785.jpg     425    640  valid  Images/valid/000000000785.jpg   \n4     000000001268.jpg     427    640  valid  Images/valid/000000001268.jpg   \n...                ...     ...    ...    ...                            ...   \n4995  000000580418.jpg     428    640  valid  Images/valid/000000580418.jpg   \n4996  000000580757.jpg     425    640  valid  Images/valid/000000580757.jpg   \n4997  000000581062.jpg     375    500  valid  Images/valid/000000581062.jpg   \n4998  000000581206.jpg     640    479  valid  Images/valid/000000581206.jpg   \n4999  000000581615.jpg     640    478  valid  Images/valid/000000581615.jpg   \n\n      type  \nid          \n0     .jpg  \n1     .jpg  \n2     .jpg  \n3     .jpg  \n4     .jpg  \n...    ...  \n4995  .jpg  \n4996  .jpg  \n4997  .jpg  \n4998  .jpg  \n4999  .jpg  \n\n[5000 rows x 6 columns]"
         },
         "metadata": {},
         "output_type": "display_data"
        }
       ]
      }
     },
     "04a87df08bb74949b4f1cd072ef86e73": {
      "model_module": "@jupyter-widgets/controls",
      "model_module_version": "2.0.0",
      "model_name": "VBoxModel",
      "state": {
       "children": [
        "IPY_MODEL_19081791fb394b78b2bd66884c4eb50c",
        "IPY_MODEL_f842f3cb230e464ca755ef6dc2005ab5"
       ],
       "layout": "IPY_MODEL_07ce28e91a2a44c3b7800be19260d679"
      }
     },
     "04c0c020f9164c0bb8bdd13c5223971a": {
      "model_module": "@jupyter-widgets/base",
      "model_module_version": "2.0.0",
      "model_name": "LayoutModel",
      "state": {}
     },
     "0527dbd0677149d5be3f80993da7a0ee": {
      "model_module": "@jupyter-widgets/base",
      "model_module_version": "2.0.0",
      "model_name": "LayoutModel",
      "state": {}
     },
     "05af87642a784e9b9f06ee3a58c28765": {
      "model_module": "@jupyter-widgets/base",
      "model_module_version": "2.0.0",
      "model_name": "LayoutModel",
      "state": {}
     },
     "05b0a9490d6b4232bd1e200ec94a2dee": {
      "model_module": "@jupyter-widgets/output",
      "model_module_version": "1.0.0",
      "model_name": "OutputModel",
      "state": {
       "layout": "IPY_MODEL_4ed243856f3040d2a22dbddee434fb4f",
       "outputs": [
        {
         "data": {
          "text/html": "<div>\n<style scoped>\n    .dataframe tbody tr th:only-of-type {\n        vertical-align: middle;\n    }\n\n    .dataframe tbody tr th {\n        vertical-align: top;\n    }\n\n    .dataframe thead th {\n        text-align: right;\n    }\n</style>\n<table border=\"1\" class=\"dataframe\">\n  <thead>\n    <tr style=\"text-align: right;\">\n      <th></th>\n      <th>area</th>\n      <th>image_id</th>\n      <th>category_id</th>\n      <th>split</th>\n      <th>xmin</th>\n      <th>ymin</th>\n      <th>box_width</th>\n      <th>box_height</th>\n      <th>category_str</th>\n    </tr>\n    <tr>\n      <th>id</th>\n      <th></th>\n      <th></th>\n      <th></th>\n      <th></th>\n      <th></th>\n      <th></th>\n      <th></th>\n      <th></th>\n      <th></th>\n    </tr>\n  </thead>\n  <tbody>\n    <tr>\n      <th>357584</th>\n      <td>14718.47935</td>\n      <td>310072</td>\n      <td>1</td>\n      <td>valid</td>\n      <td>223.85</td>\n      <td>0.00</td>\n      <td>258.83</td>\n      <td>69.08</td>\n      <td>vehicle</td>\n    </tr>\n    <tr>\n      <th>358258</th>\n      <td>6989.84750</td>\n      <td>310072</td>\n      <td>1</td>\n      <td>valid</td>\n      <td>0.00</td>\n      <td>1.94</td>\n      <td>135.99</td>\n      <td>66.27</td>\n      <td>vehicle</td>\n    </tr>\n    <tr>\n      <th>363154</th>\n      <td>1729.26630</td>\n      <td>310072</td>\n      <td>1</td>\n      <td>valid</td>\n      <td>170.89</td>\n      <td>0.00</td>\n      <td>71.06</td>\n      <td>36.96</td>\n      <td>vehicle</td>\n    </tr>\n    <tr>\n      <th>1337431</th>\n      <td>91.97330</td>\n      <td>310072</td>\n      <td>1</td>\n      <td>valid</td>\n      <td>631.99</td>\n      <td>7.35</td>\n      <td>8.01</td>\n      <td>15.46</td>\n      <td>vehicle</td>\n    </tr>\n    <tr>\n      <th>1368385</th>\n      <td>7558.39585</td>\n      <td>310072</td>\n      <td>1</td>\n      <td>valid</td>\n      <td>0.00</td>\n      <td>0.00</td>\n      <td>131.87</td>\n      <td>71.46</td>\n      <td>vehicle</td>\n    </tr>\n    <tr>\n      <th>...</th>\n      <td>...</td>\n      <td>...</td>\n      <td>...</td>\n      <td>...</td>\n      <td>...</td>\n      <td>...</td>\n      <td>...</td>\n      <td>...</td>\n      <td>...</td>\n    </tr>\n    <tr>\n      <th>10068</th>\n      <td>10866.03335</td>\n      <td>189806</td>\n      <td>3</td>\n      <td>valid</td>\n      <td>263.63</td>\n      <td>193.10</td>\n      <td>180.04</td>\n      <td>103.59</td>\n      <td>animal</td>\n    </tr>\n    <tr>\n      <th>46540</th>\n      <td>5204.68295</td>\n      <td>189806</td>\n      <td>3</td>\n      <td>valid</td>\n      <td>130.91</td>\n      <td>165.20</td>\n      <td>94.54</td>\n      <td>104.73</td>\n      <td>animal</td>\n    </tr>\n    <tr>\n      <th>344755</th>\n      <td>4084.58345</td>\n      <td>363188</td>\n      <td>1</td>\n      <td>valid</td>\n      <td>590.03</td>\n      <td>198.92</td>\n      <td>49.97</td>\n      <td>106.42</td>\n      <td>vehicle</td>\n    </tr>\n    <tr>\n      <th>1420625</th>\n      <td>865.42470</td>\n      <td>363188</td>\n      <td>2</td>\n      <td>valid</td>\n      <td>221.41</td>\n      <td>199.76</td>\n      <td>91.36</td>\n      <td>63.64</td>\n      <td>bag</td>\n    </tr>\n    <tr>\n      <th>1192747</th>\n      <td>182.21680</td>\n      <td>105455</td>\n      <td>1</td>\n      <td>valid</td>\n      <td>333.56</td>\n      <td>517.21</td>\n      <td>17.43</td>\n      <td>14.58</td>\n      <td>vehicle</td>\n    </tr>\n  </tbody>\n</table>\n<p>5143 rows × 9 columns</p>\n</div>",
          "text/plain": "                area  image_id  category_id  split    xmin    ymin  box_width  \\\nid                                                                              \n357584   14718.47935    310072            1  valid  223.85    0.00     258.83   \n358258    6989.84750    310072            1  valid    0.00    1.94     135.99   \n363154    1729.26630    310072            1  valid  170.89    0.00      71.06   \n1337431     91.97330    310072            1  valid  631.99    7.35       8.01   \n1368385   7558.39585    310072            1  valid    0.00    0.00     131.87   \n...              ...       ...          ...    ...     ...     ...        ...   \n10068    10866.03335    189806            3  valid  263.63  193.10     180.04   \n46540     5204.68295    189806            3  valid  130.91  165.20      94.54   \n344755    4084.58345    363188            1  valid  590.03  198.92      49.97   \n1420625    865.42470    363188            2  valid  221.41  199.76      91.36   \n1192747    182.21680    105455            1  valid  333.56  517.21      17.43   \n\n         box_height category_str  \nid                                \n357584        69.08      vehicle  \n358258        66.27      vehicle  \n363154        36.96      vehicle  \n1337431       15.46      vehicle  \n1368385       71.46      vehicle  \n...             ...          ...  \n10068        103.59       animal  \n46540        104.73       animal  \n344755       106.42      vehicle  \n1420625       63.64          bag  \n1192747       14.58      vehicle  \n\n[5143 rows x 9 columns]"
         },
         "metadata": {},
         "output_type": "display_data"
        }
       ]
      }
     },
     "0708fc6f42b94795ae98ccd8e600e77d": {
      "model_module": "@jupyter-widgets/controls",
      "model_module_version": "2.0.0",
      "model_name": "HTMLStyleModel",
      "state": {
       "description_width": "",
       "font_size": null,
       "text_color": null
      }
     },
     "071fbdc5b78346d5aa3e8083f9f3d7df": {
      "model_module": "@jupyter-widgets/controls",
      "model_module_version": "2.0.0",
      "model_name": "TabModel",
      "state": {
       "children": [
        "IPY_MODEL_a4347dcfe96b4c09bd32b453bdd2cee5",
        "IPY_MODEL_107e80ab48d649f3a1d032e73c584c19",
        "IPY_MODEL_1eaf76346cd54360a6572ebf273c93e3"
       ],
       "layout": "IPY_MODEL_32bafae5b77a4a0da6c17503a109fd8c",
       "selected_index": 0,
       "titles": [
        "Images",
        "Annotations",
        "Label Map"
       ]
      }
     },
     "0734ad24645b412da314f5e3ae7bfdd4": {
      "model_module": "@jupyter-widgets/base",
      "model_module_version": "2.0.0",
      "model_name": "LayoutModel",
      "state": {}
     },
     "07831faa06774aa5ae98ece40ca3225f": {
      "model_module": "@jupyter-widgets/base",
      "model_module_version": "2.0.0",
      "model_name": "LayoutModel",
      "state": {}
     },
     "07ce28e91a2a44c3b7800be19260d679": {
      "model_module": "@jupyter-widgets/base",
      "model_module_version": "2.0.0",
      "model_name": "LayoutModel",
      "state": {}
     },
     "07e6deb0c48546f0b0d11a43e83a8606": {
      "model_module": "@jupyter-widgets/output",
      "model_module_version": "1.0.0",
      "model_name": "OutputModel",
      "state": {
       "layout": "IPY_MODEL_bfa35b2c3de2434f968e044c9faebe62",
       "outputs": [
        {
         "data": {
          "text/html": "<div>\n<style scoped>\n    .dataframe tbody tr th:only-of-type {\n        vertical-align: middle;\n    }\n\n    .dataframe tbody tr th {\n        vertical-align: top;\n    }\n\n    .dataframe thead th {\n        text-align: right;\n    }\n</style>\n<table border=\"1\" class=\"dataframe\">\n  <thead>\n    <tr style=\"text-align: right;\">\n      <th></th>\n      <th>file_name</th>\n      <th>height</th>\n      <th>width</th>\n      <th>split</th>\n      <th>relative_path</th>\n      <th>type</th>\n    </tr>\n    <tr>\n      <th>id</th>\n      <th></th>\n      <th></th>\n      <th></th>\n      <th></th>\n      <th></th>\n      <th></th>\n    </tr>\n  </thead>\n  <tbody>\n    <tr>\n      <th>352582</th>\n      <td>000000352582.jpg</td>\n      <td>640</td>\n      <td>425</td>\n      <td>valid</td>\n      <td>Images/valid/000000352582.jpg</td>\n      <td>.jpg</td>\n    </tr>\n    <tr>\n      <th>58393</th>\n      <td>000000058393.jpg</td>\n      <td>486</td>\n      <td>640</td>\n      <td>valid</td>\n      <td>Images/valid/000000058393.jpg</td>\n      <td>.jpg</td>\n    </tr>\n    <tr>\n      <th>310072</th>\n      <td>000000310072.jpg</td>\n      <td>383</td>\n      <td>640</td>\n      <td>valid</td>\n      <td>Images/valid/000000310072.jpg</td>\n      <td>.jpg</td>\n    </tr>\n    <tr>\n      <th>519208</th>\n      <td>000000519208.jpg</td>\n      <td>406</td>\n      <td>640</td>\n      <td>valid</td>\n      <td>Images/valid/000000519208.jpg</td>\n      <td>.jpg</td>\n    </tr>\n    <tr>\n      <th>38048</th>\n      <td>000000038048.jpg</td>\n      <td>500</td>\n      <td>299</td>\n      <td>valid</td>\n      <td>Images/valid/000000038048.jpg</td>\n      <td>.jpg</td>\n    </tr>\n    <tr>\n      <th>...</th>\n      <td>...</td>\n      <td>...</td>\n      <td>...</td>\n      <td>...</td>\n      <td>...</td>\n      <td>...</td>\n    </tr>\n    <tr>\n      <th>185409</th>\n      <td>000000185409.jpg</td>\n      <td>424</td>\n      <td>640</td>\n      <td>valid</td>\n      <td>Images/valid/000000185409.jpg</td>\n      <td>.jpg</td>\n    </tr>\n    <tr>\n      <th>577976</th>\n      <td>000000577976.jpg</td>\n      <td>428</td>\n      <td>640</td>\n      <td>valid</td>\n      <td>Images/valid/000000577976.jpg</td>\n      <td>.jpg</td>\n    </tr>\n    <tr>\n      <th>363188</th>\n      <td>000000363188.jpg</td>\n      <td>425</td>\n      <td>640</td>\n      <td>valid</td>\n      <td>Images/valid/000000363188.jpg</td>\n      <td>.jpg</td>\n    </tr>\n    <tr>\n      <th>302030</th>\n      <td>000000302030.jpg</td>\n      <td>359</td>\n      <td>640</td>\n      <td>valid</td>\n      <td>Images/valid/000000302030.jpg</td>\n      <td>.jpg</td>\n    </tr>\n    <tr>\n      <th>428280</th>\n      <td>000000428280.jpg</td>\n      <td>333</td>\n      <td>500</td>\n      <td>valid</td>\n      <td>Images/valid/000000428280.jpg</td>\n      <td>.jpg</td>\n    </tr>\n  </tbody>\n</table>\n<p>2500 rows × 6 columns</p>\n</div>",
          "text/plain": "               file_name  height  width  split                  relative_path  \\\nid                                                                              \n352582  000000352582.jpg     640    425  valid  Images/valid/000000352582.jpg   \n58393   000000058393.jpg     486    640  valid  Images/valid/000000058393.jpg   \n310072  000000310072.jpg     383    640  valid  Images/valid/000000310072.jpg   \n519208  000000519208.jpg     406    640  valid  Images/valid/000000519208.jpg   \n38048   000000038048.jpg     500    299  valid  Images/valid/000000038048.jpg   \n...                  ...     ...    ...    ...                            ...   \n185409  000000185409.jpg     424    640  valid  Images/valid/000000185409.jpg   \n577976  000000577976.jpg     428    640  valid  Images/valid/000000577976.jpg   \n363188  000000363188.jpg     425    640  valid  Images/valid/000000363188.jpg   \n302030  000000302030.jpg     359    640  valid  Images/valid/000000302030.jpg   \n428280  000000428280.jpg     333    500  valid  Images/valid/000000428280.jpg   \n\n        type  \nid            \n352582  .jpg  \n58393   .jpg  \n310072  .jpg  \n519208  .jpg  \n38048   .jpg  \n...      ...  \n185409  .jpg  \n577976  .jpg  \n363188  .jpg  \n302030  .jpg  \n428280  .jpg  \n\n[2500 rows x 6 columns]"
         },
         "metadata": {},
         "output_type": "display_data"
        }
       ]
      }
     },
     "08bc9b4d52334822995ebfb711b08fd5": {
      "model_module": "@jupyter-widgets/output",
      "model_module_version": "1.0.0",
      "model_name": "OutputModel",
      "state": {
       "layout": "IPY_MODEL_bd83e9ba08c14c8fbdd1c1e7a7f5b6e6",
       "outputs": [
        {
         "data": {
          "text/html": "<div>\n<style scoped>\n    .dataframe tbody tr th:only-of-type {\n        vertical-align: middle;\n    }\n\n    .dataframe tbody tr th {\n        vertical-align: top;\n    }\n\n    .dataframe thead th {\n        text-align: right;\n    }\n</style>\n<table border=\"1\" class=\"dataframe\">\n  <thead>\n    <tr style=\"text-align: right;\">\n      <th></th>\n      <th>file_name</th>\n      <th>height</th>\n      <th>width</th>\n      <th>split</th>\n      <th>relative_path</th>\n      <th>type</th>\n    </tr>\n    <tr>\n      <th>id</th>\n      <th></th>\n      <th></th>\n      <th></th>\n      <th></th>\n      <th></th>\n      <th></th>\n    </tr>\n  </thead>\n  <tbody>\n    <tr>\n      <th>352582</th>\n      <td>000000352582.jpg</td>\n      <td>640</td>\n      <td>425</td>\n      <td>valid</td>\n      <td>Images/valid/000000352582.jpg</td>\n      <td>.jpg</td>\n    </tr>\n    <tr>\n      <th>58393</th>\n      <td>000000058393.jpg</td>\n      <td>486</td>\n      <td>640</td>\n      <td>valid</td>\n      <td>Images/valid/000000058393.jpg</td>\n      <td>.jpg</td>\n    </tr>\n    <tr>\n      <th>310072</th>\n      <td>000000310072.jpg</td>\n      <td>383</td>\n      <td>640</td>\n      <td>valid</td>\n      <td>Images/valid/000000310072.jpg</td>\n      <td>.jpg</td>\n    </tr>\n    <tr>\n      <th>519208</th>\n      <td>000000519208.jpg</td>\n      <td>406</td>\n      <td>640</td>\n      <td>valid</td>\n      <td>Images/valid/000000519208.jpg</td>\n      <td>.jpg</td>\n    </tr>\n    <tr>\n      <th>38048</th>\n      <td>000000038048.jpg</td>\n      <td>500</td>\n      <td>299</td>\n      <td>valid</td>\n      <td>Images/valid/000000038048.jpg</td>\n      <td>.jpg</td>\n    </tr>\n    <tr>\n      <th>...</th>\n      <td>...</td>\n      <td>...</td>\n      <td>...</td>\n      <td>...</td>\n      <td>...</td>\n      <td>...</td>\n    </tr>\n    <tr>\n      <th>885</th>\n      <td>000000000885.jpg</td>\n      <td>427</td>\n      <td>640</td>\n      <td>valid</td>\n      <td>Images/valid/000000000885.jpg</td>\n      <td>.jpg</td>\n    </tr>\n    <tr>\n      <th>189806</th>\n      <td>000000189806.jpg</td>\n      <td>400</td>\n      <td>500</td>\n      <td>valid</td>\n      <td>Images/valid/000000189806.jpg</td>\n      <td>.jpg</td>\n    </tr>\n    <tr>\n      <th>311180</th>\n      <td>000000311180.jpg</td>\n      <td>640</td>\n      <td>480</td>\n      <td>valid</td>\n      <td>Images/valid/000000311180.jpg</td>\n      <td>.jpg</td>\n    </tr>\n    <tr>\n      <th>105455</th>\n      <td>000000105455.jpg</td>\n      <td>640</td>\n      <td>427</td>\n      <td>valid</td>\n      <td>Images/valid/000000105455.jpg</td>\n      <td>.jpg</td>\n    </tr>\n    <tr>\n      <th>349837</th>\n      <td>000000349837.jpg</td>\n      <td>333</td>\n      <td>500</td>\n      <td>valid</td>\n      <td>Images/valid/000000349837.jpg</td>\n      <td>.jpg</td>\n    </tr>\n  </tbody>\n</table>\n<p>5000 rows × 6 columns</p>\n</div>",
          "text/plain": "               file_name  height  width  split                  relative_path  \\\nid                                                                              \n352582  000000352582.jpg     640    425  valid  Images/valid/000000352582.jpg   \n58393   000000058393.jpg     486    640  valid  Images/valid/000000058393.jpg   \n310072  000000310072.jpg     383    640  valid  Images/valid/000000310072.jpg   \n519208  000000519208.jpg     406    640  valid  Images/valid/000000519208.jpg   \n38048   000000038048.jpg     500    299  valid  Images/valid/000000038048.jpg   \n...                  ...     ...    ...    ...                            ...   \n885     000000000885.jpg     427    640  valid  Images/valid/000000000885.jpg   \n189806  000000189806.jpg     400    500  valid  Images/valid/000000189806.jpg   \n311180  000000311180.jpg     640    480  valid  Images/valid/000000311180.jpg   \n105455  000000105455.jpg     640    427  valid  Images/valid/000000105455.jpg   \n349837  000000349837.jpg     333    500  valid  Images/valid/000000349837.jpg   \n\n        type  \nid            \n352582  .jpg  \n58393   .jpg  \n310072  .jpg  \n519208  .jpg  \n38048   .jpg  \n...      ...  \n885     .jpg  \n189806  .jpg  \n311180  .jpg  \n105455  .jpg  \n349837  .jpg  \n\n[5000 rows x 6 columns]"
         },
         "metadata": {},
         "output_type": "display_data"
        }
       ]
      }
     },
     "096b6140da06449cb1700142d9bf0255": {
      "model_module": "@jupyter-widgets/base",
      "model_module_version": "2.0.0",
      "model_name": "LayoutModel",
      "state": {}
     },
     "0999c3d21c7946b8ba44bb28e18e0da3": {
      "model_module": "@jupyter-widgets/base",
      "model_module_version": "2.0.0",
      "model_name": "LayoutModel",
      "state": {}
     },
     "09aa8623e898415a86e7d2473e17b969": {
      "model_module": "@jupyter-widgets/base",
      "model_module_version": "2.0.0",
      "model_name": "LayoutModel",
      "state": {}
     },
     "0b1593a1ec03415fa1ae90a0e6b17c5f": {
      "model_module": "@jupyter-widgets/controls",
      "model_module_version": "2.0.0",
      "model_name": "VBoxModel",
      "state": {
       "children": [
        "IPY_MODEL_db596ffb84694f3aa5293bb42a8e515b",
        "IPY_MODEL_31e9018ec6b84b10b4c1980309087173"
       ],
       "layout": "IPY_MODEL_47591248e16b4f4a814d17e4b7d3cf1d"
      }
     },
     "0b9d19673e504caf882f70a8dc910c97": {
      "model_module": "@jupyter-widgets/controls",
      "model_module_version": "2.0.0",
      "model_name": "VBoxModel",
      "state": {
       "children": [
        "IPY_MODEL_d32f6132c02e4f44b5964b1d08261d02",
        "IPY_MODEL_8819228fc77a4b63acc2204c9eed85d6"
       ],
       "layout": "IPY_MODEL_5fa26fc756e54beebf30c58974f5de89"
      }
     },
     "0ba1f1a8b74b4249aee6bdd5c60ae1ff": {
      "model_module": "@jupyter-widgets/base",
      "model_module_version": "2.0.0",
      "model_name": "LayoutModel",
      "state": {}
     },
     "0bd3317127784cc29c0677a2677738d2": {
      "model_module": "@jupyter-widgets/base",
      "model_module_version": "2.0.0",
      "model_name": "LayoutModel",
      "state": {}
     },
     "0c033a6505cf46c9a203cc9f9430a22d": {
      "model_module": "@jupyter-widgets/controls",
      "model_module_version": "2.0.0",
      "model_name": "VBoxModel",
      "state": {
       "children": [
        "IPY_MODEL_15538319148b430d8a24901774766242",
        "IPY_MODEL_7a824f7fa5de46f497012860c026ec2a"
       ],
       "layout": "IPY_MODEL_1a8de7d692394bcd8aad13afa2144e97"
      }
     },
     "0c2172133f2145ac9f0b963bad28900f": {
      "model_module": "@jupyter-widgets/base",
      "model_module_version": "2.0.0",
      "model_name": "LayoutModel",
      "state": {}
     },
     "0cb7479cfb8848e89867141e4a21598c": {
      "model_module": "@jupyter-widgets/controls",
      "model_module_version": "2.0.0",
      "model_name": "HTMLModel",
      "state": {
       "layout": "IPY_MODEL_0734ad24645b412da314f5e3ae7bfdd4",
       "style": "IPY_MODEL_13927ba35642467ab1425cba2bc9580f",
       "value": "<b> Dataset object located at notebook_data, containing 1 images and 20 objects </b>"
      }
     },
     "0d294e250d0c45edae6058b5a2d4cda6": {
      "model_module": "@jupyter-widgets/base",
      "model_module_version": "2.0.0",
      "model_name": "LayoutModel",
      "state": {}
     },
     "0fc9822747bf4f28bffe745db33261bb": {
      "model_module": "@jupyter-widgets/base",
      "model_module_version": "2.0.0",
      "model_name": "LayoutModel",
      "state": {}
     },
     "10005f66d29f4e89a4882651f8873df1": {
      "model_module": "@jupyter-widgets/base",
      "model_module_version": "2.0.0",
      "model_name": "LayoutModel",
      "state": {}
     },
     "10202ad36c2743b7b77061ff9acb2fd4": {
      "model_module": "@jupyter-widgets/base",
      "model_module_version": "2.0.0",
      "model_name": "LayoutModel",
      "state": {}
     },
     "1028a8abdb4d4e2493633df2d111a6e6": {
      "model_module": "@jupyter-widgets/output",
      "model_module_version": "1.0.0",
      "model_name": "OutputModel",
      "state": {
       "layout": "IPY_MODEL_61132147ce47488d805af278342bf554",
       "outputs": [
        {
         "data": {
          "text/html": "<div>\n<style scoped>\n    .dataframe tbody tr th:only-of-type {\n        vertical-align: middle;\n    }\n\n    .dataframe tbody tr th {\n        vertical-align: top;\n    }\n\n    .dataframe thead th {\n        text-align: right;\n    }\n</style>\n<table border=\"1\" class=\"dataframe\">\n  <thead>\n    <tr style=\"text-align: right;\">\n      <th></th>\n      <th>area</th>\n      <th>category_id</th>\n      <th>split</th>\n      <th>xmin</th>\n      <th>ymin</th>\n      <th>box_width</th>\n      <th>box_height</th>\n      <th>category_str</th>\n      <th>image_id</th>\n    </tr>\n  </thead>\n  <tbody>\n    <tr>\n      <th>0</th>\n      <td>5184.22260</td>\n      <td>62</td>\n      <td>valid</td>\n      <td>244.82</td>\n      <td>230.45</td>\n      <td>104.72</td>\n      <td>87.69</td>\n      <td>chair</td>\n      <td>0</td>\n    </tr>\n    <tr>\n      <th>1</th>\n      <td>2464.93305</td>\n      <td>64</td>\n      <td>valid</td>\n      <td>183.36</td>\n      <td>136.56</td>\n      <td>60.78</td>\n      <td>92.39</td>\n      <td>potted plant</td>\n      <td>0</td>\n    </tr>\n    <tr>\n      <th>2</th>\n      <td>7034.62185</td>\n      <td>64</td>\n      <td>valid</td>\n      <td>347.35</td>\n      <td>212.37</td>\n      <td>82.51</td>\n      <td>143.00</td>\n      <td>potted plant</td>\n      <td>0</td>\n    </tr>\n    <tr>\n      <th>3</th>\n      <td>64019.87940</td>\n      <td>65</td>\n      <td>valid</td>\n      <td>3.27</td>\n      <td>266.85</td>\n      <td>401.23</td>\n      <td>208.25</td>\n      <td>bed</td>\n      <td>0</td>\n    </tr>\n    <tr>\n      <th>4</th>\n      <td>20933.00000</td>\n      <td>84</td>\n      <td>valid</td>\n      <td>416.00</td>\n      <td>43.00</td>\n      <td>153.00</td>\n      <td>303.00</td>\n      <td>book</td>\n      <td>0</td>\n    </tr>\n    <tr>\n      <th>...</th>\n      <td>...</td>\n      <td>...</td>\n      <td>...</td>\n      <td>...</td>\n      <td>...</td>\n      <td>...</td>\n      <td>...</td>\n      <td>...</td>\n      <td>...</td>\n    </tr>\n    <tr>\n      <th>36776</th>\n      <td>364.30040</td>\n      <td>41</td>\n      <td>valid</td>\n      <td>128.77</td>\n      <td>152.72</td>\n      <td>50.00</td>\n      <td>17.21</td>\n      <td>skateboard</td>\n      <td>4997</td>\n    </tr>\n    <tr>\n      <th>36777</th>\n      <td>53359.63985</td>\n      <td>1</td>\n      <td>valid</td>\n      <td>0.00</td>\n      <td>2.53</td>\n      <td>469.53</td>\n      <td>215.26</td>\n      <td>person</td>\n      <td>4998</td>\n    </tr>\n    <tr>\n      <th>36778</th>\n      <td>46341.95470</td>\n      <td>58</td>\n      <td>valid</td>\n      <td>39.91</td>\n      <td>140.73</td>\n      <td>308.31</td>\n      <td>232.60</td>\n      <td>hot dog</td>\n      <td>4998</td>\n    </tr>\n    <tr>\n      <th>36779</th>\n      <td>14878.08055</td>\n      <td>58</td>\n      <td>valid</td>\n      <td>147.27</td>\n      <td>282.15</td>\n      <td>246.36</td>\n      <td>206.45</td>\n      <td>hot dog</td>\n      <td>4998</td>\n    </tr>\n    <tr>\n      <th>36780</th>\n      <td>34120.51835</td>\n      <td>70</td>\n      <td>valid</td>\n      <td>139.32</td>\n      <td>386.03</td>\n      <td>191.56</td>\n      <td>235.10</td>\n      <td>toilet</td>\n      <td>4999</td>\n    </tr>\n  </tbody>\n</table>\n<p>36781 rows × 9 columns</p>\n</div>",
          "text/plain": "              area  category_id  split    xmin    ymin  box_width  box_height  \\\n0       5184.22260           62  valid  244.82  230.45     104.72       87.69   \n1       2464.93305           64  valid  183.36  136.56      60.78       92.39   \n2       7034.62185           64  valid  347.35  212.37      82.51      143.00   \n3      64019.87940           65  valid    3.27  266.85     401.23      208.25   \n4      20933.00000           84  valid  416.00   43.00     153.00      303.00   \n...            ...          ...    ...     ...     ...        ...         ...   \n36776    364.30040           41  valid  128.77  152.72      50.00       17.21   \n36777  53359.63985            1  valid    0.00    2.53     469.53      215.26   \n36778  46341.95470           58  valid   39.91  140.73     308.31      232.60   \n36779  14878.08055           58  valid  147.27  282.15     246.36      206.45   \n36780  34120.51835           70  valid  139.32  386.03     191.56      235.10   \n\n       category_str  image_id  \n0             chair         0  \n1      potted plant         0  \n2      potted plant         0  \n3               bed         0  \n4              book         0  \n...             ...       ...  \n36776    skateboard      4997  \n36777        person      4998  \n36778       hot dog      4998  \n36779       hot dog      4998  \n36780        toilet      4999  \n\n[36781 rows x 9 columns]"
         },
         "metadata": {},
         "output_type": "display_data"
        }
       ]
      }
     },
     "107e80ab48d649f3a1d032e73c584c19": {
      "model_module": "@jupyter-widgets/output",
      "model_module_version": "1.0.0",
      "model_name": "OutputModel",
      "state": {
       "layout": "IPY_MODEL_9466010f920b45b59359fa1178b7dbf0",
       "outputs": [
        {
         "data": {
          "text/html": "<div>\n<style scoped>\n    .dataframe tbody tr th:only-of-type {\n        vertical-align: middle;\n    }\n\n    .dataframe tbody tr th {\n        vertical-align: top;\n    }\n\n    .dataframe thead th {\n        text-align: right;\n    }\n</style>\n<table border=\"1\" class=\"dataframe\">\n  <thead>\n    <tr style=\"text-align: right;\">\n      <th></th>\n      <th>image_id</th>\n      <th>category_id</th>\n      <th>object_id</th>\n      <th>area</th>\n      <th>split</th>\n      <th>xmin</th>\n      <th>ymin</th>\n      <th>box_width</th>\n      <th>box_height</th>\n      <th>category_str</th>\n    </tr>\n    <tr>\n      <th>id</th>\n      <th></th>\n      <th></th>\n      <th></th>\n      <th></th>\n      <th></th>\n      <th></th>\n      <th></th>\n      <th></th>\n      <th></th>\n      <th></th>\n    </tr>\n  </thead>\n  <tbody>\n    <tr>\n      <th>319049</th>\n      <td>6493</td>\n      <td>100</td>\n      <td>55689</td>\n      <td>33390</td>\n      <td>None</td>\n      <td>0</td>\n      <td>632</td>\n      <td>210</td>\n      <td>159</td>\n      <td>sedan</td>\n    </tr>\n    <tr>\n      <th>319050</th>\n      <td>6493</td>\n      <td>1100</td>\n      <td>30178</td>\n      <td>7396</td>\n      <td>None</td>\n      <td>203</td>\n      <td>611</td>\n      <td>86</td>\n      <td>86</td>\n      <td>motorbike</td>\n    </tr>\n    <tr>\n      <th>319051</th>\n      <td>6493</td>\n      <td>1100</td>\n      <td>48923</td>\n      <td>6391</td>\n      <td>None</td>\n      <td>272</td>\n      <td>589</td>\n      <td>77</td>\n      <td>83</td>\n      <td>motorbike</td>\n    </tr>\n    <tr>\n      <th>319052</th>\n      <td>6493</td>\n      <td>1100</td>\n      <td>8678</td>\n      <td>6279</td>\n      <td>None</td>\n      <td>341</td>\n      <td>559</td>\n      <td>69</td>\n      <td>91</td>\n      <td>motorbike</td>\n    </tr>\n    <tr>\n      <th>319053</th>\n      <td>6493</td>\n      <td>20</td>\n      <td>560</td>\n      <td>3116</td>\n      <td>None</td>\n      <td>517</td>\n      <td>527</td>\n      <td>38</td>\n      <td>82</td>\n      <td>standing person</td>\n    </tr>\n    <tr>\n      <th>...</th>\n      <td>...</td>\n      <td>...</td>\n      <td>...</td>\n      <td>...</td>\n      <td>...</td>\n      <td>...</td>\n      <td>...</td>\n      <td>...</td>\n      <td>...</td>\n      <td>...</td>\n    </tr>\n    <tr>\n      <th>103031</th>\n      <td>2599</td>\n      <td>111</td>\n      <td>36067</td>\n      <td>1269</td>\n      <td>None</td>\n      <td>1873</td>\n      <td>391</td>\n      <td>27</td>\n      <td>47</td>\n      <td>bicycle</td>\n    </tr>\n    <tr>\n      <th>103032</th>\n      <td>2599</td>\n      <td>111</td>\n      <td>64239</td>\n      <td>4950</td>\n      <td>None</td>\n      <td>1753</td>\n      <td>404</td>\n      <td>66</td>\n      <td>75</td>\n      <td>bicycle</td>\n    </tr>\n    <tr>\n      <th>103033</th>\n      <td>2599</td>\n      <td>20</td>\n      <td>65100</td>\n      <td>14268</td>\n      <td>None</td>\n      <td>1816</td>\n      <td>447</td>\n      <td>87</td>\n      <td>164</td>\n      <td>standing person</td>\n    </tr>\n    <tr>\n      <th>103034</th>\n      <td>2599</td>\n      <td>28</td>\n      <td>14145</td>\n      <td>1020</td>\n      <td>None</td>\n      <td>1863</td>\n      <td>493</td>\n      <td>51</td>\n      <td>20</td>\n      <td>packet</td>\n    </tr>\n    <tr>\n      <th>103035</th>\n      <td>2599</td>\n      <td>29</td>\n      <td>7528</td>\n      <td>624</td>\n      <td>None</td>\n      <td>1877</td>\n      <td>512</td>\n      <td>16</td>\n      <td>39</td>\n      <td>bag</td>\n    </tr>\n  </tbody>\n</table>\n<p>3675 rows × 10 columns</p>\n</div>",
          "text/plain": "        image_id  category_id  object_id   area split  xmin  ymin  box_width  \\\nid                                                                             \n319049      6493          100      55689  33390  None     0   632        210   \n319050      6493         1100      30178   7396  None   203   611         86   \n319051      6493         1100      48923   6391  None   272   589         77   \n319052      6493         1100       8678   6279  None   341   559         69   \n319053      6493           20        560   3116  None   517   527         38   \n...          ...          ...        ...    ...   ...   ...   ...        ...   \n103031      2599          111      36067   1269  None  1873   391         27   \n103032      2599          111      64239   4950  None  1753   404         66   \n103033      2599           20      65100  14268  None  1816   447         87   \n103034      2599           28      14145   1020  None  1863   493         51   \n103035      2599           29       7528    624  None  1877   512         16   \n\n        box_height     category_str  \nid                                   \n319049         159            sedan  \n319050          86        motorbike  \n319051          83        motorbike  \n319052          91        motorbike  \n319053          82  standing person  \n...            ...              ...  \n103031          47          bicycle  \n103032          75          bicycle  \n103033         164  standing person  \n103034          20           packet  \n103035          39              bag  \n\n[3675 rows x 10 columns]"
         },
         "metadata": {},
         "output_type": "display_data"
        }
       ]
      }
     },
     "1096bfa0fb2b495fa139bad195fcee17": {
      "model_module": "@jupyter-widgets/base",
      "model_module_version": "2.0.0",
      "model_name": "LayoutModel",
      "state": {}
     },
     "10d7d946d8c7471b8e6562a1def0454e": {
      "model_module": "@jupyter-widgets/output",
      "model_module_version": "1.0.0",
      "model_name": "OutputModel",
      "state": {
       "layout": "IPY_MODEL_c3a864b8eb9245fd8dc12b9f8c4d403d",
       "outputs": [
        {
         "data": {
          "text/html": "<div>\n<style scoped>\n    .dataframe tbody tr th:only-of-type {\n        vertical-align: middle;\n    }\n\n    .dataframe tbody tr th {\n        vertical-align: top;\n    }\n\n    .dataframe thead th {\n        text-align: right;\n    }\n</style>\n<table border=\"1\" class=\"dataframe\">\n  <thead>\n    <tr style=\"text-align: right;\">\n      <th></th>\n      <th>category string</th>\n    </tr>\n    <tr>\n      <th>categorty_id</th>\n      <th></th>\n    </tr>\n  </thead>\n  <tbody>\n    <tr>\n      <th>1</th>\n      <td>vehicle</td>\n    </tr>\n    <tr>\n      <th>2</th>\n      <td>bag</td>\n    </tr>\n    <tr>\n      <th>3</th>\n      <td>animal</td>\n    </tr>\n  </tbody>\n</table>\n</div>",
          "text/plain": "             category string\ncategorty_id                \n1                    vehicle\n2                        bag\n3                     animal"
         },
         "metadata": {},
         "output_type": "display_data"
        }
       ]
      }
     },
     "110bbfdef61145c0a61c5a73982468c0": {
      "model_module": "@jupyter-widgets/controls",
      "model_module_version": "2.0.0",
      "model_name": "HTMLStyleModel",
      "state": {
       "description_width": "",
       "font_size": null,
       "text_color": null
      }
     },
     "11329462f108447699e86cdb641a33f6": {
      "model_module": "@jupyter-widgets/base",
      "model_module_version": "2.0.0",
      "model_name": "LayoutModel",
      "state": {}
     },
     "11461743841b4ca7b54b1032baa46f88": {
      "model_module": "@jupyter-widgets/controls",
      "model_module_version": "2.0.0",
      "model_name": "VBoxModel",
      "state": {
       "children": [
        "IPY_MODEL_929e9d95d12e4fcabdcfc64386095c8c",
        "IPY_MODEL_c65c25558c8e4d11a526ba16bc4f54ff"
       ],
       "layout": "IPY_MODEL_efe731a7f9274af2a77e45e1d38a7714"
      }
     },
     "114b7cf3be2a4b77a259a0a4cd734ed7": {
      "model_module": "@jupyter-widgets/base",
      "model_module_version": "2.0.0",
      "model_name": "LayoutModel",
      "state": {}
     },
     "117302493ab840ea83cc6abb14a242b5": {
      "model_module": "@jupyter-widgets/controls",
      "model_module_version": "2.0.0",
      "model_name": "TabModel",
      "state": {
       "children": [
        "IPY_MODEL_993a126c84294ef88489038e2c9519bc",
        "IPY_MODEL_05b0a9490d6b4232bd1e200ec94a2dee",
        "IPY_MODEL_10d7d946d8c7471b8e6562a1def0454e"
       ],
       "layout": "IPY_MODEL_9fa180c105b2401cbd871c64f549a6ec",
       "selected_index": 0,
       "titles": [
        "Images",
        "Annotations",
        "Label Map"
       ]
      }
     },
     "117c5d70c51f476e8eace99182c62a9f": {
      "model_module": "@jupyter-widgets/base",
      "model_module_version": "2.0.0",
      "model_name": "LayoutModel",
      "state": {}
     },
     "11aaa4af270e41bdb619439f754eede7": {
      "model_module": "@jupyter-widgets/controls",
      "model_module_version": "2.0.0",
      "model_name": "HTMLModel",
      "state": {
       "layout": "IPY_MODEL_64099c32882147aab64b036f10b0fe14",
       "style": "IPY_MODEL_49d6c17295be4921aa2692f4c434f365",
       "value": "<b> Dataset object located at notebook_data, containing 5,000 images and 36,781 objects </b>"
      }
     },
     "11f5ceb8f0254dab94ee54a035e205a8": {
      "model_module": "@jupyter-widgets/controls",
      "model_module_version": "2.0.0",
      "model_name": "HTMLModel",
      "state": {
       "layout": "IPY_MODEL_1a71baf941984954a4f4a3161099cf76",
       "style": "IPY_MODEL_ecf13b3967844333a277d28f50cb8f25",
       "value": "<b> Dataset object located at notebook_data, containing 5,000 images and 36,781 objects </b>"
      }
     },
     "1264f089a7d5425aaad40ecd0a511b82": {
      "model_module": "@jupyter-widgets/base",
      "model_module_version": "2.0.0",
      "model_name": "LayoutModel",
      "state": {}
     },
     "13927ba35642467ab1425cba2bc9580f": {
      "model_module": "@jupyter-widgets/controls",
      "model_module_version": "2.0.0",
      "model_name": "HTMLStyleModel",
      "state": {
       "description_width": "",
       "font_size": null,
       "text_color": null
      }
     },
     "140e63b98bff43df87c36c12b6c90d98": {
      "model_module": "@jupyter-widgets/output",
      "model_module_version": "1.0.0",
      "model_name": "OutputModel",
      "state": {
       "layout": "IPY_MODEL_22e40bb064d54e3990e6120fea168bf3",
       "outputs": [
        {
         "data": {
          "text/html": "<div>\n<style scoped>\n    .dataframe tbody tr th:only-of-type {\n        vertical-align: middle;\n    }\n\n    .dataframe tbody tr th {\n        vertical-align: top;\n    }\n\n    .dataframe thead th {\n        text-align: right;\n    }\n</style>\n<table border=\"1\" class=\"dataframe\">\n  <thead>\n    <tr style=\"text-align: right;\">\n      <th></th>\n      <th>category string</th>\n    </tr>\n    <tr>\n      <th>categorty_id</th>\n      <th></th>\n    </tr>\n  </thead>\n  <tbody>\n    <tr>\n      <th>1</th>\n      <td>person</td>\n    </tr>\n    <tr>\n      <th>2</th>\n      <td>bicycle</td>\n    </tr>\n    <tr>\n      <th>3</th>\n      <td>car</td>\n    </tr>\n    <tr>\n      <th>4</th>\n      <td>motorcycle</td>\n    </tr>\n    <tr>\n      <th>5</th>\n      <td>airplane</td>\n    </tr>\n    <tr>\n      <th>...</th>\n      <td>...</td>\n    </tr>\n    <tr>\n      <th>86</th>\n      <td>vase</td>\n    </tr>\n    <tr>\n      <th>87</th>\n      <td>scissors</td>\n    </tr>\n    <tr>\n      <th>88</th>\n      <td>teddy bear</td>\n    </tr>\n    <tr>\n      <th>89</th>\n      <td>hair drier</td>\n    </tr>\n    <tr>\n      <th>90</th>\n      <td>toothbrush</td>\n    </tr>\n  </tbody>\n</table>\n<p>80 rows × 1 columns</p>\n</div>",
          "text/plain": "             category string\ncategorty_id                \n1                     person\n2                    bicycle\n3                        car\n4                 motorcycle\n5                   airplane\n...                      ...\n86                      vase\n87                  scissors\n88                teddy bear\n89                hair drier\n90                toothbrush\n\n[80 rows x 1 columns]"
         },
         "metadata": {},
         "output_type": "display_data"
        }
       ]
      }
     },
     "1412698afb3345d3b6fb430f29d44ac0": {
      "model_module": "@jupyter-widgets/base",
      "model_module_version": "2.0.0",
      "model_name": "LayoutModel",
      "state": {}
     },
     "148a51b59106487f89ea8f5e801245d8": {
      "model_module": "@jupyter-widgets/base",
      "model_module_version": "2.0.0",
      "model_name": "LayoutModel",
      "state": {}
     },
     "15538319148b430d8a24901774766242": {
      "model_module": "@jupyter-widgets/controls",
      "model_module_version": "2.0.0",
      "model_name": "HTMLModel",
      "state": {
       "layout": "IPY_MODEL_b67d05db8d6e419b886cf5b20f124d0e",
       "style": "IPY_MODEL_0708fc6f42b94795ae98ccd8e600e77d",
       "value": "<b> Dataset object located at notebook_data, containing 1 images and 20 objects </b>"
      }
     },
     "15aa82b106b04f4d95cc6a4b1001fb73": {
      "model_module": "@jupyter-widgets/output",
      "model_module_version": "1.0.0",
      "model_name": "OutputModel",
      "state": {
       "layout": "IPY_MODEL_1861f79eb97f4484b4bce90e44a2a22e",
       "outputs": [
        {
         "data": {
          "text/html": "<div>\n<style scoped>\n    .dataframe tbody tr th:only-of-type {\n        vertical-align: middle;\n    }\n\n    .dataframe tbody tr th {\n        vertical-align: top;\n    }\n\n    .dataframe thead th {\n        text-align: right;\n    }\n</style>\n<table border=\"1\" class=\"dataframe\">\n  <thead>\n    <tr style=\"text-align: right;\">\n      <th></th>\n      <th>area</th>\n      <th>box_height</th>\n      <th>box_width</th>\n      <th>category_id</th>\n      <th>category_str</th>\n      <th>image_id</th>\n      <th>split</th>\n      <th>xmin</th>\n      <th>ymin</th>\n    </tr>\n    <tr>\n      <th>id</th>\n      <th></th>\n      <th></th>\n      <th></th>\n      <th></th>\n      <th></th>\n      <th></th>\n      <th></th>\n      <th></th>\n      <th></th>\n    </tr>\n  </thead>\n  <tbody>\n    <tr>\n      <th>283</th>\n      <td>47310.21745</td>\n      <td>290.67</td>\n      <td>288.09</td>\n      <td>58</td>\n      <td>hot dog</td>\n      <td>118367</td>\n      <td>valid</td>\n      <td>154.34</td>\n      <td>31.72</td>\n    </tr>\n    <tr>\n      <th>381</th>\n      <td>107452.60385</td>\n      <td>370.41</td>\n      <td>589.58</td>\n      <td>58</td>\n      <td>hot dog</td>\n      <td>464786</td>\n      <td>valid</td>\n      <td>25.78</td>\n      <td>52.43</td>\n    </tr>\n    <tr>\n      <th>567</th>\n      <td>14878.08055</td>\n      <td>206.45</td>\n      <td>246.36</td>\n      <td>58</td>\n      <td>hot dog</td>\n      <td>581206</td>\n      <td>valid</td>\n      <td>147.27</td>\n      <td>282.15</td>\n    </tr>\n    <tr>\n      <th>760</th>\n      <td>8424.12670</td>\n      <td>146.09</td>\n      <td>134.25</td>\n      <td>58</td>\n      <td>hot dog</td>\n      <td>157601</td>\n      <td>valid</td>\n      <td>110.55</td>\n      <td>188.21</td>\n    </tr>\n    <tr>\n      <th>810</th>\n      <td>3211.34430</td>\n      <td>67.98</td>\n      <td>103.00</td>\n      <td>58</td>\n      <td>hot dog</td>\n      <td>513567</td>\n      <td>valid</td>\n      <td>124.64</td>\n      <td>281.32</td>\n    </tr>\n    <tr>\n      <th>...</th>\n      <td>...</td>\n      <td>...</td>\n      <td>...</td>\n      <td>...</td>\n      <td>...</td>\n      <td>...</td>\n      <td>...</td>\n      <td>...</td>\n      <td>...</td>\n    </tr>\n    <tr>\n      <th>908400571893</th>\n      <td>10572.00000</td>\n      <td>225.00</td>\n      <td>177.00</td>\n      <td>84</td>\n      <td>book</td>\n      <td>571893</td>\n      <td>valid</td>\n      <td>270.00</td>\n      <td>167.00</td>\n    </tr>\n    <tr>\n      <th>908600097585</th>\n      <td>10467.00000</td>\n      <td>95.00</td>\n      <td>402.00</td>\n      <td>86</td>\n      <td>vase</td>\n      <td>97585</td>\n      <td>valid</td>\n      <td>41.00</td>\n      <td>0.00</td>\n    </tr>\n    <tr>\n      <th>908600370042</th>\n      <td>4816.00000</td>\n      <td>75.00</td>\n      <td>96.00</td>\n      <td>86</td>\n      <td>vase</td>\n      <td>370042</td>\n      <td>valid</td>\n      <td>43.00</td>\n      <td>147.00</td>\n    </tr>\n    <tr>\n      <th>908600434230</th>\n      <td>16632.00000</td>\n      <td>167.00</td>\n      <td>179.00</td>\n      <td>86</td>\n      <td>vase</td>\n      <td>434230</td>\n      <td>valid</td>\n      <td>58.00</td>\n      <td>56.00</td>\n    </tr>\n    <tr>\n      <th>908800474293</th>\n      <td>20047.00000</td>\n      <td>246.00</td>\n      <td>345.00</td>\n      <td>88</td>\n      <td>teddy bear</td>\n      <td>474293</td>\n      <td>valid</td>\n      <td>136.00</td>\n      <td>73.00</td>\n    </tr>\n  </tbody>\n</table>\n<p>36781 rows × 9 columns</p>\n</div>",
          "text/plain": "                      area  box_height  box_width  category_id category_str  \\\nid                                                                            \n283            47310.21745      290.67     288.09           58      hot dog   \n381           107452.60385      370.41     589.58           58      hot dog   \n567            14878.08055      206.45     246.36           58      hot dog   \n760             8424.12670      146.09     134.25           58      hot dog   \n810             3211.34430       67.98     103.00           58      hot dog   \n...                    ...         ...        ...          ...          ...   \n908400571893   10572.00000      225.00     177.00           84         book   \n908600097585   10467.00000       95.00     402.00           86         vase   \n908600370042    4816.00000       75.00      96.00           86         vase   \n908600434230   16632.00000      167.00     179.00           86         vase   \n908800474293   20047.00000      246.00     345.00           88   teddy bear   \n\n              image_id  split    xmin    ymin  \nid                                             \n283             118367  valid  154.34   31.72  \n381             464786  valid   25.78   52.43  \n567             581206  valid  147.27  282.15  \n760             157601  valid  110.55  188.21  \n810             513567  valid  124.64  281.32  \n...                ...    ...     ...     ...  \n908400571893    571893  valid  270.00  167.00  \n908600097585     97585  valid   41.00    0.00  \n908600370042    370042  valid   43.00  147.00  \n908600434230    434230  valid   58.00   56.00  \n908800474293    474293  valid  136.00   73.00  \n\n[36781 rows x 9 columns]"
         },
         "metadata": {},
         "output_type": "display_data"
        }
       ]
      }
     },
     "1627ebcf887a4c8286d1fad383849da6": {
      "model_module": "@jupyter-widgets/base",
      "model_module_version": "2.0.0",
      "model_name": "LayoutModel",
      "state": {}
     },
     "1640f4f7debf408b9a157cb72b9ac168": {
      "model_module": "@jupyter-widgets/output",
      "model_module_version": "1.0.0",
      "model_name": "OutputModel",
      "state": {
       "layout": "IPY_MODEL_db77c1e502614d3d8e177e8d42329bc3",
       "outputs": [
        {
         "data": {
          "text/html": "<div>\n<style scoped>\n    .dataframe tbody tr th:only-of-type {\n        vertical-align: middle;\n    }\n\n    .dataframe tbody tr th {\n        vertical-align: top;\n    }\n\n    .dataframe thead th {\n        text-align: right;\n    }\n</style>\n<table border=\"1\" class=\"dataframe\">\n  <thead>\n    <tr style=\"text-align: right;\">\n      <th></th>\n      <th>file_name</th>\n      <th>height</th>\n      <th>width</th>\n      <th>split</th>\n      <th>relative_path</th>\n      <th>type</th>\n    </tr>\n    <tr>\n      <th>id</th>\n      <th></th>\n      <th></th>\n      <th></th>\n      <th></th>\n      <th></th>\n      <th></th>\n    </tr>\n  </thead>\n  <tbody>\n    <tr>\n      <th>352582</th>\n      <td>000000352582.jpg</td>\n      <td>640</td>\n      <td>425</td>\n      <td>valid</td>\n      <td>Images/valid/000000352582.jpg</td>\n      <td>.jpg</td>\n    </tr>\n    <tr>\n      <th>113354</th>\n      <td>000000113354.jpg</td>\n      <td>480</td>\n      <td>640</td>\n      <td>valid</td>\n      <td>Images/valid/000000113354.jpg</td>\n      <td>.jpg</td>\n    </tr>\n    <tr>\n      <th>58393</th>\n      <td>000000058393.jpg</td>\n      <td>486</td>\n      <td>640</td>\n      <td>valid</td>\n      <td>Images/valid/000000058393.jpg</td>\n      <td>.jpg</td>\n    </tr>\n    <tr>\n      <th>147729</th>\n      <td>000000147729.jpg</td>\n      <td>375</td>\n      <td>500</td>\n      <td>valid</td>\n      <td>Images/valid/000000147729.jpg</td>\n      <td>.jpg</td>\n    </tr>\n    <tr>\n      <th>310072</th>\n      <td>000000310072.jpg</td>\n      <td>383</td>\n      <td>640</td>\n      <td>valid</td>\n      <td>Images/valid/000000310072.jpg</td>\n      <td>.jpg</td>\n    </tr>\n    <tr>\n      <th>...</th>\n      <td>...</td>\n      <td>...</td>\n      <td>...</td>\n      <td>...</td>\n      <td>...</td>\n      <td>...</td>\n    </tr>\n    <tr>\n      <th>311180</th>\n      <td>000000311180.jpg</td>\n      <td>640</td>\n      <td>480</td>\n      <td>valid</td>\n      <td>Images/valid/000000311180.jpg</td>\n      <td>.jpg</td>\n    </tr>\n    <tr>\n      <th>302030</th>\n      <td>000000302030.jpg</td>\n      <td>359</td>\n      <td>640</td>\n      <td>valid</td>\n      <td>Images/valid/000000302030.jpg</td>\n      <td>.jpg</td>\n    </tr>\n    <tr>\n      <th>105455</th>\n      <td>000000105455.jpg</td>\n      <td>640</td>\n      <td>427</td>\n      <td>valid</td>\n      <td>Images/valid/000000105455.jpg</td>\n      <td>.jpg</td>\n    </tr>\n    <tr>\n      <th>428280</th>\n      <td>000000428280.jpg</td>\n      <td>333</td>\n      <td>500</td>\n      <td>valid</td>\n      <td>Images/valid/000000428280.jpg</td>\n      <td>.jpg</td>\n    </tr>\n    <tr>\n      <th>349837</th>\n      <td>000000349837.jpg</td>\n      <td>333</td>\n      <td>500</td>\n      <td>valid</td>\n      <td>Images/valid/000000349837.jpg</td>\n      <td>.jpg</td>\n    </tr>\n  </tbody>\n</table>\n<p>5000 rows × 6 columns</p>\n</div>",
          "text/plain": "               file_name  height  width  split                  relative_path  \\\nid                                                                              \n352582  000000352582.jpg     640    425  valid  Images/valid/000000352582.jpg   \n113354  000000113354.jpg     480    640  valid  Images/valid/000000113354.jpg   \n58393   000000058393.jpg     486    640  valid  Images/valid/000000058393.jpg   \n147729  000000147729.jpg     375    500  valid  Images/valid/000000147729.jpg   \n310072  000000310072.jpg     383    640  valid  Images/valid/000000310072.jpg   \n...                  ...     ...    ...    ...                            ...   \n311180  000000311180.jpg     640    480  valid  Images/valid/000000311180.jpg   \n302030  000000302030.jpg     359    640  valid  Images/valid/000000302030.jpg   \n105455  000000105455.jpg     640    427  valid  Images/valid/000000105455.jpg   \n428280  000000428280.jpg     333    500  valid  Images/valid/000000428280.jpg   \n349837  000000349837.jpg     333    500  valid  Images/valid/000000349837.jpg   \n\n        type  \nid            \n352582  .jpg  \n113354  .jpg  \n58393   .jpg  \n147729  .jpg  \n310072  .jpg  \n...      ...  \n311180  .jpg  \n302030  .jpg  \n105455  .jpg  \n428280  .jpg  \n349837  .jpg  \n\n[5000 rows x 6 columns]"
         },
         "metadata": {},
         "output_type": "display_data"
        }
       ]
      }
     },
     "172e53f7216741298e0459da23732a4d": {
      "model_module": "@jupyter-widgets/base",
      "model_module_version": "2.0.0",
      "model_name": "LayoutModel",
      "state": {}
     },
     "1861f79eb97f4484b4bce90e44a2a22e": {
      "model_module": "@jupyter-widgets/base",
      "model_module_version": "2.0.0",
      "model_name": "LayoutModel",
      "state": {}
     },
     "1888279809ab487a8112c897e0b62dbe": {
      "model_module": "@jupyter-widgets/base",
      "model_module_version": "2.0.0",
      "model_name": "LayoutModel",
      "state": {}
     },
     "18e3a2811d3940a8bfcccb1b0c63ca87": {
      "model_module": "@jupyter-widgets/controls",
      "model_module_version": "2.0.0",
      "model_name": "HTMLStyleModel",
      "state": {
       "description_width": "",
       "font_size": null,
       "text_color": null
      }
     },
     "19081791fb394b78b2bd66884c4eb50c": {
      "model_module": "@jupyter-widgets/controls",
      "model_module_version": "2.0.0",
      "model_name": "HTMLModel",
      "state": {
       "layout": "IPY_MODEL_d297c48038284f2392b577a7542aeac3",
       "style": "IPY_MODEL_badee0577f8142c9aa20ec88d1f987bb",
       "value": "<b> Dataset object located at notebook_data, containing 5,000 images and 5,143 objects </b>"
      }
     },
     "190a78df661d40c9b785efdefff2f55f": {
      "model_module": "@jupyter-widgets/output",
      "model_module_version": "1.0.0",
      "model_name": "OutputModel",
      "state": {
       "layout": "IPY_MODEL_6f93180878ff44c5977dddc47e809071",
       "outputs": [
        {
         "data": {
          "text/html": "<div>\n<style scoped>\n    .dataframe tbody tr th:only-of-type {\n        vertical-align: middle;\n    }\n\n    .dataframe tbody tr th {\n        vertical-align: top;\n    }\n\n    .dataframe thead th {\n        text-align: right;\n    }\n</style>\n<table border=\"1\" class=\"dataframe\">\n  <thead>\n    <tr style=\"text-align: right;\">\n      <th></th>\n      <th>area</th>\n      <th>image_id</th>\n      <th>category_id</th>\n      <th>split</th>\n      <th>xmin</th>\n      <th>ymin</th>\n      <th>box_width</th>\n      <th>box_height</th>\n      <th>category_str</th>\n    </tr>\n    <tr>\n      <th>id</th>\n      <th></th>\n      <th></th>\n      <th></th>\n      <th></th>\n      <th></th>\n      <th></th>\n      <th></th>\n      <th></th>\n      <th></th>\n    </tr>\n  </thead>\n  <tbody>\n    <tr>\n      <th>357584</th>\n      <td>14718.47935</td>\n      <td>310072</td>\n      <td>1</td>\n      <td>valid</td>\n      <td>223.85</td>\n      <td>0.00</td>\n      <td>258.83</td>\n      <td>69.08</td>\n      <td>Vehicle</td>\n    </tr>\n    <tr>\n      <th>358258</th>\n      <td>6989.84750</td>\n      <td>310072</td>\n      <td>1</td>\n      <td>valid</td>\n      <td>0.00</td>\n      <td>1.94</td>\n      <td>135.99</td>\n      <td>66.27</td>\n      <td>Vehicle</td>\n    </tr>\n    <tr>\n      <th>363154</th>\n      <td>1729.26630</td>\n      <td>310072</td>\n      <td>1</td>\n      <td>valid</td>\n      <td>170.89</td>\n      <td>0.00</td>\n      <td>71.06</td>\n      <td>36.96</td>\n      <td>Vehicle</td>\n    </tr>\n    <tr>\n      <th>1337431</th>\n      <td>91.97330</td>\n      <td>310072</td>\n      <td>1</td>\n      <td>valid</td>\n      <td>631.99</td>\n      <td>7.35</td>\n      <td>8.01</td>\n      <td>15.46</td>\n      <td>Vehicle</td>\n    </tr>\n    <tr>\n      <th>1368385</th>\n      <td>7558.39585</td>\n      <td>310072</td>\n      <td>1</td>\n      <td>valid</td>\n      <td>0.00</td>\n      <td>0.00</td>\n      <td>131.87</td>\n      <td>71.46</td>\n      <td>Vehicle</td>\n    </tr>\n    <tr>\n      <th>...</th>\n      <td>...</td>\n      <td>...</td>\n      <td>...</td>\n      <td>...</td>\n      <td>...</td>\n      <td>...</td>\n      <td>...</td>\n      <td>...</td>\n      <td>...</td>\n    </tr>\n    <tr>\n      <th>10068</th>\n      <td>10866.03335</td>\n      <td>189806</td>\n      <td>3</td>\n      <td>valid</td>\n      <td>263.63</td>\n      <td>193.10</td>\n      <td>180.04</td>\n      <td>103.59</td>\n      <td>Animal</td>\n    </tr>\n    <tr>\n      <th>46540</th>\n      <td>5204.68295</td>\n      <td>189806</td>\n      <td>3</td>\n      <td>valid</td>\n      <td>130.91</td>\n      <td>165.20</td>\n      <td>94.54</td>\n      <td>104.73</td>\n      <td>Animal</td>\n    </tr>\n    <tr>\n      <th>344755</th>\n      <td>4084.58345</td>\n      <td>363188</td>\n      <td>1</td>\n      <td>valid</td>\n      <td>590.03</td>\n      <td>198.92</td>\n      <td>49.97</td>\n      <td>106.42</td>\n      <td>Vehicle</td>\n    </tr>\n    <tr>\n      <th>1420625</th>\n      <td>865.42470</td>\n      <td>363188</td>\n      <td>2</td>\n      <td>valid</td>\n      <td>221.41</td>\n      <td>199.76</td>\n      <td>91.36</td>\n      <td>63.64</td>\n      <td>Bag</td>\n    </tr>\n    <tr>\n      <th>1192747</th>\n      <td>182.21680</td>\n      <td>105455</td>\n      <td>1</td>\n      <td>valid</td>\n      <td>333.56</td>\n      <td>517.21</td>\n      <td>17.43</td>\n      <td>14.58</td>\n      <td>Vehicle</td>\n    </tr>\n  </tbody>\n</table>\n<p>5143 rows × 9 columns</p>\n</div>",
          "text/plain": "                area  image_id  category_id  split    xmin    ymin  box_width  \\\nid                                                                              \n357584   14718.47935    310072            1  valid  223.85    0.00     258.83   \n358258    6989.84750    310072            1  valid    0.00    1.94     135.99   \n363154    1729.26630    310072            1  valid  170.89    0.00      71.06   \n1337431     91.97330    310072            1  valid  631.99    7.35       8.01   \n1368385   7558.39585    310072            1  valid    0.00    0.00     131.87   \n...              ...       ...          ...    ...     ...     ...        ...   \n10068    10866.03335    189806            3  valid  263.63  193.10     180.04   \n46540     5204.68295    189806            3  valid  130.91  165.20      94.54   \n344755    4084.58345    363188            1  valid  590.03  198.92      49.97   \n1420625    865.42470    363188            2  valid  221.41  199.76      91.36   \n1192747    182.21680    105455            1  valid  333.56  517.21      17.43   \n\n         box_height category_str  \nid                                \n357584        69.08      Vehicle  \n358258        66.27      Vehicle  \n363154        36.96      Vehicle  \n1337431       15.46      Vehicle  \n1368385       71.46      Vehicle  \n...             ...          ...  \n10068        103.59       Animal  \n46540        104.73       Animal  \n344755       106.42      Vehicle  \n1420625       63.64          Bag  \n1192747       14.58      Vehicle  \n\n[5143 rows x 9 columns]"
         },
         "metadata": {},
         "output_type": "display_data"
        }
       ]
      }
     },
     "194cc6145c83479ea321e79c1f5c3631": {
      "model_module": "@jupyter-widgets/base",
      "model_module_version": "2.0.0",
      "model_name": "LayoutModel",
      "state": {}
     },
     "19568b685af141ac8cef668e2a756ec4": {
      "model_module": "@jupyter-widgets/controls",
      "model_module_version": "2.0.0",
      "model_name": "VBoxModel",
      "state": {
       "children": [
        "IPY_MODEL_753fd2619327498984a4ff07272b1a17",
        "IPY_MODEL_9cbe273ab82740e7b0288e72fc3f8c6d"
       ],
       "layout": "IPY_MODEL_3ab8ee01a43b42d9ad602256c3500b2d"
      }
     },
     "199480db10a64b97a71080f2d5712a58": {
      "model_module": "@jupyter-widgets/controls",
      "model_module_version": "2.0.0",
      "model_name": "HTMLModel",
      "state": {
       "layout": "IPY_MODEL_99263dc103a240198c92b2925714df12",
       "style": "IPY_MODEL_47ec6c9a88cc43b6914cb3d3085dd682",
       "value": "<b> Dataset object located at notebook_data, containing 1 images and 20 objects </b>"
      }
     },
     "19dc3c23b54a413aaf11a1085aa1900a": {
      "model_module": "@jupyter-widgets/base",
      "model_module_version": "2.0.0",
      "model_name": "LayoutModel",
      "state": {}
     },
     "1a71baf941984954a4f4a3161099cf76": {
      "model_module": "@jupyter-widgets/base",
      "model_module_version": "2.0.0",
      "model_name": "LayoutModel",
      "state": {}
     },
     "1a8de7d692394bcd8aad13afa2144e97": {
      "model_module": "@jupyter-widgets/base",
      "model_module_version": "2.0.0",
      "model_name": "LayoutModel",
      "state": {}
     },
     "1aa61a4db5ae43958453019a2ab1465d": {
      "model_module": "@jupyter-widgets/output",
      "model_module_version": "1.0.0",
      "model_name": "OutputModel",
      "state": {
       "layout": "IPY_MODEL_435a253358ee40b2ae4b9b78ed6e0420",
       "outputs": [
        {
         "data": {
          "text/html": "<div>\n<style scoped>\n    .dataframe tbody tr th:only-of-type {\n        vertical-align: middle;\n    }\n\n    .dataframe tbody tr th {\n        vertical-align: top;\n    }\n\n    .dataframe thead th {\n        text-align: right;\n    }\n</style>\n<table border=\"1\" class=\"dataframe\">\n  <thead>\n    <tr style=\"text-align: right;\">\n      <th></th>\n      <th>file_name</th>\n      <th>height</th>\n      <th>width</th>\n      <th>split</th>\n      <th>relative_path</th>\n      <th>type</th>\n    </tr>\n    <tr>\n      <th>id</th>\n      <th></th>\n      <th></th>\n      <th></th>\n      <th></th>\n      <th></th>\n      <th></th>\n    </tr>\n  </thead>\n  <tbody>\n    <tr>\n      <th>352582</th>\n      <td>000000352582.jpg</td>\n      <td>640</td>\n      <td>425</td>\n      <td>valid</td>\n      <td>Images/valid/000000352582.jpg</td>\n      <td>.jpg</td>\n    </tr>\n    <tr>\n      <th>113354</th>\n      <td>000000113354.jpg</td>\n      <td>480</td>\n      <td>640</td>\n      <td>valid</td>\n      <td>Images/valid/000000113354.jpg</td>\n      <td>.jpg</td>\n    </tr>\n    <tr>\n      <th>58393</th>\n      <td>000000058393.jpg</td>\n      <td>486</td>\n      <td>640</td>\n      <td>valid</td>\n      <td>Images/valid/000000058393.jpg</td>\n      <td>.jpg</td>\n    </tr>\n    <tr>\n      <th>147729</th>\n      <td>000000147729.jpg</td>\n      <td>375</td>\n      <td>500</td>\n      <td>valid</td>\n      <td>Images/valid/000000147729.jpg</td>\n      <td>.jpg</td>\n    </tr>\n    <tr>\n      <th>310072</th>\n      <td>000000310072.jpg</td>\n      <td>383</td>\n      <td>640</td>\n      <td>valid</td>\n      <td>Images/valid/000000310072.jpg</td>\n      <td>.jpg</td>\n    </tr>\n    <tr>\n      <th>...</th>\n      <td>...</td>\n      <td>...</td>\n      <td>...</td>\n      <td>...</td>\n      <td>...</td>\n      <td>...</td>\n    </tr>\n    <tr>\n      <th>311180</th>\n      <td>000000311180.jpg</td>\n      <td>640</td>\n      <td>480</td>\n      <td>valid</td>\n      <td>Images/valid/000000311180.jpg</td>\n      <td>.jpg</td>\n    </tr>\n    <tr>\n      <th>302030</th>\n      <td>000000302030.jpg</td>\n      <td>359</td>\n      <td>640</td>\n      <td>valid</td>\n      <td>Images/valid/000000302030.jpg</td>\n      <td>.jpg</td>\n    </tr>\n    <tr>\n      <th>105455</th>\n      <td>000000105455.jpg</td>\n      <td>640</td>\n      <td>427</td>\n      <td>valid</td>\n      <td>Images/valid/000000105455.jpg</td>\n      <td>.jpg</td>\n    </tr>\n    <tr>\n      <th>428280</th>\n      <td>000000428280.jpg</td>\n      <td>333</td>\n      <td>500</td>\n      <td>valid</td>\n      <td>Images/valid/000000428280.jpg</td>\n      <td>.jpg</td>\n    </tr>\n    <tr>\n      <th>349837</th>\n      <td>000000349837.jpg</td>\n      <td>333</td>\n      <td>500</td>\n      <td>valid</td>\n      <td>Images/valid/000000349837.jpg</td>\n      <td>.jpg</td>\n    </tr>\n  </tbody>\n</table>\n<p>5000 rows × 6 columns</p>\n</div>",
          "text/plain": "               file_name  height  width  split                  relative_path  \\\nid                                                                              \n352582  000000352582.jpg     640    425  valid  Images/valid/000000352582.jpg   \n113354  000000113354.jpg     480    640  valid  Images/valid/000000113354.jpg   \n58393   000000058393.jpg     486    640  valid  Images/valid/000000058393.jpg   \n147729  000000147729.jpg     375    500  valid  Images/valid/000000147729.jpg   \n310072  000000310072.jpg     383    640  valid  Images/valid/000000310072.jpg   \n...                  ...     ...    ...    ...                            ...   \n311180  000000311180.jpg     640    480  valid  Images/valid/000000311180.jpg   \n302030  000000302030.jpg     359    640  valid  Images/valid/000000302030.jpg   \n105455  000000105455.jpg     640    427  valid  Images/valid/000000105455.jpg   \n428280  000000428280.jpg     333    500  valid  Images/valid/000000428280.jpg   \n349837  000000349837.jpg     333    500  valid  Images/valid/000000349837.jpg   \n\n        type  \nid            \n352582  .jpg  \n113354  .jpg  \n58393   .jpg  \n147729  .jpg  \n310072  .jpg  \n...      ...  \n311180  .jpg  \n302030  .jpg  \n105455  .jpg  \n428280  .jpg  \n349837  .jpg  \n\n[5000 rows x 6 columns]"
         },
         "metadata": {},
         "output_type": "display_data"
        }
       ]
      }
     },
     "1ac98b419def4c5292042681ded0db38": {
      "model_module": "@jupyter-widgets/base",
      "model_module_version": "2.0.0",
      "model_name": "LayoutModel",
      "state": {}
     },
     "1b0e959087f843dc9132571e7042f5f9": {
      "model_module": "@jupyter-widgets/controls",
      "model_module_version": "2.0.0",
      "model_name": "TabModel",
      "state": {
       "children": [
        "IPY_MODEL_780f98db679d4644893e94686cee766b",
        "IPY_MODEL_cac5c259802d412bb5e0de5416c46f09",
        "IPY_MODEL_946e0233a1974f008b1bd6389dd9595f"
       ],
       "layout": "IPY_MODEL_900f80ac8dc846c49a08eff621d61268",
       "selected_index": 0,
       "titles": [
        "Images",
        "Annotations",
        "Label Map"
       ]
      }
     },
     "1b37210d43c84a48bfb45f925a073d19": {
      "model_module": "@jupyter-widgets/base",
      "model_module_version": "2.0.0",
      "model_name": "LayoutModel",
      "state": {}
     },
     "1b57c48081074469b261ceb8b6afba19": {
      "model_module": "@jupyter-widgets/base",
      "model_module_version": "2.0.0",
      "model_name": "LayoutModel",
      "state": {}
     },
     "1ba7404814c14f7986347c84d764a7df": {
      "model_module": "@jupyter-widgets/base",
      "model_module_version": "2.0.0",
      "model_name": "LayoutModel",
      "state": {}
     },
     "1ba8d08b93cc4a86905fe64598d81dac": {
      "model_module": "@jupyter-widgets/controls",
      "model_module_version": "2.0.0",
      "model_name": "VBoxModel",
      "state": {
       "children": [
        "IPY_MODEL_90f108ad3dbd47a895a9ee9db2382ea6",
        "IPY_MODEL_2ce7ea2f48424dc6a11535a36372705d"
       ],
       "layout": "IPY_MODEL_34383753e3724171b5c354c1fe72dd63"
      }
     },
     "1bfce1a30fab455d92c730e3346348fe": {
      "model_module": "@jupyter-widgets/controls",
      "model_module_version": "2.0.0",
      "model_name": "VBoxModel",
      "state": {
       "children": [
        "IPY_MODEL_9b62112c8cbb4a3fb17c20a61e916dba",
        "IPY_MODEL_1b0e959087f843dc9132571e7042f5f9"
       ],
       "layout": "IPY_MODEL_19dc3c23b54a413aaf11a1085aa1900a"
      }
     },
     "1c32243c87a24179b882c02a24986f1c": {
      "model_module": "@jupyter-widgets/output",
      "model_module_version": "1.0.0",
      "model_name": "OutputModel",
      "state": {
       "layout": "IPY_MODEL_cd7f27b4100949d9abe6ca983615bffd",
       "outputs": [
        {
         "data": {
          "text/html": "<div>\n<style scoped>\n    .dataframe tbody tr th:only-of-type {\n        vertical-align: middle;\n    }\n\n    .dataframe tbody tr th {\n        vertical-align: top;\n    }\n\n    .dataframe thead th {\n        text-align: right;\n    }\n</style>\n<table border=\"1\" class=\"dataframe\">\n  <thead>\n    <tr style=\"text-align: right;\">\n      <th></th>\n      <th>area</th>\n      <th>category_id</th>\n      <th>split</th>\n      <th>xmin</th>\n      <th>ymin</th>\n      <th>box_width</th>\n      <th>box_height</th>\n      <th>category_str</th>\n      <th>image_id</th>\n    </tr>\n  </thead>\n  <tbody>\n    <tr>\n      <th>0</th>\n      <td>5184.22260</td>\n      <td>62</td>\n      <td>valid</td>\n      <td>244.82</td>\n      <td>230.45</td>\n      <td>104.72</td>\n      <td>87.69</td>\n      <td>chair</td>\n      <td>0</td>\n    </tr>\n    <tr>\n      <th>1</th>\n      <td>2464.93305</td>\n      <td>64</td>\n      <td>valid</td>\n      <td>183.36</td>\n      <td>136.56</td>\n      <td>60.78</td>\n      <td>92.39</td>\n      <td>potted plant</td>\n      <td>0</td>\n    </tr>\n    <tr>\n      <th>2</th>\n      <td>7034.62185</td>\n      <td>64</td>\n      <td>valid</td>\n      <td>347.35</td>\n      <td>212.37</td>\n      <td>82.51</td>\n      <td>143.00</td>\n      <td>potted plant</td>\n      <td>0</td>\n    </tr>\n    <tr>\n      <th>3</th>\n      <td>64019.87940</td>\n      <td>65</td>\n      <td>valid</td>\n      <td>3.27</td>\n      <td>266.85</td>\n      <td>401.23</td>\n      <td>208.25</td>\n      <td>bed</td>\n      <td>0</td>\n    </tr>\n    <tr>\n      <th>4</th>\n      <td>20933.00000</td>\n      <td>84</td>\n      <td>valid</td>\n      <td>416.00</td>\n      <td>43.00</td>\n      <td>153.00</td>\n      <td>303.00</td>\n      <td>book</td>\n      <td>0</td>\n    </tr>\n    <tr>\n      <th>...</th>\n      <td>...</td>\n      <td>...</td>\n      <td>...</td>\n      <td>...</td>\n      <td>...</td>\n      <td>...</td>\n      <td>...</td>\n      <td>...</td>\n      <td>...</td>\n    </tr>\n    <tr>\n      <th>36776</th>\n      <td>364.30040</td>\n      <td>41</td>\n      <td>valid</td>\n      <td>128.77</td>\n      <td>152.72</td>\n      <td>50.00</td>\n      <td>17.21</td>\n      <td>skateboard</td>\n      <td>4997</td>\n    </tr>\n    <tr>\n      <th>36777</th>\n      <td>53359.63985</td>\n      <td>1</td>\n      <td>valid</td>\n      <td>0.00</td>\n      <td>2.53</td>\n      <td>469.53</td>\n      <td>215.26</td>\n      <td>person</td>\n      <td>4998</td>\n    </tr>\n    <tr>\n      <th>36778</th>\n      <td>46341.95470</td>\n      <td>58</td>\n      <td>valid</td>\n      <td>39.91</td>\n      <td>140.73</td>\n      <td>308.31</td>\n      <td>232.60</td>\n      <td>hot dog</td>\n      <td>4998</td>\n    </tr>\n    <tr>\n      <th>36779</th>\n      <td>14878.08055</td>\n      <td>58</td>\n      <td>valid</td>\n      <td>147.27</td>\n      <td>282.15</td>\n      <td>246.36</td>\n      <td>206.45</td>\n      <td>hot dog</td>\n      <td>4998</td>\n    </tr>\n    <tr>\n      <th>36780</th>\n      <td>34120.51835</td>\n      <td>70</td>\n      <td>valid</td>\n      <td>139.32</td>\n      <td>386.03</td>\n      <td>191.56</td>\n      <td>235.10</td>\n      <td>toilet</td>\n      <td>4999</td>\n    </tr>\n  </tbody>\n</table>\n<p>36781 rows × 9 columns</p>\n</div>",
          "text/plain": "              area  category_id  split    xmin    ymin  box_width  box_height  \\\n0       5184.22260           62  valid  244.82  230.45     104.72       87.69   \n1       2464.93305           64  valid  183.36  136.56      60.78       92.39   \n2       7034.62185           64  valid  347.35  212.37      82.51      143.00   \n3      64019.87940           65  valid    3.27  266.85     401.23      208.25   \n4      20933.00000           84  valid  416.00   43.00     153.00      303.00   \n...            ...          ...    ...     ...     ...        ...         ...   \n36776    364.30040           41  valid  128.77  152.72      50.00       17.21   \n36777  53359.63985            1  valid    0.00    2.53     469.53      215.26   \n36778  46341.95470           58  valid   39.91  140.73     308.31      232.60   \n36779  14878.08055           58  valid  147.27  282.15     246.36      206.45   \n36780  34120.51835           70  valid  139.32  386.03     191.56      235.10   \n\n       category_str  image_id  \n0             chair         0  \n1      potted plant         0  \n2      potted plant         0  \n3               bed         0  \n4              book         0  \n...             ...       ...  \n36776    skateboard      4997  \n36777        person      4998  \n36778       hot dog      4998  \n36779       hot dog      4998  \n36780        toilet      4999  \n\n[36781 rows x 9 columns]"
         },
         "metadata": {},
         "output_type": "display_data"
        }
       ]
      }
     },
     "1c4c5aaf2da74e7c825ba613d3affd65": {
      "model_module": "@jupyter-widgets/base",
      "model_module_version": "2.0.0",
      "model_name": "LayoutModel",
      "state": {}
     },
     "1d9f99e26eb146bcad55f36e67ec4cd5": {
      "model_module": "@jupyter-widgets/base",
      "model_module_version": "2.0.0",
      "model_name": "LayoutModel",
      "state": {}
     },
     "1eaf76346cd54360a6572ebf273c93e3": {
      "model_module": "@jupyter-widgets/output",
      "model_module_version": "1.0.0",
      "model_name": "OutputModel",
      "state": {
       "layout": "IPY_MODEL_0527dbd0677149d5be3f80993da7a0ee",
       "outputs": [
        {
         "data": {
          "text/html": "<div>\n<style scoped>\n    .dataframe tbody tr th:only-of-type {\n        vertical-align: middle;\n    }\n\n    .dataframe tbody tr th {\n        vertical-align: top;\n    }\n\n    .dataframe thead th {\n        text-align: right;\n    }\n</style>\n<table border=\"1\" class=\"dataframe\">\n  <thead>\n    <tr style=\"text-align: right;\">\n      <th></th>\n      <th>category string</th>\n    </tr>\n    <tr>\n      <th>categorty_id</th>\n      <th></th>\n    </tr>\n  </thead>\n  <tbody>\n    <tr>\n      <th>1</th>\n      <td>vehicle</td>\n    </tr>\n    <tr>\n      <th>2</th>\n      <td>person</td>\n    </tr>\n    <tr>\n      <th>3</th>\n      <td>tool</td>\n    </tr>\n    <tr>\n      <th>6</th>\n      <td>abandoned objects</td>\n    </tr>\n    <tr>\n      <th>10</th>\n      <td>car</td>\n    </tr>\n    <tr>\n      <th>11</th>\n      <td>two-wheeler</td>\n    </tr>\n    <tr>\n      <th>12</th>\n      <td>train</td>\n    </tr>\n    <tr>\n      <th>20</th>\n      <td>standing person</td>\n    </tr>\n    <tr>\n      <th>21</th>\n      <td>sitting person</td>\n    </tr>\n    <tr>\n      <th>22</th>\n      <td>laying person</td>\n    </tr>\n    <tr>\n      <th>28</th>\n      <td>packet</td>\n    </tr>\n    <tr>\n      <th>29</th>\n      <td>bag</td>\n    </tr>\n    <tr>\n      <th>30</th>\n      <td>suitcase</td>\n    </tr>\n    <tr>\n      <th>31</th>\n      <td>head</td>\n    </tr>\n    <tr>\n      <th>32</th>\n      <td>light truck</td>\n    </tr>\n    <tr>\n      <th>33</th>\n      <td>heavy truck</td>\n    </tr>\n    <tr>\n      <th>34</th>\n      <td>garbage truck</td>\n    </tr>\n    <tr>\n      <th>36</th>\n      <td>dump truck</td>\n    </tr>\n    <tr>\n      <th>37</th>\n      <td>truck with trailer</td>\n    </tr>\n    <tr>\n      <th>38</th>\n      <td>truck without trailer</td>\n    </tr>\n    <tr>\n      <th>40</th>\n      <td>tank truck</td>\n    </tr>\n    <tr>\n      <th>41</th>\n      <td>dog</td>\n    </tr>\n    <tr>\n      <th>42</th>\n      <td>motorcycle</td>\n    </tr>\n    <tr>\n      <th>43</th>\n      <td>heavy equipment</td>\n    </tr>\n    <tr>\n      <th>44</th>\n      <td>animals</td>\n    </tr>\n    <tr>\n      <th>46</th>\n      <td>personnal protection equipment</td>\n    </tr>\n    <tr>\n      <th>47</th>\n      <td>utility vehicle</td>\n    </tr>\n    <tr>\n      <th>48</th>\n      <td>minibus</td>\n    </tr>\n    <tr>\n      <th>49</th>\n      <td>taxi</td>\n    </tr>\n    <tr>\n      <th>50</th>\n      <td>body parts</td>\n    </tr>\n    <tr>\n      <th>51</th>\n      <td>vehicle parts</td>\n    </tr>\n    <tr>\n      <th>52</th>\n      <td>taxi light</td>\n    </tr>\n    <tr>\n      <th>53</th>\n      <td>safety helmet</td>\n    </tr>\n    <tr>\n      <th>54</th>\n      <td>safety vest</td>\n    </tr>\n    <tr>\n      <th>55</th>\n      <td>domestic animals</td>\n    </tr>\n    <tr>\n      <th>100</th>\n      <td>sedan</td>\n    </tr>\n    <tr>\n      <th>101</th>\n      <td>van</td>\n    </tr>\n    <tr>\n      <th>102</th>\n      <td>bus</td>\n    </tr>\n    <tr>\n      <th>103</th>\n      <td>truck</td>\n    </tr>\n    <tr>\n      <th>104</th>\n      <td>special</td>\n    </tr>\n    <tr>\n      <th>111</th>\n      <td>bicycle</td>\n    </tr>\n    <tr>\n      <th>112</th>\n      <td>scooter</td>\n    </tr>\n    <tr>\n      <th>113</th>\n      <td>wheelchair</td>\n    </tr>\n    <tr>\n      <th>210</th>\n      <td>biker</td>\n    </tr>\n    <tr>\n      <th>211</th>\n      <td>cyclist</td>\n    </tr>\n    <tr>\n      <th>212</th>\n      <td>scooter rider</td>\n    </tr>\n    <tr>\n      <th>213</th>\n      <td>tricyclist</td>\n    </tr>\n    <tr>\n      <th>214</th>\n      <td>wheelchair user</td>\n    </tr>\n    <tr>\n      <th>1040</th>\n      <td>police</td>\n    </tr>\n    <tr>\n      <th>1041</th>\n      <td>ambulance</td>\n    </tr>\n    <tr>\n      <th>1042</th>\n      <td>firefighter</td>\n    </tr>\n    <tr>\n      <th>1100</th>\n      <td>motorbike</td>\n    </tr>\n    <tr>\n      <th>1121</th>\n      <td>standing scooter</td>\n    </tr>\n  </tbody>\n</table>\n</div>",
          "text/plain": "                             category string\ncategorty_id                                \n1                                    vehicle\n2                                     person\n3                                       tool\n6                          abandoned objects\n10                                       car\n11                               two-wheeler\n12                                     train\n20                           standing person\n21                            sitting person\n22                             laying person\n28                                    packet\n29                                       bag\n30                                  suitcase\n31                                      head\n32                               light truck\n33                               heavy truck\n34                             garbage truck\n36                                dump truck\n37                        truck with trailer\n38                     truck without trailer\n40                                tank truck\n41                                       dog\n42                                motorcycle\n43                           heavy equipment\n44                                   animals\n46            personnal protection equipment\n47                           utility vehicle\n48                                   minibus\n49                                      taxi\n50                                body parts\n51                             vehicle parts\n52                                taxi light\n53                             safety helmet\n54                               safety vest\n55                          domestic animals\n100                                    sedan\n101                                      van\n102                                      bus\n103                                    truck\n104                                  special\n111                                  bicycle\n112                                  scooter\n113                               wheelchair\n210                                    biker\n211                                  cyclist\n212                            scooter rider\n213                               tricyclist\n214                          wheelchair user\n1040                                  police\n1041                               ambulance\n1042                             firefighter\n1100                               motorbike\n1121                        standing scooter"
         },
         "metadata": {},
         "output_type": "display_data"
        }
       ]
      }
     },
     "1eedb150b177402294ed12e1fae8ecb9": {
      "model_module": "@jupyter-widgets/base",
      "model_module_version": "2.0.0",
      "model_name": "LayoutModel",
      "state": {}
     },
     "1f21ae6e138440799b28133cb16495b7": {
      "model_module": "@jupyter-widgets/output",
      "model_module_version": "1.0.0",
      "model_name": "OutputModel",
      "state": {
       "layout": "IPY_MODEL_6aa1f0d50d514d61a6c21c8fc5c49e55",
       "outputs": [
        {
         "data": {
          "text/html": "<div>\n<style scoped>\n    .dataframe tbody tr th:only-of-type {\n        vertical-align: middle;\n    }\n\n    .dataframe tbody tr th {\n        vertical-align: top;\n    }\n\n    .dataframe thead th {\n        text-align: right;\n    }\n</style>\n<table border=\"1\" class=\"dataframe\">\n  <thead>\n    <tr style=\"text-align: right;\">\n      <th></th>\n      <th>file_name</th>\n      <th>height</th>\n      <th>relative_path</th>\n      <th>split</th>\n      <th>type</th>\n      <th>width</th>\n    </tr>\n  </thead>\n  <tbody>\n    <tr>\n      <th>139</th>\n      <td>000000000139.jpg</td>\n      <td>426</td>\n      <td>Images/valid/000000000139.jpg</td>\n      <td>valid</td>\n      <td>.jpg</td>\n      <td>640</td>\n    </tr>\n  </tbody>\n</table>\n</div>",
          "text/plain": "            file_name height                  relative_path  split  type width\n139  000000000139.jpg    426  Images/valid/000000000139.jpg  valid  .jpg   640"
         },
         "metadata": {},
         "output_type": "display_data"
        }
       ]
      }
     },
     "1f853a6f75fd426c9530ad25504e1ef4": {
      "model_module": "@jupyter-widgets/output",
      "model_module_version": "1.0.0",
      "model_name": "OutputModel",
      "state": {
       "layout": "IPY_MODEL_fea8bf71cd074be0bee0c9141b22feb7",
       "outputs": [
        {
         "data": {
          "text/html": "<div>\n<style scoped>\n    .dataframe tbody tr th:only-of-type {\n        vertical-align: middle;\n    }\n\n    .dataframe tbody tr th {\n        vertical-align: top;\n    }\n\n    .dataframe thead th {\n        text-align: right;\n    }\n</style>\n<table border=\"1\" class=\"dataframe\">\n  <thead>\n    <tr style=\"text-align: right;\">\n      <th></th>\n      <th>area</th>\n      <th>image_id</th>\n      <th>category_id</th>\n      <th>split</th>\n      <th>xmin</th>\n      <th>ymin</th>\n      <th>box_width</th>\n      <th>box_height</th>\n      <th>category_str</th>\n    </tr>\n    <tr>\n      <th>id</th>\n      <th></th>\n      <th></th>\n      <th></th>\n      <th></th>\n      <th></th>\n      <th></th>\n      <th></th>\n      <th></th>\n      <th></th>\n    </tr>\n  </thead>\n  <tbody>\n    <tr>\n      <th>460450</th>\n      <td>48685.67910</td>\n      <td>352582</td>\n      <td>2</td>\n      <td>valid</td>\n      <td>112.43</td>\n      <td>195.32</td>\n      <td>214.78</td>\n      <td>438.19</td>\n      <td>person</td>\n    </tr>\n    <tr>\n      <th>535917</th>\n      <td>22650.73800</td>\n      <td>352582</td>\n      <td>2</td>\n      <td>valid</td>\n      <td>0.00</td>\n      <td>256.00</td>\n      <td>80.54</td>\n      <td>376.81</td>\n      <td>person</td>\n    </tr>\n    <tr>\n      <th>467905</th>\n      <td>5408.64720</td>\n      <td>58393</td>\n      <td>2</td>\n      <td>valid</td>\n      <td>342.52</td>\n      <td>163.33</td>\n      <td>192.24</td>\n      <td>77.47</td>\n      <td>person</td>\n    </tr>\n    <tr>\n      <th>1710990</th>\n      <td>1792.80770</td>\n      <td>58393</td>\n      <td>2</td>\n      <td>valid</td>\n      <td>418.99</td>\n      <td>182.65</td>\n      <td>61.12</td>\n      <td>45.00</td>\n      <td>person</td>\n    </tr>\n    <tr>\n      <th>1238519</th>\n      <td>55847.52705</td>\n      <td>147729</td>\n      <td>2</td>\n      <td>valid</td>\n      <td>0.00</td>\n      <td>87.01</td>\n      <td>310.67</td>\n      <td>287.99</td>\n      <td>person</td>\n    </tr>\n    <tr>\n      <th>...</th>\n      <td>...</td>\n      <td>...</td>\n      <td>...</td>\n      <td>...</td>\n      <td>...</td>\n      <td>...</td>\n      <td>...</td>\n      <td>...</td>\n      <td>...</td>\n    </tr>\n    <tr>\n      <th>1420625</th>\n      <td>865.42470</td>\n      <td>363188</td>\n      <td>61</td>\n      <td>valid</td>\n      <td>221.41</td>\n      <td>199.76</td>\n      <td>91.36</td>\n      <td>63.64</td>\n      <td>bag</td>\n    </tr>\n    <tr>\n      <th>2026890</th>\n      <td>600.52020</td>\n      <td>363188</td>\n      <td>2</td>\n      <td>valid</td>\n      <td>80.77</td>\n      <td>158.46</td>\n      <td>23.14</td>\n      <td>45.34</td>\n      <td>person</td>\n    </tr>\n    <tr>\n      <th>900100363188</th>\n      <td>4293.00000</td>\n      <td>363188</td>\n      <td>2</td>\n      <td>valid</td>\n      <td>0.00</td>\n      <td>129.00</td>\n      <td>305.00</td>\n      <td>115.00</td>\n      <td>person</td>\n    </tr>\n    <tr>\n      <th>1724916</th>\n      <td>125482.38805</td>\n      <td>311180</td>\n      <td>2</td>\n      <td>valid</td>\n      <td>0.92</td>\n      <td>103.12</td>\n      <td>446.49</td>\n      <td>536.47</td>\n      <td>person</td>\n    </tr>\n    <tr>\n      <th>1192747</th>\n      <td>182.21680</td>\n      <td>105455</td>\n      <td>100</td>\n      <td>valid</td>\n      <td>333.56</td>\n      <td>517.21</td>\n      <td>17.43</td>\n      <td>14.58</td>\n      <td>sedan</td>\n    </tr>\n  </tbody>\n</table>\n<p>16147 rows × 9 columns</p>\n</div>",
          "text/plain": "                      area  image_id  category_id  split    xmin    ymin  \\\nid                                                                         \n460450         48685.67910    352582            2  valid  112.43  195.32   \n535917         22650.73800    352582            2  valid    0.00  256.00   \n467905          5408.64720     58393            2  valid  342.52  163.33   \n1710990         1792.80770     58393            2  valid  418.99  182.65   \n1238519        55847.52705    147729            2  valid    0.00   87.01   \n...                    ...       ...          ...    ...     ...     ...   \n1420625          865.42470    363188           61  valid  221.41  199.76   \n2026890          600.52020    363188            2  valid   80.77  158.46   \n900100363188    4293.00000    363188            2  valid    0.00  129.00   \n1724916       125482.38805    311180            2  valid    0.92  103.12   \n1192747          182.21680    105455          100  valid  333.56  517.21   \n\n              box_width  box_height category_str  \nid                                                \n460450           214.78      438.19       person  \n535917            80.54      376.81       person  \n467905           192.24       77.47       person  \n1710990           61.12       45.00       person  \n1238519          310.67      287.99       person  \n...                 ...         ...          ...  \n1420625           91.36       63.64          bag  \n2026890           23.14       45.34       person  \n900100363188     305.00      115.00       person  \n1724916          446.49      536.47       person  \n1192747           17.43       14.58        sedan  \n\n[16147 rows x 9 columns]"
         },
         "metadata": {},
         "output_type": "display_data"
        }
       ]
      }
     },
     "1ff80e34b5444858846ae45264dbd1c2": {
      "model_module": "@jupyter-widgets/base",
      "model_module_version": "2.0.0",
      "model_name": "LayoutModel",
      "state": {}
     },
     "207d006aa3cf4f79872b348212bd4e7a": {
      "model_module": "@jupyter-widgets/base",
      "model_module_version": "2.0.0",
      "model_name": "LayoutModel",
      "state": {}
     },
     "20bf90d00d504b078ebc1e7ecb48e0ea": {
      "model_module": "@jupyter-widgets/controls",
      "model_module_version": "2.0.0",
      "model_name": "VBoxModel",
      "state": {
       "children": [
        "IPY_MODEL_8ed52c5a2f2243ca8f1949736ad13b2a",
        "IPY_MODEL_db959a83d78c4755b3b20cfdf2779e23"
       ],
       "layout": "IPY_MODEL_1ac98b419def4c5292042681ded0db38"
      }
     },
     "211bfad605fb4ad09385b4f26030bf36": {
      "model_module": "@jupyter-widgets/output",
      "model_module_version": "1.0.0",
      "model_name": "OutputModel",
      "state": {
       "layout": "IPY_MODEL_688616774c3348988bf92401dd4890bc",
       "outputs": [
        {
         "data": {
          "text/html": "<div>\n<style scoped>\n    .dataframe tbody tr th:only-of-type {\n        vertical-align: middle;\n    }\n\n    .dataframe tbody tr th {\n        vertical-align: top;\n    }\n\n    .dataframe thead th {\n        text-align: right;\n    }\n</style>\n<table border=\"1\" class=\"dataframe\">\n  <thead>\n    <tr style=\"text-align: right;\">\n      <th></th>\n      <th>category string</th>\n    </tr>\n    <tr>\n      <th>categorty_id</th>\n      <th></th>\n    </tr>\n  </thead>\n  <tbody>\n    <tr>\n      <th>1</th>\n      <td>person</td>\n    </tr>\n    <tr>\n      <th>2</th>\n      <td>bicycle</td>\n    </tr>\n    <tr>\n      <th>3</th>\n      <td>car</td>\n    </tr>\n    <tr>\n      <th>4</th>\n      <td>motorcycle</td>\n    </tr>\n    <tr>\n      <th>5</th>\n      <td>airplane</td>\n    </tr>\n    <tr>\n      <th>...</th>\n      <td>...</td>\n    </tr>\n    <tr>\n      <th>86</th>\n      <td>vase</td>\n    </tr>\n    <tr>\n      <th>87</th>\n      <td>scissors</td>\n    </tr>\n    <tr>\n      <th>88</th>\n      <td>teddy bear</td>\n    </tr>\n    <tr>\n      <th>89</th>\n      <td>hair drier</td>\n    </tr>\n    <tr>\n      <th>90</th>\n      <td>toothbrush</td>\n    </tr>\n  </tbody>\n</table>\n<p>80 rows × 1 columns</p>\n</div>",
          "text/plain": "             category string\ncategorty_id                \n1                     person\n2                    bicycle\n3                        car\n4                 motorcycle\n5                   airplane\n...                      ...\n86                      vase\n87                  scissors\n88                teddy bear\n89                hair drier\n90                toothbrush\n\n[80 rows x 1 columns]"
         },
         "metadata": {},
         "output_type": "display_data"
        }
       ]
      }
     },
     "216bb1c64c18466ea726e4604e09f005": {
      "model_module": "@jupyter-widgets/output",
      "model_module_version": "1.0.0",
      "model_name": "OutputModel",
      "state": {
       "layout": "IPY_MODEL_45bdd5ee1aea417ebe4b84d5b6e3caf7",
       "outputs": [
        {
         "data": {
          "text/html": "<div>\n<style scoped>\n    .dataframe tbody tr th:only-of-type {\n        vertical-align: middle;\n    }\n\n    .dataframe tbody tr th {\n        vertical-align: top;\n    }\n\n    .dataframe thead th {\n        text-align: right;\n    }\n</style>\n<table border=\"1\" class=\"dataframe\">\n  <thead>\n    <tr style=\"text-align: right;\">\n      <th></th>\n      <th>category string</th>\n    </tr>\n    <tr>\n      <th>categorty_id</th>\n      <th></th>\n    </tr>\n  </thead>\n  <tbody>\n    <tr>\n      <th>1</th>\n      <td>Vehicle</td>\n    </tr>\n    <tr>\n      <th>2</th>\n      <td>Bag</td>\n    </tr>\n    <tr>\n      <th>3</th>\n      <td>Animal</td>\n    </tr>\n  </tbody>\n</table>\n</div>",
          "text/plain": "             category string\ncategorty_id                \n1                    Vehicle\n2                        Bag\n3                     Animal"
         },
         "metadata": {},
         "output_type": "display_data"
        }
       ]
      }
     },
     "22503253d8e74a8e9132264be3eccfeb": {
      "model_module": "@jupyter-widgets/base",
      "model_module_version": "2.0.0",
      "model_name": "LayoutModel",
      "state": {}
     },
     "22e40bb064d54e3990e6120fea168bf3": {
      "model_module": "@jupyter-widgets/base",
      "model_module_version": "2.0.0",
      "model_name": "LayoutModel",
      "state": {}
     },
     "22ee20e19e364778938ec6da08f103ca": {
      "model_module": "@jupyter-widgets/controls",
      "model_module_version": "2.0.0",
      "model_name": "HTMLStyleModel",
      "state": {
       "description_width": "",
       "font_size": null,
       "text_color": null
      }
     },
     "23354e076c2d4280965a6ea4dfaecc31": {
      "model_module": "@jupyter-widgets/output",
      "model_module_version": "1.0.0",
      "model_name": "OutputModel",
      "state": {
       "layout": "IPY_MODEL_948133105e8244048e5940aa651b3cf3",
       "outputs": [
        {
         "data": {
          "text/html": "<div>\n<style scoped>\n    .dataframe tbody tr th:only-of-type {\n        vertical-align: middle;\n    }\n\n    .dataframe tbody tr th {\n        vertical-align: top;\n    }\n\n    .dataframe thead th {\n        text-align: right;\n    }\n</style>\n<table border=\"1\" class=\"dataframe\">\n  <thead>\n    <tr style=\"text-align: right;\">\n      <th></th>\n      <th>area</th>\n      <th>category_id</th>\n      <th>split</th>\n      <th>xmin</th>\n      <th>ymin</th>\n      <th>box_width</th>\n      <th>box_height</th>\n      <th>category_str</th>\n      <th>image_id</th>\n    </tr>\n  </thead>\n  <tbody>\n    <tr>\n      <th>0</th>\n      <td>5184.22260</td>\n      <td>62</td>\n      <td>valid</td>\n      <td>244.82</td>\n      <td>230.45</td>\n      <td>104.72</td>\n      <td>87.69</td>\n      <td>chair</td>\n      <td>0</td>\n    </tr>\n    <tr>\n      <th>1</th>\n      <td>2464.93305</td>\n      <td>64</td>\n      <td>valid</td>\n      <td>183.36</td>\n      <td>136.56</td>\n      <td>60.78</td>\n      <td>92.39</td>\n      <td>potted plant</td>\n      <td>0</td>\n    </tr>\n    <tr>\n      <th>2</th>\n      <td>7034.62185</td>\n      <td>64</td>\n      <td>valid</td>\n      <td>347.35</td>\n      <td>212.37</td>\n      <td>82.51</td>\n      <td>143.00</td>\n      <td>potted plant</td>\n      <td>0</td>\n    </tr>\n    <tr>\n      <th>3</th>\n      <td>64019.87940</td>\n      <td>65</td>\n      <td>valid</td>\n      <td>3.27</td>\n      <td>266.85</td>\n      <td>401.23</td>\n      <td>208.25</td>\n      <td>bed</td>\n      <td>0</td>\n    </tr>\n    <tr>\n      <th>4</th>\n      <td>20933.00000</td>\n      <td>84</td>\n      <td>valid</td>\n      <td>416.00</td>\n      <td>43.00</td>\n      <td>153.00</td>\n      <td>303.00</td>\n      <td>book</td>\n      <td>0</td>\n    </tr>\n    <tr>\n      <th>...</th>\n      <td>...</td>\n      <td>...</td>\n      <td>...</td>\n      <td>...</td>\n      <td>...</td>\n      <td>...</td>\n      <td>...</td>\n      <td>...</td>\n      <td>...</td>\n    </tr>\n    <tr>\n      <th>36776</th>\n      <td>364.30040</td>\n      <td>41</td>\n      <td>valid</td>\n      <td>128.77</td>\n      <td>152.72</td>\n      <td>50.00</td>\n      <td>17.21</td>\n      <td>skateboard</td>\n      <td>4997</td>\n    </tr>\n    <tr>\n      <th>36777</th>\n      <td>53359.63985</td>\n      <td>1</td>\n      <td>valid</td>\n      <td>0.00</td>\n      <td>2.53</td>\n      <td>469.53</td>\n      <td>215.26</td>\n      <td>person</td>\n      <td>4998</td>\n    </tr>\n    <tr>\n      <th>36778</th>\n      <td>46341.95470</td>\n      <td>58</td>\n      <td>valid</td>\n      <td>39.91</td>\n      <td>140.73</td>\n      <td>308.31</td>\n      <td>232.60</td>\n      <td>hot dog</td>\n      <td>4998</td>\n    </tr>\n    <tr>\n      <th>36779</th>\n      <td>14878.08055</td>\n      <td>58</td>\n      <td>valid</td>\n      <td>147.27</td>\n      <td>282.15</td>\n      <td>246.36</td>\n      <td>206.45</td>\n      <td>hot dog</td>\n      <td>4998</td>\n    </tr>\n    <tr>\n      <th>36780</th>\n      <td>34120.51835</td>\n      <td>70</td>\n      <td>valid</td>\n      <td>139.32</td>\n      <td>386.03</td>\n      <td>191.56</td>\n      <td>235.10</td>\n      <td>toilet</td>\n      <td>4999</td>\n    </tr>\n  </tbody>\n</table>\n<p>36781 rows × 9 columns</p>\n</div>",
          "text/plain": "              area  category_id  split    xmin    ymin  box_width  box_height  \\\n0       5184.22260           62  valid  244.82  230.45     104.72       87.69   \n1       2464.93305           64  valid  183.36  136.56      60.78       92.39   \n2       7034.62185           64  valid  347.35  212.37      82.51      143.00   \n3      64019.87940           65  valid    3.27  266.85     401.23      208.25   \n4      20933.00000           84  valid  416.00   43.00     153.00      303.00   \n...            ...          ...    ...     ...     ...        ...         ...   \n36776    364.30040           41  valid  128.77  152.72      50.00       17.21   \n36777  53359.63985            1  valid    0.00    2.53     469.53      215.26   \n36778  46341.95470           58  valid   39.91  140.73     308.31      232.60   \n36779  14878.08055           58  valid  147.27  282.15     246.36      206.45   \n36780  34120.51835           70  valid  139.32  386.03     191.56      235.10   \n\n       category_str  image_id  \n0             chair         0  \n1      potted plant         0  \n2      potted plant         0  \n3               bed         0  \n4              book         0  \n...             ...       ...  \n36776    skateboard      4997  \n36777        person      4998  \n36778       hot dog      4998  \n36779       hot dog      4998  \n36780        toilet      4999  \n\n[36781 rows x 9 columns]"
         },
         "metadata": {},
         "output_type": "display_data"
        }
       ]
      }
     },
     "235ff665f5ea40208c4dc62494eabdc8": {
      "model_module": "@jupyter-widgets/output",
      "model_module_version": "1.0.0",
      "model_name": "OutputModel",
      "state": {
       "layout": "IPY_MODEL_1eedb150b177402294ed12e1fae8ecb9",
       "outputs": [
        {
         "data": {
          "text/html": "<div>\n<style scoped>\n    .dataframe tbody tr th:only-of-type {\n        vertical-align: middle;\n    }\n\n    .dataframe tbody tr th {\n        vertical-align: top;\n    }\n\n    .dataframe thead th {\n        text-align: right;\n    }\n</style>\n<table border=\"1\" class=\"dataframe\">\n  <thead>\n    <tr style=\"text-align: right;\">\n      <th></th>\n      <th>category string</th>\n    </tr>\n    <tr>\n      <th>categorty_id</th>\n      <th></th>\n    </tr>\n  </thead>\n  <tbody>\n    <tr>\n      <th>1</th>\n      <td>person</td>\n    </tr>\n    <tr>\n      <th>2</th>\n      <td>bicycle</td>\n    </tr>\n    <tr>\n      <th>3</th>\n      <td>car</td>\n    </tr>\n    <tr>\n      <th>4</th>\n      <td>motorcycle</td>\n    </tr>\n    <tr>\n      <th>5</th>\n      <td>airplane</td>\n    </tr>\n    <tr>\n      <th>...</th>\n      <td>...</td>\n    </tr>\n    <tr>\n      <th>86</th>\n      <td>vase</td>\n    </tr>\n    <tr>\n      <th>87</th>\n      <td>scissors</td>\n    </tr>\n    <tr>\n      <th>88</th>\n      <td>teddy bear</td>\n    </tr>\n    <tr>\n      <th>89</th>\n      <td>hair drier</td>\n    </tr>\n    <tr>\n      <th>90</th>\n      <td>toothbrush</td>\n    </tr>\n  </tbody>\n</table>\n<p>80 rows × 1 columns</p>\n</div>",
          "text/plain": "             category string\ncategorty_id                \n1                     person\n2                    bicycle\n3                        car\n4                 motorcycle\n5                   airplane\n...                      ...\n86                      vase\n87                  scissors\n88                teddy bear\n89                hair drier\n90                toothbrush\n\n[80 rows x 1 columns]"
         },
         "metadata": {},
         "output_type": "display_data"
        }
       ]
      }
     },
     "23f4974026c9481f8fff50659ed9998a": {
      "model_module": "@jupyter-widgets/controls",
      "model_module_version": "2.0.0",
      "model_name": "VBoxModel",
      "state": {
       "children": [
        "IPY_MODEL_cb2cb8ec156c44eba9094bb35260eb45",
        "IPY_MODEL_ccd2eccbc7db4252b07ef07a8b2a7afd"
       ],
       "layout": "IPY_MODEL_db7aaaa05039407f8780467c00efb9b7"
      }
     },
     "240019f956474499ac719fd50e99de02": {
      "model_module": "@jupyter-widgets/controls",
      "model_module_version": "2.0.0",
      "model_name": "HTMLStyleModel",
      "state": {
       "description_width": "",
       "font_size": null,
       "text_color": null
      }
     },
     "2426ab1b3666470693c4af48b4207319": {
      "model_module": "@jupyter-widgets/base",
      "model_module_version": "2.0.0",
      "model_name": "LayoutModel",
      "state": {}
     },
     "2451b25c04854dbebc6918ff7afe2aaf": {
      "model_module": "@jupyter-widgets/base",
      "model_module_version": "2.0.0",
      "model_name": "LayoutModel",
      "state": {}
     },
     "246eb9915ee44587b75bdfe1420c810e": {
      "model_module": "@jupyter-widgets/output",
      "model_module_version": "1.0.0",
      "model_name": "OutputModel",
      "state": {
       "layout": "IPY_MODEL_a8ceb0598d764be680186a43da148b97",
       "outputs": [
        {
         "data": {
          "text/html": "<div>\n<style scoped>\n    .dataframe tbody tr th:only-of-type {\n        vertical-align: middle;\n    }\n\n    .dataframe tbody tr th {\n        vertical-align: top;\n    }\n\n    .dataframe thead th {\n        text-align: right;\n    }\n</style>\n<table border=\"1\" class=\"dataframe\">\n  <thead>\n    <tr style=\"text-align: right;\">\n      <th></th>\n      <th>area</th>\n      <th>image_id</th>\n      <th>category_id</th>\n      <th>split</th>\n      <th>xmin</th>\n      <th>ymin</th>\n      <th>box_width</th>\n      <th>box_height</th>\n      <th>category_str</th>\n    </tr>\n    <tr>\n      <th>id</th>\n      <th></th>\n      <th></th>\n      <th></th>\n      <th></th>\n      <th></th>\n      <th></th>\n      <th></th>\n      <th></th>\n      <th></th>\n    </tr>\n  </thead>\n  <tbody>\n    <tr>\n      <th>460450</th>\n      <td>48685.67910</td>\n      <td>352582</td>\n      <td>1</td>\n      <td>valid</td>\n      <td>112.43</td>\n      <td>195.32</td>\n      <td>214.78</td>\n      <td>438.19</td>\n      <td>person</td>\n    </tr>\n    <tr>\n      <th>535917</th>\n      <td>22650.73800</td>\n      <td>352582</td>\n      <td>1</td>\n      <td>valid</td>\n      <td>0.00</td>\n      <td>256.00</td>\n      <td>80.54</td>\n      <td>376.81</td>\n      <td>person</td>\n    </tr>\n    <tr>\n      <th>602093</th>\n      <td>2605.72090</td>\n      <td>352582</td>\n      <td>34</td>\n      <td>valid</td>\n      <td>171.63</td>\n      <td>424.03</td>\n      <td>85.89</td>\n      <td>40.67</td>\n      <td>frisbee</td>\n    </tr>\n    <tr>\n      <th>467905</th>\n      <td>5408.64720</td>\n      <td>58393</td>\n      <td>1</td>\n      <td>valid</td>\n      <td>342.52</td>\n      <td>163.33</td>\n      <td>192.24</td>\n      <td>77.47</td>\n      <td>person</td>\n    </tr>\n    <tr>\n      <th>576900</th>\n      <td>82291.54995</td>\n      <td>58393</td>\n      <td>15</td>\n      <td>valid</td>\n      <td>44.78</td>\n      <td>242.27</td>\n      <td>547.16</td>\n      <td>224.98</td>\n      <td>bench</td>\n    </tr>\n    <tr>\n      <th>...</th>\n      <td>...</td>\n      <td>...</td>\n      <td>...</td>\n      <td>...</td>\n      <td>...</td>\n      <td>...</td>\n      <td>...</td>\n      <td>...</td>\n      <td>...</td>\n    </tr>\n    <tr>\n      <th>109094</th>\n      <td>2069.93800</td>\n      <td>428280</td>\n      <td>62</td>\n      <td>valid</td>\n      <td>187.71</td>\n      <td>114.80</td>\n      <td>44.07</td>\n      <td>66.41</td>\n      <td>chair</td>\n    </tr>\n    <tr>\n      <th>578099</th>\n      <td>13841.81490</td>\n      <td>428280</td>\n      <td>15</td>\n      <td>valid</td>\n      <td>0.75</td>\n      <td>184.42</td>\n      <td>181.43</td>\n      <td>132.90</td>\n      <td>bench</td>\n    </tr>\n    <tr>\n      <th>1101888</th>\n      <td>1405.98065</td>\n      <td>428280</td>\n      <td>73</td>\n      <td>valid</td>\n      <td>118.71</td>\n      <td>138.34</td>\n      <td>44.79</td>\n      <td>35.83</td>\n      <td>laptop</td>\n    </tr>\n    <tr>\n      <th>1117514</th>\n      <td>217.08440</td>\n      <td>428280</td>\n      <td>76</td>\n      <td>valid</td>\n      <td>121.04</td>\n      <td>165.65</td>\n      <td>40.27</td>\n      <td>6.02</td>\n      <td>keyboard</td>\n    </tr>\n    <tr>\n      <th>2190513</th>\n      <td>7696.12525</td>\n      <td>428280</td>\n      <td>62</td>\n      <td>valid</td>\n      <td>203.58</td>\n      <td>179.65</td>\n      <td>105.27</td>\n      <td>139.55</td>\n      <td>chair</td>\n    </tr>\n  </tbody>\n</table>\n<p>18670 rows × 9 columns</p>\n</div>",
          "text/plain": "                area  image_id  category_id  split    xmin    ymin  box_width  \\\nid                                                                              \n460450   48685.67910    352582            1  valid  112.43  195.32     214.78   \n535917   22650.73800    352582            1  valid    0.00  256.00      80.54   \n602093    2605.72090    352582           34  valid  171.63  424.03      85.89   \n467905    5408.64720     58393            1  valid  342.52  163.33     192.24   \n576900   82291.54995     58393           15  valid   44.78  242.27     547.16   \n...              ...       ...          ...    ...     ...     ...        ...   \n109094    2069.93800    428280           62  valid  187.71  114.80      44.07   \n578099   13841.81490    428280           15  valid    0.75  184.42     181.43   \n1101888   1405.98065    428280           73  valid  118.71  138.34      44.79   \n1117514    217.08440    428280           76  valid  121.04  165.65      40.27   \n2190513   7696.12525    428280           62  valid  203.58  179.65     105.27   \n\n         box_height category_str  \nid                                \n460450       438.19       person  \n535917       376.81       person  \n602093        40.67      frisbee  \n467905        77.47       person  \n576900       224.98        bench  \n...             ...          ...  \n109094        66.41        chair  \n578099       132.90        bench  \n1101888       35.83       laptop  \n1117514        6.02     keyboard  \n2190513      139.55        chair  \n\n[18670 rows x 9 columns]"
         },
         "metadata": {},
         "output_type": "display_data"
        }
       ]
      }
     },
     "2495131f87d640bebb16d612212fe8cc": {
      "model_module": "@jupyter-widgets/controls",
      "model_module_version": "2.0.0",
      "model_name": "HTMLModel",
      "state": {
       "layout": "IPY_MODEL_a65e5724706f4452b06cf53fc92cbeec",
       "style": "IPY_MODEL_71966136551a41a498ba2c4fd5e89bf2",
       "value": "<b> Dataset object located at notebook_data, containing 76 images and 3,675 objects </b>"
      }
     },
     "24a04013c995481cb6c28b09c99d5fed": {
      "model_module": "@jupyter-widgets/output",
      "model_module_version": "1.0.0",
      "model_name": "OutputModel",
      "state": {
       "layout": "IPY_MODEL_8f2994302c924f7faeb56ccc8fab3426",
       "outputs": [
        {
         "data": {
          "text/html": "<div>\n<style scoped>\n    .dataframe tbody tr th:only-of-type {\n        vertical-align: middle;\n    }\n\n    .dataframe tbody tr th {\n        vertical-align: top;\n    }\n\n    .dataframe thead th {\n        text-align: right;\n    }\n</style>\n<table border=\"1\" class=\"dataframe\">\n  <thead>\n    <tr style=\"text-align: right;\">\n      <th></th>\n      <th>file_name</th>\n      <th>width</th>\n      <th>height</th>\n      <th>split</th>\n      <th>relative_path</th>\n      <th>type</th>\n    </tr>\n    <tr>\n      <th>id</th>\n      <th></th>\n      <th></th>\n      <th></th>\n      <th></th>\n      <th></th>\n      <th></th>\n    </tr>\n  </thead>\n  <tbody>\n    <tr>\n      <th>6493</th>\n      <td>NORM0020_frame0282.jpg</td>\n      <td>1920</td>\n      <td>1080</td>\n      <td>None</td>\n      <td>Images/NORM0020_frame0282.jpg</td>\n      <td>.jpg</td>\n    </tr>\n    <tr>\n      <th>5890</th>\n      <td>NORM0018_frame0928.jpg</td>\n      <td>1920</td>\n      <td>1080</td>\n      <td>None</td>\n      <td>Images/NORM0018_frame0928.jpg</td>\n      <td>.jpg</td>\n    </tr>\n    <tr>\n      <th>2247</th>\n      <td>NORM0015_frame183.jpg</td>\n      <td>1920</td>\n      <td>1080</td>\n      <td>None</td>\n      <td>Images/NORM0015_frame183.jpg</td>\n      <td>.jpg</td>\n    </tr>\n    <tr>\n      <th>2189</th>\n      <td>NORM0015_frame123.jpg</td>\n      <td>1920</td>\n      <td>1080</td>\n      <td>None</td>\n      <td>Images/NORM0015_frame123.jpg</td>\n      <td>.jpg</td>\n    </tr>\n    <tr>\n      <th>5745</th>\n      <td>NORM0018_frame0763.jpg</td>\n      <td>1920</td>\n      <td>1080</td>\n      <td>None</td>\n      <td>Images/NORM0018_frame0763.jpg</td>\n      <td>.jpg</td>\n    </tr>\n    <tr>\n      <th>...</th>\n      <td>...</td>\n      <td>...</td>\n      <td>...</td>\n      <td>...</td>\n      <td>...</td>\n      <td>...</td>\n    </tr>\n    <tr>\n      <th>545</th>\n      <td>NORM0013_frame0595.jpg</td>\n      <td>1920</td>\n      <td>1080</td>\n      <td>None</td>\n      <td>Images/NORM0013_frame0595.jpg</td>\n      <td>.jpg</td>\n    </tr>\n    <tr>\n      <th>6914</th>\n      <td>NORM0020_frame0743.jpg</td>\n      <td>1920</td>\n      <td>1080</td>\n      <td>None</td>\n      <td>Images/NORM0020_frame0743.jpg</td>\n      <td>.jpg</td>\n    </tr>\n    <tr>\n      <th>1324</th>\n      <td>NORM0014_frame184.jpg</td>\n      <td>1920</td>\n      <td>1080</td>\n      <td>None</td>\n      <td>Images/NORM0014_frame184.jpg</td>\n      <td>.jpg</td>\n    </tr>\n    <tr>\n      <th>6422</th>\n      <td>NORM0020_frame0207.jpg</td>\n      <td>1920</td>\n      <td>1080</td>\n      <td>None</td>\n      <td>Images/NORM0020_frame0207.jpg</td>\n      <td>.jpg</td>\n    </tr>\n    <tr>\n      <th>2599</th>\n      <td>NORM0015_frame565.jpg</td>\n      <td>1920</td>\n      <td>1080</td>\n      <td>None</td>\n      <td>Images/NORM0015_frame565.jpg</td>\n      <td>.jpg</td>\n    </tr>\n  </tbody>\n</table>\n<p>76 rows × 6 columns</p>\n</div>",
          "text/plain": "                   file_name  width  height split  \\\nid                                                  \n6493  NORM0020_frame0282.jpg   1920    1080  None   \n5890  NORM0018_frame0928.jpg   1920    1080  None   \n2247   NORM0015_frame183.jpg   1920    1080  None   \n2189   NORM0015_frame123.jpg   1920    1080  None   \n5745  NORM0018_frame0763.jpg   1920    1080  None   \n...                      ...    ...     ...   ...   \n545   NORM0013_frame0595.jpg   1920    1080  None   \n6914  NORM0020_frame0743.jpg   1920    1080  None   \n1324   NORM0014_frame184.jpg   1920    1080  None   \n6422  NORM0020_frame0207.jpg   1920    1080  None   \n2599   NORM0015_frame565.jpg   1920    1080  None   \n\n                      relative_path  type  \nid                                         \n6493  Images/NORM0020_frame0282.jpg  .jpg  \n5890  Images/NORM0018_frame0928.jpg  .jpg  \n2247   Images/NORM0015_frame183.jpg  .jpg  \n2189   Images/NORM0015_frame123.jpg  .jpg  \n5745  Images/NORM0018_frame0763.jpg  .jpg  \n...                             ...   ...  \n545   Images/NORM0013_frame0595.jpg  .jpg  \n6914  Images/NORM0020_frame0743.jpg  .jpg  \n1324   Images/NORM0014_frame184.jpg  .jpg  \n6422  Images/NORM0020_frame0207.jpg  .jpg  \n2599   Images/NORM0015_frame565.jpg  .jpg  \n\n[76 rows x 6 columns]"
         },
         "metadata": {},
         "output_type": "display_data"
        }
       ]
      }
     },
     "24aa9a6bf5fc4a1689da9a52c4efd632": {
      "model_module": "@jupyter-widgets/output",
      "model_module_version": "1.0.0",
      "model_name": "OutputModel",
      "state": {
       "layout": "IPY_MODEL_2451b25c04854dbebc6918ff7afe2aaf",
       "outputs": [
        {
         "data": {
          "text/html": "<div>\n<style scoped>\n    .dataframe tbody tr th:only-of-type {\n        vertical-align: middle;\n    }\n\n    .dataframe tbody tr th {\n        vertical-align: top;\n    }\n\n    .dataframe thead th {\n        text-align: right;\n    }\n</style>\n<table border=\"1\" class=\"dataframe\">\n  <thead>\n    <tr style=\"text-align: right;\">\n      <th></th>\n      <th>area</th>\n      <th>image_id</th>\n      <th>category_id</th>\n      <th>split</th>\n      <th>xmin</th>\n      <th>ymin</th>\n      <th>box_width</th>\n      <th>box_height</th>\n      <th>category_str</th>\n    </tr>\n    <tr>\n      <th>id</th>\n      <th></th>\n      <th></th>\n      <th></th>\n      <th></th>\n      <th></th>\n      <th></th>\n      <th></th>\n      <th></th>\n      <th></th>\n    </tr>\n  </thead>\n  <tbody>\n    <tr>\n      <th>460450</th>\n      <td>48685.67910</td>\n      <td>352582</td>\n      <td>1</td>\n      <td>valid</td>\n      <td>112.43</td>\n      <td>195.32</td>\n      <td>214.78</td>\n      <td>438.19</td>\n      <td>person</td>\n    </tr>\n    <tr>\n      <th>535917</th>\n      <td>22650.73800</td>\n      <td>352582</td>\n      <td>1</td>\n      <td>valid</td>\n      <td>0.00</td>\n      <td>256.00</td>\n      <td>80.54</td>\n      <td>376.81</td>\n      <td>person</td>\n    </tr>\n    <tr>\n      <th>602093</th>\n      <td>2605.72090</td>\n      <td>352582</td>\n      <td>34</td>\n      <td>valid</td>\n      <td>171.63</td>\n      <td>424.03</td>\n      <td>85.89</td>\n      <td>40.67</td>\n      <td>frisbee</td>\n    </tr>\n    <tr>\n      <th>467905</th>\n      <td>5408.64720</td>\n      <td>58393</td>\n      <td>1</td>\n      <td>valid</td>\n      <td>342.52</td>\n      <td>163.33</td>\n      <td>192.24</td>\n      <td>77.47</td>\n      <td>person</td>\n    </tr>\n    <tr>\n      <th>576900</th>\n      <td>82291.54995</td>\n      <td>58393</td>\n      <td>15</td>\n      <td>valid</td>\n      <td>44.78</td>\n      <td>242.27</td>\n      <td>547.16</td>\n      <td>224.98</td>\n      <td>bench</td>\n    </tr>\n    <tr>\n      <th>...</th>\n      <td>...</td>\n      <td>...</td>\n      <td>...</td>\n      <td>...</td>\n      <td>...</td>\n      <td>...</td>\n      <td>...</td>\n      <td>...</td>\n      <td>...</td>\n    </tr>\n    <tr>\n      <th>109094</th>\n      <td>2069.93800</td>\n      <td>428280</td>\n      <td>62</td>\n      <td>valid</td>\n      <td>187.71</td>\n      <td>114.80</td>\n      <td>44.07</td>\n      <td>66.41</td>\n      <td>chair</td>\n    </tr>\n    <tr>\n      <th>578099</th>\n      <td>13841.81490</td>\n      <td>428280</td>\n      <td>15</td>\n      <td>valid</td>\n      <td>0.75</td>\n      <td>184.42</td>\n      <td>181.43</td>\n      <td>132.90</td>\n      <td>bench</td>\n    </tr>\n    <tr>\n      <th>1101888</th>\n      <td>1405.98065</td>\n      <td>428280</td>\n      <td>73</td>\n      <td>valid</td>\n      <td>118.71</td>\n      <td>138.34</td>\n      <td>44.79</td>\n      <td>35.83</td>\n      <td>laptop</td>\n    </tr>\n    <tr>\n      <th>1117514</th>\n      <td>217.08440</td>\n      <td>428280</td>\n      <td>76</td>\n      <td>valid</td>\n      <td>121.04</td>\n      <td>165.65</td>\n      <td>40.27</td>\n      <td>6.02</td>\n      <td>keyboard</td>\n    </tr>\n    <tr>\n      <th>2190513</th>\n      <td>7696.12525</td>\n      <td>428280</td>\n      <td>62</td>\n      <td>valid</td>\n      <td>203.58</td>\n      <td>179.65</td>\n      <td>105.27</td>\n      <td>139.55</td>\n      <td>chair</td>\n    </tr>\n  </tbody>\n</table>\n<p>18670 rows × 9 columns</p>\n</div>",
          "text/plain": "                area  image_id  category_id  split    xmin    ymin  box_width  \\\nid                                                                              \n460450   48685.67910    352582            1  valid  112.43  195.32     214.78   \n535917   22650.73800    352582            1  valid    0.00  256.00      80.54   \n602093    2605.72090    352582           34  valid  171.63  424.03      85.89   \n467905    5408.64720     58393            1  valid  342.52  163.33     192.24   \n576900   82291.54995     58393           15  valid   44.78  242.27     547.16   \n...              ...       ...          ...    ...     ...     ...        ...   \n109094    2069.93800    428280           62  valid  187.71  114.80      44.07   \n578099   13841.81490    428280           15  valid    0.75  184.42     181.43   \n1101888   1405.98065    428280           73  valid  118.71  138.34      44.79   \n1117514    217.08440    428280           76  valid  121.04  165.65      40.27   \n2190513   7696.12525    428280           62  valid  203.58  179.65     105.27   \n\n         box_height category_str  \nid                                \n460450       438.19       person  \n535917       376.81       person  \n602093        40.67      frisbee  \n467905        77.47       person  \n576900       224.98        bench  \n...             ...          ...  \n109094        66.41        chair  \n578099       132.90        bench  \n1101888       35.83       laptop  \n1117514        6.02     keyboard  \n2190513      139.55        chair  \n\n[18670 rows x 9 columns]"
         },
         "metadata": {},
         "output_type": "display_data"
        }
       ]
      }
     },
     "24deaf99588849e6a2fc45190da5c79d": {
      "model_module": "@jupyter-widgets/controls",
      "model_module_version": "2.0.0",
      "model_name": "TabModel",
      "state": {
       "children": [
        "IPY_MODEL_454fc6bd3ad44af5ba316304a455c910",
        "IPY_MODEL_547e88ebb73f4ceab0dab5ab03761c1d",
        "IPY_MODEL_a519b5d52b0d4b3486e87a3b3487419d"
       ],
       "layout": "IPY_MODEL_e4be0b990456418096feb72ba96f3c86",
       "selected_index": 0,
       "titles": [
        "Images",
        "Annotations",
        "Label Map"
       ]
      }
     },
     "24f8ca04b3634d529e33be1a19b69cd2": {
      "model_module": "@jupyter-widgets/base",
      "model_module_version": "2.0.0",
      "model_name": "LayoutModel",
      "state": {}
     },
     "26558a7966bf44aba2c33b58e2104ee7": {
      "model_module": "@jupyter-widgets/base",
      "model_module_version": "2.0.0",
      "model_name": "LayoutModel",
      "state": {}
     },
     "2683437cdfce4d6cb974366ce3c81129": {
      "model_module": "@jupyter-widgets/base",
      "model_module_version": "2.0.0",
      "model_name": "LayoutModel",
      "state": {}
     },
     "26ef1f0f92a24f6c86e206094f0b05c2": {
      "model_module": "@jupyter-widgets/controls",
      "model_module_version": "2.0.0",
      "model_name": "TabModel",
      "state": {
       "children": [
        "IPY_MODEL_08bc9b4d52334822995ebfb711b08fd5",
        "IPY_MODEL_6417c472a1bf4386aaf006053825eb6c",
        "IPY_MODEL_edf71520d1634792b8b33a0dcc5780da"
       ],
       "layout": "IPY_MODEL_6f0710bdecb6476cbf9c153fcfef0903",
       "selected_index": 0,
       "titles": [
        "Images",
        "Annotations",
        "Label Map"
       ]
      }
     },
     "271a23cfdd374312bee6629602fec381": {
      "model_module": "@jupyter-widgets/base",
      "model_module_version": "2.0.0",
      "model_name": "LayoutModel",
      "state": {}
     },
     "278543fea27e4b20bc380b0b7b1610ad": {
      "model_module": "@jupyter-widgets/base",
      "model_module_version": "2.0.0",
      "model_name": "LayoutModel",
      "state": {}
     },
     "27e76ba8073b4fffa2d606f709001a3d": {
      "model_module": "@jupyter-widgets/output",
      "model_module_version": "1.0.0",
      "model_name": "OutputModel",
      "state": {
       "layout": "IPY_MODEL_c6be9a4a51c64c1dbcd844186225dbb3",
       "outputs": [
        {
         "data": {
          "text/html": "<div>\n<style scoped>\n    .dataframe tbody tr th:only-of-type {\n        vertical-align: middle;\n    }\n\n    .dataframe tbody tr th {\n        vertical-align: top;\n    }\n\n    .dataframe thead th {\n        text-align: right;\n    }\n</style>\n<table border=\"1\" class=\"dataframe\">\n  <thead>\n    <tr style=\"text-align: right;\">\n      <th></th>\n      <th>category string</th>\n    </tr>\n    <tr>\n      <th>categorty_id</th>\n      <th></th>\n    </tr>\n  </thead>\n  <tbody>\n    <tr>\n      <th>1</th>\n      <td>vehicle</td>\n    </tr>\n    <tr>\n      <th>2</th>\n      <td>bag</td>\n    </tr>\n    <tr>\n      <th>3</th>\n      <td>animal</td>\n    </tr>\n  </tbody>\n</table>\n</div>",
          "text/plain": "             category string\ncategorty_id                \n1                    vehicle\n2                        bag\n3                     animal"
         },
         "metadata": {},
         "output_type": "display_data"
        }
       ]
      }
     },
     "283f0225c421444086ad90f4be301877": {
      "model_module": "@jupyter-widgets/controls",
      "model_module_version": "2.0.0",
      "model_name": "HTMLModel",
      "state": {
       "layout": "IPY_MODEL_e8c88a6db66640d0895c861ec173c281",
       "style": "IPY_MODEL_7ff3da974f2a4eaab0b287772c7320e3",
       "value": "<b> Dataset object located at notebook_data, containing 5,000 images and 36,781 objects </b>"
      }
     },
     "2879575f6af74c8a90015ea50843d165": {
      "model_module": "@jupyter-widgets/base",
      "model_module_version": "2.0.0",
      "model_name": "LayoutModel",
      "state": {}
     },
     "2966e599cae24eeda2bc34a674716c60": {
      "model_module": "@jupyter-widgets/base",
      "model_module_version": "2.0.0",
      "model_name": "LayoutModel",
      "state": {}
     },
     "29b5b2dc5ff54850bbb5c0820512c844": {
      "model_module": "@jupyter-widgets/controls",
      "model_module_version": "2.0.0",
      "model_name": "HTMLStyleModel",
      "state": {
       "description_width": "",
       "font_size": null,
       "text_color": null
      }
     },
     "29c676092fa045d3b4ae3a24b4fa4ff8": {
      "model_module": "@jupyter-widgets/output",
      "model_module_version": "1.0.0",
      "model_name": "OutputModel",
      "state": {
       "layout": "IPY_MODEL_52663c3959494825aa612cac8ea55d3d",
       "outputs": [
        {
         "data": {
          "text/html": "<div>\n<style scoped>\n    .dataframe tbody tr th:only-of-type {\n        vertical-align: middle;\n    }\n\n    .dataframe tbody tr th {\n        vertical-align: top;\n    }\n\n    .dataframe thead th {\n        text-align: right;\n    }\n</style>\n<table border=\"1\" class=\"dataframe\">\n  <thead>\n    <tr style=\"text-align: right;\">\n      <th></th>\n      <th>image_id</th>\n      <th>category_id</th>\n      <th>object_id</th>\n      <th>area</th>\n      <th>split</th>\n      <th>xmin</th>\n      <th>ymin</th>\n      <th>box_width</th>\n      <th>box_height</th>\n      <th>category_str</th>\n    </tr>\n    <tr>\n      <th>id</th>\n      <th></th>\n      <th></th>\n      <th></th>\n      <th></th>\n      <th></th>\n      <th></th>\n      <th></th>\n      <th></th>\n      <th></th>\n      <th></th>\n    </tr>\n  </thead>\n  <tbody>\n    <tr>\n      <th>319049</th>\n      <td>6493</td>\n      <td>100</td>\n      <td>55689</td>\n      <td>33390</td>\n      <td>None</td>\n      <td>0</td>\n      <td>632</td>\n      <td>210</td>\n      <td>159</td>\n      <td>sedan</td>\n    </tr>\n    <tr>\n      <th>319050</th>\n      <td>6493</td>\n      <td>1100</td>\n      <td>30178</td>\n      <td>7396</td>\n      <td>None</td>\n      <td>203</td>\n      <td>611</td>\n      <td>86</td>\n      <td>86</td>\n      <td>motorbike</td>\n    </tr>\n    <tr>\n      <th>319051</th>\n      <td>6493</td>\n      <td>1100</td>\n      <td>48923</td>\n      <td>6391</td>\n      <td>None</td>\n      <td>272</td>\n      <td>589</td>\n      <td>77</td>\n      <td>83</td>\n      <td>motorbike</td>\n    </tr>\n    <tr>\n      <th>319052</th>\n      <td>6493</td>\n      <td>1100</td>\n      <td>8678</td>\n      <td>6279</td>\n      <td>None</td>\n      <td>341</td>\n      <td>559</td>\n      <td>69</td>\n      <td>91</td>\n      <td>motorbike</td>\n    </tr>\n    <tr>\n      <th>319053</th>\n      <td>6493</td>\n      <td>20</td>\n      <td>560</td>\n      <td>3116</td>\n      <td>None</td>\n      <td>517</td>\n      <td>527</td>\n      <td>38</td>\n      <td>82</td>\n      <td>standing person</td>\n    </tr>\n    <tr>\n      <th>...</th>\n      <td>...</td>\n      <td>...</td>\n      <td>...</td>\n      <td>...</td>\n      <td>...</td>\n      <td>...</td>\n      <td>...</td>\n      <td>...</td>\n      <td>...</td>\n      <td>...</td>\n    </tr>\n    <tr>\n      <th>103031</th>\n      <td>2599</td>\n      <td>111</td>\n      <td>36067</td>\n      <td>1269</td>\n      <td>None</td>\n      <td>1873</td>\n      <td>391</td>\n      <td>27</td>\n      <td>47</td>\n      <td>bicycle</td>\n    </tr>\n    <tr>\n      <th>103032</th>\n      <td>2599</td>\n      <td>111</td>\n      <td>64239</td>\n      <td>4950</td>\n      <td>None</td>\n      <td>1753</td>\n      <td>404</td>\n      <td>66</td>\n      <td>75</td>\n      <td>bicycle</td>\n    </tr>\n    <tr>\n      <th>103033</th>\n      <td>2599</td>\n      <td>20</td>\n      <td>65100</td>\n      <td>14268</td>\n      <td>None</td>\n      <td>1816</td>\n      <td>447</td>\n      <td>87</td>\n      <td>164</td>\n      <td>standing person</td>\n    </tr>\n    <tr>\n      <th>103034</th>\n      <td>2599</td>\n      <td>28</td>\n      <td>14145</td>\n      <td>1020</td>\n      <td>None</td>\n      <td>1863</td>\n      <td>493</td>\n      <td>51</td>\n      <td>20</td>\n      <td>packet</td>\n    </tr>\n    <tr>\n      <th>103035</th>\n      <td>2599</td>\n      <td>29</td>\n      <td>7528</td>\n      <td>624</td>\n      <td>None</td>\n      <td>1877</td>\n      <td>512</td>\n      <td>16</td>\n      <td>39</td>\n      <td>bag</td>\n    </tr>\n  </tbody>\n</table>\n<p>3675 rows × 10 columns</p>\n</div>",
          "text/plain": "        image_id  category_id  object_id   area split  xmin  ymin  box_width  \\\nid                                                                             \n319049      6493          100      55689  33390  None     0   632        210   \n319050      6493         1100      30178   7396  None   203   611         86   \n319051      6493         1100      48923   6391  None   272   589         77   \n319052      6493         1100       8678   6279  None   341   559         69   \n319053      6493           20        560   3116  None   517   527         38   \n...          ...          ...        ...    ...   ...   ...   ...        ...   \n103031      2599          111      36067   1269  None  1873   391         27   \n103032      2599          111      64239   4950  None  1753   404         66   \n103033      2599           20      65100  14268  None  1816   447         87   \n103034      2599           28      14145   1020  None  1863   493         51   \n103035      2599           29       7528    624  None  1877   512         16   \n\n        box_height     category_str  \nid                                   \n319049         159            sedan  \n319050          86        motorbike  \n319051          83        motorbike  \n319052          91        motorbike  \n319053          82  standing person  \n...            ...              ...  \n103031          47          bicycle  \n103032          75          bicycle  \n103033         164  standing person  \n103034          20           packet  \n103035          39              bag  \n\n[3675 rows x 10 columns]"
         },
         "metadata": {},
         "output_type": "display_data"
        }
       ]
      }
     },
     "29cbfd2dcdc5499e87d7198fa3c30567": {
      "model_module": "@jupyter-widgets/base",
      "model_module_version": "2.0.0",
      "model_name": "LayoutModel",
      "state": {}
     },
     "29d20ac4d2ed477382b674b47bfcab1c": {
      "model_module": "@jupyter-widgets/controls",
      "model_module_version": "2.0.0",
      "model_name": "HTMLStyleModel",
      "state": {
       "description_width": "",
       "font_size": null,
       "text_color": null
      }
     },
     "29d3a6f438084e6ba2461a6b9470cb88": {
      "model_module": "@jupyter-widgets/output",
      "model_module_version": "1.0.0",
      "model_name": "OutputModel",
      "state": {
       "layout": "IPY_MODEL_de22f785f4fb4df8a505fd43e9f166f7",
       "outputs": [
        {
         "data": {
          "text/html": "<div>\n<style scoped>\n    .dataframe tbody tr th:only-of-type {\n        vertical-align: middle;\n    }\n\n    .dataframe tbody tr th {\n        vertical-align: top;\n    }\n\n    .dataframe thead th {\n        text-align: right;\n    }\n</style>\n<table border=\"1\" class=\"dataframe\">\n  <thead>\n    <tr style=\"text-align: right;\">\n      <th></th>\n      <th>category string</th>\n    </tr>\n    <tr>\n      <th>categorty_id</th>\n      <th></th>\n    </tr>\n  </thead>\n  <tbody>\n    <tr>\n      <th>1</th>\n      <td>vehicle</td>\n    </tr>\n    <tr>\n      <th>2</th>\n      <td>person</td>\n    </tr>\n    <tr>\n      <th>3</th>\n      <td>tool</td>\n    </tr>\n    <tr>\n      <th>6</th>\n      <td>abandoned objects</td>\n    </tr>\n    <tr>\n      <th>10</th>\n      <td>car</td>\n    </tr>\n    <tr>\n      <th>11</th>\n      <td>two-wheeler</td>\n    </tr>\n    <tr>\n      <th>12</th>\n      <td>train</td>\n    </tr>\n    <tr>\n      <th>20</th>\n      <td>standing person</td>\n    </tr>\n    <tr>\n      <th>21</th>\n      <td>sitting person</td>\n    </tr>\n    <tr>\n      <th>22</th>\n      <td>laying person</td>\n    </tr>\n    <tr>\n      <th>28</th>\n      <td>packet</td>\n    </tr>\n    <tr>\n      <th>29</th>\n      <td>bag</td>\n    </tr>\n    <tr>\n      <th>30</th>\n      <td>suitcase</td>\n    </tr>\n    <tr>\n      <th>31</th>\n      <td>head</td>\n    </tr>\n    <tr>\n      <th>32</th>\n      <td>light truck</td>\n    </tr>\n    <tr>\n      <th>33</th>\n      <td>heavy truck</td>\n    </tr>\n    <tr>\n      <th>34</th>\n      <td>garbage truck</td>\n    </tr>\n    <tr>\n      <th>36</th>\n      <td>dump truck</td>\n    </tr>\n    <tr>\n      <th>37</th>\n      <td>truck with trailer</td>\n    </tr>\n    <tr>\n      <th>38</th>\n      <td>truck without trailer</td>\n    </tr>\n    <tr>\n      <th>40</th>\n      <td>tank truck</td>\n    </tr>\n    <tr>\n      <th>41</th>\n      <td>dog</td>\n    </tr>\n    <tr>\n      <th>42</th>\n      <td>motorcycle</td>\n    </tr>\n    <tr>\n      <th>43</th>\n      <td>heavy equipment</td>\n    </tr>\n    <tr>\n      <th>44</th>\n      <td>animals</td>\n    </tr>\n    <tr>\n      <th>46</th>\n      <td>personnal protection equipment</td>\n    </tr>\n    <tr>\n      <th>47</th>\n      <td>utility vehicle</td>\n    </tr>\n    <tr>\n      <th>48</th>\n      <td>minibus</td>\n    </tr>\n    <tr>\n      <th>49</th>\n      <td>taxi</td>\n    </tr>\n    <tr>\n      <th>50</th>\n      <td>body parts</td>\n    </tr>\n    <tr>\n      <th>51</th>\n      <td>vehicle parts</td>\n    </tr>\n    <tr>\n      <th>52</th>\n      <td>taxi light</td>\n    </tr>\n    <tr>\n      <th>53</th>\n      <td>safety helmet</td>\n    </tr>\n    <tr>\n      <th>54</th>\n      <td>safety vest</td>\n    </tr>\n    <tr>\n      <th>55</th>\n      <td>domestic animals</td>\n    </tr>\n    <tr>\n      <th>100</th>\n      <td>sedan</td>\n    </tr>\n    <tr>\n      <th>101</th>\n      <td>van</td>\n    </tr>\n    <tr>\n      <th>102</th>\n      <td>bus</td>\n    </tr>\n    <tr>\n      <th>103</th>\n      <td>truck</td>\n    </tr>\n    <tr>\n      <th>104</th>\n      <td>special</td>\n    </tr>\n    <tr>\n      <th>111</th>\n      <td>bicycle</td>\n    </tr>\n    <tr>\n      <th>112</th>\n      <td>scooter</td>\n    </tr>\n    <tr>\n      <th>113</th>\n      <td>wheelchair</td>\n    </tr>\n    <tr>\n      <th>210</th>\n      <td>biker</td>\n    </tr>\n    <tr>\n      <th>211</th>\n      <td>cyclist</td>\n    </tr>\n    <tr>\n      <th>212</th>\n      <td>scooter rider</td>\n    </tr>\n    <tr>\n      <th>213</th>\n      <td>tricyclist</td>\n    </tr>\n    <tr>\n      <th>214</th>\n      <td>wheelchair user</td>\n    </tr>\n    <tr>\n      <th>1040</th>\n      <td>police</td>\n    </tr>\n    <tr>\n      <th>1041</th>\n      <td>ambulance</td>\n    </tr>\n    <tr>\n      <th>1042</th>\n      <td>firefighter</td>\n    </tr>\n    <tr>\n      <th>1100</th>\n      <td>motorbike</td>\n    </tr>\n    <tr>\n      <th>1121</th>\n      <td>standing scooter</td>\n    </tr>\n  </tbody>\n</table>\n</div>",
          "text/plain": "                             category string\ncategorty_id                                \n1                                    vehicle\n2                                     person\n3                                       tool\n6                          abandoned objects\n10                                       car\n11                               two-wheeler\n12                                     train\n20                           standing person\n21                            sitting person\n22                             laying person\n28                                    packet\n29                                       bag\n30                                  suitcase\n31                                      head\n32                               light truck\n33                               heavy truck\n34                             garbage truck\n36                                dump truck\n37                        truck with trailer\n38                     truck without trailer\n40                                tank truck\n41                                       dog\n42                                motorcycle\n43                           heavy equipment\n44                                   animals\n46            personnal protection equipment\n47                           utility vehicle\n48                                   minibus\n49                                      taxi\n50                                body parts\n51                             vehicle parts\n52                                taxi light\n53                             safety helmet\n54                               safety vest\n55                          domestic animals\n100                                    sedan\n101                                      van\n102                                      bus\n103                                    truck\n104                                  special\n111                                  bicycle\n112                                  scooter\n113                               wheelchair\n210                                    biker\n211                                  cyclist\n212                            scooter rider\n213                               tricyclist\n214                          wheelchair user\n1040                                  police\n1041                               ambulance\n1042                             firefighter\n1100                               motorbike\n1121                        standing scooter"
         },
         "metadata": {},
         "output_type": "display_data"
        }
       ]
      }
     },
     "29dca75119214c7ba8575747a1702d22": {
      "model_module": "@jupyter-widgets/output",
      "model_module_version": "1.0.0",
      "model_name": "OutputModel",
      "state": {
       "layout": "IPY_MODEL_e02804ef50c348c2b0887803343e5c16",
       "outputs": [
        {
         "data": {
          "text/html": "<div>\n<style scoped>\n    .dataframe tbody tr th:only-of-type {\n        vertical-align: middle;\n    }\n\n    .dataframe tbody tr th {\n        vertical-align: top;\n    }\n\n    .dataframe thead th {\n        text-align: right;\n    }\n</style>\n<table border=\"1\" class=\"dataframe\">\n  <thead>\n    <tr style=\"text-align: right;\">\n      <th></th>\n      <th>file_name</th>\n      <th>height</th>\n      <th>width</th>\n      <th>split</th>\n      <th>relative_path</th>\n      <th>type</th>\n    </tr>\n    <tr>\n      <th>id</th>\n      <th></th>\n      <th></th>\n      <th></th>\n      <th></th>\n      <th></th>\n      <th></th>\n    </tr>\n  </thead>\n  <tbody>\n    <tr>\n      <th>352582</th>\n      <td>000000352582.jpg</td>\n      <td>640</td>\n      <td>425</td>\n      <td>valid</td>\n      <td>Images/valid/000000352582.jpg</td>\n      <td>.jpg</td>\n    </tr>\n    <tr>\n      <th>113354</th>\n      <td>000000113354.jpg</td>\n      <td>480</td>\n      <td>640</td>\n      <td>valid</td>\n      <td>Images/valid/000000113354.jpg</td>\n      <td>.jpg</td>\n    </tr>\n    <tr>\n      <th>58393</th>\n      <td>000000058393.jpg</td>\n      <td>486</td>\n      <td>640</td>\n      <td>valid</td>\n      <td>Images/valid/000000058393.jpg</td>\n      <td>.jpg</td>\n    </tr>\n    <tr>\n      <th>147729</th>\n      <td>000000147729.jpg</td>\n      <td>375</td>\n      <td>500</td>\n      <td>valid</td>\n      <td>Images/valid/000000147729.jpg</td>\n      <td>.jpg</td>\n    </tr>\n    <tr>\n      <th>310072</th>\n      <td>000000310072.jpg</td>\n      <td>383</td>\n      <td>640</td>\n      <td>valid</td>\n      <td>Images/valid/000000310072.jpg</td>\n      <td>.jpg</td>\n    </tr>\n    <tr>\n      <th>...</th>\n      <td>...</td>\n      <td>...</td>\n      <td>...</td>\n      <td>...</td>\n      <td>...</td>\n      <td>...</td>\n    </tr>\n    <tr>\n      <th>311180</th>\n      <td>000000311180.jpg</td>\n      <td>640</td>\n      <td>480</td>\n      <td>valid</td>\n      <td>Images/valid/000000311180.jpg</td>\n      <td>.jpg</td>\n    </tr>\n    <tr>\n      <th>302030</th>\n      <td>000000302030.jpg</td>\n      <td>359</td>\n      <td>640</td>\n      <td>valid</td>\n      <td>Images/valid/000000302030.jpg</td>\n      <td>.jpg</td>\n    </tr>\n    <tr>\n      <th>105455</th>\n      <td>000000105455.jpg</td>\n      <td>640</td>\n      <td>427</td>\n      <td>valid</td>\n      <td>Images/valid/000000105455.jpg</td>\n      <td>.jpg</td>\n    </tr>\n    <tr>\n      <th>428280</th>\n      <td>000000428280.jpg</td>\n      <td>333</td>\n      <td>500</td>\n      <td>valid</td>\n      <td>Images/valid/000000428280.jpg</td>\n      <td>.jpg</td>\n    </tr>\n    <tr>\n      <th>349837</th>\n      <td>000000349837.jpg</td>\n      <td>333</td>\n      <td>500</td>\n      <td>valid</td>\n      <td>Images/valid/000000349837.jpg</td>\n      <td>.jpg</td>\n    </tr>\n  </tbody>\n</table>\n<p>5000 rows × 6 columns</p>\n</div>",
          "text/plain": "               file_name  height  width  split                  relative_path  \\\nid                                                                              \n352582  000000352582.jpg     640    425  valid  Images/valid/000000352582.jpg   \n113354  000000113354.jpg     480    640  valid  Images/valid/000000113354.jpg   \n58393   000000058393.jpg     486    640  valid  Images/valid/000000058393.jpg   \n147729  000000147729.jpg     375    500  valid  Images/valid/000000147729.jpg   \n310072  000000310072.jpg     383    640  valid  Images/valid/000000310072.jpg   \n...                  ...     ...    ...    ...                            ...   \n311180  000000311180.jpg     640    480  valid  Images/valid/000000311180.jpg   \n302030  000000302030.jpg     359    640  valid  Images/valid/000000302030.jpg   \n105455  000000105455.jpg     640    427  valid  Images/valid/000000105455.jpg   \n428280  000000428280.jpg     333    500  valid  Images/valid/000000428280.jpg   \n349837  000000349837.jpg     333    500  valid  Images/valid/000000349837.jpg   \n\n        type  \nid            \n352582  .jpg  \n113354  .jpg  \n58393   .jpg  \n147729  .jpg  \n310072  .jpg  \n...      ...  \n311180  .jpg  \n302030  .jpg  \n105455  .jpg  \n428280  .jpg  \n349837  .jpg  \n\n[5000 rows x 6 columns]"
         },
         "metadata": {},
         "output_type": "display_data"
        }
       ]
      }
     },
     "2a91f41e1b2743868317953603aab709": {
      "model_module": "@jupyter-widgets/base",
      "model_module_version": "2.0.0",
      "model_name": "LayoutModel",
      "state": {}
     },
     "2b52bfb8706242d396c3996120c154aa": {
      "model_module": "@jupyter-widgets/base",
      "model_module_version": "2.0.0",
      "model_name": "LayoutModel",
      "state": {}
     },
     "2be508a14149421387fb4b91a5e9b1f6": {
      "model_module": "@jupyter-widgets/base",
      "model_module_version": "2.0.0",
      "model_name": "LayoutModel",
      "state": {}
     },
     "2c48c49b85b44fb1b2ba82a024718b09": {
      "model_module": "@jupyter-widgets/base",
      "model_module_version": "2.0.0",
      "model_name": "LayoutModel",
      "state": {}
     },
     "2c9ba351443f4a738359cb0586e18b22": {
      "model_module": "@jupyter-widgets/controls",
      "model_module_version": "2.0.0",
      "model_name": "HTMLStyleModel",
      "state": {
       "description_width": "",
       "font_size": null,
       "text_color": null
      }
     },
     "2ce7ea2f48424dc6a11535a36372705d": {
      "model_module": "@jupyter-widgets/controls",
      "model_module_version": "2.0.0",
      "model_name": "TabModel",
      "state": {
       "children": [
        "IPY_MODEL_1640f4f7debf408b9a157cb72b9ac168",
        "IPY_MODEL_64ecdf3f14094326a38509bfbd6d5f91",
        "IPY_MODEL_27e76ba8073b4fffa2d606f709001a3d"
       ],
       "layout": "IPY_MODEL_d659c5e499c745d1b6c57b210d6b40da",
       "selected_index": 0,
       "titles": [
        "Images",
        "Annotations",
        "Label Map"
       ]
      }
     },
     "2d49910e04da43a29d9687f3aae0ece7": {
      "model_module": "@jupyter-widgets/controls",
      "model_module_version": "2.0.0",
      "model_name": "TabModel",
      "state": {
       "children": [
        "IPY_MODEL_513c5a6cfd9b4459bcd39b037212637b",
        "IPY_MODEL_597d02efcda14346be38f2d702d747eb",
        "IPY_MODEL_140e63b98bff43df87c36c12b6c90d98"
       ],
       "layout": "IPY_MODEL_9b105897baf548c5bf57a02fee5214e8",
       "selected_index": 0,
       "titles": [
        "Images",
        "Annotations",
        "Label Map"
       ]
      }
     },
     "2e39e81f029145f7bb63baba9bea938e": {
      "model_module": "@jupyter-widgets/base",
      "model_module_version": "2.0.0",
      "model_name": "LayoutModel",
      "state": {}
     },
     "2e6a2a41ed444719b0734a0f37d0dee0": {
      "model_module": "@jupyter-widgets/output",
      "model_module_version": "1.0.0",
      "model_name": "OutputModel",
      "state": {
       "layout": "IPY_MODEL_85d85bd24d92434f9007a3de8df2e0fe",
       "outputs": [
        {
         "data": {
          "text/html": "<div>\n<style scoped>\n    .dataframe tbody tr th:only-of-type {\n        vertical-align: middle;\n    }\n\n    .dataframe tbody tr th {\n        vertical-align: top;\n    }\n\n    .dataframe thead th {\n        text-align: right;\n    }\n</style>\n<table border=\"1\" class=\"dataframe\">\n  <thead>\n    <tr style=\"text-align: right;\">\n      <th></th>\n      <th>file_name</th>\n      <th>height</th>\n      <th>width</th>\n      <th>split</th>\n      <th>relative_path</th>\n      <th>type</th>\n    </tr>\n    <tr>\n      <th>id</th>\n      <th></th>\n      <th></th>\n      <th></th>\n      <th></th>\n      <th></th>\n      <th></th>\n    </tr>\n  </thead>\n  <tbody>\n    <tr>\n      <th>352582</th>\n      <td>000000352582.jpg</td>\n      <td>640</td>\n      <td>425</td>\n      <td>valid</td>\n      <td>Images/valid/000000352582.jpg</td>\n      <td>.jpg</td>\n    </tr>\n    <tr>\n      <th>113354</th>\n      <td>000000113354.jpg</td>\n      <td>480</td>\n      <td>640</td>\n      <td>valid</td>\n      <td>Images/valid/000000113354.jpg</td>\n      <td>.jpg</td>\n    </tr>\n    <tr>\n      <th>58393</th>\n      <td>000000058393.jpg</td>\n      <td>486</td>\n      <td>640</td>\n      <td>valid</td>\n      <td>Images/valid/000000058393.jpg</td>\n      <td>.jpg</td>\n    </tr>\n    <tr>\n      <th>147729</th>\n      <td>000000147729.jpg</td>\n      <td>375</td>\n      <td>500</td>\n      <td>valid</td>\n      <td>Images/valid/000000147729.jpg</td>\n      <td>.jpg</td>\n    </tr>\n    <tr>\n      <th>310072</th>\n      <td>000000310072.jpg</td>\n      <td>383</td>\n      <td>640</td>\n      <td>valid</td>\n      <td>Images/valid/000000310072.jpg</td>\n      <td>.jpg</td>\n    </tr>\n    <tr>\n      <th>...</th>\n      <td>...</td>\n      <td>...</td>\n      <td>...</td>\n      <td>...</td>\n      <td>...</td>\n      <td>...</td>\n    </tr>\n    <tr>\n      <th>311180</th>\n      <td>000000311180.jpg</td>\n      <td>640</td>\n      <td>480</td>\n      <td>valid</td>\n      <td>Images/valid/000000311180.jpg</td>\n      <td>.jpg</td>\n    </tr>\n    <tr>\n      <th>302030</th>\n      <td>000000302030.jpg</td>\n      <td>359</td>\n      <td>640</td>\n      <td>valid</td>\n      <td>Images/valid/000000302030.jpg</td>\n      <td>.jpg</td>\n    </tr>\n    <tr>\n      <th>105455</th>\n      <td>000000105455.jpg</td>\n      <td>640</td>\n      <td>427</td>\n      <td>valid</td>\n      <td>Images/valid/000000105455.jpg</td>\n      <td>.jpg</td>\n    </tr>\n    <tr>\n      <th>428280</th>\n      <td>000000428280.jpg</td>\n      <td>333</td>\n      <td>500</td>\n      <td>valid</td>\n      <td>Images/valid/000000428280.jpg</td>\n      <td>.jpg</td>\n    </tr>\n    <tr>\n      <th>349837</th>\n      <td>000000349837.jpg</td>\n      <td>333</td>\n      <td>500</td>\n      <td>valid</td>\n      <td>Images/valid/000000349837.jpg</td>\n      <td>.jpg</td>\n    </tr>\n  </tbody>\n</table>\n<p>5000 rows × 6 columns</p>\n</div>",
          "text/plain": "               file_name  height  width  split                  relative_path  \\\nid                                                                              \n352582  000000352582.jpg     640    425  valid  Images/valid/000000352582.jpg   \n113354  000000113354.jpg     480    640  valid  Images/valid/000000113354.jpg   \n58393   000000058393.jpg     486    640  valid  Images/valid/000000058393.jpg   \n147729  000000147729.jpg     375    500  valid  Images/valid/000000147729.jpg   \n310072  000000310072.jpg     383    640  valid  Images/valid/000000310072.jpg   \n...                  ...     ...    ...    ...                            ...   \n311180  000000311180.jpg     640    480  valid  Images/valid/000000311180.jpg   \n302030  000000302030.jpg     359    640  valid  Images/valid/000000302030.jpg   \n105455  000000105455.jpg     640    427  valid  Images/valid/000000105455.jpg   \n428280  000000428280.jpg     333    500  valid  Images/valid/000000428280.jpg   \n349837  000000349837.jpg     333    500  valid  Images/valid/000000349837.jpg   \n\n        type  \nid            \n352582  .jpg  \n113354  .jpg  \n58393   .jpg  \n147729  .jpg  \n310072  .jpg  \n...      ...  \n311180  .jpg  \n302030  .jpg  \n105455  .jpg  \n428280  .jpg  \n349837  .jpg  \n\n[5000 rows x 6 columns]"
         },
         "metadata": {},
         "output_type": "display_data"
        }
       ]
      }
     },
     "2e9582e654014086b81fbc7a7d693e80": {
      "model_module": "@jupyter-widgets/base",
      "model_module_version": "2.0.0",
      "model_name": "LayoutModel",
      "state": {}
     },
     "2f6ad2428d4a427183367f966d6826d9": {
      "model_module": "@jupyter-widgets/base",
      "model_module_version": "2.0.0",
      "model_name": "LayoutModel",
      "state": {}
     },
     "2f6fc928d79f4dffbc7a8cb58ca4eb6b": {
      "model_module": "@jupyter-widgets/output",
      "model_module_version": "1.0.0",
      "model_name": "OutputModel",
      "state": {
       "layout": "IPY_MODEL_1627ebcf887a4c8286d1fad383849da6",
       "outputs": [
        {
         "data": {
          "text/html": "<div>\n<style scoped>\n    .dataframe tbody tr th:only-of-type {\n        vertical-align: middle;\n    }\n\n    .dataframe tbody tr th {\n        vertical-align: top;\n    }\n\n    .dataframe thead th {\n        text-align: right;\n    }\n</style>\n<table border=\"1\" class=\"dataframe\">\n  <thead>\n    <tr style=\"text-align: right;\">\n      <th></th>\n      <th>file_name</th>\n      <th>height</th>\n      <th>relative_path</th>\n      <th>split</th>\n      <th>type</th>\n      <th>width</th>\n    </tr>\n    <tr>\n      <th>id</th>\n      <th></th>\n      <th></th>\n      <th></th>\n      <th></th>\n      <th></th>\n      <th></th>\n    </tr>\n  </thead>\n  <tbody>\n    <tr>\n      <th>139</th>\n      <td>000000000139.jpg</td>\n      <td>426</td>\n      <td>Images/valid/000000000139.jpg</td>\n      <td>valid</td>\n      <td>.jpg</td>\n      <td>640</td>\n    </tr>\n    <tr>\n      <th>285</th>\n      <td>000000000285.jpg</td>\n      <td>640</td>\n      <td>Images/valid/000000000285.jpg</td>\n      <td>valid</td>\n      <td>.jpg</td>\n      <td>586</td>\n    </tr>\n    <tr>\n      <th>632</th>\n      <td>000000000632.jpg</td>\n      <td>483</td>\n      <td>Images/valid/000000000632.jpg</td>\n      <td>valid</td>\n      <td>.jpg</td>\n      <td>640</td>\n    </tr>\n    <tr>\n      <th>724</th>\n      <td>000000000724.jpg</td>\n      <td>500</td>\n      <td>Images/valid/000000000724.jpg</td>\n      <td>valid</td>\n      <td>.jpg</td>\n      <td>375</td>\n    </tr>\n    <tr>\n      <th>776</th>\n      <td>000000000776.jpg</td>\n      <td>640</td>\n      <td>Images/valid/000000000776.jpg</td>\n      <td>valid</td>\n      <td>.jpg</td>\n      <td>428</td>\n    </tr>\n    <tr>\n      <th>...</th>\n      <td>...</td>\n      <td>...</td>\n      <td>...</td>\n      <td>...</td>\n      <td>...</td>\n      <td>...</td>\n    </tr>\n    <tr>\n      <th>581317</th>\n      <td>000000581317.jpg</td>\n      <td>354</td>\n      <td>Images/valid/000000581317.jpg</td>\n      <td>valid</td>\n      <td>.jpg</td>\n      <td>640</td>\n    </tr>\n    <tr>\n      <th>581357</th>\n      <td>000000581357.jpg</td>\n      <td>612</td>\n      <td>Images/valid/000000581357.jpg</td>\n      <td>valid</td>\n      <td>.jpg</td>\n      <td>612</td>\n    </tr>\n    <tr>\n      <th>581482</th>\n      <td>000000581482.jpg</td>\n      <td>427</td>\n      <td>Images/valid/000000581482.jpg</td>\n      <td>valid</td>\n      <td>.jpg</td>\n      <td>640</td>\n    </tr>\n    <tr>\n      <th>581615</th>\n      <td>000000581615.jpg</td>\n      <td>640</td>\n      <td>Images/valid/000000581615.jpg</td>\n      <td>valid</td>\n      <td>.jpg</td>\n      <td>478</td>\n    </tr>\n    <tr>\n      <th>581781</th>\n      <td>000000581781.jpg</td>\n      <td>478</td>\n      <td>Images/valid/000000581781.jpg</td>\n      <td>valid</td>\n      <td>.jpg</td>\n      <td>640</td>\n    </tr>\n  </tbody>\n</table>\n<p>5000 rows × 6 columns</p>\n</div>",
          "text/plain": "               file_name  height                  relative_path  split  type  \\\nid                                                                             \n139     000000000139.jpg     426  Images/valid/000000000139.jpg  valid  .jpg   \n285     000000000285.jpg     640  Images/valid/000000000285.jpg  valid  .jpg   \n632     000000000632.jpg     483  Images/valid/000000000632.jpg  valid  .jpg   \n724     000000000724.jpg     500  Images/valid/000000000724.jpg  valid  .jpg   \n776     000000000776.jpg     640  Images/valid/000000000776.jpg  valid  .jpg   \n...                  ...     ...                            ...    ...   ...   \n581317  000000581317.jpg     354  Images/valid/000000581317.jpg  valid  .jpg   \n581357  000000581357.jpg     612  Images/valid/000000581357.jpg  valid  .jpg   \n581482  000000581482.jpg     427  Images/valid/000000581482.jpg  valid  .jpg   \n581615  000000581615.jpg     640  Images/valid/000000581615.jpg  valid  .jpg   \n581781  000000581781.jpg     478  Images/valid/000000581781.jpg  valid  .jpg   \n\n        width  \nid             \n139       640  \n285       586  \n632       640  \n724       375  \n776       428  \n...       ...  \n581317    640  \n581357    612  \n581482    640  \n581615    478  \n581781    640  \n\n[5000 rows x 6 columns]"
         },
         "metadata": {},
         "output_type": "display_data"
        }
       ]
      }
     },
     "302ebcd2f6ce4002acfbf179aec120eb": {
      "model_module": "@jupyter-widgets/base",
      "model_module_version": "2.0.0",
      "model_name": "LayoutModel",
      "state": {}
     },
     "30fd2c51831040898427221ffbd8cdd6": {
      "model_module": "@jupyter-widgets/controls",
      "model_module_version": "2.0.0",
      "model_name": "HTMLModel",
      "state": {
       "layout": "IPY_MODEL_38e63196dc3f4c8f99ae1c45ef45bb6a",
       "style": "IPY_MODEL_29d20ac4d2ed477382b674b47bfcab1c",
       "value": "<b> Dataset object located at notebook_data, containing 5,000 images and 36,781 objects </b>"
      }
     },
     "31e9018ec6b84b10b4c1980309087173": {
      "model_module": "@jupyter-widgets/controls",
      "model_module_version": "2.0.0",
      "model_name": "TabModel",
      "state": {
       "children": [
        "IPY_MODEL_9ac4d71792354264ac4c99dea9212ae2",
        "IPY_MODEL_190a78df661d40c9b785efdefff2f55f",
        "IPY_MODEL_70cd7ba0e8de4e92bed639fc6ae50085"
       ],
       "layout": "IPY_MODEL_2683437cdfce4d6cb974366ce3c81129",
       "selected_index": 0,
       "titles": [
        "Images",
        "Annotations",
        "Label Map"
       ]
      }
     },
     "325ee858754c4b86b71ac671d75d9cbb": {
      "model_module": "@jupyter-widgets/controls",
      "model_module_version": "2.0.0",
      "model_name": "HTMLModel",
      "state": {
       "layout": "IPY_MODEL_cdcf388cbee04e1ab294a9d74e97f293",
       "style": "IPY_MODEL_e8e91675ecf542b89fcaecf3e49e32d5",
       "value": "<b> Dataset object located at notebook_data, containing 5,000 images and 36,781 objects </b>"
      }
     },
     "32782b9557134fc995626d79902451e5": {
      "model_module": "@jupyter-widgets/output",
      "model_module_version": "1.0.0",
      "model_name": "OutputModel",
      "state": {
       "layout": "IPY_MODEL_46afb99deba8413cb2a4d42dbe076ab7",
       "outputs": [
        {
         "data": {
          "text/html": "<div>\n<style scoped>\n    .dataframe tbody tr th:only-of-type {\n        vertical-align: middle;\n    }\n\n    .dataframe tbody tr th {\n        vertical-align: top;\n    }\n\n    .dataframe thead th {\n        text-align: right;\n    }\n</style>\n<table border=\"1\" class=\"dataframe\">\n  <thead>\n    <tr style=\"text-align: right;\">\n      <th></th>\n      <th>file_name</th>\n      <th>height</th>\n      <th>relative_path</th>\n      <th>split</th>\n      <th>type</th>\n      <th>width</th>\n    </tr>\n    <tr>\n      <th>id</th>\n      <th></th>\n      <th></th>\n      <th></th>\n      <th></th>\n      <th></th>\n      <th></th>\n    </tr>\n  </thead>\n  <tbody>\n    <tr>\n      <th>139</th>\n      <td>000000000139.jpg</td>\n      <td>426</td>\n      <td>Images/valid/000000000139.jpg</td>\n      <td>valid</td>\n      <td>.jpg</td>\n      <td>640</td>\n    </tr>\n    <tr>\n      <th>285</th>\n      <td>000000000285.jpg</td>\n      <td>640</td>\n      <td>Images/valid/000000000285.jpg</td>\n      <td>valid</td>\n      <td>.jpg</td>\n      <td>586</td>\n    </tr>\n    <tr>\n      <th>632</th>\n      <td>000000000632.jpg</td>\n      <td>483</td>\n      <td>Images/valid/000000000632.jpg</td>\n      <td>valid</td>\n      <td>.jpg</td>\n      <td>640</td>\n    </tr>\n    <tr>\n      <th>724</th>\n      <td>000000000724.jpg</td>\n      <td>500</td>\n      <td>Images/valid/000000000724.jpg</td>\n      <td>valid</td>\n      <td>.jpg</td>\n      <td>375</td>\n    </tr>\n    <tr>\n      <th>776</th>\n      <td>000000000776.jpg</td>\n      <td>640</td>\n      <td>Images/valid/000000000776.jpg</td>\n      <td>valid</td>\n      <td>.jpg</td>\n      <td>428</td>\n    </tr>\n    <tr>\n      <th>...</th>\n      <td>...</td>\n      <td>...</td>\n      <td>...</td>\n      <td>...</td>\n      <td>...</td>\n      <td>...</td>\n    </tr>\n    <tr>\n      <th>581317</th>\n      <td>000000581317.jpg</td>\n      <td>354</td>\n      <td>Images/valid/000000581317.jpg</td>\n      <td>valid</td>\n      <td>.jpg</td>\n      <td>640</td>\n    </tr>\n    <tr>\n      <th>581357</th>\n      <td>000000581357.jpg</td>\n      <td>612</td>\n      <td>Images/valid/000000581357.jpg</td>\n      <td>valid</td>\n      <td>.jpg</td>\n      <td>612</td>\n    </tr>\n    <tr>\n      <th>581482</th>\n      <td>000000581482.jpg</td>\n      <td>427</td>\n      <td>Images/valid/000000581482.jpg</td>\n      <td>valid</td>\n      <td>.jpg</td>\n      <td>640</td>\n    </tr>\n    <tr>\n      <th>581615</th>\n      <td>000000581615.jpg</td>\n      <td>640</td>\n      <td>Images/valid/000000581615.jpg</td>\n      <td>valid</td>\n      <td>.jpg</td>\n      <td>478</td>\n    </tr>\n    <tr>\n      <th>581781</th>\n      <td>000000581781.jpg</td>\n      <td>478</td>\n      <td>Images/valid/000000581781.jpg</td>\n      <td>valid</td>\n      <td>.jpg</td>\n      <td>640</td>\n    </tr>\n  </tbody>\n</table>\n<p>5000 rows × 6 columns</p>\n</div>",
          "text/plain": "               file_name  height                  relative_path  split  type  \\\nid                                                                             \n139     000000000139.jpg     426  Images/valid/000000000139.jpg  valid  .jpg   \n285     000000000285.jpg     640  Images/valid/000000000285.jpg  valid  .jpg   \n632     000000000632.jpg     483  Images/valid/000000000632.jpg  valid  .jpg   \n724     000000000724.jpg     500  Images/valid/000000000724.jpg  valid  .jpg   \n776     000000000776.jpg     640  Images/valid/000000000776.jpg  valid  .jpg   \n...                  ...     ...                            ...    ...   ...   \n581317  000000581317.jpg     354  Images/valid/000000581317.jpg  valid  .jpg   \n581357  000000581357.jpg     612  Images/valid/000000581357.jpg  valid  .jpg   \n581482  000000581482.jpg     427  Images/valid/000000581482.jpg  valid  .jpg   \n581615  000000581615.jpg     640  Images/valid/000000581615.jpg  valid  .jpg   \n581781  000000581781.jpg     478  Images/valid/000000581781.jpg  valid  .jpg   \n\n        width  \nid             \n139       640  \n285       586  \n632       640  \n724       375  \n776       428  \n...       ...  \n581317    640  \n581357    612  \n581482    640  \n581615    478  \n581781    640  \n\n[5000 rows x 6 columns]"
         },
         "metadata": {},
         "output_type": "display_data"
        }
       ]
      }
     },
     "329d8c24329247999824a8bc47e1bc0b": {
      "model_module": "@jupyter-widgets/base",
      "model_module_version": "2.0.0",
      "model_name": "LayoutModel",
      "state": {}
     },
     "32b21303e1674d4eb656082510a7f3f4": {
      "model_module": "@jupyter-widgets/controls",
      "model_module_version": "2.0.0",
      "model_name": "VBoxModel",
      "state": {
       "children": [
        "IPY_MODEL_b22f3949fbc942f0b85fe047a2909ef5",
        "IPY_MODEL_858be78cacfe4bd89b3cf0bafed2e0c9"
       ],
       "layout": "IPY_MODEL_503649a5fe3b4e8186e67cdd56107044"
      }
     },
     "32bafae5b77a4a0da6c17503a109fd8c": {
      "model_module": "@jupyter-widgets/base",
      "model_module_version": "2.0.0",
      "model_name": "LayoutModel",
      "state": {}
     },
     "32df7226b3f54d21bfd90119ccbd9bf3": {
      "model_module": "@jupyter-widgets/output",
      "model_module_version": "1.0.0",
      "model_name": "OutputModel",
      "state": {
       "layout": "IPY_MODEL_34be213a042045d887d6308032d732ff",
       "outputs": [
        {
         "data": {
          "text/html": "<div>\n<style scoped>\n    .dataframe tbody tr th:only-of-type {\n        vertical-align: middle;\n    }\n\n    .dataframe tbody tr th {\n        vertical-align: top;\n    }\n\n    .dataframe thead th {\n        text-align: right;\n    }\n</style>\n<table border=\"1\" class=\"dataframe\">\n  <thead>\n    <tr style=\"text-align: right;\">\n      <th></th>\n      <th>category string</th>\n    </tr>\n    <tr>\n      <th>categorty_id</th>\n      <th></th>\n    </tr>\n  </thead>\n  <tbody>\n    <tr>\n      <th>1</th>\n      <td>vehicle</td>\n    </tr>\n    <tr>\n      <th>2</th>\n      <td>person</td>\n    </tr>\n    <tr>\n      <th>3</th>\n      <td>tool</td>\n    </tr>\n    <tr>\n      <th>6</th>\n      <td>abandoned objects</td>\n    </tr>\n    <tr>\n      <th>10</th>\n      <td>car</td>\n    </tr>\n    <tr>\n      <th>11</th>\n      <td>two-wheeler</td>\n    </tr>\n    <tr>\n      <th>12</th>\n      <td>train</td>\n    </tr>\n    <tr>\n      <th>20</th>\n      <td>standing person</td>\n    </tr>\n    <tr>\n      <th>21</th>\n      <td>sitting person</td>\n    </tr>\n    <tr>\n      <th>22</th>\n      <td>laying person</td>\n    </tr>\n    <tr>\n      <th>28</th>\n      <td>packet</td>\n    </tr>\n    <tr>\n      <th>29</th>\n      <td>bag</td>\n    </tr>\n    <tr>\n      <th>30</th>\n      <td>suitcase</td>\n    </tr>\n    <tr>\n      <th>31</th>\n      <td>head</td>\n    </tr>\n    <tr>\n      <th>32</th>\n      <td>light truck</td>\n    </tr>\n    <tr>\n      <th>33</th>\n      <td>heavy truck</td>\n    </tr>\n    <tr>\n      <th>34</th>\n      <td>garbage truck</td>\n    </tr>\n    <tr>\n      <th>36</th>\n      <td>dump truck</td>\n    </tr>\n    <tr>\n      <th>37</th>\n      <td>truck with trailer</td>\n    </tr>\n    <tr>\n      <th>38</th>\n      <td>truck without trailer</td>\n    </tr>\n    <tr>\n      <th>40</th>\n      <td>tank truck</td>\n    </tr>\n    <tr>\n      <th>41</th>\n      <td>dog</td>\n    </tr>\n    <tr>\n      <th>42</th>\n      <td>motorcycle</td>\n    </tr>\n    <tr>\n      <th>43</th>\n      <td>heavy equipment</td>\n    </tr>\n    <tr>\n      <th>44</th>\n      <td>animals</td>\n    </tr>\n    <tr>\n      <th>46</th>\n      <td>personnal protection equipment</td>\n    </tr>\n    <tr>\n      <th>47</th>\n      <td>utility vehicle</td>\n    </tr>\n    <tr>\n      <th>48</th>\n      <td>minibus</td>\n    </tr>\n    <tr>\n      <th>49</th>\n      <td>taxi</td>\n    </tr>\n    <tr>\n      <th>50</th>\n      <td>body parts</td>\n    </tr>\n    <tr>\n      <th>51</th>\n      <td>vehicle parts</td>\n    </tr>\n    <tr>\n      <th>52</th>\n      <td>taxi light</td>\n    </tr>\n    <tr>\n      <th>53</th>\n      <td>safety helmet</td>\n    </tr>\n    <tr>\n      <th>54</th>\n      <td>safety vest</td>\n    </tr>\n    <tr>\n      <th>55</th>\n      <td>domestic animals</td>\n    </tr>\n    <tr>\n      <th>100</th>\n      <td>sedan</td>\n    </tr>\n    <tr>\n      <th>101</th>\n      <td>van</td>\n    </tr>\n    <tr>\n      <th>102</th>\n      <td>bus</td>\n    </tr>\n    <tr>\n      <th>103</th>\n      <td>truck</td>\n    </tr>\n    <tr>\n      <th>104</th>\n      <td>special</td>\n    </tr>\n    <tr>\n      <th>111</th>\n      <td>bicycle</td>\n    </tr>\n    <tr>\n      <th>112</th>\n      <td>scooter</td>\n    </tr>\n    <tr>\n      <th>113</th>\n      <td>wheelchair</td>\n    </tr>\n    <tr>\n      <th>210</th>\n      <td>biker</td>\n    </tr>\n    <tr>\n      <th>211</th>\n      <td>cyclist</td>\n    </tr>\n    <tr>\n      <th>212</th>\n      <td>scooter rider</td>\n    </tr>\n    <tr>\n      <th>213</th>\n      <td>tricyclist</td>\n    </tr>\n    <tr>\n      <th>214</th>\n      <td>wheelchair user</td>\n    </tr>\n    <tr>\n      <th>1040</th>\n      <td>police</td>\n    </tr>\n    <tr>\n      <th>1041</th>\n      <td>ambulance</td>\n    </tr>\n    <tr>\n      <th>1042</th>\n      <td>firefighter</td>\n    </tr>\n    <tr>\n      <th>1100</th>\n      <td>motorbike</td>\n    </tr>\n    <tr>\n      <th>1121</th>\n      <td>standing scooter</td>\n    </tr>\n  </tbody>\n</table>\n</div>",
          "text/plain": "                             category string\ncategorty_id                                \n1                                    vehicle\n2                                     person\n3                                       tool\n6                          abandoned objects\n10                                       car\n11                               two-wheeler\n12                                     train\n20                           standing person\n21                            sitting person\n22                             laying person\n28                                    packet\n29                                       bag\n30                                  suitcase\n31                                      head\n32                               light truck\n33                               heavy truck\n34                             garbage truck\n36                                dump truck\n37                        truck with trailer\n38                     truck without trailer\n40                                tank truck\n41                                       dog\n42                                motorcycle\n43                           heavy equipment\n44                                   animals\n46            personnal protection equipment\n47                           utility vehicle\n48                                   minibus\n49                                      taxi\n50                                body parts\n51                             vehicle parts\n52                                taxi light\n53                             safety helmet\n54                               safety vest\n55                          domestic animals\n100                                    sedan\n101                                      van\n102                                      bus\n103                                    truck\n104                                  special\n111                                  bicycle\n112                                  scooter\n113                               wheelchair\n210                                    biker\n211                                  cyclist\n212                            scooter rider\n213                               tricyclist\n214                          wheelchair user\n1040                                  police\n1041                               ambulance\n1042                             firefighter\n1100                               motorbike\n1121                        standing scooter"
         },
         "metadata": {},
         "output_type": "display_data"
        }
       ]
      }
     },
     "32f83af7ec6742a5aaf6f9185454bb67": {
      "model_module": "@jupyter-widgets/output",
      "model_module_version": "1.0.0",
      "model_name": "OutputModel",
      "state": {
       "layout": "IPY_MODEL_c85d3fc2854d481fb75645ba4a20909b",
       "outputs": [
        {
         "data": {
          "text/html": "<div>\n<style scoped>\n    .dataframe tbody tr th:only-of-type {\n        vertical-align: middle;\n    }\n\n    .dataframe tbody tr th {\n        vertical-align: top;\n    }\n\n    .dataframe thead th {\n        text-align: right;\n    }\n</style>\n<table border=\"1\" class=\"dataframe\">\n  <thead>\n    <tr style=\"text-align: right;\">\n      <th></th>\n      <th>file_name</th>\n      <th>height</th>\n      <th>width</th>\n      <th>split</th>\n      <th>relative_path</th>\n      <th>type</th>\n    </tr>\n    <tr>\n      <th>id</th>\n      <th></th>\n      <th></th>\n      <th></th>\n      <th></th>\n      <th></th>\n      <th></th>\n    </tr>\n  </thead>\n  <tbody>\n    <tr>\n      <th>352582</th>\n      <td>000000352582.jpg</td>\n      <td>640</td>\n      <td>425</td>\n      <td>valid</td>\n      <td>Images/valid/000000352582.jpg</td>\n      <td>.jpg</td>\n    </tr>\n    <tr>\n      <th>113354</th>\n      <td>000000113354.jpg</td>\n      <td>480</td>\n      <td>640</td>\n      <td>valid</td>\n      <td>Images/valid/000000113354.jpg</td>\n      <td>.jpg</td>\n    </tr>\n    <tr>\n      <th>58393</th>\n      <td>000000058393.jpg</td>\n      <td>486</td>\n      <td>640</td>\n      <td>valid</td>\n      <td>Images/valid/000000058393.jpg</td>\n      <td>.jpg</td>\n    </tr>\n    <tr>\n      <th>147729</th>\n      <td>000000147729.jpg</td>\n      <td>375</td>\n      <td>500</td>\n      <td>valid</td>\n      <td>Images/valid/000000147729.jpg</td>\n      <td>.jpg</td>\n    </tr>\n    <tr>\n      <th>310072</th>\n      <td>000000310072.jpg</td>\n      <td>383</td>\n      <td>640</td>\n      <td>valid</td>\n      <td>Images/valid/000000310072.jpg</td>\n      <td>.jpg</td>\n    </tr>\n    <tr>\n      <th>...</th>\n      <td>...</td>\n      <td>...</td>\n      <td>...</td>\n      <td>...</td>\n      <td>...</td>\n      <td>...</td>\n    </tr>\n    <tr>\n      <th>311180</th>\n      <td>000000311180.jpg</td>\n      <td>640</td>\n      <td>480</td>\n      <td>valid</td>\n      <td>Images/valid/000000311180.jpg</td>\n      <td>.jpg</td>\n    </tr>\n    <tr>\n      <th>302030</th>\n      <td>000000302030.jpg</td>\n      <td>359</td>\n      <td>640</td>\n      <td>valid</td>\n      <td>Images/valid/000000302030.jpg</td>\n      <td>.jpg</td>\n    </tr>\n    <tr>\n      <th>105455</th>\n      <td>000000105455.jpg</td>\n      <td>640</td>\n      <td>427</td>\n      <td>valid</td>\n      <td>Images/valid/000000105455.jpg</td>\n      <td>.jpg</td>\n    </tr>\n    <tr>\n      <th>428280</th>\n      <td>000000428280.jpg</td>\n      <td>333</td>\n      <td>500</td>\n      <td>valid</td>\n      <td>Images/valid/000000428280.jpg</td>\n      <td>.jpg</td>\n    </tr>\n    <tr>\n      <th>349837</th>\n      <td>000000349837.jpg</td>\n      <td>333</td>\n      <td>500</td>\n      <td>valid</td>\n      <td>Images/valid/000000349837.jpg</td>\n      <td>.jpg</td>\n    </tr>\n  </tbody>\n</table>\n<p>5000 rows × 6 columns</p>\n</div>",
          "text/plain": "               file_name  height  width  split                  relative_path  \\\nid                                                                              \n352582  000000352582.jpg     640    425  valid  Images/valid/000000352582.jpg   \n113354  000000113354.jpg     480    640  valid  Images/valid/000000113354.jpg   \n58393   000000058393.jpg     486    640  valid  Images/valid/000000058393.jpg   \n147729  000000147729.jpg     375    500  valid  Images/valid/000000147729.jpg   \n310072  000000310072.jpg     383    640  valid  Images/valid/000000310072.jpg   \n...                  ...     ...    ...    ...                            ...   \n311180  000000311180.jpg     640    480  valid  Images/valid/000000311180.jpg   \n302030  000000302030.jpg     359    640  valid  Images/valid/000000302030.jpg   \n105455  000000105455.jpg     640    427  valid  Images/valid/000000105455.jpg   \n428280  000000428280.jpg     333    500  valid  Images/valid/000000428280.jpg   \n349837  000000349837.jpg     333    500  valid  Images/valid/000000349837.jpg   \n\n        type  \nid            \n352582  .jpg  \n113354  .jpg  \n58393   .jpg  \n147729  .jpg  \n310072  .jpg  \n...      ...  \n311180  .jpg  \n302030  .jpg  \n105455  .jpg  \n428280  .jpg  \n349837  .jpg  \n\n[5000 rows x 6 columns]"
         },
         "metadata": {},
         "output_type": "display_data"
        }
       ]
      }
     },
     "340f5b8d4b41486c9e76434a325d3796": {
      "model_module": "@jupyter-widgets/output",
      "model_module_version": "1.0.0",
      "model_name": "OutputModel",
      "state": {
       "layout": "IPY_MODEL_5a1b5e87de0b48b68a9f85da46f2448c",
       "outputs": [
        {
         "data": {
          "text/html": "<div>\n<style scoped>\n    .dataframe tbody tr th:only-of-type {\n        vertical-align: middle;\n    }\n\n    .dataframe tbody tr th {\n        vertical-align: top;\n    }\n\n    .dataframe thead th {\n        text-align: right;\n    }\n</style>\n<table border=\"1\" class=\"dataframe\">\n  <thead>\n    <tr style=\"text-align: right;\">\n      <th></th>\n      <th>category string</th>\n    </tr>\n    <tr>\n      <th>categorty_id</th>\n      <th></th>\n    </tr>\n  </thead>\n  <tbody>\n    <tr>\n      <th>1</th>\n      <td>person</td>\n    </tr>\n    <tr>\n      <th>2</th>\n      <td>bicycle</td>\n    </tr>\n    <tr>\n      <th>3</th>\n      <td>car</td>\n    </tr>\n    <tr>\n      <th>4</th>\n      <td>motorcycle</td>\n    </tr>\n    <tr>\n      <th>5</th>\n      <td>airplane</td>\n    </tr>\n    <tr>\n      <th>...</th>\n      <td>...</td>\n    </tr>\n    <tr>\n      <th>86</th>\n      <td>vase</td>\n    </tr>\n    <tr>\n      <th>87</th>\n      <td>scissors</td>\n    </tr>\n    <tr>\n      <th>88</th>\n      <td>teddy bear</td>\n    </tr>\n    <tr>\n      <th>89</th>\n      <td>hair drier</td>\n    </tr>\n    <tr>\n      <th>90</th>\n      <td>toothbrush</td>\n    </tr>\n  </tbody>\n</table>\n<p>80 rows × 1 columns</p>\n</div>",
          "text/plain": "             category string\ncategorty_id                \n1                     person\n2                    bicycle\n3                        car\n4                 motorcycle\n5                   airplane\n...                      ...\n86                      vase\n87                  scissors\n88                teddy bear\n89                hair drier\n90                toothbrush\n\n[80 rows x 1 columns]"
         },
         "metadata": {},
         "output_type": "display_data"
        }
       ]
      }
     },
     "34383753e3724171b5c354c1fe72dd63": {
      "model_module": "@jupyter-widgets/base",
      "model_module_version": "2.0.0",
      "model_name": "LayoutModel",
      "state": {}
     },
     "349580956873407f845a688dbe891f50": {
      "model_module": "@jupyter-widgets/controls",
      "model_module_version": "2.0.0",
      "model_name": "HTMLStyleModel",
      "state": {
       "description_width": "",
       "font_size": null,
       "text_color": null
      }
     },
     "34be213a042045d887d6308032d732ff": {
      "model_module": "@jupyter-widgets/base",
      "model_module_version": "2.0.0",
      "model_name": "LayoutModel",
      "state": {}
     },
     "35999343e34445fbb8bc3839b86d72c4": {
      "model_module": "@jupyter-widgets/base",
      "model_module_version": "2.0.0",
      "model_name": "LayoutModel",
      "state": {}
     },
     "362547caf2814d2c8920b16783e8af67": {
      "model_module": "@jupyter-widgets/controls",
      "model_module_version": "2.0.0",
      "model_name": "VBoxModel",
      "state": {
       "children": [
        "IPY_MODEL_e57d3f435e154d2a87b0b71c53ce2590",
        "IPY_MODEL_a271db90b77a48a7a1550bc054aa1b8c"
       ],
       "layout": "IPY_MODEL_ea40a69285a2491eb41963c5776ee600"
      }
     },
     "363927d34a6e47468e45cc9b241f1a3d": {
      "model_module": "@jupyter-widgets/controls",
      "model_module_version": "2.0.0",
      "model_name": "VBoxModel",
      "state": {
       "children": [
        "IPY_MODEL_a775362d2407486e989b21c237082c15",
        "IPY_MODEL_f94cf3d3dfc94d4f9223e2abad00cb8b"
       ],
       "layout": "IPY_MODEL_878b5d09fea0490bbab5e6874bde62e0"
      }
     },
     "38137eea41644e098573a26d4ef6059b": {
      "model_module": "@jupyter-widgets/controls",
      "model_module_version": "2.0.0",
      "model_name": "HTMLStyleModel",
      "state": {
       "description_width": "",
       "font_size": null,
       "text_color": null
      }
     },
     "383bd6b93b0b4f76ab7b492584b5aa97": {
      "model_module": "@jupyter-widgets/base",
      "model_module_version": "2.0.0",
      "model_name": "LayoutModel",
      "state": {}
     },
     "38e63196dc3f4c8f99ae1c45ef45bb6a": {
      "model_module": "@jupyter-widgets/base",
      "model_module_version": "2.0.0",
      "model_name": "LayoutModel",
      "state": {}
     },
     "393421b06c27453f928e1b224aeb4773": {
      "model_module": "@jupyter-widgets/base",
      "model_module_version": "2.0.0",
      "model_name": "LayoutModel",
      "state": {}
     },
     "39da4ff81fbf4d34915d6db01aa1fcdf": {
      "model_module": "@jupyter-widgets/controls",
      "model_module_version": "2.0.0",
      "model_name": "VBoxModel",
      "state": {
       "children": [
        "IPY_MODEL_11f5ceb8f0254dab94ee54a035e205a8",
        "IPY_MODEL_ea8bfec5918841c08debdd5c41cdf5e2"
       ],
       "layout": "IPY_MODEL_f95b4d54e1874ba6861974c760f96e99"
      }
     },
     "3ab8ee01a43b42d9ad602256c3500b2d": {
      "model_module": "@jupyter-widgets/base",
      "model_module_version": "2.0.0",
      "model_name": "LayoutModel",
      "state": {}
     },
     "3b65188f62c04d40bf6108558e049bb0": {
      "model_module": "@jupyter-widgets/base",
      "model_module_version": "2.0.0",
      "model_name": "LayoutModel",
      "state": {}
     },
     "3c0cc69007a449cf9b95bb7253c0f1a6": {
      "model_module": "@jupyter-widgets/base",
      "model_module_version": "2.0.0",
      "model_name": "LayoutModel",
      "state": {}
     },
     "3c19936a17c24b4b931bad53826c49b0": {
      "model_module": "@jupyter-widgets/base",
      "model_module_version": "2.0.0",
      "model_name": "LayoutModel",
      "state": {}
     },
     "3d4335149f864c15a96f45b98ae48c93": {
      "model_module": "@jupyter-widgets/base",
      "model_module_version": "2.0.0",
      "model_name": "LayoutModel",
      "state": {}
     },
     "3d91c0c2009a46e6b07a277584381a50": {
      "model_module": "@jupyter-widgets/base",
      "model_module_version": "2.0.0",
      "model_name": "LayoutModel",
      "state": {}
     },
     "3e39b829b36640539c9c49b9884fa62e": {
      "model_module": "@jupyter-widgets/base",
      "model_module_version": "2.0.0",
      "model_name": "LayoutModel",
      "state": {}
     },
     "3f49c444ccba4654b7add5fccd980282": {
      "model_module": "@jupyter-widgets/base",
      "model_module_version": "2.0.0",
      "model_name": "LayoutModel",
      "state": {}
     },
     "40d71272d96e473684b4345e3e99d490": {
      "model_module": "@jupyter-widgets/output",
      "model_module_version": "1.0.0",
      "model_name": "OutputModel",
      "state": {
       "layout": "IPY_MODEL_329d8c24329247999824a8bc47e1bc0b",
       "outputs": [
        {
         "data": {
          "text/html": "<div>\n<style scoped>\n    .dataframe tbody tr th:only-of-type {\n        vertical-align: middle;\n    }\n\n    .dataframe tbody tr th {\n        vertical-align: top;\n    }\n\n    .dataframe thead th {\n        text-align: right;\n    }\n</style>\n<table border=\"1\" class=\"dataframe\">\n  <thead>\n    <tr style=\"text-align: right;\">\n      <th></th>\n      <th>file_name</th>\n      <th>height</th>\n      <th>width</th>\n      <th>split</th>\n      <th>relative_path</th>\n      <th>type</th>\n    </tr>\n    <tr>\n      <th>id</th>\n      <th></th>\n      <th></th>\n      <th></th>\n      <th></th>\n      <th></th>\n      <th></th>\n    </tr>\n  </thead>\n  <tbody>\n    <tr>\n      <th>0</th>\n      <td>000000000632.jpg</td>\n      <td>483</td>\n      <td>640</td>\n      <td>valid</td>\n      <td>Images/valid/000000000632.jpg</td>\n      <td>.jpg</td>\n    </tr>\n    <tr>\n      <th>1</th>\n      <td>000000000724.jpg</td>\n      <td>500</td>\n      <td>375</td>\n      <td>valid</td>\n      <td>Images/valid/000000000724.jpg</td>\n      <td>.jpg</td>\n    </tr>\n    <tr>\n      <th>2</th>\n      <td>000000000776.jpg</td>\n      <td>640</td>\n      <td>428</td>\n      <td>valid</td>\n      <td>Images/valid/000000000776.jpg</td>\n      <td>.jpg</td>\n    </tr>\n    <tr>\n      <th>3</th>\n      <td>000000000785.jpg</td>\n      <td>425</td>\n      <td>640</td>\n      <td>valid</td>\n      <td>Images/valid/000000000785.jpg</td>\n      <td>.jpg</td>\n    </tr>\n    <tr>\n      <th>4</th>\n      <td>000000001268.jpg</td>\n      <td>427</td>\n      <td>640</td>\n      <td>valid</td>\n      <td>Images/valid/000000001268.jpg</td>\n      <td>.jpg</td>\n    </tr>\n    <tr>\n      <th>...</th>\n      <td>...</td>\n      <td>...</td>\n      <td>...</td>\n      <td>...</td>\n      <td>...</td>\n      <td>...</td>\n    </tr>\n    <tr>\n      <th>4995</th>\n      <td>000000580418.jpg</td>\n      <td>428</td>\n      <td>640</td>\n      <td>valid</td>\n      <td>Images/valid/000000580418.jpg</td>\n      <td>.jpg</td>\n    </tr>\n    <tr>\n      <th>4996</th>\n      <td>000000580757.jpg</td>\n      <td>425</td>\n      <td>640</td>\n      <td>valid</td>\n      <td>Images/valid/000000580757.jpg</td>\n      <td>.jpg</td>\n    </tr>\n    <tr>\n      <th>4997</th>\n      <td>000000581062.jpg</td>\n      <td>375</td>\n      <td>500</td>\n      <td>valid</td>\n      <td>Images/valid/000000581062.jpg</td>\n      <td>.jpg</td>\n    </tr>\n    <tr>\n      <th>4998</th>\n      <td>000000581206.jpg</td>\n      <td>640</td>\n      <td>479</td>\n      <td>valid</td>\n      <td>Images/valid/000000581206.jpg</td>\n      <td>.jpg</td>\n    </tr>\n    <tr>\n      <th>4999</th>\n      <td>000000581615.jpg</td>\n      <td>640</td>\n      <td>478</td>\n      <td>valid</td>\n      <td>Images/valid/000000581615.jpg</td>\n      <td>.jpg</td>\n    </tr>\n  </tbody>\n</table>\n<p>5000 rows × 6 columns</p>\n</div>",
          "text/plain": "             file_name  height  width  split                  relative_path  \\\nid                                                                            \n0     000000000632.jpg     483    640  valid  Images/valid/000000000632.jpg   \n1     000000000724.jpg     500    375  valid  Images/valid/000000000724.jpg   \n2     000000000776.jpg     640    428  valid  Images/valid/000000000776.jpg   \n3     000000000785.jpg     425    640  valid  Images/valid/000000000785.jpg   \n4     000000001268.jpg     427    640  valid  Images/valid/000000001268.jpg   \n...                ...     ...    ...    ...                            ...   \n4995  000000580418.jpg     428    640  valid  Images/valid/000000580418.jpg   \n4996  000000580757.jpg     425    640  valid  Images/valid/000000580757.jpg   \n4997  000000581062.jpg     375    500  valid  Images/valid/000000581062.jpg   \n4998  000000581206.jpg     640    479  valid  Images/valid/000000581206.jpg   \n4999  000000581615.jpg     640    478  valid  Images/valid/000000581615.jpg   \n\n      type  \nid          \n0     .jpg  \n1     .jpg  \n2     .jpg  \n3     .jpg  \n4     .jpg  \n...    ...  \n4995  .jpg  \n4996  .jpg  \n4997  .jpg  \n4998  .jpg  \n4999  .jpg  \n\n[5000 rows x 6 columns]"
         },
         "metadata": {},
         "output_type": "display_data"
        }
       ]
      }
     },
     "411d3b1104d44646b5d17d7bd6856e81": {
      "model_module": "@jupyter-widgets/output",
      "model_module_version": "1.0.0",
      "model_name": "OutputModel",
      "state": {
       "layout": "IPY_MODEL_4af1db6537cb4835ba4ce6a523739ebf",
       "outputs": [
        {
         "data": {
          "text/html": "<div>\n<style scoped>\n    .dataframe tbody tr th:only-of-type {\n        vertical-align: middle;\n    }\n\n    .dataframe tbody tr th {\n        vertical-align: top;\n    }\n\n    .dataframe thead th {\n        text-align: right;\n    }\n</style>\n<table border=\"1\" class=\"dataframe\">\n  <thead>\n    <tr style=\"text-align: right;\">\n      <th></th>\n      <th>file_name</th>\n      <th>height</th>\n      <th>relative_path</th>\n      <th>split</th>\n      <th>type</th>\n      <th>width</th>\n    </tr>\n  </thead>\n  <tbody>\n    <tr>\n      <th>139</th>\n      <td>000000000139.jpg</td>\n      <td>426</td>\n      <td>Images/valid/000000000139.jpg</td>\n      <td>valid</td>\n      <td>.jpg</td>\n      <td>640</td>\n    </tr>\n  </tbody>\n</table>\n</div>",
          "text/plain": "            file_name height                  relative_path  split  type width\n139  000000000139.jpg    426  Images/valid/000000000139.jpg  valid  .jpg   640"
         },
         "metadata": {},
         "output_type": "display_data"
        }
       ]
      }
     },
     "4153ce4c46054c8288206b0b3eb36339": {
      "model_module": "@jupyter-widgets/output",
      "model_module_version": "1.0.0",
      "model_name": "OutputModel",
      "state": {
       "layout": "IPY_MODEL_00fb447339d94f0aa29e3300001295e5",
       "outputs": [
        {
         "data": {
          "text/html": "<div>\n<style scoped>\n    .dataframe tbody tr th:only-of-type {\n        vertical-align: middle;\n    }\n\n    .dataframe tbody tr th {\n        vertical-align: top;\n    }\n\n    .dataframe thead th {\n        text-align: right;\n    }\n</style>\n<table border=\"1\" class=\"dataframe\">\n  <thead>\n    <tr style=\"text-align: right;\">\n      <th></th>\n      <th>file_name</th>\n      <th>height</th>\n      <th>relative_path</th>\n      <th>split</th>\n      <th>type</th>\n      <th>width</th>\n    </tr>\n  </thead>\n  <tbody>\n    <tr>\n      <th>139</th>\n      <td>000000000139.jpg</td>\n      <td>426</td>\n      <td>Images/valid/000000000139.jpg</td>\n      <td>valid</td>\n      <td>.jpg</td>\n      <td>640</td>\n    </tr>\n  </tbody>\n</table>\n</div>",
          "text/plain": "            file_name height                  relative_path  split  type width\n139  000000000139.jpg    426  Images/valid/000000000139.jpg  valid  .jpg   640"
         },
         "metadata": {},
         "output_type": "display_data"
        }
       ]
      }
     },
     "41cf5a010daa4e3b82acb209a9acaffa": {
      "model_module": "@jupyter-widgets/output",
      "model_module_version": "1.0.0",
      "model_name": "OutputModel",
      "state": {
       "layout": "IPY_MODEL_c3dc8688d1df433381462e428cb2c454",
       "outputs": [
        {
         "data": {
          "text/html": "<div>\n<style scoped>\n    .dataframe tbody tr th:only-of-type {\n        vertical-align: middle;\n    }\n\n    .dataframe tbody tr th {\n        vertical-align: top;\n    }\n\n    .dataframe thead th {\n        text-align: right;\n    }\n</style>\n<table border=\"1\" class=\"dataframe\">\n  <thead>\n    <tr style=\"text-align: right;\">\n      <th></th>\n      <th>category string</th>\n    </tr>\n    <tr>\n      <th>categorty_id</th>\n      <th></th>\n    </tr>\n  </thead>\n  <tbody>\n    <tr>\n      <th>1</th>\n      <td>vehicle</td>\n    </tr>\n    <tr>\n      <th>2</th>\n      <td>person</td>\n    </tr>\n    <tr>\n      <th>3</th>\n      <td>tool</td>\n    </tr>\n    <tr>\n      <th>6</th>\n      <td>abandoned objects</td>\n    </tr>\n    <tr>\n      <th>10</th>\n      <td>car</td>\n    </tr>\n    <tr>\n      <th>11</th>\n      <td>two-wheeler</td>\n    </tr>\n    <tr>\n      <th>12</th>\n      <td>train</td>\n    </tr>\n    <tr>\n      <th>20</th>\n      <td>standing person</td>\n    </tr>\n    <tr>\n      <th>21</th>\n      <td>sitting person</td>\n    </tr>\n    <tr>\n      <th>22</th>\n      <td>laying person</td>\n    </tr>\n    <tr>\n      <th>28</th>\n      <td>packet</td>\n    </tr>\n    <tr>\n      <th>29</th>\n      <td>bag</td>\n    </tr>\n    <tr>\n      <th>30</th>\n      <td>suitcase</td>\n    </tr>\n    <tr>\n      <th>31</th>\n      <td>head</td>\n    </tr>\n    <tr>\n      <th>32</th>\n      <td>light truck</td>\n    </tr>\n    <tr>\n      <th>33</th>\n      <td>heavy truck</td>\n    </tr>\n    <tr>\n      <th>34</th>\n      <td>garbage truck</td>\n    </tr>\n    <tr>\n      <th>36</th>\n      <td>dump truck</td>\n    </tr>\n    <tr>\n      <th>37</th>\n      <td>truck with trailer</td>\n    </tr>\n    <tr>\n      <th>38</th>\n      <td>truck without trailer</td>\n    </tr>\n    <tr>\n      <th>40</th>\n      <td>tank truck</td>\n    </tr>\n    <tr>\n      <th>41</th>\n      <td>dog</td>\n    </tr>\n    <tr>\n      <th>42</th>\n      <td>motorcycle</td>\n    </tr>\n    <tr>\n      <th>43</th>\n      <td>heavy equipment</td>\n    </tr>\n    <tr>\n      <th>44</th>\n      <td>animals</td>\n    </tr>\n    <tr>\n      <th>46</th>\n      <td>personnal protection equipment</td>\n    </tr>\n    <tr>\n      <th>47</th>\n      <td>utility vehicle</td>\n    </tr>\n    <tr>\n      <th>48</th>\n      <td>minibus</td>\n    </tr>\n    <tr>\n      <th>49</th>\n      <td>taxi</td>\n    </tr>\n    <tr>\n      <th>50</th>\n      <td>body parts</td>\n    </tr>\n    <tr>\n      <th>51</th>\n      <td>vehicle parts</td>\n    </tr>\n    <tr>\n      <th>52</th>\n      <td>taxi light</td>\n    </tr>\n    <tr>\n      <th>53</th>\n      <td>safety helmet</td>\n    </tr>\n    <tr>\n      <th>54</th>\n      <td>safety vest</td>\n    </tr>\n    <tr>\n      <th>55</th>\n      <td>domestic animals</td>\n    </tr>\n    <tr>\n      <th>100</th>\n      <td>sedan</td>\n    </tr>\n    <tr>\n      <th>101</th>\n      <td>van</td>\n    </tr>\n    <tr>\n      <th>102</th>\n      <td>bus</td>\n    </tr>\n    <tr>\n      <th>103</th>\n      <td>truck</td>\n    </tr>\n    <tr>\n      <th>104</th>\n      <td>special</td>\n    </tr>\n    <tr>\n      <th>111</th>\n      <td>bicycle</td>\n    </tr>\n    <tr>\n      <th>112</th>\n      <td>scooter</td>\n    </tr>\n    <tr>\n      <th>113</th>\n      <td>wheelchair</td>\n    </tr>\n    <tr>\n      <th>210</th>\n      <td>biker</td>\n    </tr>\n    <tr>\n      <th>211</th>\n      <td>cyclist</td>\n    </tr>\n    <tr>\n      <th>212</th>\n      <td>scooter rider</td>\n    </tr>\n    <tr>\n      <th>213</th>\n      <td>tricyclist</td>\n    </tr>\n    <tr>\n      <th>214</th>\n      <td>wheelchair user</td>\n    </tr>\n    <tr>\n      <th>1040</th>\n      <td>police</td>\n    </tr>\n    <tr>\n      <th>1041</th>\n      <td>ambulance</td>\n    </tr>\n    <tr>\n      <th>1042</th>\n      <td>firefighter</td>\n    </tr>\n    <tr>\n      <th>1100</th>\n      <td>motorbike</td>\n    </tr>\n    <tr>\n      <th>1121</th>\n      <td>standing scooter</td>\n    </tr>\n  </tbody>\n</table>\n</div>",
          "text/plain": "                             category string\ncategorty_id                                \n1                                    vehicle\n2                                     person\n3                                       tool\n6                          abandoned objects\n10                                       car\n11                               two-wheeler\n12                                     train\n20                           standing person\n21                            sitting person\n22                             laying person\n28                                    packet\n29                                       bag\n30                                  suitcase\n31                                      head\n32                               light truck\n33                               heavy truck\n34                             garbage truck\n36                                dump truck\n37                        truck with trailer\n38                     truck without trailer\n40                                tank truck\n41                                       dog\n42                                motorcycle\n43                           heavy equipment\n44                                   animals\n46            personnal protection equipment\n47                           utility vehicle\n48                                   minibus\n49                                      taxi\n50                                body parts\n51                             vehicle parts\n52                                taxi light\n53                             safety helmet\n54                               safety vest\n55                          domestic animals\n100                                    sedan\n101                                      van\n102                                      bus\n103                                    truck\n104                                  special\n111                                  bicycle\n112                                  scooter\n113                               wheelchair\n210                                    biker\n211                                  cyclist\n212                            scooter rider\n213                               tricyclist\n214                          wheelchair user\n1040                                  police\n1041                               ambulance\n1042                             firefighter\n1100                               motorbike\n1121                        standing scooter"
         },
         "metadata": {},
         "output_type": "display_data"
        }
       ]
      }
     },
     "433b79eefef2432cb2d271b2980908f4": {
      "model_module": "@jupyter-widgets/base",
      "model_module_version": "2.0.0",
      "model_name": "LayoutModel",
      "state": {}
     },
     "435a253358ee40b2ae4b9b78ed6e0420": {
      "model_module": "@jupyter-widgets/base",
      "model_module_version": "2.0.0",
      "model_name": "LayoutModel",
      "state": {}
     },
     "43c073cc9f424de48c30316b36b49711": {
      "model_module": "@jupyter-widgets/base",
      "model_module_version": "2.0.0",
      "model_name": "LayoutModel",
      "state": {}
     },
     "43d72f13d0594ed1b5aafeb7cad5bc33": {
      "model_module": "@jupyter-widgets/base",
      "model_module_version": "2.0.0",
      "model_name": "LayoutModel",
      "state": {}
     },
     "4453bdfbfd434f478b4467670e3dcbd6": {
      "model_module": "@jupyter-widgets/controls",
      "model_module_version": "2.0.0",
      "model_name": "TabModel",
      "state": {
       "children": [
        "IPY_MODEL_1f21ae6e138440799b28133cb16495b7",
        "IPY_MODEL_7ff4793f81ec470f8ce51b6171230be5",
        "IPY_MODEL_f464277d43214263af79e605f4df030d"
       ],
       "layout": "IPY_MODEL_603dfb4f1a4049b98545e73a697feb9c",
       "selected_index": 0,
       "titles": [
        "Images",
        "Annotations",
        "Label Map"
       ]
      }
     },
     "451afdc207a84bb48c43141996969b5f": {
      "model_module": "@jupyter-widgets/base",
      "model_module_version": "2.0.0",
      "model_name": "LayoutModel",
      "state": {}
     },
     "454fc6bd3ad44af5ba316304a455c910": {
      "model_module": "@jupyter-widgets/output",
      "model_module_version": "1.0.0",
      "model_name": "OutputModel",
      "state": {
       "layout": "IPY_MODEL_4e04be6cd2da4cb19c8ed44ecf7249c5",
       "outputs": [
        {
         "data": {
          "text/html": "<div>\n<style scoped>\n    .dataframe tbody tr th:only-of-type {\n        vertical-align: middle;\n    }\n\n    .dataframe tbody tr th {\n        vertical-align: top;\n    }\n\n    .dataframe thead th {\n        text-align: right;\n    }\n</style>\n<table border=\"1\" class=\"dataframe\">\n  <thead>\n    <tr style=\"text-align: right;\">\n      <th></th>\n      <th>file_name</th>\n      <th>height</th>\n      <th>width</th>\n      <th>split</th>\n      <th>relative_path</th>\n      <th>type</th>\n    </tr>\n    <tr>\n      <th>id</th>\n      <th></th>\n      <th></th>\n      <th></th>\n      <th></th>\n      <th></th>\n      <th></th>\n    </tr>\n  </thead>\n  <tbody>\n    <tr>\n      <th>352582</th>\n      <td>000000352582.jpg</td>\n      <td>640</td>\n      <td>425</td>\n      <td>valid</td>\n      <td>Images/valid/000000352582.jpg</td>\n      <td>.jpg</td>\n    </tr>\n    <tr>\n      <th>58393</th>\n      <td>000000058393.jpg</td>\n      <td>486</td>\n      <td>640</td>\n      <td>valid</td>\n      <td>Images/valid/000000058393.jpg</td>\n      <td>.jpg</td>\n    </tr>\n    <tr>\n      <th>310072</th>\n      <td>000000310072.jpg</td>\n      <td>383</td>\n      <td>640</td>\n      <td>valid</td>\n      <td>Images/valid/000000310072.jpg</td>\n      <td>.jpg</td>\n    </tr>\n    <tr>\n      <th>519208</th>\n      <td>000000519208.jpg</td>\n      <td>406</td>\n      <td>640</td>\n      <td>valid</td>\n      <td>Images/valid/000000519208.jpg</td>\n      <td>.jpg</td>\n    </tr>\n    <tr>\n      <th>38048</th>\n      <td>000000038048.jpg</td>\n      <td>500</td>\n      <td>299</td>\n      <td>valid</td>\n      <td>Images/valid/000000038048.jpg</td>\n      <td>.jpg</td>\n    </tr>\n    <tr>\n      <th>...</th>\n      <td>...</td>\n      <td>...</td>\n      <td>...</td>\n      <td>...</td>\n      <td>...</td>\n      <td>...</td>\n    </tr>\n    <tr>\n      <th>185409</th>\n      <td>000000185409.jpg</td>\n      <td>424</td>\n      <td>640</td>\n      <td>valid</td>\n      <td>Images/valid/000000185409.jpg</td>\n      <td>.jpg</td>\n    </tr>\n    <tr>\n      <th>577976</th>\n      <td>000000577976.jpg</td>\n      <td>428</td>\n      <td>640</td>\n      <td>valid</td>\n      <td>Images/valid/000000577976.jpg</td>\n      <td>.jpg</td>\n    </tr>\n    <tr>\n      <th>363188</th>\n      <td>000000363188.jpg</td>\n      <td>425</td>\n      <td>640</td>\n      <td>valid</td>\n      <td>Images/valid/000000363188.jpg</td>\n      <td>.jpg</td>\n    </tr>\n    <tr>\n      <th>302030</th>\n      <td>000000302030.jpg</td>\n      <td>359</td>\n      <td>640</td>\n      <td>valid</td>\n      <td>Images/valid/000000302030.jpg</td>\n      <td>.jpg</td>\n    </tr>\n    <tr>\n      <th>428280</th>\n      <td>000000428280.jpg</td>\n      <td>333</td>\n      <td>500</td>\n      <td>valid</td>\n      <td>Images/valid/000000428280.jpg</td>\n      <td>.jpg</td>\n    </tr>\n  </tbody>\n</table>\n<p>2500 rows × 6 columns</p>\n</div>",
          "text/plain": "               file_name  height  width  split                  relative_path  \\\nid                                                                              \n352582  000000352582.jpg     640    425  valid  Images/valid/000000352582.jpg   \n58393   000000058393.jpg     486    640  valid  Images/valid/000000058393.jpg   \n310072  000000310072.jpg     383    640  valid  Images/valid/000000310072.jpg   \n519208  000000519208.jpg     406    640  valid  Images/valid/000000519208.jpg   \n38048   000000038048.jpg     500    299  valid  Images/valid/000000038048.jpg   \n...                  ...     ...    ...    ...                            ...   \n185409  000000185409.jpg     424    640  valid  Images/valid/000000185409.jpg   \n577976  000000577976.jpg     428    640  valid  Images/valid/000000577976.jpg   \n363188  000000363188.jpg     425    640  valid  Images/valid/000000363188.jpg   \n302030  000000302030.jpg     359    640  valid  Images/valid/000000302030.jpg   \n428280  000000428280.jpg     333    500  valid  Images/valid/000000428280.jpg   \n\n        type  \nid            \n352582  .jpg  \n58393   .jpg  \n310072  .jpg  \n519208  .jpg  \n38048   .jpg  \n...      ...  \n185409  .jpg  \n577976  .jpg  \n363188  .jpg  \n302030  .jpg  \n428280  .jpg  \n\n[2500 rows x 6 columns]"
         },
         "metadata": {},
         "output_type": "display_data"
        }
       ]
      }
     },
     "45bdd5ee1aea417ebe4b84d5b6e3caf7": {
      "model_module": "@jupyter-widgets/base",
      "model_module_version": "2.0.0",
      "model_name": "LayoutModel",
      "state": {}
     },
     "45f210d3b0c24660a74b506ef2ec440a": {
      "model_module": "@jupyter-widgets/base",
      "model_module_version": "2.0.0",
      "model_name": "LayoutModel",
      "state": {}
     },
     "46076e4f3f4e4cd681ac2f252c109cf1": {
      "model_module": "@jupyter-widgets/controls",
      "model_module_version": "2.0.0",
      "model_name": "VBoxModel",
      "state": {
       "children": [
        "IPY_MODEL_a989a5bef80145caa2e24fd9b6b51455",
        "IPY_MODEL_c22b367711a44ffd96f76b526300fc4e"
       ],
       "layout": "IPY_MODEL_9f673f0161004c0da42f7e323ca6a418"
      }
     },
     "46afb99deba8413cb2a4d42dbe076ab7": {
      "model_module": "@jupyter-widgets/base",
      "model_module_version": "2.0.0",
      "model_name": "LayoutModel",
      "state": {}
     },
     "46b4f6292e36467e88caddebc97008be": {
      "model_module": "@jupyter-widgets/controls",
      "model_module_version": "2.0.0",
      "model_name": "HTMLStyleModel",
      "state": {
       "description_width": "",
       "font_size": null,
       "text_color": null
      }
     },
     "47591248e16b4f4a814d17e4b7d3cf1d": {
      "model_module": "@jupyter-widgets/base",
      "model_module_version": "2.0.0",
      "model_name": "LayoutModel",
      "state": {}
     },
     "477fbf50b15f451a8fd373e5db89ff2b": {
      "model_module": "@jupyter-widgets/base",
      "model_module_version": "2.0.0",
      "model_name": "LayoutModel",
      "state": {}
     },
     "47ec6c9a88cc43b6914cb3d3085dd682": {
      "model_module": "@jupyter-widgets/controls",
      "model_module_version": "2.0.0",
      "model_name": "HTMLStyleModel",
      "state": {
       "description_width": "",
       "font_size": null,
       "text_color": null
      }
     },
     "4828b4112bd646ccabb4874d22e339c7": {
      "model_module": "@jupyter-widgets/controls",
      "model_module_version": "2.0.0",
      "model_name": "TabModel",
      "state": {
       "children": [
        "IPY_MODEL_a5fd527a6b0b4fb59ca7915424894ecb",
        "IPY_MODEL_5851b3bccf084752a4d1739d84500899",
        "IPY_MODEL_8e93557cfad44ad0935592daedbe2633"
       ],
       "layout": "IPY_MODEL_477fbf50b15f451a8fd373e5db89ff2b",
       "selected_index": 0,
       "titles": [
        "Images",
        "Annotations",
        "Label Map"
       ]
      }
     },
     "484551cf328241a0adec8b0bcfc5db8d": {
      "model_module": "@jupyter-widgets/output",
      "model_module_version": "1.0.0",
      "model_name": "OutputModel",
      "state": {
       "layout": "IPY_MODEL_117c5d70c51f476e8eace99182c62a9f",
       "outputs": [
        {
         "data": {
          "text/html": "<div>\n<style scoped>\n    .dataframe tbody tr th:only-of-type {\n        vertical-align: middle;\n    }\n\n    .dataframe tbody tr th {\n        vertical-align: top;\n    }\n\n    .dataframe thead th {\n        text-align: right;\n    }\n</style>\n<table border=\"1\" class=\"dataframe\">\n  <thead>\n    <tr style=\"text-align: right;\">\n      <th></th>\n      <th>file_name</th>\n      <th>height</th>\n      <th>width</th>\n      <th>split</th>\n      <th>relative_path</th>\n      <th>type</th>\n    </tr>\n    <tr>\n      <th>id</th>\n      <th></th>\n      <th></th>\n      <th></th>\n      <th></th>\n      <th></th>\n      <th></th>\n    </tr>\n  </thead>\n  <tbody>\n    <tr>\n      <th>352582</th>\n      <td>000000352582.jpg</td>\n      <td>640</td>\n      <td>425</td>\n      <td>valid</td>\n      <td>Images/valid/000000352582.jpg</td>\n      <td>.jpg</td>\n    </tr>\n    <tr>\n      <th>58393</th>\n      <td>000000058393.jpg</td>\n      <td>486</td>\n      <td>640</td>\n      <td>valid</td>\n      <td>Images/valid/000000058393.jpg</td>\n      <td>.jpg</td>\n    </tr>\n    <tr>\n      <th>310072</th>\n      <td>000000310072.jpg</td>\n      <td>383</td>\n      <td>640</td>\n      <td>valid</td>\n      <td>Images/valid/000000310072.jpg</td>\n      <td>.jpg</td>\n    </tr>\n    <tr>\n      <th>519208</th>\n      <td>000000519208.jpg</td>\n      <td>406</td>\n      <td>640</td>\n      <td>valid</td>\n      <td>Images/valid/000000519208.jpg</td>\n      <td>.jpg</td>\n    </tr>\n    <tr>\n      <th>38048</th>\n      <td>000000038048.jpg</td>\n      <td>500</td>\n      <td>299</td>\n      <td>valid</td>\n      <td>Images/valid/000000038048.jpg</td>\n      <td>.jpg</td>\n    </tr>\n    <tr>\n      <th>...</th>\n      <td>...</td>\n      <td>...</td>\n      <td>...</td>\n      <td>...</td>\n      <td>...</td>\n      <td>...</td>\n    </tr>\n    <tr>\n      <th>885</th>\n      <td>000000000885.jpg</td>\n      <td>427</td>\n      <td>640</td>\n      <td>valid</td>\n      <td>Images/valid/000000000885.jpg</td>\n      <td>.jpg</td>\n    </tr>\n    <tr>\n      <th>189806</th>\n      <td>000000189806.jpg</td>\n      <td>400</td>\n      <td>500</td>\n      <td>valid</td>\n      <td>Images/valid/000000189806.jpg</td>\n      <td>.jpg</td>\n    </tr>\n    <tr>\n      <th>311180</th>\n      <td>000000311180.jpg</td>\n      <td>640</td>\n      <td>480</td>\n      <td>valid</td>\n      <td>Images/valid/000000311180.jpg</td>\n      <td>.jpg</td>\n    </tr>\n    <tr>\n      <th>105455</th>\n      <td>000000105455.jpg</td>\n      <td>640</td>\n      <td>427</td>\n      <td>valid</td>\n      <td>Images/valid/000000105455.jpg</td>\n      <td>.jpg</td>\n    </tr>\n    <tr>\n      <th>349837</th>\n      <td>000000349837.jpg</td>\n      <td>333</td>\n      <td>500</td>\n      <td>valid</td>\n      <td>Images/valid/000000349837.jpg</td>\n      <td>.jpg</td>\n    </tr>\n  </tbody>\n</table>\n<p>5000 rows × 6 columns</p>\n</div>",
          "text/plain": "               file_name  height  width  split                  relative_path  \\\nid                                                                              \n352582  000000352582.jpg     640    425  valid  Images/valid/000000352582.jpg   \n58393   000000058393.jpg     486    640  valid  Images/valid/000000058393.jpg   \n310072  000000310072.jpg     383    640  valid  Images/valid/000000310072.jpg   \n519208  000000519208.jpg     406    640  valid  Images/valid/000000519208.jpg   \n38048   000000038048.jpg     500    299  valid  Images/valid/000000038048.jpg   \n...                  ...     ...    ...    ...                            ...   \n885     000000000885.jpg     427    640  valid  Images/valid/000000000885.jpg   \n189806  000000189806.jpg     400    500  valid  Images/valid/000000189806.jpg   \n311180  000000311180.jpg     640    480  valid  Images/valid/000000311180.jpg   \n105455  000000105455.jpg     640    427  valid  Images/valid/000000105455.jpg   \n349837  000000349837.jpg     333    500  valid  Images/valid/000000349837.jpg   \n\n        type  \nid            \n352582  .jpg  \n58393   .jpg  \n310072  .jpg  \n519208  .jpg  \n38048   .jpg  \n...      ...  \n885     .jpg  \n189806  .jpg  \n311180  .jpg  \n105455  .jpg  \n349837  .jpg  \n\n[5000 rows x 6 columns]"
         },
         "metadata": {},
         "output_type": "display_data"
        }
       ]
      }
     },
     "48f70d7c8534452daf54dc50c7e7e162": {
      "model_module": "@jupyter-widgets/controls",
      "model_module_version": "2.0.0",
      "model_name": "HTMLModel",
      "state": {
       "layout": "IPY_MODEL_3d91c0c2009a46e6b07a277584381a50",
       "style": "IPY_MODEL_4b6ddd7759d7484da01f819da1a99647",
       "value": "<b> Dataset object located at notebook_data, containing 2,500 images and 18,670 objects </b>"
      }
     },
     "49a168525b3e441895d0d9d5e56aa732": {
      "model_module": "@jupyter-widgets/base",
      "model_module_version": "2.0.0",
      "model_name": "LayoutModel",
      "state": {}
     },
     "49aa9a047a264bf786925342c56d6a1d": {
      "model_module": "@jupyter-widgets/base",
      "model_module_version": "2.0.0",
      "model_name": "LayoutModel",
      "state": {}
     },
     "49d6c17295be4921aa2692f4c434f365": {
      "model_module": "@jupyter-widgets/controls",
      "model_module_version": "2.0.0",
      "model_name": "HTMLStyleModel",
      "state": {
       "description_width": "",
       "font_size": null,
       "text_color": null
      }
     },
     "4a8b84454200484ca02fdaf790bf5929": {
      "model_module": "@jupyter-widgets/controls",
      "model_module_version": "2.0.0",
      "model_name": "VBoxModel",
      "state": {
       "children": [
        "IPY_MODEL_2495131f87d640bebb16d612212fe8cc",
        "IPY_MODEL_4828b4112bd646ccabb4874d22e339c7"
       ],
       "layout": "IPY_MODEL_207d006aa3cf4f79872b348212bd4e7a"
      }
     },
     "4af1db6537cb4835ba4ce6a523739ebf": {
      "model_module": "@jupyter-widgets/base",
      "model_module_version": "2.0.0",
      "model_name": "LayoutModel",
      "state": {}
     },
     "4b6ddd7759d7484da01f819da1a99647": {
      "model_module": "@jupyter-widgets/controls",
      "model_module_version": "2.0.0",
      "model_name": "HTMLStyleModel",
      "state": {
       "description_width": "",
       "font_size": null,
       "text_color": null
      }
     },
     "4bad56a7622f4b05adf6f780353152e9": {
      "model_module": "@jupyter-widgets/controls",
      "model_module_version": "2.0.0",
      "model_name": "VBoxModel",
      "state": {
       "children": [
        "IPY_MODEL_48f70d7c8534452daf54dc50c7e7e162",
        "IPY_MODEL_24deaf99588849e6a2fc45190da5c79d"
       ],
       "layout": "IPY_MODEL_663f2054b53640efa766c8f7e38399d6"
      }
     },
     "4c2308f2002645969324c23415d8839f": {
      "model_module": "@jupyter-widgets/controls",
      "model_module_version": "2.0.0",
      "model_name": "TabModel",
      "state": {
       "children": [
        "IPY_MODEL_9c79d45604f643a6bf27c097312a6462",
        "IPY_MODEL_ede87f5976884a85a95c7ee126782ab0",
        "IPY_MODEL_340f5b8d4b41486c9e76434a325d3796"
       ],
       "layout": "IPY_MODEL_5b086df15bfb49f1b1cdeaa4df73a633",
       "selected_index": 0,
       "titles": [
        "Images",
        "Annotations",
        "Label Map"
       ]
      }
     },
     "4c83a20da7f746f1965d78e1b066fb5b": {
      "model_module": "@jupyter-widgets/output",
      "model_module_version": "1.0.0",
      "model_name": "OutputModel",
      "state": {
       "layout": "IPY_MODEL_6f573b537e7c419fa865939bcb666912",
       "outputs": [
        {
         "data": {
          "text/html": "<div>\n<style scoped>\n    .dataframe tbody tr th:only-of-type {\n        vertical-align: middle;\n    }\n\n    .dataframe tbody tr th {\n        vertical-align: top;\n    }\n\n    .dataframe thead th {\n        text-align: right;\n    }\n</style>\n<table border=\"1\" class=\"dataframe\">\n  <thead>\n    <tr style=\"text-align: right;\">\n      <th></th>\n      <th>file_name</th>\n      <th>height</th>\n      <th>width</th>\n      <th>split</th>\n      <th>relative_path</th>\n      <th>type</th>\n    </tr>\n    <tr>\n      <th>id</th>\n      <th></th>\n      <th></th>\n      <th></th>\n      <th></th>\n      <th></th>\n      <th></th>\n    </tr>\n  </thead>\n  <tbody>\n    <tr>\n      <th>352582</th>\n      <td>000000352582.jpg</td>\n      <td>640</td>\n      <td>425</td>\n      <td>valid</td>\n      <td>Images/valid/000000352582.jpg</td>\n      <td>.jpg</td>\n    </tr>\n    <tr>\n      <th>113354</th>\n      <td>000000113354.jpg</td>\n      <td>480</td>\n      <td>640</td>\n      <td>valid</td>\n      <td>Images/valid/000000113354.jpg</td>\n      <td>.jpg</td>\n    </tr>\n    <tr>\n      <th>58393</th>\n      <td>000000058393.jpg</td>\n      <td>486</td>\n      <td>640</td>\n      <td>valid</td>\n      <td>Images/valid/000000058393.jpg</td>\n      <td>.jpg</td>\n    </tr>\n    <tr>\n      <th>147729</th>\n      <td>000000147729.jpg</td>\n      <td>375</td>\n      <td>500</td>\n      <td>valid</td>\n      <td>Images/valid/000000147729.jpg</td>\n      <td>.jpg</td>\n    </tr>\n    <tr>\n      <th>310072</th>\n      <td>000000310072.jpg</td>\n      <td>383</td>\n      <td>640</td>\n      <td>valid</td>\n      <td>Images/valid/000000310072.jpg</td>\n      <td>.jpg</td>\n    </tr>\n    <tr>\n      <th>...</th>\n      <td>...</td>\n      <td>...</td>\n      <td>...</td>\n      <td>...</td>\n      <td>...</td>\n      <td>...</td>\n    </tr>\n    <tr>\n      <th>311180</th>\n      <td>000000311180.jpg</td>\n      <td>640</td>\n      <td>480</td>\n      <td>valid</td>\n      <td>Images/valid/000000311180.jpg</td>\n      <td>.jpg</td>\n    </tr>\n    <tr>\n      <th>302030</th>\n      <td>000000302030.jpg</td>\n      <td>359</td>\n      <td>640</td>\n      <td>valid</td>\n      <td>Images/valid/000000302030.jpg</td>\n      <td>.jpg</td>\n    </tr>\n    <tr>\n      <th>105455</th>\n      <td>000000105455.jpg</td>\n      <td>640</td>\n      <td>427</td>\n      <td>valid</td>\n      <td>Images/valid/000000105455.jpg</td>\n      <td>.jpg</td>\n    </tr>\n    <tr>\n      <th>428280</th>\n      <td>000000428280.jpg</td>\n      <td>333</td>\n      <td>500</td>\n      <td>valid</td>\n      <td>Images/valid/000000428280.jpg</td>\n      <td>.jpg</td>\n    </tr>\n    <tr>\n      <th>349837</th>\n      <td>000000349837.jpg</td>\n      <td>333</td>\n      <td>500</td>\n      <td>valid</td>\n      <td>Images/valid/000000349837.jpg</td>\n      <td>.jpg</td>\n    </tr>\n  </tbody>\n</table>\n<p>5000 rows × 6 columns</p>\n</div>",
          "text/plain": "               file_name  height  width  split                  relative_path  \\\nid                                                                              \n352582  000000352582.jpg     640    425  valid  Images/valid/000000352582.jpg   \n113354  000000113354.jpg     480    640  valid  Images/valid/000000113354.jpg   \n58393   000000058393.jpg     486    640  valid  Images/valid/000000058393.jpg   \n147729  000000147729.jpg     375    500  valid  Images/valid/000000147729.jpg   \n310072  000000310072.jpg     383    640  valid  Images/valid/000000310072.jpg   \n...                  ...     ...    ...    ...                            ...   \n311180  000000311180.jpg     640    480  valid  Images/valid/000000311180.jpg   \n302030  000000302030.jpg     359    640  valid  Images/valid/000000302030.jpg   \n105455  000000105455.jpg     640    427  valid  Images/valid/000000105455.jpg   \n428280  000000428280.jpg     333    500  valid  Images/valid/000000428280.jpg   \n349837  000000349837.jpg     333    500  valid  Images/valid/000000349837.jpg   \n\n        type  \nid            \n352582  .jpg  \n113354  .jpg  \n58393   .jpg  \n147729  .jpg  \n310072  .jpg  \n...      ...  \n311180  .jpg  \n302030  .jpg  \n105455  .jpg  \n428280  .jpg  \n349837  .jpg  \n\n[5000 rows x 6 columns]"
         },
         "metadata": {},
         "output_type": "display_data"
        }
       ]
      }
     },
     "4e04be6cd2da4cb19c8ed44ecf7249c5": {
      "model_module": "@jupyter-widgets/base",
      "model_module_version": "2.0.0",
      "model_name": "LayoutModel",
      "state": {}
     },
     "4e27a791e7834f7785ca1660c19e3826": {
      "model_module": "@jupyter-widgets/output",
      "model_module_version": "1.0.0",
      "model_name": "OutputModel",
      "state": {
       "layout": "IPY_MODEL_b9b1e3973910428fac8bcb57ae57f925",
       "outputs": [
        {
         "data": {
          "text/html": "<div>\n<style scoped>\n    .dataframe tbody tr th:only-of-type {\n        vertical-align: middle;\n    }\n\n    .dataframe tbody tr th {\n        vertical-align: top;\n    }\n\n    .dataframe thead th {\n        text-align: right;\n    }\n</style>\n<table border=\"1\" class=\"dataframe\">\n  <thead>\n    <tr style=\"text-align: right;\">\n      <th></th>\n      <th>category string</th>\n    </tr>\n    <tr>\n      <th>categorty_id</th>\n      <th></th>\n    </tr>\n  </thead>\n  <tbody>\n    <tr>\n      <th>1</th>\n      <td>Vehicle</td>\n    </tr>\n    <tr>\n      <th>2</th>\n      <td>Bag</td>\n    </tr>\n    <tr>\n      <th>3</th>\n      <td>Animal</td>\n    </tr>\n  </tbody>\n</table>\n</div>",
          "text/plain": "             category string\ncategorty_id                \n1                    Vehicle\n2                        Bag\n3                     Animal"
         },
         "metadata": {},
         "output_type": "display_data"
        }
       ]
      }
     },
     "4ed243856f3040d2a22dbddee434fb4f": {
      "model_module": "@jupyter-widgets/base",
      "model_module_version": "2.0.0",
      "model_name": "LayoutModel",
      "state": {}
     },
     "4ef5435edf1c4143a6511187cda1c551": {
      "model_module": "@jupyter-widgets/base",
      "model_module_version": "2.0.0",
      "model_name": "LayoutModel",
      "state": {}
     },
     "4fb77b8e036d4e5c999a23589d5cb361": {
      "model_module": "@jupyter-widgets/base",
      "model_module_version": "2.0.0",
      "model_name": "LayoutModel",
      "state": {}
     },
     "501340effa424f7b9839d2689f21b377": {
      "model_module": "@jupyter-widgets/controls",
      "model_module_version": "2.0.0",
      "model_name": "HTMLStyleModel",
      "state": {
       "description_width": "",
       "font_size": null,
       "text_color": null
      }
     },
     "5031f03974b24f97852fa6884825ef99": {
      "model_module": "@jupyter-widgets/output",
      "model_module_version": "1.0.0",
      "model_name": "OutputModel",
      "state": {
       "layout": "IPY_MODEL_43c073cc9f424de48c30316b36b49711",
       "outputs": [
        {
         "data": {
          "text/html": "<div>\n<style scoped>\n    .dataframe tbody tr th:only-of-type {\n        vertical-align: middle;\n    }\n\n    .dataframe tbody tr th {\n        vertical-align: top;\n    }\n\n    .dataframe thead th {\n        text-align: right;\n    }\n</style>\n<table border=\"1\" class=\"dataframe\">\n  <thead>\n    <tr style=\"text-align: right;\">\n      <th></th>\n      <th>category string</th>\n    </tr>\n    <tr>\n      <th>categorty_id</th>\n      <th></th>\n    </tr>\n  </thead>\n  <tbody>\n    <tr>\n      <th>2</th>\n      <td>person</td>\n    </tr>\n    <tr>\n      <th>10</th>\n      <td>car</td>\n    </tr>\n    <tr>\n      <th>12</th>\n      <td>train</td>\n    </tr>\n    <tr>\n      <th>41</th>\n      <td>domestical animal</td>\n    </tr>\n    <tr>\n      <th>60</th>\n      <td>suitcase</td>\n    </tr>\n    <tr>\n      <th>61</th>\n      <td>bag</td>\n    </tr>\n    <tr>\n      <th>100</th>\n      <td>sedan</td>\n    </tr>\n    <tr>\n      <th>102</th>\n      <td>bus</td>\n    </tr>\n    <tr>\n      <th>110</th>\n      <td>motorcycle</td>\n    </tr>\n    <tr>\n      <th>111</th>\n      <td>bicycle</td>\n    </tr>\n    <tr>\n      <th>410</th>\n      <td>dog</td>\n    </tr>\n  </tbody>\n</table>\n</div>",
          "text/plain": "                category string\ncategorty_id                   \n2                        person\n10                          car\n12                        train\n41            domestical animal\n60                     suitcase\n61                          bag\n100                       sedan\n102                         bus\n110                  motorcycle\n111                     bicycle\n410                         dog"
         },
         "metadata": {},
         "output_type": "display_data"
        }
       ]
      }
     },
     "503649a5fe3b4e8186e67cdd56107044": {
      "model_module": "@jupyter-widgets/base",
      "model_module_version": "2.0.0",
      "model_name": "LayoutModel",
      "state": {}
     },
     "50818b474e244d5aa28cc136d364cdfe": {
      "model_module": "@jupyter-widgets/base",
      "model_module_version": "2.0.0",
      "model_name": "LayoutModel",
      "state": {}
     },
     "513c5a6cfd9b4459bcd39b037212637b": {
      "model_module": "@jupyter-widgets/output",
      "model_module_version": "1.0.0",
      "model_name": "OutputModel",
      "state": {
       "layout": "IPY_MODEL_5f09fcaedacb4eae9e92841bd7d59a80",
       "outputs": [
        {
         "data": {
          "text/html": "<div>\n<style scoped>\n    .dataframe tbody tr th:only-of-type {\n        vertical-align: middle;\n    }\n\n    .dataframe tbody tr th {\n        vertical-align: top;\n    }\n\n    .dataframe thead th {\n        text-align: right;\n    }\n</style>\n<table border=\"1\" class=\"dataframe\">\n  <thead>\n    <tr style=\"text-align: right;\">\n      <th></th>\n      <th>file_name</th>\n      <th>height</th>\n      <th>width</th>\n      <th>split</th>\n      <th>relative_path</th>\n      <th>type</th>\n    </tr>\n    <tr>\n      <th>id</th>\n      <th></th>\n      <th></th>\n      <th></th>\n      <th></th>\n      <th></th>\n      <th></th>\n    </tr>\n  </thead>\n  <tbody>\n    <tr>\n      <th>352582</th>\n      <td>000000352582.jpg</td>\n      <td>640</td>\n      <td>425</td>\n      <td>valid</td>\n      <td>Images/valid/000000352582.jpg</td>\n      <td>.jpg</td>\n    </tr>\n    <tr>\n      <th>58393</th>\n      <td>000000058393.jpg</td>\n      <td>486</td>\n      <td>640</td>\n      <td>valid</td>\n      <td>Images/valid/000000058393.jpg</td>\n      <td>.jpg</td>\n    </tr>\n    <tr>\n      <th>310072</th>\n      <td>000000310072.jpg</td>\n      <td>383</td>\n      <td>640</td>\n      <td>valid</td>\n      <td>Images/valid/000000310072.jpg</td>\n      <td>.jpg</td>\n    </tr>\n    <tr>\n      <th>519208</th>\n      <td>000000519208.jpg</td>\n      <td>406</td>\n      <td>640</td>\n      <td>valid</td>\n      <td>Images/valid/000000519208.jpg</td>\n      <td>.jpg</td>\n    </tr>\n    <tr>\n      <th>38048</th>\n      <td>000000038048.jpg</td>\n      <td>500</td>\n      <td>299</td>\n      <td>valid</td>\n      <td>Images/valid/000000038048.jpg</td>\n      <td>.jpg</td>\n    </tr>\n    <tr>\n      <th>...</th>\n      <td>...</td>\n      <td>...</td>\n      <td>...</td>\n      <td>...</td>\n      <td>...</td>\n      <td>...</td>\n    </tr>\n    <tr>\n      <th>185409</th>\n      <td>000000185409.jpg</td>\n      <td>424</td>\n      <td>640</td>\n      <td>valid</td>\n      <td>Images/valid/000000185409.jpg</td>\n      <td>.jpg</td>\n    </tr>\n    <tr>\n      <th>577976</th>\n      <td>000000577976.jpg</td>\n      <td>428</td>\n      <td>640</td>\n      <td>valid</td>\n      <td>Images/valid/000000577976.jpg</td>\n      <td>.jpg</td>\n    </tr>\n    <tr>\n      <th>363188</th>\n      <td>000000363188.jpg</td>\n      <td>425</td>\n      <td>640</td>\n      <td>valid</td>\n      <td>Images/valid/000000363188.jpg</td>\n      <td>.jpg</td>\n    </tr>\n    <tr>\n      <th>302030</th>\n      <td>000000302030.jpg</td>\n      <td>359</td>\n      <td>640</td>\n      <td>valid</td>\n      <td>Images/valid/000000302030.jpg</td>\n      <td>.jpg</td>\n    </tr>\n    <tr>\n      <th>428280</th>\n      <td>000000428280.jpg</td>\n      <td>333</td>\n      <td>500</td>\n      <td>valid</td>\n      <td>Images/valid/000000428280.jpg</td>\n      <td>.jpg</td>\n    </tr>\n  </tbody>\n</table>\n<p>2500 rows × 6 columns</p>\n</div>",
          "text/plain": "               file_name  height  width  split                  relative_path  \\\nid                                                                              \n352582  000000352582.jpg     640    425  valid  Images/valid/000000352582.jpg   \n58393   000000058393.jpg     486    640  valid  Images/valid/000000058393.jpg   \n310072  000000310072.jpg     383    640  valid  Images/valid/000000310072.jpg   \n519208  000000519208.jpg     406    640  valid  Images/valid/000000519208.jpg   \n38048   000000038048.jpg     500    299  valid  Images/valid/000000038048.jpg   \n...                  ...     ...    ...    ...                            ...   \n185409  000000185409.jpg     424    640  valid  Images/valid/000000185409.jpg   \n577976  000000577976.jpg     428    640  valid  Images/valid/000000577976.jpg   \n363188  000000363188.jpg     425    640  valid  Images/valid/000000363188.jpg   \n302030  000000302030.jpg     359    640  valid  Images/valid/000000302030.jpg   \n428280  000000428280.jpg     333    500  valid  Images/valid/000000428280.jpg   \n\n        type  \nid            \n352582  .jpg  \n58393   .jpg  \n310072  .jpg  \n519208  .jpg  \n38048   .jpg  \n...      ...  \n185409  .jpg  \n577976  .jpg  \n363188  .jpg  \n302030  .jpg  \n428280  .jpg  \n\n[2500 rows x 6 columns]"
         },
         "metadata": {},
         "output_type": "display_data"
        }
       ]
      }
     },
     "51776a1155c148d7a0d52c124eb32f4f": {
      "model_module": "@jupyter-widgets/controls",
      "model_module_version": "2.0.0",
      "model_name": "HTMLModel",
      "state": {
       "layout": "IPY_MODEL_a948c97c784a47f6a9dee43e2cec5adb",
       "style": "IPY_MODEL_5ef6a0bd03f1408b92ea71638044665a",
       "value": "<b> Dataset object located at notebook_data, containing 2,500 images and 18,670 objects </b>"
      }
     },
     "52663c3959494825aa612cac8ea55d3d": {
      "model_module": "@jupyter-widgets/base",
      "model_module_version": "2.0.0",
      "model_name": "LayoutModel",
      "state": {}
     },
     "529753559e5f4a4081287765ff420dde": {
      "model_module": "@jupyter-widgets/base",
      "model_module_version": "2.0.0",
      "model_name": "LayoutModel",
      "state": {}
     },
     "52c8dda9f5aa4c9585f23541f3287966": {
      "model_module": "@jupyter-widgets/output",
      "model_module_version": "1.0.0",
      "model_name": "OutputModel",
      "state": {
       "layout": "IPY_MODEL_99e65b29956c486faacd6527a3463412",
       "outputs": [
        {
         "data": {
          "text/html": "<div>\n<style scoped>\n    .dataframe tbody tr th:only-of-type {\n        vertical-align: middle;\n    }\n\n    .dataframe tbody tr th {\n        vertical-align: top;\n    }\n\n    .dataframe thead th {\n        text-align: right;\n    }\n</style>\n<table border=\"1\" class=\"dataframe\">\n  <thead>\n    <tr style=\"text-align: right;\">\n      <th></th>\n      <th>area</th>\n      <th>image_id</th>\n      <th>category_id</th>\n      <th>split</th>\n      <th>xmin</th>\n      <th>ymin</th>\n      <th>box_width</th>\n      <th>box_height</th>\n      <th>category_str</th>\n    </tr>\n    <tr>\n      <th>id</th>\n      <th></th>\n      <th></th>\n      <th></th>\n      <th></th>\n      <th></th>\n      <th></th>\n      <th></th>\n      <th></th>\n      <th></th>\n    </tr>\n  </thead>\n  <tbody>\n    <tr>\n      <th>460450</th>\n      <td>48685.67910</td>\n      <td>352582</td>\n      <td>2</td>\n      <td>valid</td>\n      <td>112.43</td>\n      <td>195.32</td>\n      <td>214.78</td>\n      <td>438.19</td>\n      <td>person</td>\n    </tr>\n    <tr>\n      <th>535917</th>\n      <td>22650.73800</td>\n      <td>352582</td>\n      <td>2</td>\n      <td>valid</td>\n      <td>0.00</td>\n      <td>256.00</td>\n      <td>80.54</td>\n      <td>376.81</td>\n      <td>person</td>\n    </tr>\n    <tr>\n      <th>467905</th>\n      <td>5408.64720</td>\n      <td>58393</td>\n      <td>2</td>\n      <td>valid</td>\n      <td>342.52</td>\n      <td>163.33</td>\n      <td>192.24</td>\n      <td>77.47</td>\n      <td>person</td>\n    </tr>\n    <tr>\n      <th>1710990</th>\n      <td>1792.80770</td>\n      <td>58393</td>\n      <td>2</td>\n      <td>valid</td>\n      <td>418.99</td>\n      <td>182.65</td>\n      <td>61.12</td>\n      <td>45.00</td>\n      <td>person</td>\n    </tr>\n    <tr>\n      <th>1238519</th>\n      <td>55847.52705</td>\n      <td>147729</td>\n      <td>2</td>\n      <td>valid</td>\n      <td>0.00</td>\n      <td>87.01</td>\n      <td>310.67</td>\n      <td>287.99</td>\n      <td>person</td>\n    </tr>\n    <tr>\n      <th>...</th>\n      <td>...</td>\n      <td>...</td>\n      <td>...</td>\n      <td>...</td>\n      <td>...</td>\n      <td>...</td>\n      <td>...</td>\n      <td>...</td>\n      <td>...</td>\n    </tr>\n    <tr>\n      <th>1420625</th>\n      <td>865.42470</td>\n      <td>363188</td>\n      <td>61</td>\n      <td>valid</td>\n      <td>221.41</td>\n      <td>199.76</td>\n      <td>91.36</td>\n      <td>63.64</td>\n      <td>bag</td>\n    </tr>\n    <tr>\n      <th>2026890</th>\n      <td>600.52020</td>\n      <td>363188</td>\n      <td>2</td>\n      <td>valid</td>\n      <td>80.77</td>\n      <td>158.46</td>\n      <td>23.14</td>\n      <td>45.34</td>\n      <td>person</td>\n    </tr>\n    <tr>\n      <th>900100363188</th>\n      <td>4293.00000</td>\n      <td>363188</td>\n      <td>2</td>\n      <td>valid</td>\n      <td>0.00</td>\n      <td>129.00</td>\n      <td>305.00</td>\n      <td>115.00</td>\n      <td>person</td>\n    </tr>\n    <tr>\n      <th>1724916</th>\n      <td>125482.38805</td>\n      <td>311180</td>\n      <td>2</td>\n      <td>valid</td>\n      <td>0.92</td>\n      <td>103.12</td>\n      <td>446.49</td>\n      <td>536.47</td>\n      <td>person</td>\n    </tr>\n    <tr>\n      <th>1192747</th>\n      <td>182.21680</td>\n      <td>105455</td>\n      <td>100</td>\n      <td>valid</td>\n      <td>333.56</td>\n      <td>517.21</td>\n      <td>17.43</td>\n      <td>14.58</td>\n      <td>sedan</td>\n    </tr>\n  </tbody>\n</table>\n<p>16147 rows × 9 columns</p>\n</div>",
          "text/plain": "                      area  image_id  category_id  split    xmin    ymin  \\\nid                                                                         \n460450         48685.67910    352582            2  valid  112.43  195.32   \n535917         22650.73800    352582            2  valid    0.00  256.00   \n467905          5408.64720     58393            2  valid  342.52  163.33   \n1710990         1792.80770     58393            2  valid  418.99  182.65   \n1238519        55847.52705    147729            2  valid    0.00   87.01   \n...                    ...       ...          ...    ...     ...     ...   \n1420625          865.42470    363188           61  valid  221.41  199.76   \n2026890          600.52020    363188            2  valid   80.77  158.46   \n900100363188    4293.00000    363188            2  valid    0.00  129.00   \n1724916       125482.38805    311180            2  valid    0.92  103.12   \n1192747          182.21680    105455          100  valid  333.56  517.21   \n\n              box_width  box_height category_str  \nid                                                \n460450           214.78      438.19       person  \n535917            80.54      376.81       person  \n467905           192.24       77.47       person  \n1710990           61.12       45.00       person  \n1238519          310.67      287.99       person  \n...                 ...         ...          ...  \n1420625           91.36       63.64          bag  \n2026890           23.14       45.34       person  \n900100363188     305.00      115.00       person  \n1724916          446.49      536.47       person  \n1192747           17.43       14.58        sedan  \n\n[16147 rows x 9 columns]"
         },
         "metadata": {},
         "output_type": "display_data"
        }
       ]
      }
     },
     "531d02ebafb843ce9e7c08cc4483be7c": {
      "model_module": "@jupyter-widgets/base",
      "model_module_version": "2.0.0",
      "model_name": "LayoutModel",
      "state": {}
     },
     "535488aeece94954ac713474d4060a2d": {
      "model_module": "@jupyter-widgets/controls",
      "model_module_version": "2.0.0",
      "model_name": "VBoxModel",
      "state": {
       "children": [
        "IPY_MODEL_e85759be071841528bf736536aa70c1b",
        "IPY_MODEL_4c2308f2002645969324c23415d8839f"
       ],
       "layout": "IPY_MODEL_dacc5b1aea99482090b3533b1ec5859a"
      }
     },
     "547e88ebb73f4ceab0dab5ab03761c1d": {
      "model_module": "@jupyter-widgets/output",
      "model_module_version": "1.0.0",
      "model_name": "OutputModel",
      "state": {
       "layout": "IPY_MODEL_b512ae0a56e440489c1cf9fab7e4f40e",
       "outputs": [
        {
         "data": {
          "text/html": "<div>\n<style scoped>\n    .dataframe tbody tr th:only-of-type {\n        vertical-align: middle;\n    }\n\n    .dataframe tbody tr th {\n        vertical-align: top;\n    }\n\n    .dataframe thead th {\n        text-align: right;\n    }\n</style>\n<table border=\"1\" class=\"dataframe\">\n  <thead>\n    <tr style=\"text-align: right;\">\n      <th></th>\n      <th>area</th>\n      <th>image_id</th>\n      <th>category_id</th>\n      <th>split</th>\n      <th>xmin</th>\n      <th>ymin</th>\n      <th>box_width</th>\n      <th>box_height</th>\n      <th>category_str</th>\n    </tr>\n    <tr>\n      <th>id</th>\n      <th></th>\n      <th></th>\n      <th></th>\n      <th></th>\n      <th></th>\n      <th></th>\n      <th></th>\n      <th></th>\n      <th></th>\n    </tr>\n  </thead>\n  <tbody>\n    <tr>\n      <th>460450</th>\n      <td>48685.67910</td>\n      <td>352582</td>\n      <td>1</td>\n      <td>valid</td>\n      <td>112.43</td>\n      <td>195.32</td>\n      <td>214.78</td>\n      <td>438.19</td>\n      <td>person</td>\n    </tr>\n    <tr>\n      <th>535917</th>\n      <td>22650.73800</td>\n      <td>352582</td>\n      <td>1</td>\n      <td>valid</td>\n      <td>0.00</td>\n      <td>256.00</td>\n      <td>80.54</td>\n      <td>376.81</td>\n      <td>person</td>\n    </tr>\n    <tr>\n      <th>602093</th>\n      <td>2605.72090</td>\n      <td>352582</td>\n      <td>34</td>\n      <td>valid</td>\n      <td>171.63</td>\n      <td>424.03</td>\n      <td>85.89</td>\n      <td>40.67</td>\n      <td>frisbee</td>\n    </tr>\n    <tr>\n      <th>467905</th>\n      <td>5408.64720</td>\n      <td>58393</td>\n      <td>1</td>\n      <td>valid</td>\n      <td>342.52</td>\n      <td>163.33</td>\n      <td>192.24</td>\n      <td>77.47</td>\n      <td>person</td>\n    </tr>\n    <tr>\n      <th>576900</th>\n      <td>82291.54995</td>\n      <td>58393</td>\n      <td>15</td>\n      <td>valid</td>\n      <td>44.78</td>\n      <td>242.27</td>\n      <td>547.16</td>\n      <td>224.98</td>\n      <td>bench</td>\n    </tr>\n    <tr>\n      <th>...</th>\n      <td>...</td>\n      <td>...</td>\n      <td>...</td>\n      <td>...</td>\n      <td>...</td>\n      <td>...</td>\n      <td>...</td>\n      <td>...</td>\n      <td>...</td>\n    </tr>\n    <tr>\n      <th>109094</th>\n      <td>2069.93800</td>\n      <td>428280</td>\n      <td>62</td>\n      <td>valid</td>\n      <td>187.71</td>\n      <td>114.80</td>\n      <td>44.07</td>\n      <td>66.41</td>\n      <td>chair</td>\n    </tr>\n    <tr>\n      <th>578099</th>\n      <td>13841.81490</td>\n      <td>428280</td>\n      <td>15</td>\n      <td>valid</td>\n      <td>0.75</td>\n      <td>184.42</td>\n      <td>181.43</td>\n      <td>132.90</td>\n      <td>bench</td>\n    </tr>\n    <tr>\n      <th>1101888</th>\n      <td>1405.98065</td>\n      <td>428280</td>\n      <td>73</td>\n      <td>valid</td>\n      <td>118.71</td>\n      <td>138.34</td>\n      <td>44.79</td>\n      <td>35.83</td>\n      <td>laptop</td>\n    </tr>\n    <tr>\n      <th>1117514</th>\n      <td>217.08440</td>\n      <td>428280</td>\n      <td>76</td>\n      <td>valid</td>\n      <td>121.04</td>\n      <td>165.65</td>\n      <td>40.27</td>\n      <td>6.02</td>\n      <td>keyboard</td>\n    </tr>\n    <tr>\n      <th>2190513</th>\n      <td>7696.12525</td>\n      <td>428280</td>\n      <td>62</td>\n      <td>valid</td>\n      <td>203.58</td>\n      <td>179.65</td>\n      <td>105.27</td>\n      <td>139.55</td>\n      <td>chair</td>\n    </tr>\n  </tbody>\n</table>\n<p>18670 rows × 9 columns</p>\n</div>",
          "text/plain": "                area  image_id  category_id  split    xmin    ymin  box_width  \\\nid                                                                              \n460450   48685.67910    352582            1  valid  112.43  195.32     214.78   \n535917   22650.73800    352582            1  valid    0.00  256.00      80.54   \n602093    2605.72090    352582           34  valid  171.63  424.03      85.89   \n467905    5408.64720     58393            1  valid  342.52  163.33     192.24   \n576900   82291.54995     58393           15  valid   44.78  242.27     547.16   \n...              ...       ...          ...    ...     ...     ...        ...   \n109094    2069.93800    428280           62  valid  187.71  114.80      44.07   \n578099   13841.81490    428280           15  valid    0.75  184.42     181.43   \n1101888   1405.98065    428280           73  valid  118.71  138.34      44.79   \n1117514    217.08440    428280           76  valid  121.04  165.65      40.27   \n2190513   7696.12525    428280           62  valid  203.58  179.65     105.27   \n\n         box_height category_str  \nid                                \n460450       438.19       person  \n535917       376.81       person  \n602093        40.67      frisbee  \n467905        77.47       person  \n576900       224.98        bench  \n...             ...          ...  \n109094        66.41        chair  \n578099       132.90        bench  \n1101888       35.83       laptop  \n1117514        6.02     keyboard  \n2190513      139.55        chair  \n\n[18670 rows x 9 columns]"
         },
         "metadata": {},
         "output_type": "display_data"
        }
       ]
      }
     },
     "550390b45b4341f790d0259716ce7e32": {
      "model_module": "@jupyter-widgets/output",
      "model_module_version": "1.0.0",
      "model_name": "OutputModel",
      "state": {
       "layout": "IPY_MODEL_0359b50ba49a49018725ad06d83c30a1",
       "outputs": [
        {
         "data": {
          "text/html": "<div>\n<style scoped>\n    .dataframe tbody tr th:only-of-type {\n        vertical-align: middle;\n    }\n\n    .dataframe tbody tr th {\n        vertical-align: top;\n    }\n\n    .dataframe thead th {\n        text-align: right;\n    }\n</style>\n<table border=\"1\" class=\"dataframe\">\n  <thead>\n    <tr style=\"text-align: right;\">\n      <th></th>\n      <th>category string</th>\n    </tr>\n    <tr>\n      <th>categorty_id</th>\n      <th></th>\n    </tr>\n  </thead>\n  <tbody>\n    <tr>\n      <th>1</th>\n      <td>person</td>\n    </tr>\n    <tr>\n      <th>2</th>\n      <td>bicycle</td>\n    </tr>\n    <tr>\n      <th>3</th>\n      <td>car</td>\n    </tr>\n    <tr>\n      <th>4</th>\n      <td>motorcycle</td>\n    </tr>\n    <tr>\n      <th>5</th>\n      <td>airplane</td>\n    </tr>\n    <tr>\n      <th>...</th>\n      <td>...</td>\n    </tr>\n    <tr>\n      <th>86</th>\n      <td>vase</td>\n    </tr>\n    <tr>\n      <th>87</th>\n      <td>scissors</td>\n    </tr>\n    <tr>\n      <th>88</th>\n      <td>teddy bear</td>\n    </tr>\n    <tr>\n      <th>89</th>\n      <td>hair drier</td>\n    </tr>\n    <tr>\n      <th>90</th>\n      <td>toothbrush</td>\n    </tr>\n  </tbody>\n</table>\n<p>80 rows × 1 columns</p>\n</div>",
          "text/plain": "             category string\ncategorty_id                \n1                     person\n2                    bicycle\n3                        car\n4                 motorcycle\n5                   airplane\n...                      ...\n86                      vase\n87                  scissors\n88                teddy bear\n89                hair drier\n90                toothbrush\n\n[80 rows x 1 columns]"
         },
         "metadata": {},
         "output_type": "display_data"
        }
       ]
      }
     },
     "55b605415adf404eb8dc96ae07b1de48": {
      "model_module": "@jupyter-widgets/base",
      "model_module_version": "2.0.0",
      "model_name": "LayoutModel",
      "state": {}
     },
     "572c1c25c8034f13a8740ac22e7f2829": {
      "model_module": "@jupyter-widgets/controls",
      "model_module_version": "2.0.0",
      "model_name": "HTMLModel",
      "state": {
       "layout": "IPY_MODEL_9601c36d68f44f7ba516c55a4b6ad7ec",
       "style": "IPY_MODEL_46b4f6292e36467e88caddebc97008be",
       "value": "<b> Dataset object located at notebook_data, containing 5,000 images and 36,781 objects </b>"
      }
     },
     "57898f24f8014a66a2569483f3588f64": {
      "model_module": "@jupyter-widgets/output",
      "model_module_version": "1.0.0",
      "model_name": "OutputModel",
      "state": {
       "layout": "IPY_MODEL_4ef5435edf1c4143a6511187cda1c551",
       "outputs": [
        {
         "data": {
          "text/html": "<div>\n<style scoped>\n    .dataframe tbody tr th:only-of-type {\n        vertical-align: middle;\n    }\n\n    .dataframe tbody tr th {\n        vertical-align: top;\n    }\n\n    .dataframe thead th {\n        text-align: right;\n    }\n</style>\n<table border=\"1\" class=\"dataframe\">\n  <thead>\n    <tr style=\"text-align: right;\">\n      <th></th>\n      <th>area</th>\n      <th>box_height</th>\n      <th>box_width</th>\n      <th>category_id</th>\n      <th>category_str</th>\n      <th>image_id</th>\n      <th>split</th>\n      <th>xmin</th>\n      <th>ymin</th>\n    </tr>\n    <tr>\n      <th>id</th>\n      <th></th>\n      <th></th>\n      <th></th>\n      <th></th>\n      <th></th>\n      <th></th>\n      <th></th>\n      <th></th>\n      <th></th>\n    </tr>\n  </thead>\n  <tbody>\n    <tr>\n      <th>283</th>\n      <td>47310.21745</td>\n      <td>290.67</td>\n      <td>288.09</td>\n      <td>58</td>\n      <td>hot dog</td>\n      <td>118367</td>\n      <td>valid</td>\n      <td>154.34</td>\n      <td>31.72</td>\n    </tr>\n    <tr>\n      <th>381</th>\n      <td>107452.60385</td>\n      <td>370.41</td>\n      <td>589.58</td>\n      <td>58</td>\n      <td>hot dog</td>\n      <td>464786</td>\n      <td>valid</td>\n      <td>25.78</td>\n      <td>52.43</td>\n    </tr>\n    <tr>\n      <th>567</th>\n      <td>14878.08055</td>\n      <td>206.45</td>\n      <td>246.36</td>\n      <td>58</td>\n      <td>hot dog</td>\n      <td>581206</td>\n      <td>valid</td>\n      <td>147.27</td>\n      <td>282.15</td>\n    </tr>\n    <tr>\n      <th>760</th>\n      <td>8424.12670</td>\n      <td>146.09</td>\n      <td>134.25</td>\n      <td>58</td>\n      <td>hot dog</td>\n      <td>157601</td>\n      <td>valid</td>\n      <td>110.55</td>\n      <td>188.21</td>\n    </tr>\n    <tr>\n      <th>810</th>\n      <td>3211.34430</td>\n      <td>67.98</td>\n      <td>103.00</td>\n      <td>58</td>\n      <td>hot dog</td>\n      <td>513567</td>\n      <td>valid</td>\n      <td>124.64</td>\n      <td>281.32</td>\n    </tr>\n    <tr>\n      <th>...</th>\n      <td>...</td>\n      <td>...</td>\n      <td>...</td>\n      <td>...</td>\n      <td>...</td>\n      <td>...</td>\n      <td>...</td>\n      <td>...</td>\n      <td>...</td>\n    </tr>\n    <tr>\n      <th>908400571893</th>\n      <td>10572.00000</td>\n      <td>225.00</td>\n      <td>177.00</td>\n      <td>84</td>\n      <td>book</td>\n      <td>571893</td>\n      <td>valid</td>\n      <td>270.00</td>\n      <td>167.00</td>\n    </tr>\n    <tr>\n      <th>908600097585</th>\n      <td>10467.00000</td>\n      <td>95.00</td>\n      <td>402.00</td>\n      <td>86</td>\n      <td>vase</td>\n      <td>97585</td>\n      <td>valid</td>\n      <td>41.00</td>\n      <td>0.00</td>\n    </tr>\n    <tr>\n      <th>908600370042</th>\n      <td>4816.00000</td>\n      <td>75.00</td>\n      <td>96.00</td>\n      <td>86</td>\n      <td>vase</td>\n      <td>370042</td>\n      <td>valid</td>\n      <td>43.00</td>\n      <td>147.00</td>\n    </tr>\n    <tr>\n      <th>908600434230</th>\n      <td>16632.00000</td>\n      <td>167.00</td>\n      <td>179.00</td>\n      <td>86</td>\n      <td>vase</td>\n      <td>434230</td>\n      <td>valid</td>\n      <td>58.00</td>\n      <td>56.00</td>\n    </tr>\n    <tr>\n      <th>908800474293</th>\n      <td>20047.00000</td>\n      <td>246.00</td>\n      <td>345.00</td>\n      <td>88</td>\n      <td>teddy bear</td>\n      <td>474293</td>\n      <td>valid</td>\n      <td>136.00</td>\n      <td>73.00</td>\n    </tr>\n  </tbody>\n</table>\n<p>36781 rows × 9 columns</p>\n</div>",
          "text/plain": "                      area  box_height  box_width  category_id category_str  \\\nid                                                                            \n283            47310.21745      290.67     288.09           58      hot dog   \n381           107452.60385      370.41     589.58           58      hot dog   \n567            14878.08055      206.45     246.36           58      hot dog   \n760             8424.12670      146.09     134.25           58      hot dog   \n810             3211.34430       67.98     103.00           58      hot dog   \n...                    ...         ...        ...          ...          ...   \n908400571893   10572.00000      225.00     177.00           84         book   \n908600097585   10467.00000       95.00     402.00           86         vase   \n908600370042    4816.00000       75.00      96.00           86         vase   \n908600434230   16632.00000      167.00     179.00           86         vase   \n908800474293   20047.00000      246.00     345.00           88   teddy bear   \n\n              image_id  split    xmin    ymin  \nid                                             \n283             118367  valid  154.34   31.72  \n381             464786  valid   25.78   52.43  \n567             581206  valid  147.27  282.15  \n760             157601  valid  110.55  188.21  \n810             513567  valid  124.64  281.32  \n...                ...    ...     ...     ...  \n908400571893    571893  valid  270.00  167.00  \n908600097585     97585  valid   41.00    0.00  \n908600370042    370042  valid   43.00  147.00  \n908600434230    434230  valid   58.00   56.00  \n908800474293    474293  valid  136.00   73.00  \n\n[36781 rows x 9 columns]"
         },
         "metadata": {},
         "output_type": "display_data"
        }
       ]
      }
     },
     "57dfd9eab2714d56af8d807771441327": {
      "model_module": "@jupyter-widgets/controls",
      "model_module_version": "2.0.0",
      "model_name": "VBoxModel",
      "state": {
       "children": [
        "IPY_MODEL_9c704c16ad5f48cd8bfab1c0e420f7b8",
        "IPY_MODEL_bf96b134967c4dbeb08c6f74011653aa"
       ],
       "layout": "IPY_MODEL_60a399b96c7f48b9b253ed95a3bdd173"
      }
     },
     "5851b3bccf084752a4d1739d84500899": {
      "model_module": "@jupyter-widgets/output",
      "model_module_version": "1.0.0",
      "model_name": "OutputModel",
      "state": {
       "layout": "IPY_MODEL_1c4c5aaf2da74e7c825ba613d3affd65",
       "outputs": [
        {
         "data": {
          "text/html": "<div>\n<style scoped>\n    .dataframe tbody tr th:only-of-type {\n        vertical-align: middle;\n    }\n\n    .dataframe tbody tr th {\n        vertical-align: top;\n    }\n\n    .dataframe thead th {\n        text-align: right;\n    }\n</style>\n<table border=\"1\" class=\"dataframe\">\n  <thead>\n    <tr style=\"text-align: right;\">\n      <th></th>\n      <th>image_id</th>\n      <th>category_id</th>\n      <th>object_id</th>\n      <th>area</th>\n      <th>split</th>\n      <th>xmin</th>\n      <th>ymin</th>\n      <th>box_width</th>\n      <th>box_height</th>\n      <th>category_str</th>\n    </tr>\n    <tr>\n      <th>id</th>\n      <th></th>\n      <th></th>\n      <th></th>\n      <th></th>\n      <th></th>\n      <th></th>\n      <th></th>\n      <th></th>\n      <th></th>\n      <th></th>\n    </tr>\n  </thead>\n  <tbody>\n    <tr>\n      <th>319049</th>\n      <td>6493</td>\n      <td>100</td>\n      <td>55689</td>\n      <td>33390</td>\n      <td>None</td>\n      <td>0</td>\n      <td>632</td>\n      <td>210</td>\n      <td>159</td>\n      <td>sedan</td>\n    </tr>\n    <tr>\n      <th>319050</th>\n      <td>6493</td>\n      <td>1100</td>\n      <td>30178</td>\n      <td>7396</td>\n      <td>None</td>\n      <td>203</td>\n      <td>611</td>\n      <td>86</td>\n      <td>86</td>\n      <td>motorbike</td>\n    </tr>\n    <tr>\n      <th>319051</th>\n      <td>6493</td>\n      <td>1100</td>\n      <td>48923</td>\n      <td>6391</td>\n      <td>None</td>\n      <td>272</td>\n      <td>589</td>\n      <td>77</td>\n      <td>83</td>\n      <td>motorbike</td>\n    </tr>\n    <tr>\n      <th>319052</th>\n      <td>6493</td>\n      <td>1100</td>\n      <td>8678</td>\n      <td>6279</td>\n      <td>None</td>\n      <td>341</td>\n      <td>559</td>\n      <td>69</td>\n      <td>91</td>\n      <td>motorbike</td>\n    </tr>\n    <tr>\n      <th>319053</th>\n      <td>6493</td>\n      <td>20</td>\n      <td>560</td>\n      <td>3116</td>\n      <td>None</td>\n      <td>517</td>\n      <td>527</td>\n      <td>38</td>\n      <td>82</td>\n      <td>standing person</td>\n    </tr>\n    <tr>\n      <th>...</th>\n      <td>...</td>\n      <td>...</td>\n      <td>...</td>\n      <td>...</td>\n      <td>...</td>\n      <td>...</td>\n      <td>...</td>\n      <td>...</td>\n      <td>...</td>\n      <td>...</td>\n    </tr>\n    <tr>\n      <th>103031</th>\n      <td>2599</td>\n      <td>111</td>\n      <td>36067</td>\n      <td>1269</td>\n      <td>None</td>\n      <td>1873</td>\n      <td>391</td>\n      <td>27</td>\n      <td>47</td>\n      <td>bicycle</td>\n    </tr>\n    <tr>\n      <th>103032</th>\n      <td>2599</td>\n      <td>111</td>\n      <td>64239</td>\n      <td>4950</td>\n      <td>None</td>\n      <td>1753</td>\n      <td>404</td>\n      <td>66</td>\n      <td>75</td>\n      <td>bicycle</td>\n    </tr>\n    <tr>\n      <th>103033</th>\n      <td>2599</td>\n      <td>20</td>\n      <td>65100</td>\n      <td>14268</td>\n      <td>None</td>\n      <td>1816</td>\n      <td>447</td>\n      <td>87</td>\n      <td>164</td>\n      <td>standing person</td>\n    </tr>\n    <tr>\n      <th>103034</th>\n      <td>2599</td>\n      <td>28</td>\n      <td>14145</td>\n      <td>1020</td>\n      <td>None</td>\n      <td>1863</td>\n      <td>493</td>\n      <td>51</td>\n      <td>20</td>\n      <td>packet</td>\n    </tr>\n    <tr>\n      <th>103035</th>\n      <td>2599</td>\n      <td>29</td>\n      <td>7528</td>\n      <td>624</td>\n      <td>None</td>\n      <td>1877</td>\n      <td>512</td>\n      <td>16</td>\n      <td>39</td>\n      <td>bag</td>\n    </tr>\n  </tbody>\n</table>\n<p>3675 rows × 10 columns</p>\n</div>",
          "text/plain": "        image_id  category_id  object_id   area split  xmin  ymin  box_width  \\\nid                                                                             \n319049      6493          100      55689  33390  None     0   632        210   \n319050      6493         1100      30178   7396  None   203   611         86   \n319051      6493         1100      48923   6391  None   272   589         77   \n319052      6493         1100       8678   6279  None   341   559         69   \n319053      6493           20        560   3116  None   517   527         38   \n...          ...          ...        ...    ...   ...   ...   ...        ...   \n103031      2599          111      36067   1269  None  1873   391         27   \n103032      2599          111      64239   4950  None  1753   404         66   \n103033      2599           20      65100  14268  None  1816   447         87   \n103034      2599           28      14145   1020  None  1863   493         51   \n103035      2599           29       7528    624  None  1877   512         16   \n\n        box_height     category_str  \nid                                   \n319049         159            sedan  \n319050          86        motorbike  \n319051          83        motorbike  \n319052          91        motorbike  \n319053          82  standing person  \n...            ...              ...  \n103031          47          bicycle  \n103032          75          bicycle  \n103033         164  standing person  \n103034          20           packet  \n103035          39              bag  \n\n[3675 rows x 10 columns]"
         },
         "metadata": {},
         "output_type": "display_data"
        }
       ]
      }
     },
     "58e51657e1984025acc688abc10250ae": {
      "model_module": "@jupyter-widgets/base",
      "model_module_version": "2.0.0",
      "model_name": "LayoutModel",
      "state": {}
     },
     "597d02efcda14346be38f2d702d747eb": {
      "model_module": "@jupyter-widgets/output",
      "model_module_version": "1.0.0",
      "model_name": "OutputModel",
      "state": {
       "layout": "IPY_MODEL_10202ad36c2743b7b77061ff9acb2fd4",
       "outputs": [
        {
         "data": {
          "text/html": "<div>\n<style scoped>\n    .dataframe tbody tr th:only-of-type {\n        vertical-align: middle;\n    }\n\n    .dataframe tbody tr th {\n        vertical-align: top;\n    }\n\n    .dataframe thead th {\n        text-align: right;\n    }\n</style>\n<table border=\"1\" class=\"dataframe\">\n  <thead>\n    <tr style=\"text-align: right;\">\n      <th></th>\n      <th>area</th>\n      <th>image_id</th>\n      <th>category_id</th>\n      <th>split</th>\n      <th>xmin</th>\n      <th>ymin</th>\n      <th>box_width</th>\n      <th>box_height</th>\n      <th>category_str</th>\n    </tr>\n    <tr>\n      <th>id</th>\n      <th></th>\n      <th></th>\n      <th></th>\n      <th></th>\n      <th></th>\n      <th></th>\n      <th></th>\n      <th></th>\n      <th></th>\n    </tr>\n  </thead>\n  <tbody>\n    <tr>\n      <th>460450</th>\n      <td>48685.67910</td>\n      <td>352582</td>\n      <td>1</td>\n      <td>valid</td>\n      <td>112.43</td>\n      <td>195.32</td>\n      <td>214.78</td>\n      <td>438.19</td>\n      <td>person</td>\n    </tr>\n    <tr>\n      <th>535917</th>\n      <td>22650.73800</td>\n      <td>352582</td>\n      <td>1</td>\n      <td>valid</td>\n      <td>0.00</td>\n      <td>256.00</td>\n      <td>80.54</td>\n      <td>376.81</td>\n      <td>person</td>\n    </tr>\n    <tr>\n      <th>602093</th>\n      <td>2605.72090</td>\n      <td>352582</td>\n      <td>34</td>\n      <td>valid</td>\n      <td>171.63</td>\n      <td>424.03</td>\n      <td>85.89</td>\n      <td>40.67</td>\n      <td>frisbee</td>\n    </tr>\n    <tr>\n      <th>467905</th>\n      <td>5408.64720</td>\n      <td>58393</td>\n      <td>1</td>\n      <td>valid</td>\n      <td>342.52</td>\n      <td>163.33</td>\n      <td>192.24</td>\n      <td>77.47</td>\n      <td>person</td>\n    </tr>\n    <tr>\n      <th>576900</th>\n      <td>82291.54995</td>\n      <td>58393</td>\n      <td>15</td>\n      <td>valid</td>\n      <td>44.78</td>\n      <td>242.27</td>\n      <td>547.16</td>\n      <td>224.98</td>\n      <td>bench</td>\n    </tr>\n    <tr>\n      <th>...</th>\n      <td>...</td>\n      <td>...</td>\n      <td>...</td>\n      <td>...</td>\n      <td>...</td>\n      <td>...</td>\n      <td>...</td>\n      <td>...</td>\n      <td>...</td>\n    </tr>\n    <tr>\n      <th>109094</th>\n      <td>2069.93800</td>\n      <td>428280</td>\n      <td>62</td>\n      <td>valid</td>\n      <td>187.71</td>\n      <td>114.80</td>\n      <td>44.07</td>\n      <td>66.41</td>\n      <td>chair</td>\n    </tr>\n    <tr>\n      <th>578099</th>\n      <td>13841.81490</td>\n      <td>428280</td>\n      <td>15</td>\n      <td>valid</td>\n      <td>0.75</td>\n      <td>184.42</td>\n      <td>181.43</td>\n      <td>132.90</td>\n      <td>bench</td>\n    </tr>\n    <tr>\n      <th>1101888</th>\n      <td>1405.98065</td>\n      <td>428280</td>\n      <td>73</td>\n      <td>valid</td>\n      <td>118.71</td>\n      <td>138.34</td>\n      <td>44.79</td>\n      <td>35.83</td>\n      <td>laptop</td>\n    </tr>\n    <tr>\n      <th>1117514</th>\n      <td>217.08440</td>\n      <td>428280</td>\n      <td>76</td>\n      <td>valid</td>\n      <td>121.04</td>\n      <td>165.65</td>\n      <td>40.27</td>\n      <td>6.02</td>\n      <td>keyboard</td>\n    </tr>\n    <tr>\n      <th>2190513</th>\n      <td>7696.12525</td>\n      <td>428280</td>\n      <td>62</td>\n      <td>valid</td>\n      <td>203.58</td>\n      <td>179.65</td>\n      <td>105.27</td>\n      <td>139.55</td>\n      <td>chair</td>\n    </tr>\n  </tbody>\n</table>\n<p>18670 rows × 9 columns</p>\n</div>",
          "text/plain": "                area  image_id  category_id  split    xmin    ymin  box_width  \\\nid                                                                              \n460450   48685.67910    352582            1  valid  112.43  195.32     214.78   \n535917   22650.73800    352582            1  valid    0.00  256.00      80.54   \n602093    2605.72090    352582           34  valid  171.63  424.03      85.89   \n467905    5408.64720     58393            1  valid  342.52  163.33     192.24   \n576900   82291.54995     58393           15  valid   44.78  242.27     547.16   \n...              ...       ...          ...    ...     ...     ...        ...   \n109094    2069.93800    428280           62  valid  187.71  114.80      44.07   \n578099   13841.81490    428280           15  valid    0.75  184.42     181.43   \n1101888   1405.98065    428280           73  valid  118.71  138.34      44.79   \n1117514    217.08440    428280           76  valid  121.04  165.65      40.27   \n2190513   7696.12525    428280           62  valid  203.58  179.65     105.27   \n\n         box_height category_str  \nid                                \n460450       438.19       person  \n535917       376.81       person  \n602093        40.67      frisbee  \n467905        77.47       person  \n576900       224.98        bench  \n...             ...          ...  \n109094        66.41        chair  \n578099       132.90        bench  \n1101888       35.83       laptop  \n1117514        6.02     keyboard  \n2190513      139.55        chair  \n\n[18670 rows x 9 columns]"
         },
         "metadata": {},
         "output_type": "display_data"
        }
       ]
      }
     },
     "5a1b5e87de0b48b68a9f85da46f2448c": {
      "model_module": "@jupyter-widgets/base",
      "model_module_version": "2.0.0",
      "model_name": "LayoutModel",
      "state": {}
     },
     "5afa8c277992456d937dda5dc21339af": {
      "model_module": "@jupyter-widgets/output",
      "model_module_version": "1.0.0",
      "model_name": "OutputModel",
      "state": {
       "layout": "IPY_MODEL_3c0cc69007a449cf9b95bb7253c0f1a6",
       "outputs": [
        {
         "data": {
          "text/html": "<div>\n<style scoped>\n    .dataframe tbody tr th:only-of-type {\n        vertical-align: middle;\n    }\n\n    .dataframe tbody tr th {\n        vertical-align: top;\n    }\n\n    .dataframe thead th {\n        text-align: right;\n    }\n</style>\n<table border=\"1\" class=\"dataframe\">\n  <thead>\n    <tr style=\"text-align: right;\">\n      <th></th>\n      <th>category string</th>\n    </tr>\n    <tr>\n      <th>categorty_id</th>\n      <th></th>\n    </tr>\n  </thead>\n  <tbody>\n    <tr>\n      <th>1</th>\n      <td>vehicle</td>\n    </tr>\n    <tr>\n      <th>2</th>\n      <td>bag</td>\n    </tr>\n    <tr>\n      <th>3</th>\n      <td>animal</td>\n    </tr>\n  </tbody>\n</table>\n</div>",
          "text/plain": "             category string\ncategorty_id                \n1                    vehicle\n2                        bag\n3                     animal"
         },
         "metadata": {},
         "output_type": "display_data"
        }
       ]
      }
     },
     "5b086df15bfb49f1b1cdeaa4df73a633": {
      "model_module": "@jupyter-widgets/base",
      "model_module_version": "2.0.0",
      "model_name": "LayoutModel",
      "state": {}
     },
     "5cdcc1880a70473c895ebb5828dc7acf": {
      "model_module": "@jupyter-widgets/output",
      "model_module_version": "1.0.0",
      "model_name": "OutputModel",
      "state": {
       "layout": "IPY_MODEL_c5711152300643608555ce5e997cb45e",
       "outputs": [
        {
         "data": {
          "text/html": "<div>\n<style scoped>\n    .dataframe tbody tr th:only-of-type {\n        vertical-align: middle;\n    }\n\n    .dataframe tbody tr th {\n        vertical-align: top;\n    }\n\n    .dataframe thead th {\n        text-align: right;\n    }\n</style>\n<table border=\"1\" class=\"dataframe\">\n  <thead>\n    <tr style=\"text-align: right;\">\n      <th></th>\n      <th>category string</th>\n    </tr>\n    <tr>\n      <th>categorty_id</th>\n      <th></th>\n    </tr>\n  </thead>\n  <tbody>\n    <tr>\n      <th>1</th>\n      <td>person</td>\n    </tr>\n    <tr>\n      <th>2</th>\n      <td>bicycle</td>\n    </tr>\n    <tr>\n      <th>3</th>\n      <td>car</td>\n    </tr>\n    <tr>\n      <th>4</th>\n      <td>motorcycle</td>\n    </tr>\n    <tr>\n      <th>5</th>\n      <td>airplane</td>\n    </tr>\n    <tr>\n      <th>...</th>\n      <td>...</td>\n    </tr>\n    <tr>\n      <th>86</th>\n      <td>vase</td>\n    </tr>\n    <tr>\n      <th>87</th>\n      <td>scissors</td>\n    </tr>\n    <tr>\n      <th>88</th>\n      <td>teddy bear</td>\n    </tr>\n    <tr>\n      <th>89</th>\n      <td>hair drier</td>\n    </tr>\n    <tr>\n      <th>90</th>\n      <td>toothbrush</td>\n    </tr>\n  </tbody>\n</table>\n<p>80 rows × 1 columns</p>\n</div>",
          "text/plain": "             category string\ncategorty_id                \n1                     person\n2                    bicycle\n3                        car\n4                 motorcycle\n5                   airplane\n...                      ...\n86                      vase\n87                  scissors\n88                teddy bear\n89                hair drier\n90                toothbrush\n\n[80 rows x 1 columns]"
         },
         "metadata": {},
         "output_type": "display_data"
        }
       ]
      }
     },
     "5dd8a3dcf61d4b12b4de46eea2c84ce2": {
      "model_module": "@jupyter-widgets/controls",
      "model_module_version": "2.0.0",
      "model_name": "HTMLModel",
      "state": {
       "layout": "IPY_MODEL_451afdc207a84bb48c43141996969b5f",
       "style": "IPY_MODEL_29b5b2dc5ff54850bbb5c0820512c844",
       "value": "<b> Dataset object located at notebook_data, containing 5,000 images and 5,143 objects </b>"
      }
     },
     "5e68635311d24cad979c85ad6919c7ce": {
      "model_module": "@jupyter-widgets/controls",
      "model_module_version": "2.0.0",
      "model_name": "HTMLStyleModel",
      "state": {
       "description_width": "",
       "font_size": null,
       "text_color": null
      }
     },
     "5ef6a0bd03f1408b92ea71638044665a": {
      "model_module": "@jupyter-widgets/controls",
      "model_module_version": "2.0.0",
      "model_name": "HTMLStyleModel",
      "state": {
       "description_width": "",
       "font_size": null,
       "text_color": null
      }
     },
     "5f09fcaedacb4eae9e92841bd7d59a80": {
      "model_module": "@jupyter-widgets/base",
      "model_module_version": "2.0.0",
      "model_name": "LayoutModel",
      "state": {}
     },
     "5f2801e01b7f4d04a59a9b085909959f": {
      "model_module": "@jupyter-widgets/base",
      "model_module_version": "2.0.0",
      "model_name": "LayoutModel",
      "state": {}
     },
     "5fa26fc756e54beebf30c58974f5de89": {
      "model_module": "@jupyter-widgets/base",
      "model_module_version": "2.0.0",
      "model_name": "LayoutModel",
      "state": {}
     },
     "5fd56552119c4a568a82bc4e7123644d": {
      "model_module": "@jupyter-widgets/base",
      "model_module_version": "2.0.0",
      "model_name": "LayoutModel",
      "state": {}
     },
     "5fe878963e824b60bbfbd4fc929bef8f": {
      "model_module": "@jupyter-widgets/base",
      "model_module_version": "2.0.0",
      "model_name": "LayoutModel",
      "state": {}
     },
     "603dfb4f1a4049b98545e73a697feb9c": {
      "model_module": "@jupyter-widgets/base",
      "model_module_version": "2.0.0",
      "model_name": "LayoutModel",
      "state": {}
     },
     "60a399b96c7f48b9b253ed95a3bdd173": {
      "model_module": "@jupyter-widgets/base",
      "model_module_version": "2.0.0",
      "model_name": "LayoutModel",
      "state": {}
     },
     "60dcd01aeac44dce98d08de8d7d8a116": {
      "model_module": "@jupyter-widgets/controls",
      "model_module_version": "2.0.0",
      "model_name": "VBoxModel",
      "state": {
       "children": [
        "IPY_MODEL_7b8d05ba9dd4493d9a72cfa132b205f0",
        "IPY_MODEL_64eb5ab9e6da4e51a008c5114248c5e5"
       ],
       "layout": "IPY_MODEL_529753559e5f4a4081287765ff420dde"
      }
     },
     "61132147ce47488d805af278342bf554": {
      "model_module": "@jupyter-widgets/base",
      "model_module_version": "2.0.0",
      "model_name": "LayoutModel",
      "state": {}
     },
     "62585a0601a4412fb3bbbaf1262dce72": {
      "model_module": "@jupyter-widgets/output",
      "model_module_version": "1.0.0",
      "model_name": "OutputModel",
      "state": {
       "layout": "IPY_MODEL_05af87642a784e9b9f06ee3a58c28765",
       "outputs": [
        {
         "data": {
          "text/html": "<div>\n<style scoped>\n    .dataframe tbody tr th:only-of-type {\n        vertical-align: middle;\n    }\n\n    .dataframe tbody tr th {\n        vertical-align: top;\n    }\n\n    .dataframe thead th {\n        text-align: right;\n    }\n</style>\n<table border=\"1\" class=\"dataframe\">\n  <thead>\n    <tr style=\"text-align: right;\">\n      <th></th>\n      <th>file_name</th>\n      <th>height</th>\n      <th>width</th>\n      <th>split</th>\n      <th>relative_path</th>\n      <th>type</th>\n    </tr>\n    <tr>\n      <th>id</th>\n      <th></th>\n      <th></th>\n      <th></th>\n      <th></th>\n      <th></th>\n      <th></th>\n    </tr>\n  </thead>\n  <tbody>\n    <tr>\n      <th>0</th>\n      <td>000000000632.jpg</td>\n      <td>483</td>\n      <td>640</td>\n      <td>valid</td>\n      <td>Images/valid/000000000632.jpg</td>\n      <td>.jpg</td>\n    </tr>\n    <tr>\n      <th>1</th>\n      <td>000000000724.jpg</td>\n      <td>500</td>\n      <td>375</td>\n      <td>valid</td>\n      <td>Images/valid/000000000724.jpg</td>\n      <td>.jpg</td>\n    </tr>\n    <tr>\n      <th>2</th>\n      <td>000000000776.jpg</td>\n      <td>640</td>\n      <td>428</td>\n      <td>valid</td>\n      <td>Images/valid/000000000776.jpg</td>\n      <td>.jpg</td>\n    </tr>\n    <tr>\n      <th>3</th>\n      <td>000000000785.jpg</td>\n      <td>425</td>\n      <td>640</td>\n      <td>valid</td>\n      <td>Images/valid/000000000785.jpg</td>\n      <td>.jpg</td>\n    </tr>\n    <tr>\n      <th>4</th>\n      <td>000000001268.jpg</td>\n      <td>427</td>\n      <td>640</td>\n      <td>valid</td>\n      <td>Images/valid/000000001268.jpg</td>\n      <td>.jpg</td>\n    </tr>\n    <tr>\n      <th>...</th>\n      <td>...</td>\n      <td>...</td>\n      <td>...</td>\n      <td>...</td>\n      <td>...</td>\n      <td>...</td>\n    </tr>\n    <tr>\n      <th>4995</th>\n      <td>000000580418.jpg</td>\n      <td>428</td>\n      <td>640</td>\n      <td>valid</td>\n      <td>Images/valid/000000580418.jpg</td>\n      <td>.jpg</td>\n    </tr>\n    <tr>\n      <th>4996</th>\n      <td>000000580757.jpg</td>\n      <td>425</td>\n      <td>640</td>\n      <td>valid</td>\n      <td>Images/valid/000000580757.jpg</td>\n      <td>.jpg</td>\n    </tr>\n    <tr>\n      <th>4997</th>\n      <td>000000581062.jpg</td>\n      <td>375</td>\n      <td>500</td>\n      <td>valid</td>\n      <td>Images/valid/000000581062.jpg</td>\n      <td>.jpg</td>\n    </tr>\n    <tr>\n      <th>4998</th>\n      <td>000000581206.jpg</td>\n      <td>640</td>\n      <td>479</td>\n      <td>valid</td>\n      <td>Images/valid/000000581206.jpg</td>\n      <td>.jpg</td>\n    </tr>\n    <tr>\n      <th>4999</th>\n      <td>000000581615.jpg</td>\n      <td>640</td>\n      <td>478</td>\n      <td>valid</td>\n      <td>Images/valid/000000581615.jpg</td>\n      <td>.jpg</td>\n    </tr>\n  </tbody>\n</table>\n<p>5000 rows × 6 columns</p>\n</div>",
          "text/plain": "             file_name  height  width  split                  relative_path  \\\nid                                                                            \n0     000000000632.jpg     483    640  valid  Images/valid/000000000632.jpg   \n1     000000000724.jpg     500    375  valid  Images/valid/000000000724.jpg   \n2     000000000776.jpg     640    428  valid  Images/valid/000000000776.jpg   \n3     000000000785.jpg     425    640  valid  Images/valid/000000000785.jpg   \n4     000000001268.jpg     427    640  valid  Images/valid/000000001268.jpg   \n...                ...     ...    ...    ...                            ...   \n4995  000000580418.jpg     428    640  valid  Images/valid/000000580418.jpg   \n4996  000000580757.jpg     425    640  valid  Images/valid/000000580757.jpg   \n4997  000000581062.jpg     375    500  valid  Images/valid/000000581062.jpg   \n4998  000000581206.jpg     640    479  valid  Images/valid/000000581206.jpg   \n4999  000000581615.jpg     640    478  valid  Images/valid/000000581615.jpg   \n\n      type  \nid          \n0     .jpg  \n1     .jpg  \n2     .jpg  \n3     .jpg  \n4     .jpg  \n...    ...  \n4995  .jpg  \n4996  .jpg  \n4997  .jpg  \n4998  .jpg  \n4999  .jpg  \n\n[5000 rows x 6 columns]"
         },
         "metadata": {},
         "output_type": "display_data"
        }
       ]
      }
     },
     "629bbbc9c64248309a79b78a553f123c": {
      "model_module": "@jupyter-widgets/controls",
      "model_module_version": "2.0.0",
      "model_name": "TabModel",
      "state": {
       "children": [
        "IPY_MODEL_07e6deb0c48546f0b0d11a43e83a8606",
        "IPY_MODEL_246eb9915ee44587b75bdfe1420c810e",
        "IPY_MODEL_6e60a442aa134ab0b85f33c3716c1237"
       ],
       "layout": "IPY_MODEL_fd8fbd59b8ab49218e4164d6644b5577",
       "selected_index": 0,
       "titles": [
        "Images",
        "Annotations",
        "Label Map"
       ]
      }
     },
     "629e7d3119a64e67be28647d7d127809": {
      "model_module": "@jupyter-widgets/output",
      "model_module_version": "1.0.0",
      "model_name": "OutputModel",
      "state": {
       "layout": "IPY_MODEL_b69ec3a8aa4445ef95438bed8192ae49",
       "outputs": [
        {
         "data": {
          "text/html": "<div>\n<style scoped>\n    .dataframe tbody tr th:only-of-type {\n        vertical-align: middle;\n    }\n\n    .dataframe tbody tr th {\n        vertical-align: top;\n    }\n\n    .dataframe thead th {\n        text-align: right;\n    }\n</style>\n<table border=\"1\" class=\"dataframe\">\n  <thead>\n    <tr style=\"text-align: right;\">\n      <th></th>\n      <th>area</th>\n      <th>box_height</th>\n      <th>box_width</th>\n      <th>category_id</th>\n      <th>category_str</th>\n      <th>image_id</th>\n      <th>split</th>\n      <th>xmin</th>\n      <th>ymin</th>\n    </tr>\n    <tr>\n      <th>id</th>\n      <th></th>\n      <th></th>\n      <th></th>\n      <th></th>\n      <th></th>\n      <th></th>\n      <th></th>\n      <th></th>\n      <th></th>\n    </tr>\n  </thead>\n  <tbody>\n    <tr>\n      <th>26547</th>\n      <td>531.80710</td>\n      <td>69.50</td>\n      <td>24.70</td>\n      <td>64</td>\n      <td>potted plant</td>\n      <td>139</td>\n      <td>valid</td>\n      <td>236.98</td>\n      <td>142.51</td>\n    </tr>\n    <tr>\n      <th>34646</th>\n      <td>13244.65770</td>\n      <td>94.87</td>\n      <td>149.32</td>\n      <td>72</td>\n      <td>tv</td>\n      <td>139</td>\n      <td>valid</td>\n      <td>7.03</td>\n      <td>167.76</td>\n    </tr>\n    <tr>\n      <th>35802</th>\n      <td>5833.11795</td>\n      <td>78.73</td>\n      <td>81.35</td>\n      <td>72</td>\n      <td>tv</td>\n      <td>139</td>\n      <td>valid</td>\n      <td>557.21</td>\n      <td>209.19</td>\n    </tr>\n    <tr>\n      <th>103487</th>\n      <td>2245.34355</td>\n      <td>102.83</td>\n      <td>56.00</td>\n      <td>62</td>\n      <td>chair</td>\n      <td>139</td>\n      <td>valid</td>\n      <td>358.98</td>\n      <td>218.05</td>\n    </tr>\n    <tr>\n      <th>104368</th>\n      <td>1833.78400</td>\n      <td>98.48</td>\n      <td>61.83</td>\n      <td>62</td>\n      <td>chair</td>\n      <td>139</td>\n      <td>valid</td>\n      <td>290.69</td>\n      <td>218.00</td>\n    </tr>\n    <tr>\n      <th>105328</th>\n      <td>1289.37345</td>\n      <td>81.36</td>\n      <td>30.17</td>\n      <td>62</td>\n      <td>chair</td>\n      <td>139</td>\n      <td>valid</td>\n      <td>413.20</td>\n      <td>223.01</td>\n    </tr>\n    <tr>\n      <th>110334</th>\n      <td>210.14820</td>\n      <td>11.59</td>\n      <td>21.58</td>\n      <td>62</td>\n      <td>chair</td>\n      <td>139</td>\n      <td>valid</td>\n      <td>317.40</td>\n      <td>219.24</td>\n    </tr>\n    <tr>\n      <th>230831</th>\n      <td>2913.11040</td>\n      <td>138.01</td>\n      <td>53.05</td>\n      <td>1</td>\n      <td>person</td>\n      <td>139</td>\n      <td>valid</td>\n      <td>412.80</td>\n      <td>157.61</td>\n    </tr>\n    <tr>\n      <th>233201</th>\n      <td>435.14495</td>\n      <td>35.74</td>\n      <td>15.12</td>\n      <td>1</td>\n      <td>person</td>\n      <td>139</td>\n      <td>valid</td>\n      <td>384.43</td>\n      <td>172.21</td>\n    </tr>\n    <tr>\n      <th>1640282</th>\n      <td>217.71920</td>\n      <td>15.97</td>\n      <td>14.74</td>\n      <td>78</td>\n      <td>microwave</td>\n      <td>139</td>\n      <td>valid</td>\n      <td>512.22</td>\n      <td>205.75</td>\n    </tr>\n    <tr>\n      <th>1647285</th>\n      <td>2089.97480</td>\n      <td>108.31</td>\n      <td>20.29</td>\n      <td>82</td>\n      <td>refrigerator</td>\n      <td>139</td>\n      <td>valid</td>\n      <td>493.10</td>\n      <td>174.34</td>\n    </tr>\n    <tr>\n      <th>1648594</th>\n      <td>338.60885</td>\n      <td>45.71</td>\n      <td>14.34</td>\n      <td>84</td>\n      <td>book</td>\n      <td>139</td>\n      <td>valid</td>\n      <td>604.77</td>\n      <td>305.89</td>\n    </tr>\n    <tr>\n      <th>1654394</th>\n      <td>322.59360</td>\n      <td>46.44</td>\n      <td>12.88</td>\n      <td>84</td>\n      <td>book</td>\n      <td>139</td>\n      <td>valid</td>\n      <td>613.24</td>\n      <td>308.24</td>\n    </tr>\n    <tr>\n      <th>1666628</th>\n      <td>225.66420</td>\n      <td>21.88</td>\n      <td>13.97</td>\n      <td>85</td>\n      <td>clock</td>\n      <td>139</td>\n      <td>valid</td>\n      <td>447.77</td>\n      <td>121.12</td>\n    </tr>\n    <tr>\n      <th>1667817</th>\n      <td>2171.61885</td>\n      <td>89.67</td>\n      <td>36.68</td>\n      <td>86</td>\n      <td>vase</td>\n      <td>139</td>\n      <td>valid</td>\n      <td>549.06</td>\n      <td>309.43</td>\n    </tr>\n    <tr>\n      <th>1669970</th>\n      <td>178.18510</td>\n      <td>22.55</td>\n      <td>11.37</td>\n      <td>86</td>\n      <td>vase</td>\n      <td>139</td>\n      <td>valid</td>\n      <td>350.76</td>\n      <td>208.84</td>\n    </tr>\n    <tr>\n      <th>1941808</th>\n      <td>90.98725</td>\n      <td>12.52</td>\n      <td>9.63</td>\n      <td>62</td>\n      <td>chair</td>\n      <td>139</td>\n      <td>valid</td>\n      <td>412.25</td>\n      <td>219.02</td>\n    </tr>\n    <tr>\n      <th>2146194</th>\n      <td>189.56010</td>\n      <td>17.63</td>\n      <td>14.22</td>\n      <td>86</td>\n      <td>vase</td>\n      <td>139</td>\n      <td>valid</td>\n      <td>241.24</td>\n      <td>194.99</td>\n    </tr>\n    <tr>\n      <th>2146548</th>\n      <td>120.23200</td>\n      <td>16.73</td>\n      <td>9.73</td>\n      <td>86</td>\n      <td>vase</td>\n      <td>139</td>\n      <td>valid</td>\n      <td>336.79</td>\n      <td>199.50</td>\n    </tr>\n    <tr>\n      <th>2204286</th>\n      <td>2362.48975</td>\n      <td>88.93</td>\n      <td>125.56</td>\n      <td>67</td>\n      <td>dining table</td>\n      <td>139</td>\n      <td>valid</td>\n      <td>321.21</td>\n      <td>231.22</td>\n    </tr>\n  </tbody>\n</table>\n</div>",
          "text/plain": "                area  box_height  box_width  category_id  category_str  \\\nid                                                                       \n26547      531.80710       69.50      24.70           64  potted plant   \n34646    13244.65770       94.87     149.32           72            tv   \n35802     5833.11795       78.73      81.35           72            tv   \n103487    2245.34355      102.83      56.00           62         chair   \n104368    1833.78400       98.48      61.83           62         chair   \n105328    1289.37345       81.36      30.17           62         chair   \n110334     210.14820       11.59      21.58           62         chair   \n230831    2913.11040      138.01      53.05            1        person   \n233201     435.14495       35.74      15.12            1        person   \n1640282    217.71920       15.97      14.74           78     microwave   \n1647285   2089.97480      108.31      20.29           82  refrigerator   \n1648594    338.60885       45.71      14.34           84          book   \n1654394    322.59360       46.44      12.88           84          book   \n1666628    225.66420       21.88      13.97           85         clock   \n1667817   2171.61885       89.67      36.68           86          vase   \n1669970    178.18510       22.55      11.37           86          vase   \n1941808     90.98725       12.52       9.63           62         chair   \n2146194    189.56010       17.63      14.22           86          vase   \n2146548    120.23200       16.73       9.73           86          vase   \n2204286   2362.48975       88.93     125.56           67  dining table   \n\n         image_id  split    xmin    ymin  \nid                                        \n26547         139  valid  236.98  142.51  \n34646         139  valid    7.03  167.76  \n35802         139  valid  557.21  209.19  \n103487        139  valid  358.98  218.05  \n104368        139  valid  290.69  218.00  \n105328        139  valid  413.20  223.01  \n110334        139  valid  317.40  219.24  \n230831        139  valid  412.80  157.61  \n233201        139  valid  384.43  172.21  \n1640282       139  valid  512.22  205.75  \n1647285       139  valid  493.10  174.34  \n1648594       139  valid  604.77  305.89  \n1654394       139  valid  613.24  308.24  \n1666628       139  valid  447.77  121.12  \n1667817       139  valid  549.06  309.43  \n1669970       139  valid  350.76  208.84  \n1941808       139  valid  412.25  219.02  \n2146194       139  valid  241.24  194.99  \n2146548       139  valid  336.79  199.50  \n2204286       139  valid  321.21  231.22  "
         },
         "metadata": {},
         "output_type": "display_data"
        }
       ]
      }
     },
     "62b66410ed2b43fa911546da93b820fb": {
      "model_module": "@jupyter-widgets/controls",
      "model_module_version": "2.0.0",
      "model_name": "TabModel",
      "state": {
       "children": [
        "IPY_MODEL_411d3b1104d44646b5d17d7bd6856e81",
        "IPY_MODEL_6e3daaab4fc848efb809b66f94118797",
        "IPY_MODEL_e9cc55717f0a412997466d614379e321"
       ],
       "layout": "IPY_MODEL_680edabb19c44fa2b8e0ae041dcb5216",
       "selected_index": 0,
       "titles": [
        "Images",
        "Annotations",
        "Label Map"
       ]
      }
     },
     "63974f338f7e406d9346c3e42f259407": {
      "model_module": "@jupyter-widgets/base",
      "model_module_version": "2.0.0",
      "model_name": "LayoutModel",
      "state": {}
     },
     "64099c32882147aab64b036f10b0fe14": {
      "model_module": "@jupyter-widgets/base",
      "model_module_version": "2.0.0",
      "model_name": "LayoutModel",
      "state": {}
     },
     "6417c472a1bf4386aaf006053825eb6c": {
      "model_module": "@jupyter-widgets/output",
      "model_module_version": "1.0.0",
      "model_name": "OutputModel",
      "state": {
       "layout": "IPY_MODEL_2b52bfb8706242d396c3996120c154aa",
       "outputs": [
        {
         "data": {
          "text/html": "<div>\n<style scoped>\n    .dataframe tbody tr th:only-of-type {\n        vertical-align: middle;\n    }\n\n    .dataframe tbody tr th {\n        vertical-align: top;\n    }\n\n    .dataframe thead th {\n        text-align: right;\n    }\n</style>\n<table border=\"1\" class=\"dataframe\">\n  <thead>\n    <tr style=\"text-align: right;\">\n      <th></th>\n      <th>area</th>\n      <th>image_id</th>\n      <th>category_id</th>\n      <th>split</th>\n      <th>xmin</th>\n      <th>ymin</th>\n      <th>box_width</th>\n      <th>box_height</th>\n      <th>category_str</th>\n    </tr>\n    <tr>\n      <th>id</th>\n      <th></th>\n      <th></th>\n      <th></th>\n      <th></th>\n      <th></th>\n      <th></th>\n      <th></th>\n      <th></th>\n      <th></th>\n    </tr>\n  </thead>\n  <tbody>\n    <tr>\n      <th>460450</th>\n      <td>48685.67910</td>\n      <td>352582</td>\n      <td>1</td>\n      <td>valid</td>\n      <td>112.43</td>\n      <td>195.32</td>\n      <td>214.78</td>\n      <td>438.19</td>\n      <td>person</td>\n    </tr>\n    <tr>\n      <th>535917</th>\n      <td>22650.73800</td>\n      <td>352582</td>\n      <td>1</td>\n      <td>valid</td>\n      <td>0.00</td>\n      <td>256.00</td>\n      <td>80.54</td>\n      <td>376.81</td>\n      <td>person</td>\n    </tr>\n    <tr>\n      <th>602093</th>\n      <td>2605.72090</td>\n      <td>352582</td>\n      <td>34</td>\n      <td>valid</td>\n      <td>171.63</td>\n      <td>424.03</td>\n      <td>85.89</td>\n      <td>40.67</td>\n      <td>frisbee</td>\n    </tr>\n    <tr>\n      <th>467905</th>\n      <td>5408.64720</td>\n      <td>58393</td>\n      <td>1</td>\n      <td>valid</td>\n      <td>342.52</td>\n      <td>163.33</td>\n      <td>192.24</td>\n      <td>77.47</td>\n      <td>person</td>\n    </tr>\n    <tr>\n      <th>576900</th>\n      <td>82291.54995</td>\n      <td>58393</td>\n      <td>15</td>\n      <td>valid</td>\n      <td>44.78</td>\n      <td>242.27</td>\n      <td>547.16</td>\n      <td>224.98</td>\n      <td>bench</td>\n    </tr>\n    <tr>\n      <th>...</th>\n      <td>...</td>\n      <td>...</td>\n      <td>...</td>\n      <td>...</td>\n      <td>...</td>\n      <td>...</td>\n      <td>...</td>\n      <td>...</td>\n      <td>...</td>\n    </tr>\n    <tr>\n      <th>331107</th>\n      <td>12029.44125</td>\n      <td>349837</td>\n      <td>82</td>\n      <td>valid</td>\n      <td>66.00</td>\n      <td>94.87</td>\n      <td>71.25</td>\n      <td>194.26</td>\n      <td>refrigerator</td>\n    </tr>\n    <tr>\n      <th>332788</th>\n      <td>23037.46875</td>\n      <td>349837</td>\n      <td>82</td>\n      <td>valid</td>\n      <td>138.00</td>\n      <td>62.63</td>\n      <td>98.25</td>\n      <td>252.00</td>\n      <td>refrigerator</td>\n    </tr>\n    <tr>\n      <th>333394</th>\n      <td>30406.51295</td>\n      <td>349837</td>\n      <td>82</td>\n      <td>valid</td>\n      <td>234.44</td>\n      <td>29.87</td>\n      <td>113.49</td>\n      <td>298.65</td>\n      <td>refrigerator</td>\n    </tr>\n    <tr>\n      <th>333685</th>\n      <td>37187.97840</td>\n      <td>349837</td>\n      <td>82</td>\n      <td>valid</td>\n      <td>335.04</td>\n      <td>10.48</td>\n      <td>125.17</td>\n      <td>318.78</td>\n      <td>refrigerator</td>\n    </tr>\n    <tr>\n      <th>333731</th>\n      <td>12492.52165</td>\n      <td>349837</td>\n      <td>82</td>\n      <td>valid</td>\n      <td>460.39</td>\n      <td>0.00</td>\n      <td>39.61</td>\n      <td>328.64</td>\n      <td>refrigerator</td>\n    </tr>\n  </tbody>\n</table>\n<p>36781 rows × 9 columns</p>\n</div>",
          "text/plain": "               area  image_id  category_id  split    xmin    ymin  box_width  \\\nid                                                                             \n460450  48685.67910    352582            1  valid  112.43  195.32     214.78   \n535917  22650.73800    352582            1  valid    0.00  256.00      80.54   \n602093   2605.72090    352582           34  valid  171.63  424.03      85.89   \n467905   5408.64720     58393            1  valid  342.52  163.33     192.24   \n576900  82291.54995     58393           15  valid   44.78  242.27     547.16   \n...             ...       ...          ...    ...     ...     ...        ...   \n331107  12029.44125    349837           82  valid   66.00   94.87      71.25   \n332788  23037.46875    349837           82  valid  138.00   62.63      98.25   \n333394  30406.51295    349837           82  valid  234.44   29.87     113.49   \n333685  37187.97840    349837           82  valid  335.04   10.48     125.17   \n333731  12492.52165    349837           82  valid  460.39    0.00      39.61   \n\n        box_height  category_str  \nid                                \n460450      438.19        person  \n535917      376.81        person  \n602093       40.67       frisbee  \n467905       77.47        person  \n576900      224.98         bench  \n...            ...           ...  \n331107      194.26  refrigerator  \n332788      252.00  refrigerator  \n333394      298.65  refrigerator  \n333685      318.78  refrigerator  \n333731      328.64  refrigerator  \n\n[36781 rows x 9 columns]"
         },
         "metadata": {},
         "output_type": "display_data"
        }
       ]
      }
     },
     "643de79a0db74706a416a89692b1b4ca": {
      "model_module": "@jupyter-widgets/controls",
      "model_module_version": "2.0.0",
      "model_name": "HTMLStyleModel",
      "state": {
       "description_width": "",
       "font_size": null,
       "text_color": null
      }
     },
     "64eb5ab9e6da4e51a008c5114248c5e5": {
      "model_module": "@jupyter-widgets/controls",
      "model_module_version": "2.0.0",
      "model_name": "TabModel",
      "state": {
       "children": [
        "IPY_MODEL_4153ce4c46054c8288206b0b3eb36339",
        "IPY_MODEL_629e7d3119a64e67be28647d7d127809",
        "IPY_MODEL_713a44bd15904b1e9cb72a4d1def3866"
       ],
       "layout": "IPY_MODEL_45f210d3b0c24660a74b506ef2ec440a",
       "selected_index": 0,
       "titles": [
        "Images",
        "Annotations",
        "Label Map"
       ]
      }
     },
     "64ecdf3f14094326a38509bfbd6d5f91": {
      "model_module": "@jupyter-widgets/output",
      "model_module_version": "1.0.0",
      "model_name": "OutputModel",
      "state": {
       "layout": "IPY_MODEL_1412698afb3345d3b6fb430f29d44ac0",
       "outputs": [
        {
         "data": {
          "text/html": "<div>\n<style scoped>\n    .dataframe tbody tr th:only-of-type {\n        vertical-align: middle;\n    }\n\n    .dataframe tbody tr th {\n        vertical-align: top;\n    }\n\n    .dataframe thead th {\n        text-align: right;\n    }\n</style>\n<table border=\"1\" class=\"dataframe\">\n  <thead>\n    <tr style=\"text-align: right;\">\n      <th></th>\n      <th>area</th>\n      <th>image_id</th>\n      <th>category_id</th>\n      <th>split</th>\n      <th>xmin</th>\n      <th>ymin</th>\n      <th>box_width</th>\n      <th>box_height</th>\n      <th>category_str</th>\n    </tr>\n    <tr>\n      <th>id</th>\n      <th></th>\n      <th></th>\n      <th></th>\n      <th></th>\n      <th></th>\n      <th></th>\n      <th></th>\n      <th></th>\n      <th></th>\n    </tr>\n  </thead>\n  <tbody>\n    <tr>\n      <th>357584</th>\n      <td>14718.47935</td>\n      <td>310072</td>\n      <td>1</td>\n      <td>valid</td>\n      <td>223.85</td>\n      <td>0.00</td>\n      <td>258.83</td>\n      <td>69.08</td>\n      <td>vehicle</td>\n    </tr>\n    <tr>\n      <th>358258</th>\n      <td>6989.84750</td>\n      <td>310072</td>\n      <td>1</td>\n      <td>valid</td>\n      <td>0.00</td>\n      <td>1.94</td>\n      <td>135.99</td>\n      <td>66.27</td>\n      <td>vehicle</td>\n    </tr>\n    <tr>\n      <th>363154</th>\n      <td>1729.26630</td>\n      <td>310072</td>\n      <td>1</td>\n      <td>valid</td>\n      <td>170.89</td>\n      <td>0.00</td>\n      <td>71.06</td>\n      <td>36.96</td>\n      <td>vehicle</td>\n    </tr>\n    <tr>\n      <th>1337431</th>\n      <td>91.97330</td>\n      <td>310072</td>\n      <td>1</td>\n      <td>valid</td>\n      <td>631.99</td>\n      <td>7.35</td>\n      <td>8.01</td>\n      <td>15.46</td>\n      <td>vehicle</td>\n    </tr>\n    <tr>\n      <th>1368385</th>\n      <td>7558.39585</td>\n      <td>310072</td>\n      <td>1</td>\n      <td>valid</td>\n      <td>0.00</td>\n      <td>0.00</td>\n      <td>131.87</td>\n      <td>71.46</td>\n      <td>vehicle</td>\n    </tr>\n    <tr>\n      <th>...</th>\n      <td>...</td>\n      <td>...</td>\n      <td>...</td>\n      <td>...</td>\n      <td>...</td>\n      <td>...</td>\n      <td>...</td>\n      <td>...</td>\n      <td>...</td>\n    </tr>\n    <tr>\n      <th>10068</th>\n      <td>10866.03335</td>\n      <td>189806</td>\n      <td>3</td>\n      <td>valid</td>\n      <td>263.63</td>\n      <td>193.10</td>\n      <td>180.04</td>\n      <td>103.59</td>\n      <td>animal</td>\n    </tr>\n    <tr>\n      <th>46540</th>\n      <td>5204.68295</td>\n      <td>189806</td>\n      <td>3</td>\n      <td>valid</td>\n      <td>130.91</td>\n      <td>165.20</td>\n      <td>94.54</td>\n      <td>104.73</td>\n      <td>animal</td>\n    </tr>\n    <tr>\n      <th>344755</th>\n      <td>4084.58345</td>\n      <td>363188</td>\n      <td>1</td>\n      <td>valid</td>\n      <td>590.03</td>\n      <td>198.92</td>\n      <td>49.97</td>\n      <td>106.42</td>\n      <td>vehicle</td>\n    </tr>\n    <tr>\n      <th>1420625</th>\n      <td>865.42470</td>\n      <td>363188</td>\n      <td>2</td>\n      <td>valid</td>\n      <td>221.41</td>\n      <td>199.76</td>\n      <td>91.36</td>\n      <td>63.64</td>\n      <td>bag</td>\n    </tr>\n    <tr>\n      <th>1192747</th>\n      <td>182.21680</td>\n      <td>105455</td>\n      <td>1</td>\n      <td>valid</td>\n      <td>333.56</td>\n      <td>517.21</td>\n      <td>17.43</td>\n      <td>14.58</td>\n      <td>vehicle</td>\n    </tr>\n  </tbody>\n</table>\n<p>5143 rows × 9 columns</p>\n</div>",
          "text/plain": "                area  image_id  category_id  split    xmin    ymin  box_width  \\\nid                                                                              \n357584   14718.47935    310072            1  valid  223.85    0.00     258.83   \n358258    6989.84750    310072            1  valid    0.00    1.94     135.99   \n363154    1729.26630    310072            1  valid  170.89    0.00      71.06   \n1337431     91.97330    310072            1  valid  631.99    7.35       8.01   \n1368385   7558.39585    310072            1  valid    0.00    0.00     131.87   \n...              ...       ...          ...    ...     ...     ...        ...   \n10068    10866.03335    189806            3  valid  263.63  193.10     180.04   \n46540     5204.68295    189806            3  valid  130.91  165.20      94.54   \n344755    4084.58345    363188            1  valid  590.03  198.92      49.97   \n1420625    865.42470    363188            2  valid  221.41  199.76      91.36   \n1192747    182.21680    105455            1  valid  333.56  517.21      17.43   \n\n         box_height category_str  \nid                                \n357584        69.08      vehicle  \n358258        66.27      vehicle  \n363154        36.96      vehicle  \n1337431       15.46      vehicle  \n1368385       71.46      vehicle  \n...             ...          ...  \n10068        103.59       animal  \n46540        104.73       animal  \n344755       106.42      vehicle  \n1420625       63.64          bag  \n1192747       14.58      vehicle  \n\n[5143 rows x 9 columns]"
         },
         "metadata": {},
         "output_type": "display_data"
        }
       ]
      }
     },
     "64fd2e7236644f72a14bd484ee5509b7": {
      "model_module": "@jupyter-widgets/base",
      "model_module_version": "2.0.0",
      "model_name": "LayoutModel",
      "state": {}
     },
     "659bbddda8b443279134656ac9c3a583": {
      "model_module": "@jupyter-widgets/controls",
      "model_module_version": "2.0.0",
      "model_name": "HTMLStyleModel",
      "state": {
       "description_width": "",
       "font_size": null,
       "text_color": null
      }
     },
     "65e76f71ef1d4f98bbef9078734f2a96": {
      "model_module": "@jupyter-widgets/base",
      "model_module_version": "2.0.0",
      "model_name": "LayoutModel",
      "state": {}
     },
     "663f2054b53640efa766c8f7e38399d6": {
      "model_module": "@jupyter-widgets/base",
      "model_module_version": "2.0.0",
      "model_name": "LayoutModel",
      "state": {}
     },
     "66fb21eef2f6433e8c0a85a90e06f8f5": {
      "model_module": "@jupyter-widgets/output",
      "model_module_version": "1.0.0",
      "model_name": "OutputModel",
      "state": {
       "layout": "IPY_MODEL_65e76f71ef1d4f98bbef9078734f2a96",
       "outputs": [
        {
         "data": {
          "text/html": "<div>\n<style scoped>\n    .dataframe tbody tr th:only-of-type {\n        vertical-align: middle;\n    }\n\n    .dataframe tbody tr th {\n        vertical-align: top;\n    }\n\n    .dataframe thead th {\n        text-align: right;\n    }\n</style>\n<table border=\"1\" class=\"dataframe\">\n  <thead>\n    <tr style=\"text-align: right;\">\n      <th></th>\n      <th>area</th>\n      <th>image_id</th>\n      <th>category_id</th>\n      <th>split</th>\n      <th>xmin</th>\n      <th>ymin</th>\n      <th>box_width</th>\n      <th>box_height</th>\n      <th>category_str</th>\n    </tr>\n    <tr>\n      <th>id</th>\n      <th></th>\n      <th></th>\n      <th></th>\n      <th></th>\n      <th></th>\n      <th></th>\n      <th></th>\n      <th></th>\n      <th></th>\n    </tr>\n  </thead>\n  <tbody>\n    <tr>\n      <th>357584</th>\n      <td>14718.47935</td>\n      <td>310072</td>\n      <td>1</td>\n      <td>valid</td>\n      <td>223.85</td>\n      <td>0.00</td>\n      <td>258.83</td>\n      <td>69.08</td>\n      <td>vehicle</td>\n    </tr>\n    <tr>\n      <th>358258</th>\n      <td>6989.84750</td>\n      <td>310072</td>\n      <td>1</td>\n      <td>valid</td>\n      <td>0.00</td>\n      <td>1.94</td>\n      <td>135.99</td>\n      <td>66.27</td>\n      <td>vehicle</td>\n    </tr>\n    <tr>\n      <th>363154</th>\n      <td>1729.26630</td>\n      <td>310072</td>\n      <td>1</td>\n      <td>valid</td>\n      <td>170.89</td>\n      <td>0.00</td>\n      <td>71.06</td>\n      <td>36.96</td>\n      <td>vehicle</td>\n    </tr>\n    <tr>\n      <th>1337431</th>\n      <td>91.97330</td>\n      <td>310072</td>\n      <td>1</td>\n      <td>valid</td>\n      <td>631.99</td>\n      <td>7.35</td>\n      <td>8.01</td>\n      <td>15.46</td>\n      <td>vehicle</td>\n    </tr>\n    <tr>\n      <th>1368385</th>\n      <td>7558.39585</td>\n      <td>310072</td>\n      <td>1</td>\n      <td>valid</td>\n      <td>0.00</td>\n      <td>0.00</td>\n      <td>131.87</td>\n      <td>71.46</td>\n      <td>vehicle</td>\n    </tr>\n    <tr>\n      <th>...</th>\n      <td>...</td>\n      <td>...</td>\n      <td>...</td>\n      <td>...</td>\n      <td>...</td>\n      <td>...</td>\n      <td>...</td>\n      <td>...</td>\n      <td>...</td>\n    </tr>\n    <tr>\n      <th>10068</th>\n      <td>10866.03335</td>\n      <td>189806</td>\n      <td>3</td>\n      <td>valid</td>\n      <td>263.63</td>\n      <td>193.10</td>\n      <td>180.04</td>\n      <td>103.59</td>\n      <td>animal</td>\n    </tr>\n    <tr>\n      <th>46540</th>\n      <td>5204.68295</td>\n      <td>189806</td>\n      <td>3</td>\n      <td>valid</td>\n      <td>130.91</td>\n      <td>165.20</td>\n      <td>94.54</td>\n      <td>104.73</td>\n      <td>animal</td>\n    </tr>\n    <tr>\n      <th>344755</th>\n      <td>4084.58345</td>\n      <td>363188</td>\n      <td>1</td>\n      <td>valid</td>\n      <td>590.03</td>\n      <td>198.92</td>\n      <td>49.97</td>\n      <td>106.42</td>\n      <td>vehicle</td>\n    </tr>\n    <tr>\n      <th>1420625</th>\n      <td>865.42470</td>\n      <td>363188</td>\n      <td>2</td>\n      <td>valid</td>\n      <td>221.41</td>\n      <td>199.76</td>\n      <td>91.36</td>\n      <td>63.64</td>\n      <td>bag</td>\n    </tr>\n    <tr>\n      <th>1192747</th>\n      <td>182.21680</td>\n      <td>105455</td>\n      <td>1</td>\n      <td>valid</td>\n      <td>333.56</td>\n      <td>517.21</td>\n      <td>17.43</td>\n      <td>14.58</td>\n      <td>vehicle</td>\n    </tr>\n  </tbody>\n</table>\n<p>5143 rows × 9 columns</p>\n</div>",
          "text/plain": "                area  image_id  category_id  split    xmin    ymin  box_width  \\\nid                                                                              \n357584   14718.47935    310072            1  valid  223.85    0.00     258.83   \n358258    6989.84750    310072            1  valid    0.00    1.94     135.99   \n363154    1729.26630    310072            1  valid  170.89    0.00      71.06   \n1337431     91.97330    310072            1  valid  631.99    7.35       8.01   \n1368385   7558.39585    310072            1  valid    0.00    0.00     131.87   \n...              ...       ...          ...    ...     ...     ...        ...   \n10068    10866.03335    189806            3  valid  263.63  193.10     180.04   \n46540     5204.68295    189806            3  valid  130.91  165.20      94.54   \n344755    4084.58345    363188            1  valid  590.03  198.92      49.97   \n1420625    865.42470    363188            2  valid  221.41  199.76      91.36   \n1192747    182.21680    105455            1  valid  333.56  517.21      17.43   \n\n         box_height category_str  \nid                                \n357584        69.08      vehicle  \n358258        66.27      vehicle  \n363154        36.96      vehicle  \n1337431       15.46      vehicle  \n1368385       71.46      vehicle  \n...             ...          ...  \n10068        103.59       animal  \n46540        104.73       animal  \n344755       106.42      vehicle  \n1420625       63.64          bag  \n1192747       14.58      vehicle  \n\n[5143 rows x 9 columns]"
         },
         "metadata": {},
         "output_type": "display_data"
        }
       ]
      }
     },
     "672cfee0accb43e6b66b4bd80e62b937": {
      "model_module": "@jupyter-widgets/base",
      "model_module_version": "2.0.0",
      "model_name": "LayoutModel",
      "state": {}
     },
     "680edabb19c44fa2b8e0ae041dcb5216": {
      "model_module": "@jupyter-widgets/base",
      "model_module_version": "2.0.0",
      "model_name": "LayoutModel",
      "state": {}
     },
     "688616774c3348988bf92401dd4890bc": {
      "model_module": "@jupyter-widgets/base",
      "model_module_version": "2.0.0",
      "model_name": "LayoutModel",
      "state": {}
     },
     "68c3544ad9d940e995d7554669fa0bec": {
      "model_module": "@jupyter-widgets/base",
      "model_module_version": "2.0.0",
      "model_name": "LayoutModel",
      "state": {}
     },
     "694b41d93fdd4e39b27b0dff52253230": {
      "model_module": "@jupyter-widgets/base",
      "model_module_version": "2.0.0",
      "model_name": "LayoutModel",
      "state": {}
     },
     "69864d9a8036436c8604f2ca71ddb68b": {
      "model_module": "@jupyter-widgets/base",
      "model_module_version": "2.0.0",
      "model_name": "LayoutModel",
      "state": {}
     },
     "69a7d7e1efe9491f999708922eed324b": {
      "model_module": "@jupyter-widgets/controls",
      "model_module_version": "2.0.0",
      "model_name": "HTMLModel",
      "state": {
       "layout": "IPY_MODEL_278543fea27e4b20bc380b0b7b1610ad",
       "style": "IPY_MODEL_754f2e42926c4c4099e7c149974e69a8",
       "value": "<b> Dataset object located at notebook_data, containing 5,000 images and 16,147 objects </b>"
      }
     },
     "6aa1f0d50d514d61a6c21c8fc5c49e55": {
      "model_module": "@jupyter-widgets/base",
      "model_module_version": "2.0.0",
      "model_name": "LayoutModel",
      "state": {}
     },
     "6c35fff4fa79465ea1663f867c201c04": {
      "model_module": "@jupyter-widgets/base",
      "model_module_version": "2.0.0",
      "model_name": "LayoutModel",
      "state": {}
     },
     "6df03c11acf349ec89de655f7d5d87b1": {
      "model_module": "@jupyter-widgets/output",
      "model_module_version": "1.0.0",
      "model_name": "OutputModel",
      "state": {
       "layout": "IPY_MODEL_b44ba0eaed4143a38ac1fed897c1f3ff",
       "outputs": [
        {
         "data": {
          "text/html": "<div>\n<style scoped>\n    .dataframe tbody tr th:only-of-type {\n        vertical-align: middle;\n    }\n\n    .dataframe tbody tr th {\n        vertical-align: top;\n    }\n\n    .dataframe thead th {\n        text-align: right;\n    }\n</style>\n<table border=\"1\" class=\"dataframe\">\n  <thead>\n    <tr style=\"text-align: right;\">\n      <th></th>\n      <th>category string</th>\n    </tr>\n    <tr>\n      <th>categorty_id</th>\n      <th></th>\n    </tr>\n  </thead>\n  <tbody>\n    <tr>\n      <th>1</th>\n      <td>person</td>\n    </tr>\n    <tr>\n      <th>2</th>\n      <td>bicycle</td>\n    </tr>\n    <tr>\n      <th>3</th>\n      <td>car</td>\n    </tr>\n    <tr>\n      <th>4</th>\n      <td>motorcycle</td>\n    </tr>\n    <tr>\n      <th>5</th>\n      <td>airplane</td>\n    </tr>\n    <tr>\n      <th>...</th>\n      <td>...</td>\n    </tr>\n    <tr>\n      <th>86</th>\n      <td>vase</td>\n    </tr>\n    <tr>\n      <th>87</th>\n      <td>scissors</td>\n    </tr>\n    <tr>\n      <th>88</th>\n      <td>teddy bear</td>\n    </tr>\n    <tr>\n      <th>89</th>\n      <td>hair drier</td>\n    </tr>\n    <tr>\n      <th>90</th>\n      <td>toothbrush</td>\n    </tr>\n  </tbody>\n</table>\n<p>80 rows × 1 columns</p>\n</div>",
          "text/plain": "             category string\ncategorty_id                \n1                     person\n2                    bicycle\n3                        car\n4                 motorcycle\n5                   airplane\n...                      ...\n86                      vase\n87                  scissors\n88                teddy bear\n89                hair drier\n90                toothbrush\n\n[80 rows x 1 columns]"
         },
         "metadata": {},
         "output_type": "display_data"
        }
       ]
      }
     },
     "6e293e805de04661b2409465782665a9": {
      "model_module": "@jupyter-widgets/base",
      "model_module_version": "2.0.0",
      "model_name": "LayoutModel",
      "state": {}
     },
     "6e35a984c1be4e03bf957002d0e2d8d5": {
      "model_module": "@jupyter-widgets/controls",
      "model_module_version": "2.0.0",
      "model_name": "VBoxModel",
      "state": {
       "children": [
        "IPY_MODEL_bf0844fbe30e4e4a966098a89ebef96f",
        "IPY_MODEL_26ef1f0f92a24f6c86e206094f0b05c2"
       ],
       "layout": "IPY_MODEL_02e29071cf7d489080abbed11d4e57de"
      }
     },
     "6e3daaab4fc848efb809b66f94118797": {
      "model_module": "@jupyter-widgets/output",
      "model_module_version": "1.0.0",
      "model_name": "OutputModel",
      "state": {
       "layout": "IPY_MODEL_3e39b829b36640539c9c49b9884fa62e",
       "outputs": [
        {
         "data": {
          "text/html": "<div>\n<style scoped>\n    .dataframe tbody tr th:only-of-type {\n        vertical-align: middle;\n    }\n\n    .dataframe tbody tr th {\n        vertical-align: top;\n    }\n\n    .dataframe thead th {\n        text-align: right;\n    }\n</style>\n<table border=\"1\" class=\"dataframe\">\n  <thead>\n    <tr style=\"text-align: right;\">\n      <th></th>\n      <th>area</th>\n      <th>box_height</th>\n      <th>box_width</th>\n      <th>category_id</th>\n      <th>category_str</th>\n      <th>image_id</th>\n      <th>split</th>\n      <th>xmin</th>\n      <th>ymin</th>\n    </tr>\n    <tr>\n      <th>id</th>\n      <th></th>\n      <th></th>\n      <th></th>\n      <th></th>\n      <th></th>\n      <th></th>\n      <th></th>\n      <th></th>\n      <th></th>\n    </tr>\n  </thead>\n  <tbody>\n    <tr>\n      <th>26547</th>\n      <td>531.80710</td>\n      <td>69.50</td>\n      <td>24.70</td>\n      <td>64</td>\n      <td>potted plant</td>\n      <td>139</td>\n      <td>valid</td>\n      <td>236.98</td>\n      <td>142.51</td>\n    </tr>\n    <tr>\n      <th>34646</th>\n      <td>13244.65770</td>\n      <td>94.87</td>\n      <td>149.32</td>\n      <td>72</td>\n      <td>tv</td>\n      <td>139</td>\n      <td>valid</td>\n      <td>7.03</td>\n      <td>167.76</td>\n    </tr>\n    <tr>\n      <th>35802</th>\n      <td>5833.11795</td>\n      <td>78.73</td>\n      <td>81.35</td>\n      <td>72</td>\n      <td>tv</td>\n      <td>139</td>\n      <td>valid</td>\n      <td>557.21</td>\n      <td>209.19</td>\n    </tr>\n    <tr>\n      <th>103487</th>\n      <td>2245.34355</td>\n      <td>102.83</td>\n      <td>56.00</td>\n      <td>62</td>\n      <td>chair</td>\n      <td>139</td>\n      <td>valid</td>\n      <td>358.98</td>\n      <td>218.05</td>\n    </tr>\n    <tr>\n      <th>104368</th>\n      <td>1833.78400</td>\n      <td>98.48</td>\n      <td>61.83</td>\n      <td>62</td>\n      <td>chair</td>\n      <td>139</td>\n      <td>valid</td>\n      <td>290.69</td>\n      <td>218.00</td>\n    </tr>\n    <tr>\n      <th>105328</th>\n      <td>1289.37345</td>\n      <td>81.36</td>\n      <td>30.17</td>\n      <td>62</td>\n      <td>chair</td>\n      <td>139</td>\n      <td>valid</td>\n      <td>413.20</td>\n      <td>223.01</td>\n    </tr>\n    <tr>\n      <th>110334</th>\n      <td>210.14820</td>\n      <td>11.59</td>\n      <td>21.58</td>\n      <td>62</td>\n      <td>chair</td>\n      <td>139</td>\n      <td>valid</td>\n      <td>317.40</td>\n      <td>219.24</td>\n    </tr>\n    <tr>\n      <th>230831</th>\n      <td>2913.11040</td>\n      <td>138.01</td>\n      <td>53.05</td>\n      <td>1</td>\n      <td>person</td>\n      <td>139</td>\n      <td>valid</td>\n      <td>412.80</td>\n      <td>157.61</td>\n    </tr>\n    <tr>\n      <th>233201</th>\n      <td>435.14495</td>\n      <td>35.74</td>\n      <td>15.12</td>\n      <td>1</td>\n      <td>person</td>\n      <td>139</td>\n      <td>valid</td>\n      <td>384.43</td>\n      <td>172.21</td>\n    </tr>\n    <tr>\n      <th>1640282</th>\n      <td>217.71920</td>\n      <td>15.97</td>\n      <td>14.74</td>\n      <td>78</td>\n      <td>microwave</td>\n      <td>139</td>\n      <td>valid</td>\n      <td>512.22</td>\n      <td>205.75</td>\n    </tr>\n    <tr>\n      <th>1647285</th>\n      <td>2089.97480</td>\n      <td>108.31</td>\n      <td>20.29</td>\n      <td>82</td>\n      <td>refrigerator</td>\n      <td>139</td>\n      <td>valid</td>\n      <td>493.10</td>\n      <td>174.34</td>\n    </tr>\n    <tr>\n      <th>1648594</th>\n      <td>338.60885</td>\n      <td>45.71</td>\n      <td>14.34</td>\n      <td>84</td>\n      <td>book</td>\n      <td>139</td>\n      <td>valid</td>\n      <td>604.77</td>\n      <td>305.89</td>\n    </tr>\n    <tr>\n      <th>1654394</th>\n      <td>322.59360</td>\n      <td>46.44</td>\n      <td>12.88</td>\n      <td>84</td>\n      <td>book</td>\n      <td>139</td>\n      <td>valid</td>\n      <td>613.24</td>\n      <td>308.24</td>\n    </tr>\n    <tr>\n      <th>1666628</th>\n      <td>225.66420</td>\n      <td>21.88</td>\n      <td>13.97</td>\n      <td>85</td>\n      <td>clock</td>\n      <td>139</td>\n      <td>valid</td>\n      <td>447.77</td>\n      <td>121.12</td>\n    </tr>\n    <tr>\n      <th>1667817</th>\n      <td>2171.61885</td>\n      <td>89.67</td>\n      <td>36.68</td>\n      <td>86</td>\n      <td>vase</td>\n      <td>139</td>\n      <td>valid</td>\n      <td>549.06</td>\n      <td>309.43</td>\n    </tr>\n    <tr>\n      <th>1669970</th>\n      <td>178.18510</td>\n      <td>22.55</td>\n      <td>11.37</td>\n      <td>86</td>\n      <td>vase</td>\n      <td>139</td>\n      <td>valid</td>\n      <td>350.76</td>\n      <td>208.84</td>\n    </tr>\n    <tr>\n      <th>1941808</th>\n      <td>90.98725</td>\n      <td>12.52</td>\n      <td>9.63</td>\n      <td>62</td>\n      <td>chair</td>\n      <td>139</td>\n      <td>valid</td>\n      <td>412.25</td>\n      <td>219.02</td>\n    </tr>\n    <tr>\n      <th>2146194</th>\n      <td>189.56010</td>\n      <td>17.63</td>\n      <td>14.22</td>\n      <td>86</td>\n      <td>vase</td>\n      <td>139</td>\n      <td>valid</td>\n      <td>241.24</td>\n      <td>194.99</td>\n    </tr>\n    <tr>\n      <th>2146548</th>\n      <td>120.23200</td>\n      <td>16.73</td>\n      <td>9.73</td>\n      <td>86</td>\n      <td>vase</td>\n      <td>139</td>\n      <td>valid</td>\n      <td>336.79</td>\n      <td>199.50</td>\n    </tr>\n    <tr>\n      <th>2204286</th>\n      <td>2362.48975</td>\n      <td>88.93</td>\n      <td>125.56</td>\n      <td>67</td>\n      <td>dining table</td>\n      <td>139</td>\n      <td>valid</td>\n      <td>321.21</td>\n      <td>231.22</td>\n    </tr>\n  </tbody>\n</table>\n</div>",
          "text/plain": "                area  box_height  box_width  category_id  category_str  \\\nid                                                                       \n26547      531.80710       69.50      24.70           64  potted plant   \n34646    13244.65770       94.87     149.32           72            tv   \n35802     5833.11795       78.73      81.35           72            tv   \n103487    2245.34355      102.83      56.00           62         chair   \n104368    1833.78400       98.48      61.83           62         chair   \n105328    1289.37345       81.36      30.17           62         chair   \n110334     210.14820       11.59      21.58           62         chair   \n230831    2913.11040      138.01      53.05            1        person   \n233201     435.14495       35.74      15.12            1        person   \n1640282    217.71920       15.97      14.74           78     microwave   \n1647285   2089.97480      108.31      20.29           82  refrigerator   \n1648594    338.60885       45.71      14.34           84          book   \n1654394    322.59360       46.44      12.88           84          book   \n1666628    225.66420       21.88      13.97           85         clock   \n1667817   2171.61885       89.67      36.68           86          vase   \n1669970    178.18510       22.55      11.37           86          vase   \n1941808     90.98725       12.52       9.63           62         chair   \n2146194    189.56010       17.63      14.22           86          vase   \n2146548    120.23200       16.73       9.73           86          vase   \n2204286   2362.48975       88.93     125.56           67  dining table   \n\n         image_id  split    xmin    ymin  \nid                                        \n26547         139  valid  236.98  142.51  \n34646         139  valid    7.03  167.76  \n35802         139  valid  557.21  209.19  \n103487        139  valid  358.98  218.05  \n104368        139  valid  290.69  218.00  \n105328        139  valid  413.20  223.01  \n110334        139  valid  317.40  219.24  \n230831        139  valid  412.80  157.61  \n233201        139  valid  384.43  172.21  \n1640282       139  valid  512.22  205.75  \n1647285       139  valid  493.10  174.34  \n1648594       139  valid  604.77  305.89  \n1654394       139  valid  613.24  308.24  \n1666628       139  valid  447.77  121.12  \n1667817       139  valid  549.06  309.43  \n1669970       139  valid  350.76  208.84  \n1941808       139  valid  412.25  219.02  \n2146194       139  valid  241.24  194.99  \n2146548       139  valid  336.79  199.50  \n2204286       139  valid  321.21  231.22  "
         },
         "metadata": {},
         "output_type": "display_data"
        }
       ]
      }
     },
     "6e60a442aa134ab0b85f33c3716c1237": {
      "model_module": "@jupyter-widgets/output",
      "model_module_version": "1.0.0",
      "model_name": "OutputModel",
      "state": {
       "layout": "IPY_MODEL_9580d2eae4c642cb887e311bcf0e4762",
       "outputs": [
        {
         "data": {
          "text/html": "<div>\n<style scoped>\n    .dataframe tbody tr th:only-of-type {\n        vertical-align: middle;\n    }\n\n    .dataframe tbody tr th {\n        vertical-align: top;\n    }\n\n    .dataframe thead th {\n        text-align: right;\n    }\n</style>\n<table border=\"1\" class=\"dataframe\">\n  <thead>\n    <tr style=\"text-align: right;\">\n      <th></th>\n      <th>category string</th>\n    </tr>\n    <tr>\n      <th>categorty_id</th>\n      <th></th>\n    </tr>\n  </thead>\n  <tbody>\n    <tr>\n      <th>1</th>\n      <td>person</td>\n    </tr>\n    <tr>\n      <th>2</th>\n      <td>bicycle</td>\n    </tr>\n    <tr>\n      <th>3</th>\n      <td>car</td>\n    </tr>\n    <tr>\n      <th>4</th>\n      <td>motorcycle</td>\n    </tr>\n    <tr>\n      <th>5</th>\n      <td>airplane</td>\n    </tr>\n    <tr>\n      <th>...</th>\n      <td>...</td>\n    </tr>\n    <tr>\n      <th>86</th>\n      <td>vase</td>\n    </tr>\n    <tr>\n      <th>87</th>\n      <td>scissors</td>\n    </tr>\n    <tr>\n      <th>88</th>\n      <td>teddy bear</td>\n    </tr>\n    <tr>\n      <th>89</th>\n      <td>hair drier</td>\n    </tr>\n    <tr>\n      <th>90</th>\n      <td>toothbrush</td>\n    </tr>\n  </tbody>\n</table>\n<p>80 rows × 1 columns</p>\n</div>",
          "text/plain": "             category string\ncategorty_id                \n1                     person\n2                    bicycle\n3                        car\n4                 motorcycle\n5                   airplane\n...                      ...\n86                      vase\n87                  scissors\n88                teddy bear\n89                hair drier\n90                toothbrush\n\n[80 rows x 1 columns]"
         },
         "metadata": {},
         "output_type": "display_data"
        }
       ]
      }
     },
     "6f0710bdecb6476cbf9c153fcfef0903": {
      "model_module": "@jupyter-widgets/base",
      "model_module_version": "2.0.0",
      "model_name": "LayoutModel",
      "state": {}
     },
     "6f573b537e7c419fa865939bcb666912": {
      "model_module": "@jupyter-widgets/base",
      "model_module_version": "2.0.0",
      "model_name": "LayoutModel",
      "state": {}
     },
     "6f93180878ff44c5977dddc47e809071": {
      "model_module": "@jupyter-widgets/base",
      "model_module_version": "2.0.0",
      "model_name": "LayoutModel",
      "state": {}
     },
     "702415052a7440f9b85e793bbd7c8933": {
      "model_module": "@jupyter-widgets/controls",
      "model_module_version": "2.0.0",
      "model_name": "VBoxModel",
      "state": {
       "children": [
        "IPY_MODEL_9f9bc1a3ec2b4362ace5dce8d4dba19b",
        "IPY_MODEL_2d49910e04da43a29d9687f3aae0ece7"
       ],
       "layout": "IPY_MODEL_1b37210d43c84a48bfb45f925a073d19"
      }
     },
     "70cd7ba0e8de4e92bed639fc6ae50085": {
      "model_module": "@jupyter-widgets/output",
      "model_module_version": "1.0.0",
      "model_name": "OutputModel",
      "state": {
       "layout": "IPY_MODEL_71c7f0a62dbe4b3a83948f4656deb586",
       "outputs": [
        {
         "data": {
          "text/html": "<div>\n<style scoped>\n    .dataframe tbody tr th:only-of-type {\n        vertical-align: middle;\n    }\n\n    .dataframe tbody tr th {\n        vertical-align: top;\n    }\n\n    .dataframe thead th {\n        text-align: right;\n    }\n</style>\n<table border=\"1\" class=\"dataframe\">\n  <thead>\n    <tr style=\"text-align: right;\">\n      <th></th>\n      <th>category string</th>\n    </tr>\n    <tr>\n      <th>categorty_id</th>\n      <th></th>\n    </tr>\n  </thead>\n  <tbody>\n    <tr>\n      <th>1</th>\n      <td>Vehicle</td>\n    </tr>\n    <tr>\n      <th>2</th>\n      <td>Bag</td>\n    </tr>\n    <tr>\n      <th>3</th>\n      <td>Animal</td>\n    </tr>\n  </tbody>\n</table>\n</div>",
          "text/plain": "             category string\ncategorty_id                \n1                    Vehicle\n2                        Bag\n3                     Animal"
         },
         "metadata": {},
         "output_type": "display_data"
        }
       ]
      }
     },
     "713a44bd15904b1e9cb72a4d1def3866": {
      "model_module": "@jupyter-widgets/output",
      "model_module_version": "1.0.0",
      "model_name": "OutputModel",
      "state": {
       "layout": "IPY_MODEL_5f2801e01b7f4d04a59a9b085909959f",
       "outputs": [
        {
         "data": {
          "text/html": "<div>\n<style scoped>\n    .dataframe tbody tr th:only-of-type {\n        vertical-align: middle;\n    }\n\n    .dataframe tbody tr th {\n        vertical-align: top;\n    }\n\n    .dataframe thead th {\n        text-align: right;\n    }\n</style>\n<table border=\"1\" class=\"dataframe\">\n  <thead>\n    <tr style=\"text-align: right;\">\n      <th></th>\n      <th>category string</th>\n    </tr>\n    <tr>\n      <th>categorty_id</th>\n      <th></th>\n    </tr>\n  </thead>\n  <tbody>\n    <tr>\n      <th>1</th>\n      <td>person</td>\n    </tr>\n    <tr>\n      <th>2</th>\n      <td>bicycle</td>\n    </tr>\n    <tr>\n      <th>3</th>\n      <td>car</td>\n    </tr>\n    <tr>\n      <th>4</th>\n      <td>motorcycle</td>\n    </tr>\n    <tr>\n      <th>5</th>\n      <td>airplane</td>\n    </tr>\n    <tr>\n      <th>...</th>\n      <td>...</td>\n    </tr>\n    <tr>\n      <th>86</th>\n      <td>vase</td>\n    </tr>\n    <tr>\n      <th>87</th>\n      <td>scissors</td>\n    </tr>\n    <tr>\n      <th>88</th>\n      <td>teddy bear</td>\n    </tr>\n    <tr>\n      <th>89</th>\n      <td>hair drier</td>\n    </tr>\n    <tr>\n      <th>90</th>\n      <td>toothbrush</td>\n    </tr>\n  </tbody>\n</table>\n<p>80 rows × 1 columns</p>\n</div>",
          "text/plain": "             category string\ncategorty_id                \n1                     person\n2                    bicycle\n3                        car\n4                 motorcycle\n5                   airplane\n...                      ...\n86                      vase\n87                  scissors\n88                teddy bear\n89                hair drier\n90                toothbrush\n\n[80 rows x 1 columns]"
         },
         "metadata": {},
         "output_type": "display_data"
        }
       ]
      }
     },
     "71966136551a41a498ba2c4fd5e89bf2": {
      "model_module": "@jupyter-widgets/controls",
      "model_module_version": "2.0.0",
      "model_name": "HTMLStyleModel",
      "state": {
       "description_width": "",
       "font_size": null,
       "text_color": null
      }
     },
     "719f61dbc6794dcfa88c7f4adb61cbb5": {
      "model_module": "@jupyter-widgets/base",
      "model_module_version": "2.0.0",
      "model_name": "LayoutModel",
      "state": {}
     },
     "71c7f0a62dbe4b3a83948f4656deb586": {
      "model_module": "@jupyter-widgets/base",
      "model_module_version": "2.0.0",
      "model_name": "LayoutModel",
      "state": {}
     },
     "71de0f8bb8994f42a0f8f3b2b4fc5327": {
      "model_module": "@jupyter-widgets/controls",
      "model_module_version": "2.0.0",
      "model_name": "HTMLStyleModel",
      "state": {
       "description_width": "",
       "font_size": null,
       "text_color": null
      }
     },
     "72a646e228a3489a9e49a1112fc47986": {
      "model_module": "@jupyter-widgets/controls",
      "model_module_version": "2.0.0",
      "model_name": "HTMLModel",
      "state": {
       "layout": "IPY_MODEL_868c6e40c2d64704bc21697047610c5d",
       "style": "IPY_MODEL_659bbddda8b443279134656ac9c3a583",
       "value": "<b> Dataset object located at notebook_data, containing 5,000 images and 5,143 objects </b>"
      }
     },
     "72e63c714b0c4936ba5ba1a4c5ef50a7": {
      "model_module": "@jupyter-widgets/output",
      "model_module_version": "1.0.0",
      "model_name": "OutputModel",
      "state": {
       "layout": "IPY_MODEL_e833acf2e4ad4d1196b62e6e4ce0bfec",
       "outputs": [
        {
         "data": {
          "text/html": "<div>\n<style scoped>\n    .dataframe tbody tr th:only-of-type {\n        vertical-align: middle;\n    }\n\n    .dataframe tbody tr th {\n        vertical-align: top;\n    }\n\n    .dataframe thead th {\n        text-align: right;\n    }\n</style>\n<table border=\"1\" class=\"dataframe\">\n  <thead>\n    <tr style=\"text-align: right;\">\n      <th></th>\n      <th>area</th>\n      <th>category_id</th>\n      <th>split</th>\n      <th>xmin</th>\n      <th>ymin</th>\n      <th>box_width</th>\n      <th>box_height</th>\n      <th>category_str</th>\n      <th>image_id</th>\n    </tr>\n  </thead>\n  <tbody>\n    <tr>\n      <th>0</th>\n      <td>5184.22260</td>\n      <td>62</td>\n      <td>valid</td>\n      <td>244.82</td>\n      <td>230.45</td>\n      <td>104.72</td>\n      <td>87.69</td>\n      <td>chair</td>\n      <td>0</td>\n    </tr>\n    <tr>\n      <th>1</th>\n      <td>2464.93305</td>\n      <td>64</td>\n      <td>valid</td>\n      <td>183.36</td>\n      <td>136.56</td>\n      <td>60.78</td>\n      <td>92.39</td>\n      <td>potted plant</td>\n      <td>0</td>\n    </tr>\n    <tr>\n      <th>2</th>\n      <td>7034.62185</td>\n      <td>64</td>\n      <td>valid</td>\n      <td>347.35</td>\n      <td>212.37</td>\n      <td>82.51</td>\n      <td>143.00</td>\n      <td>potted plant</td>\n      <td>0</td>\n    </tr>\n    <tr>\n      <th>3</th>\n      <td>64019.87940</td>\n      <td>65</td>\n      <td>valid</td>\n      <td>3.27</td>\n      <td>266.85</td>\n      <td>401.23</td>\n      <td>208.25</td>\n      <td>bed</td>\n      <td>0</td>\n    </tr>\n    <tr>\n      <th>4</th>\n      <td>20933.00000</td>\n      <td>84</td>\n      <td>valid</td>\n      <td>416.00</td>\n      <td>43.00</td>\n      <td>153.00</td>\n      <td>303.00</td>\n      <td>book</td>\n      <td>0</td>\n    </tr>\n    <tr>\n      <th>...</th>\n      <td>...</td>\n      <td>...</td>\n      <td>...</td>\n      <td>...</td>\n      <td>...</td>\n      <td>...</td>\n      <td>...</td>\n      <td>...</td>\n      <td>...</td>\n    </tr>\n    <tr>\n      <th>36776</th>\n      <td>364.30040</td>\n      <td>41</td>\n      <td>valid</td>\n      <td>128.77</td>\n      <td>152.72</td>\n      <td>50.00</td>\n      <td>17.21</td>\n      <td>skateboard</td>\n      <td>4997</td>\n    </tr>\n    <tr>\n      <th>36777</th>\n      <td>53359.63985</td>\n      <td>1</td>\n      <td>valid</td>\n      <td>0.00</td>\n      <td>2.53</td>\n      <td>469.53</td>\n      <td>215.26</td>\n      <td>person</td>\n      <td>4998</td>\n    </tr>\n    <tr>\n      <th>36778</th>\n      <td>46341.95470</td>\n      <td>58</td>\n      <td>valid</td>\n      <td>39.91</td>\n      <td>140.73</td>\n      <td>308.31</td>\n      <td>232.60</td>\n      <td>hot dog</td>\n      <td>4998</td>\n    </tr>\n    <tr>\n      <th>36779</th>\n      <td>14878.08055</td>\n      <td>58</td>\n      <td>valid</td>\n      <td>147.27</td>\n      <td>282.15</td>\n      <td>246.36</td>\n      <td>206.45</td>\n      <td>hot dog</td>\n      <td>4998</td>\n    </tr>\n    <tr>\n      <th>36780</th>\n      <td>34120.51835</td>\n      <td>70</td>\n      <td>valid</td>\n      <td>139.32</td>\n      <td>386.03</td>\n      <td>191.56</td>\n      <td>235.10</td>\n      <td>toilet</td>\n      <td>4999</td>\n    </tr>\n  </tbody>\n</table>\n<p>36781 rows × 9 columns</p>\n</div>",
          "text/plain": "              area  category_id  split    xmin    ymin  box_width  box_height  \\\n0       5184.22260           62  valid  244.82  230.45     104.72       87.69   \n1       2464.93305           64  valid  183.36  136.56      60.78       92.39   \n2       7034.62185           64  valid  347.35  212.37      82.51      143.00   \n3      64019.87940           65  valid    3.27  266.85     401.23      208.25   \n4      20933.00000           84  valid  416.00   43.00     153.00      303.00   \n...            ...          ...    ...     ...     ...        ...         ...   \n36776    364.30040           41  valid  128.77  152.72      50.00       17.21   \n36777  53359.63985            1  valid    0.00    2.53     469.53      215.26   \n36778  46341.95470           58  valid   39.91  140.73     308.31      232.60   \n36779  14878.08055           58  valid  147.27  282.15     246.36      206.45   \n36780  34120.51835           70  valid  139.32  386.03     191.56      235.10   \n\n       category_str  image_id  \n0             chair         0  \n1      potted plant         0  \n2      potted plant         0  \n3               bed         0  \n4              book         0  \n...             ...       ...  \n36776    skateboard      4997  \n36777        person      4998  \n36778       hot dog      4998  \n36779       hot dog      4998  \n36780        toilet      4999  \n\n[36781 rows x 9 columns]"
         },
         "metadata": {},
         "output_type": "display_data"
        }
       ]
      }
     },
     "731346a167d44762bf5bd5265beaad42": {
      "model_module": "@jupyter-widgets/output",
      "model_module_version": "1.0.0",
      "model_name": "OutputModel",
      "state": {
       "layout": "IPY_MODEL_e42412c7f53b45299ce5fe7241870f00",
       "outputs": [
        {
         "data": {
          "text/html": "<div>\n<style scoped>\n    .dataframe tbody tr th:only-of-type {\n        vertical-align: middle;\n    }\n\n    .dataframe tbody tr th {\n        vertical-align: top;\n    }\n\n    .dataframe thead th {\n        text-align: right;\n    }\n</style>\n<table border=\"1\" class=\"dataframe\">\n  <thead>\n    <tr style=\"text-align: right;\">\n      <th></th>\n      <th>file_name</th>\n      <th>height</th>\n      <th>width</th>\n      <th>split</th>\n      <th>relative_path</th>\n      <th>type</th>\n    </tr>\n    <tr>\n      <th>id</th>\n      <th></th>\n      <th></th>\n      <th></th>\n      <th></th>\n      <th></th>\n      <th></th>\n    </tr>\n  </thead>\n  <tbody>\n    <tr>\n      <th>352582</th>\n      <td>000000352582.jpg</td>\n      <td>640</td>\n      <td>425</td>\n      <td>valid</td>\n      <td>Images/valid/000000352582.jpg</td>\n      <td>.jpg</td>\n    </tr>\n    <tr>\n      <th>113354</th>\n      <td>000000113354.jpg</td>\n      <td>480</td>\n      <td>640</td>\n      <td>valid</td>\n      <td>Images/valid/000000113354.jpg</td>\n      <td>.jpg</td>\n    </tr>\n    <tr>\n      <th>58393</th>\n      <td>000000058393.jpg</td>\n      <td>486</td>\n      <td>640</td>\n      <td>valid</td>\n      <td>Images/valid/000000058393.jpg</td>\n      <td>.jpg</td>\n    </tr>\n    <tr>\n      <th>147729</th>\n      <td>000000147729.jpg</td>\n      <td>375</td>\n      <td>500</td>\n      <td>valid</td>\n      <td>Images/valid/000000147729.jpg</td>\n      <td>.jpg</td>\n    </tr>\n    <tr>\n      <th>310072</th>\n      <td>000000310072.jpg</td>\n      <td>383</td>\n      <td>640</td>\n      <td>valid</td>\n      <td>Images/valid/000000310072.jpg</td>\n      <td>.jpg</td>\n    </tr>\n    <tr>\n      <th>...</th>\n      <td>...</td>\n      <td>...</td>\n      <td>...</td>\n      <td>...</td>\n      <td>...</td>\n      <td>...</td>\n    </tr>\n    <tr>\n      <th>311180</th>\n      <td>000000311180.jpg</td>\n      <td>640</td>\n      <td>480</td>\n      <td>valid</td>\n      <td>Images/valid/000000311180.jpg</td>\n      <td>.jpg</td>\n    </tr>\n    <tr>\n      <th>302030</th>\n      <td>000000302030.jpg</td>\n      <td>359</td>\n      <td>640</td>\n      <td>valid</td>\n      <td>Images/valid/000000302030.jpg</td>\n      <td>.jpg</td>\n    </tr>\n    <tr>\n      <th>105455</th>\n      <td>000000105455.jpg</td>\n      <td>640</td>\n      <td>427</td>\n      <td>valid</td>\n      <td>Images/valid/000000105455.jpg</td>\n      <td>.jpg</td>\n    </tr>\n    <tr>\n      <th>428280</th>\n      <td>000000428280.jpg</td>\n      <td>333</td>\n      <td>500</td>\n      <td>valid</td>\n      <td>Images/valid/000000428280.jpg</td>\n      <td>.jpg</td>\n    </tr>\n    <tr>\n      <th>349837</th>\n      <td>000000349837.jpg</td>\n      <td>333</td>\n      <td>500</td>\n      <td>valid</td>\n      <td>Images/valid/000000349837.jpg</td>\n      <td>.jpg</td>\n    </tr>\n  </tbody>\n</table>\n<p>5000 rows × 6 columns</p>\n</div>",
          "text/plain": "               file_name  height  width  split                  relative_path  \\\nid                                                                              \n352582  000000352582.jpg     640    425  valid  Images/valid/000000352582.jpg   \n113354  000000113354.jpg     480    640  valid  Images/valid/000000113354.jpg   \n58393   000000058393.jpg     486    640  valid  Images/valid/000000058393.jpg   \n147729  000000147729.jpg     375    500  valid  Images/valid/000000147729.jpg   \n310072  000000310072.jpg     383    640  valid  Images/valid/000000310072.jpg   \n...                  ...     ...    ...    ...                            ...   \n311180  000000311180.jpg     640    480  valid  Images/valid/000000311180.jpg   \n302030  000000302030.jpg     359    640  valid  Images/valid/000000302030.jpg   \n105455  000000105455.jpg     640    427  valid  Images/valid/000000105455.jpg   \n428280  000000428280.jpg     333    500  valid  Images/valid/000000428280.jpg   \n349837  000000349837.jpg     333    500  valid  Images/valid/000000349837.jpg   \n\n        type  \nid            \n352582  .jpg  \n113354  .jpg  \n58393   .jpg  \n147729  .jpg  \n310072  .jpg  \n...      ...  \n311180  .jpg  \n302030  .jpg  \n105455  .jpg  \n428280  .jpg  \n349837  .jpg  \n\n[5000 rows x 6 columns]"
         },
         "metadata": {},
         "output_type": "display_data"
        }
       ]
      }
     },
     "734c241eb085423dad61c4bfd82d1d89": {
      "model_module": "@jupyter-widgets/controls",
      "model_module_version": "2.0.0",
      "model_name": "HTMLStyleModel",
      "state": {
       "description_width": "",
       "font_size": null,
       "text_color": null
      }
     },
     "73a84bd366594deea13f67a35d2353cd": {
      "model_module": "@jupyter-widgets/controls",
      "model_module_version": "2.0.0",
      "model_name": "VBoxModel",
      "state": {
       "children": [
        "IPY_MODEL_30fd2c51831040898427221ffbd8cdd6",
        "IPY_MODEL_74985e64b1674531ab1012a218805b42"
       ],
       "layout": "IPY_MODEL_302ebcd2f6ce4002acfbf179aec120eb"
      }
     },
     "73c56c172193413fbd59ac4d568f7688": {
      "model_module": "@jupyter-widgets/base",
      "model_module_version": "2.0.0",
      "model_name": "LayoutModel",
      "state": {}
     },
     "73e7d38bbe794da7a36f39670359f056": {
      "model_module": "@jupyter-widgets/controls",
      "model_module_version": "2.0.0",
      "model_name": "HTMLModel",
      "state": {
       "layout": "IPY_MODEL_04c0c020f9164c0bb8bdd13c5223971a",
       "style": "IPY_MODEL_9b844ff8c565499d8f0a15a3e014e63b",
       "value": "<b> Dataset object located at notebook_data, containing 5,000 images and 5,143 objects </b>"
      }
     },
     "73ef45052bf74aa29423759099a54588": {
      "model_module": "@jupyter-widgets/controls",
      "model_module_version": "2.0.0",
      "model_name": "VBoxModel",
      "state": {
       "children": [
        "IPY_MODEL_f7fee9813b20459ba0b1c4ad8a1888eb",
        "IPY_MODEL_912bb597eeba4ba2b64cf1abbbc3e8c0"
       ],
       "layout": "IPY_MODEL_79ea9acb8f5044409e6c49c7e9746972"
      }
     },
     "7422e505856c4677a11b56c5ba1edbfe": {
      "model_module": "@jupyter-widgets/output",
      "model_module_version": "1.0.0",
      "model_name": "OutputModel",
      "state": {
       "layout": "IPY_MODEL_ca29611c97594902970f62514ad309b8",
       "outputs": [
        {
         "data": {
          "text/html": "<div>\n<style scoped>\n    .dataframe tbody tr th:only-of-type {\n        vertical-align: middle;\n    }\n\n    .dataframe tbody tr th {\n        vertical-align: top;\n    }\n\n    .dataframe thead th {\n        text-align: right;\n    }\n</style>\n<table border=\"1\" class=\"dataframe\">\n  <thead>\n    <tr style=\"text-align: right;\">\n      <th></th>\n      <th>category string</th>\n    </tr>\n    <tr>\n      <th>categorty_id</th>\n      <th></th>\n    </tr>\n  </thead>\n  <tbody>\n    <tr>\n      <th>1</th>\n      <td>person</td>\n    </tr>\n    <tr>\n      <th>2</th>\n      <td>bicycle</td>\n    </tr>\n    <tr>\n      <th>3</th>\n      <td>car</td>\n    </tr>\n    <tr>\n      <th>4</th>\n      <td>motorcycle</td>\n    </tr>\n    <tr>\n      <th>5</th>\n      <td>airplane</td>\n    </tr>\n    <tr>\n      <th>...</th>\n      <td>...</td>\n    </tr>\n    <tr>\n      <th>86</th>\n      <td>vase</td>\n    </tr>\n    <tr>\n      <th>87</th>\n      <td>scissors</td>\n    </tr>\n    <tr>\n      <th>88</th>\n      <td>teddy bear</td>\n    </tr>\n    <tr>\n      <th>89</th>\n      <td>hair drier</td>\n    </tr>\n    <tr>\n      <th>90</th>\n      <td>toothbrush</td>\n    </tr>\n  </tbody>\n</table>\n<p>80 rows × 1 columns</p>\n</div>",
          "text/plain": "             category string\ncategorty_id                \n1                     person\n2                    bicycle\n3                        car\n4                 motorcycle\n5                   airplane\n...                      ...\n86                      vase\n87                  scissors\n88                teddy bear\n89                hair drier\n90                toothbrush\n\n[80 rows x 1 columns]"
         },
         "metadata": {},
         "output_type": "display_data"
        }
       ]
      }
     },
     "74985e64b1674531ab1012a218805b42": {
      "model_module": "@jupyter-widgets/controls",
      "model_module_version": "2.0.0",
      "model_name": "TabModel",
      "state": {
       "children": [
        "IPY_MODEL_29dca75119214c7ba8575747a1702d22",
        "IPY_MODEL_795d5d88a4bd415ca399deee2b97cd92",
        "IPY_MODEL_550390b45b4341f790d0259716ce7e32"
       ],
       "layout": "IPY_MODEL_07831faa06774aa5ae98ece40ca3225f",
       "selected_index": 0,
       "titles": [
        "Images",
        "Annotations",
        "Label Map"
       ]
      }
     },
     "7528d9b8f8544f4a90caf716a803d948": {
      "model_module": "@jupyter-widgets/output",
      "model_module_version": "1.0.0",
      "model_name": "OutputModel",
      "state": {
       "layout": "IPY_MODEL_58e51657e1984025acc688abc10250ae",
       "outputs": [
        {
         "data": {
          "text/html": "<div>\n<style scoped>\n    .dataframe tbody tr th:only-of-type {\n        vertical-align: middle;\n    }\n\n    .dataframe tbody tr th {\n        vertical-align: top;\n    }\n\n    .dataframe thead th {\n        text-align: right;\n    }\n</style>\n<table border=\"1\" class=\"dataframe\">\n  <thead>\n    <tr style=\"text-align: right;\">\n      <th></th>\n      <th>category string</th>\n    </tr>\n    <tr>\n      <th>categorty_id</th>\n      <th></th>\n    </tr>\n  </thead>\n  <tbody>\n    <tr>\n      <th>1</th>\n      <td>vehicle</td>\n    </tr>\n    <tr>\n      <th>2</th>\n      <td>bag</td>\n    </tr>\n    <tr>\n      <th>3</th>\n      <td>animal</td>\n    </tr>\n  </tbody>\n</table>\n</div>",
          "text/plain": "             category string\ncategorty_id                \n1                    vehicle\n2                        bag\n3                     animal"
         },
         "metadata": {},
         "output_type": "display_data"
        }
       ]
      }
     },
     "753fd2619327498984a4ff07272b1a17": {
      "model_module": "@jupyter-widgets/controls",
      "model_module_version": "2.0.0",
      "model_name": "HTMLModel",
      "state": {
       "layout": "IPY_MODEL_78f1d135725b4cbdbcd3fd96d96272ea",
       "style": "IPY_MODEL_77f6e8025cbf4d9191225a95cf67ae00",
       "value": "<b> Dataset object located at notebook_data, containing 5,000 images and 36,781 objects </b>"
      }
     },
     "754f2e42926c4c4099e7c149974e69a8": {
      "model_module": "@jupyter-widgets/controls",
      "model_module_version": "2.0.0",
      "model_name": "HTMLStyleModel",
      "state": {
       "description_width": "",
       "font_size": null,
       "text_color": null
      }
     },
     "75a8a60192454301a6f365f4e0281764": {
      "model_module": "@jupyter-widgets/base",
      "model_module_version": "2.0.0",
      "model_name": "LayoutModel",
      "state": {}
     },
     "75d05d9b842e468da1f33ea5f93a4bc4": {
      "model_module": "@jupyter-widgets/output",
      "model_module_version": "1.0.0",
      "model_name": "OutputModel",
      "state": {
       "layout": "IPY_MODEL_29cbfd2dcdc5499e87d7198fa3c30567",
       "outputs": [
        {
         "data": {
          "text/html": "<div>\n<style scoped>\n    .dataframe tbody tr th:only-of-type {\n        vertical-align: middle;\n    }\n\n    .dataframe tbody tr th {\n        vertical-align: top;\n    }\n\n    .dataframe thead th {\n        text-align: right;\n    }\n</style>\n<table border=\"1\" class=\"dataframe\">\n  <thead>\n    <tr style=\"text-align: right;\">\n      <th></th>\n      <th>file_name</th>\n      <th>height</th>\n      <th>width</th>\n      <th>split</th>\n      <th>relative_path</th>\n      <th>type</th>\n    </tr>\n    <tr>\n      <th>id</th>\n      <th></th>\n      <th></th>\n      <th></th>\n      <th></th>\n      <th></th>\n      <th></th>\n    </tr>\n  </thead>\n  <tbody>\n    <tr>\n      <th>352582</th>\n      <td>000000352582.jpg</td>\n      <td>640</td>\n      <td>425</td>\n      <td>valid</td>\n      <td>Images/valid/000000352582.jpg</td>\n      <td>.jpg</td>\n    </tr>\n    <tr>\n      <th>113354</th>\n      <td>000000113354.jpg</td>\n      <td>480</td>\n      <td>640</td>\n      <td>valid</td>\n      <td>Images/valid/000000113354.jpg</td>\n      <td>.jpg</td>\n    </tr>\n    <tr>\n      <th>58393</th>\n      <td>000000058393.jpg</td>\n      <td>486</td>\n      <td>640</td>\n      <td>valid</td>\n      <td>Images/valid/000000058393.jpg</td>\n      <td>.jpg</td>\n    </tr>\n    <tr>\n      <th>147729</th>\n      <td>000000147729.jpg</td>\n      <td>375</td>\n      <td>500</td>\n      <td>valid</td>\n      <td>Images/valid/000000147729.jpg</td>\n      <td>.jpg</td>\n    </tr>\n    <tr>\n      <th>310072</th>\n      <td>000000310072.jpg</td>\n      <td>383</td>\n      <td>640</td>\n      <td>valid</td>\n      <td>Images/valid/000000310072.jpg</td>\n      <td>.jpg</td>\n    </tr>\n    <tr>\n      <th>...</th>\n      <td>...</td>\n      <td>...</td>\n      <td>...</td>\n      <td>...</td>\n      <td>...</td>\n      <td>...</td>\n    </tr>\n    <tr>\n      <th>311180</th>\n      <td>000000311180.jpg</td>\n      <td>640</td>\n      <td>480</td>\n      <td>valid</td>\n      <td>Images/valid/000000311180.jpg</td>\n      <td>.jpg</td>\n    </tr>\n    <tr>\n      <th>302030</th>\n      <td>000000302030.jpg</td>\n      <td>359</td>\n      <td>640</td>\n      <td>valid</td>\n      <td>Images/valid/000000302030.jpg</td>\n      <td>.jpg</td>\n    </tr>\n    <tr>\n      <th>105455</th>\n      <td>000000105455.jpg</td>\n      <td>640</td>\n      <td>427</td>\n      <td>valid</td>\n      <td>Images/valid/000000105455.jpg</td>\n      <td>.jpg</td>\n    </tr>\n    <tr>\n      <th>428280</th>\n      <td>000000428280.jpg</td>\n      <td>333</td>\n      <td>500</td>\n      <td>valid</td>\n      <td>Images/valid/000000428280.jpg</td>\n      <td>.jpg</td>\n    </tr>\n    <tr>\n      <th>349837</th>\n      <td>000000349837.jpg</td>\n      <td>333</td>\n      <td>500</td>\n      <td>valid</td>\n      <td>Images/valid/000000349837.jpg</td>\n      <td>.jpg</td>\n    </tr>\n  </tbody>\n</table>\n<p>5000 rows × 6 columns</p>\n</div>",
          "text/plain": "               file_name  height  width  split                  relative_path  \\\nid                                                                              \n352582  000000352582.jpg     640    425  valid  Images/valid/000000352582.jpg   \n113354  000000113354.jpg     480    640  valid  Images/valid/000000113354.jpg   \n58393   000000058393.jpg     486    640  valid  Images/valid/000000058393.jpg   \n147729  000000147729.jpg     375    500  valid  Images/valid/000000147729.jpg   \n310072  000000310072.jpg     383    640  valid  Images/valid/000000310072.jpg   \n...                  ...     ...    ...    ...                            ...   \n311180  000000311180.jpg     640    480  valid  Images/valid/000000311180.jpg   \n302030  000000302030.jpg     359    640  valid  Images/valid/000000302030.jpg   \n105455  000000105455.jpg     640    427  valid  Images/valid/000000105455.jpg   \n428280  000000428280.jpg     333    500  valid  Images/valid/000000428280.jpg   \n349837  000000349837.jpg     333    500  valid  Images/valid/000000349837.jpg   \n\n        type  \nid            \n352582  .jpg  \n113354  .jpg  \n58393   .jpg  \n147729  .jpg  \n310072  .jpg  \n...      ...  \n311180  .jpg  \n302030  .jpg  \n105455  .jpg  \n428280  .jpg  \n349837  .jpg  \n\n[5000 rows x 6 columns]"
         },
         "metadata": {},
         "output_type": "display_data"
        }
       ]
      }
     },
     "75f777950cad460bbe0b975207629df5": {
      "model_module": "@jupyter-widgets/base",
      "model_module_version": "2.0.0",
      "model_name": "LayoutModel",
      "state": {}
     },
     "7724239e368f47b1993dd2d51b0eba7d": {
      "model_module": "@jupyter-widgets/output",
      "model_module_version": "1.0.0",
      "model_name": "OutputModel",
      "state": {
       "layout": "IPY_MODEL_f2d09f59408a489ca6af02bc38f24fe1",
       "outputs": [
        {
         "data": {
          "text/html": "<div>\n<style scoped>\n    .dataframe tbody tr th:only-of-type {\n        vertical-align: middle;\n    }\n\n    .dataframe tbody tr th {\n        vertical-align: top;\n    }\n\n    .dataframe thead th {\n        text-align: right;\n    }\n</style>\n<table border=\"1\" class=\"dataframe\">\n  <thead>\n    <tr style=\"text-align: right;\">\n      <th></th>\n      <th>file_name</th>\n      <th>height</th>\n      <th>width</th>\n      <th>split</th>\n      <th>relative_path</th>\n      <th>type</th>\n    </tr>\n    <tr>\n      <th>id</th>\n      <th></th>\n      <th></th>\n      <th></th>\n      <th></th>\n      <th></th>\n      <th></th>\n    </tr>\n  </thead>\n  <tbody>\n    <tr>\n      <th>352582</th>\n      <td>000000352582.jpg</td>\n      <td>640</td>\n      <td>425</td>\n      <td>valid</td>\n      <td>Images/valid/000000352582.jpg</td>\n      <td>.jpg</td>\n    </tr>\n    <tr>\n      <th>113354</th>\n      <td>000000113354.jpg</td>\n      <td>480</td>\n      <td>640</td>\n      <td>valid</td>\n      <td>Images/valid/000000113354.jpg</td>\n      <td>.jpg</td>\n    </tr>\n    <tr>\n      <th>58393</th>\n      <td>000000058393.jpg</td>\n      <td>486</td>\n      <td>640</td>\n      <td>valid</td>\n      <td>Images/valid/000000058393.jpg</td>\n      <td>.jpg</td>\n    </tr>\n    <tr>\n      <th>147729</th>\n      <td>000000147729.jpg</td>\n      <td>375</td>\n      <td>500</td>\n      <td>valid</td>\n      <td>Images/valid/000000147729.jpg</td>\n      <td>.jpg</td>\n    </tr>\n    <tr>\n      <th>310072</th>\n      <td>000000310072.jpg</td>\n      <td>383</td>\n      <td>640</td>\n      <td>valid</td>\n      <td>Images/valid/000000310072.jpg</td>\n      <td>.jpg</td>\n    </tr>\n    <tr>\n      <th>...</th>\n      <td>...</td>\n      <td>...</td>\n      <td>...</td>\n      <td>...</td>\n      <td>...</td>\n      <td>...</td>\n    </tr>\n    <tr>\n      <th>311180</th>\n      <td>000000311180.jpg</td>\n      <td>640</td>\n      <td>480</td>\n      <td>valid</td>\n      <td>Images/valid/000000311180.jpg</td>\n      <td>.jpg</td>\n    </tr>\n    <tr>\n      <th>302030</th>\n      <td>000000302030.jpg</td>\n      <td>359</td>\n      <td>640</td>\n      <td>valid</td>\n      <td>Images/valid/000000302030.jpg</td>\n      <td>.jpg</td>\n    </tr>\n    <tr>\n      <th>105455</th>\n      <td>000000105455.jpg</td>\n      <td>640</td>\n      <td>427</td>\n      <td>valid</td>\n      <td>Images/valid/000000105455.jpg</td>\n      <td>.jpg</td>\n    </tr>\n    <tr>\n      <th>428280</th>\n      <td>000000428280.jpg</td>\n      <td>333</td>\n      <td>500</td>\n      <td>valid</td>\n      <td>Images/valid/000000428280.jpg</td>\n      <td>.jpg</td>\n    </tr>\n    <tr>\n      <th>349837</th>\n      <td>000000349837.jpg</td>\n      <td>333</td>\n      <td>500</td>\n      <td>valid</td>\n      <td>Images/valid/000000349837.jpg</td>\n      <td>.jpg</td>\n    </tr>\n  </tbody>\n</table>\n<p>5000 rows × 6 columns</p>\n</div>",
          "text/plain": "               file_name  height  width  split                  relative_path  \\\nid                                                                              \n352582  000000352582.jpg     640    425  valid  Images/valid/000000352582.jpg   \n113354  000000113354.jpg     480    640  valid  Images/valid/000000113354.jpg   \n58393   000000058393.jpg     486    640  valid  Images/valid/000000058393.jpg   \n147729  000000147729.jpg     375    500  valid  Images/valid/000000147729.jpg   \n310072  000000310072.jpg     383    640  valid  Images/valid/000000310072.jpg   \n...                  ...     ...    ...    ...                            ...   \n311180  000000311180.jpg     640    480  valid  Images/valid/000000311180.jpg   \n302030  000000302030.jpg     359    640  valid  Images/valid/000000302030.jpg   \n105455  000000105455.jpg     640    427  valid  Images/valid/000000105455.jpg   \n428280  000000428280.jpg     333    500  valid  Images/valid/000000428280.jpg   \n349837  000000349837.jpg     333    500  valid  Images/valid/000000349837.jpg   \n\n        type  \nid            \n352582  .jpg  \n113354  .jpg  \n58393   .jpg  \n147729  .jpg  \n310072  .jpg  \n...      ...  \n311180  .jpg  \n302030  .jpg  \n105455  .jpg  \n428280  .jpg  \n349837  .jpg  \n\n[5000 rows x 6 columns]"
         },
         "metadata": {},
         "output_type": "display_data"
        }
       ]
      }
     },
     "777d6d6eb9f747deb6b5a2d5cefdf229": {
      "model_module": "@jupyter-widgets/base",
      "model_module_version": "2.0.0",
      "model_name": "LayoutModel",
      "state": {}
     },
     "7793632462b943a0ab76cd9f2ae755ca": {
      "model_module": "@jupyter-widgets/base",
      "model_module_version": "2.0.0",
      "model_name": "LayoutModel",
      "state": {}
     },
     "77f06f5c3d8b4c9ba13138cd15cf1b81": {
      "model_module": "@jupyter-widgets/output",
      "model_module_version": "1.0.0",
      "model_name": "OutputModel",
      "state": {
       "layout": "IPY_MODEL_bc002b447c0a43f5a251ae9a58602a90",
       "outputs": [
        {
         "data": {
          "text/html": "<div>\n<style scoped>\n    .dataframe tbody tr th:only-of-type {\n        vertical-align: middle;\n    }\n\n    .dataframe tbody tr th {\n        vertical-align: top;\n    }\n\n    .dataframe thead th {\n        text-align: right;\n    }\n</style>\n<table border=\"1\" class=\"dataframe\">\n  <thead>\n    <tr style=\"text-align: right;\">\n      <th></th>\n      <th>file_name</th>\n      <th>height</th>\n      <th>width</th>\n      <th>split</th>\n      <th>relative_path</th>\n      <th>type</th>\n    </tr>\n    <tr>\n      <th>id</th>\n      <th></th>\n      <th></th>\n      <th></th>\n      <th></th>\n      <th></th>\n      <th></th>\n    </tr>\n  </thead>\n  <tbody>\n    <tr>\n      <th>352582</th>\n      <td>000000352582.jpg</td>\n      <td>640</td>\n      <td>425</td>\n      <td>valid</td>\n      <td>Images/valid/000000352582.jpg</td>\n      <td>.jpg</td>\n    </tr>\n    <tr>\n      <th>113354</th>\n      <td>000000113354.jpg</td>\n      <td>480</td>\n      <td>640</td>\n      <td>valid</td>\n      <td>Images/valid/000000113354.jpg</td>\n      <td>.jpg</td>\n    </tr>\n    <tr>\n      <th>58393</th>\n      <td>000000058393.jpg</td>\n      <td>486</td>\n      <td>640</td>\n      <td>valid</td>\n      <td>Images/valid/000000058393.jpg</td>\n      <td>.jpg</td>\n    </tr>\n    <tr>\n      <th>147729</th>\n      <td>000000147729.jpg</td>\n      <td>375</td>\n      <td>500</td>\n      <td>valid</td>\n      <td>Images/valid/000000147729.jpg</td>\n      <td>.jpg</td>\n    </tr>\n    <tr>\n      <th>310072</th>\n      <td>000000310072.jpg</td>\n      <td>383</td>\n      <td>640</td>\n      <td>valid</td>\n      <td>Images/valid/000000310072.jpg</td>\n      <td>.jpg</td>\n    </tr>\n    <tr>\n      <th>...</th>\n      <td>...</td>\n      <td>...</td>\n      <td>...</td>\n      <td>...</td>\n      <td>...</td>\n      <td>...</td>\n    </tr>\n    <tr>\n      <th>311180</th>\n      <td>000000311180.jpg</td>\n      <td>640</td>\n      <td>480</td>\n      <td>valid</td>\n      <td>Images/valid/000000311180.jpg</td>\n      <td>.jpg</td>\n    </tr>\n    <tr>\n      <th>302030</th>\n      <td>000000302030.jpg</td>\n      <td>359</td>\n      <td>640</td>\n      <td>valid</td>\n      <td>Images/valid/000000302030.jpg</td>\n      <td>.jpg</td>\n    </tr>\n    <tr>\n      <th>105455</th>\n      <td>000000105455.jpg</td>\n      <td>640</td>\n      <td>427</td>\n      <td>valid</td>\n      <td>Images/valid/000000105455.jpg</td>\n      <td>.jpg</td>\n    </tr>\n    <tr>\n      <th>428280</th>\n      <td>000000428280.jpg</td>\n      <td>333</td>\n      <td>500</td>\n      <td>valid</td>\n      <td>Images/valid/000000428280.jpg</td>\n      <td>.jpg</td>\n    </tr>\n    <tr>\n      <th>349837</th>\n      <td>000000349837.jpg</td>\n      <td>333</td>\n      <td>500</td>\n      <td>valid</td>\n      <td>Images/valid/000000349837.jpg</td>\n      <td>.jpg</td>\n    </tr>\n  </tbody>\n</table>\n<p>5000 rows × 6 columns</p>\n</div>",
          "text/plain": "               file_name  height  width  split                  relative_path  \\\nid                                                                              \n352582  000000352582.jpg     640    425  valid  Images/valid/000000352582.jpg   \n113354  000000113354.jpg     480    640  valid  Images/valid/000000113354.jpg   \n58393   000000058393.jpg     486    640  valid  Images/valid/000000058393.jpg   \n147729  000000147729.jpg     375    500  valid  Images/valid/000000147729.jpg   \n310072  000000310072.jpg     383    640  valid  Images/valid/000000310072.jpg   \n...                  ...     ...    ...    ...                            ...   \n311180  000000311180.jpg     640    480  valid  Images/valid/000000311180.jpg   \n302030  000000302030.jpg     359    640  valid  Images/valid/000000302030.jpg   \n105455  000000105455.jpg     640    427  valid  Images/valid/000000105455.jpg   \n428280  000000428280.jpg     333    500  valid  Images/valid/000000428280.jpg   \n349837  000000349837.jpg     333    500  valid  Images/valid/000000349837.jpg   \n\n        type  \nid            \n352582  .jpg  \n113354  .jpg  \n58393   .jpg  \n147729  .jpg  \n310072  .jpg  \n...      ...  \n311180  .jpg  \n302030  .jpg  \n105455  .jpg  \n428280  .jpg  \n349837  .jpg  \n\n[5000 rows x 6 columns]"
         },
         "metadata": {},
         "output_type": "display_data"
        }
       ]
      }
     },
     "77f6e8025cbf4d9191225a95cf67ae00": {
      "model_module": "@jupyter-widgets/controls",
      "model_module_version": "2.0.0",
      "model_name": "HTMLStyleModel",
      "state": {
       "description_width": "",
       "font_size": null,
       "text_color": null
      }
     },
     "780f98db679d4644893e94686cee766b": {
      "model_module": "@jupyter-widgets/output",
      "model_module_version": "1.0.0",
      "model_name": "OutputModel",
      "state": {
       "layout": "IPY_MODEL_75f777950cad460bbe0b975207629df5",
       "outputs": [
        {
         "data": {
          "text/html": "<div>\n<style scoped>\n    .dataframe tbody tr th:only-of-type {\n        vertical-align: middle;\n    }\n\n    .dataframe tbody tr th {\n        vertical-align: top;\n    }\n\n    .dataframe thead th {\n        text-align: right;\n    }\n</style>\n<table border=\"1\" class=\"dataframe\">\n  <thead>\n    <tr style=\"text-align: right;\">\n      <th></th>\n      <th>file_name</th>\n      <th>height</th>\n      <th>width</th>\n      <th>split</th>\n      <th>relative_path</th>\n      <th>type</th>\n    </tr>\n    <tr>\n      <th>id</th>\n      <th></th>\n      <th></th>\n      <th></th>\n      <th></th>\n      <th></th>\n      <th></th>\n    </tr>\n  </thead>\n  <tbody>\n    <tr>\n      <th>352582</th>\n      <td>000000352582.jpg</td>\n      <td>640</td>\n      <td>425</td>\n      <td>valid</td>\n      <td>Images/valid/000000352582.jpg</td>\n      <td>.jpg</td>\n    </tr>\n    <tr>\n      <th>113354</th>\n      <td>000000113354.jpg</td>\n      <td>480</td>\n      <td>640</td>\n      <td>valid</td>\n      <td>Images/valid/000000113354.jpg</td>\n      <td>.jpg</td>\n    </tr>\n    <tr>\n      <th>58393</th>\n      <td>000000058393.jpg</td>\n      <td>486</td>\n      <td>640</td>\n      <td>valid</td>\n      <td>Images/valid/000000058393.jpg</td>\n      <td>.jpg</td>\n    </tr>\n    <tr>\n      <th>147729</th>\n      <td>000000147729.jpg</td>\n      <td>375</td>\n      <td>500</td>\n      <td>valid</td>\n      <td>Images/valid/000000147729.jpg</td>\n      <td>.jpg</td>\n    </tr>\n    <tr>\n      <th>310072</th>\n      <td>000000310072.jpg</td>\n      <td>383</td>\n      <td>640</td>\n      <td>valid</td>\n      <td>Images/valid/000000310072.jpg</td>\n      <td>.jpg</td>\n    </tr>\n    <tr>\n      <th>...</th>\n      <td>...</td>\n      <td>...</td>\n      <td>...</td>\n      <td>...</td>\n      <td>...</td>\n      <td>...</td>\n    </tr>\n    <tr>\n      <th>311180</th>\n      <td>000000311180.jpg</td>\n      <td>640</td>\n      <td>480</td>\n      <td>valid</td>\n      <td>Images/valid/000000311180.jpg</td>\n      <td>.jpg</td>\n    </tr>\n    <tr>\n      <th>302030</th>\n      <td>000000302030.jpg</td>\n      <td>359</td>\n      <td>640</td>\n      <td>valid</td>\n      <td>Images/valid/000000302030.jpg</td>\n      <td>.jpg</td>\n    </tr>\n    <tr>\n      <th>105455</th>\n      <td>000000105455.jpg</td>\n      <td>640</td>\n      <td>427</td>\n      <td>valid</td>\n      <td>Images/valid/000000105455.jpg</td>\n      <td>.jpg</td>\n    </tr>\n    <tr>\n      <th>428280</th>\n      <td>000000428280.jpg</td>\n      <td>333</td>\n      <td>500</td>\n      <td>valid</td>\n      <td>Images/valid/000000428280.jpg</td>\n      <td>.jpg</td>\n    </tr>\n    <tr>\n      <th>349837</th>\n      <td>000000349837.jpg</td>\n      <td>333</td>\n      <td>500</td>\n      <td>valid</td>\n      <td>Images/valid/000000349837.jpg</td>\n      <td>.jpg</td>\n    </tr>\n  </tbody>\n</table>\n<p>5000 rows × 6 columns</p>\n</div>",
          "text/plain": "               file_name  height  width  split                  relative_path  \\\nid                                                                              \n352582  000000352582.jpg     640    425  valid  Images/valid/000000352582.jpg   \n113354  000000113354.jpg     480    640  valid  Images/valid/000000113354.jpg   \n58393   000000058393.jpg     486    640  valid  Images/valid/000000058393.jpg   \n147729  000000147729.jpg     375    500  valid  Images/valid/000000147729.jpg   \n310072  000000310072.jpg     383    640  valid  Images/valid/000000310072.jpg   \n...                  ...     ...    ...    ...                            ...   \n311180  000000311180.jpg     640    480  valid  Images/valid/000000311180.jpg   \n302030  000000302030.jpg     359    640  valid  Images/valid/000000302030.jpg   \n105455  000000105455.jpg     640    427  valid  Images/valid/000000105455.jpg   \n428280  000000428280.jpg     333    500  valid  Images/valid/000000428280.jpg   \n349837  000000349837.jpg     333    500  valid  Images/valid/000000349837.jpg   \n\n        type  \nid            \n352582  .jpg  \n113354  .jpg  \n58393   .jpg  \n147729  .jpg  \n310072  .jpg  \n...      ...  \n311180  .jpg  \n302030  .jpg  \n105455  .jpg  \n428280  .jpg  \n349837  .jpg  \n\n[5000 rows x 6 columns]"
         },
         "metadata": {},
         "output_type": "display_data"
        }
       ]
      }
     },
     "78891f9b81c1400fa02fbe7877afbc98": {
      "model_module": "@jupyter-widgets/controls",
      "model_module_version": "2.0.0",
      "model_name": "HTMLStyleModel",
      "state": {
       "description_width": "",
       "font_size": null,
       "text_color": null
      }
     },
     "7895477de769455889a18c096566a63d": {
      "model_module": "@jupyter-widgets/controls",
      "model_module_version": "2.0.0",
      "model_name": "HTMLModel",
      "state": {
       "layout": "IPY_MODEL_8f56f683ad544ed3b6f86fccaa6dbb35",
       "style": "IPY_MODEL_501340effa424f7b9839d2689f21b377",
       "value": "<b> Dataset object located at notebook_data, containing 76 images and 3,675 objects </b>"
      }
     },
     "78f1d135725b4cbdbcd3fd96d96272ea": {
      "model_module": "@jupyter-widgets/base",
      "model_module_version": "2.0.0",
      "model_name": "LayoutModel",
      "state": {}
     },
     "7953dfe9729944d6b19630335b099c6a": {
      "model_module": "@jupyter-widgets/base",
      "model_module_version": "2.0.0",
      "model_name": "LayoutModel",
      "state": {}
     },
     "795d5d88a4bd415ca399deee2b97cd92": {
      "model_module": "@jupyter-widgets/output",
      "model_module_version": "1.0.0",
      "model_name": "OutputModel",
      "state": {
       "layout": "IPY_MODEL_0999c3d21c7946b8ba44bb28e18e0da3",
       "outputs": [
        {
         "data": {
          "text/html": "<div>\n<style scoped>\n    .dataframe tbody tr th:only-of-type {\n        vertical-align: middle;\n    }\n\n    .dataframe tbody tr th {\n        vertical-align: top;\n    }\n\n    .dataframe thead th {\n        text-align: right;\n    }\n</style>\n<table border=\"1\" class=\"dataframe\">\n  <thead>\n    <tr style=\"text-align: right;\">\n      <th></th>\n      <th>area</th>\n      <th>image_id</th>\n      <th>category_id</th>\n      <th>split</th>\n      <th>xmin</th>\n      <th>ymin</th>\n      <th>box_width</th>\n      <th>box_height</th>\n      <th>category_str</th>\n    </tr>\n    <tr>\n      <th>id</th>\n      <th></th>\n      <th></th>\n      <th></th>\n      <th></th>\n      <th></th>\n      <th></th>\n      <th></th>\n      <th></th>\n      <th></th>\n    </tr>\n  </thead>\n  <tbody>\n    <tr>\n      <th>460450</th>\n      <td>48685.67910</td>\n      <td>352582</td>\n      <td>1</td>\n      <td>valid</td>\n      <td>112.43</td>\n      <td>195.32</td>\n      <td>214.78</td>\n      <td>438.19</td>\n      <td>person</td>\n    </tr>\n    <tr>\n      <th>535917</th>\n      <td>22650.73800</td>\n      <td>352582</td>\n      <td>1</td>\n      <td>valid</td>\n      <td>0.00</td>\n      <td>256.00</td>\n      <td>80.54</td>\n      <td>376.81</td>\n      <td>person</td>\n    </tr>\n    <tr>\n      <th>602093</th>\n      <td>2605.72090</td>\n      <td>352582</td>\n      <td>34</td>\n      <td>valid</td>\n      <td>171.63</td>\n      <td>424.03</td>\n      <td>85.89</td>\n      <td>40.67</td>\n      <td>frisbee</td>\n    </tr>\n    <tr>\n      <th>589077</th>\n      <td>9978.94125</td>\n      <td>113354</td>\n      <td>24</td>\n      <td>valid</td>\n      <td>260.99</td>\n      <td>158.88</td>\n      <td>141.52</td>\n      <td>194.11</td>\n      <td>zebra</td>\n    </tr>\n    <tr>\n      <th>589740</th>\n      <td>5784.68620</td>\n      <td>113354</td>\n      <td>24</td>\n      <td>valid</td>\n      <td>366.49</td>\n      <td>174.59</td>\n      <td>115.67</td>\n      <td>142.71</td>\n      <td>zebra</td>\n    </tr>\n    <tr>\n      <th>...</th>\n      <td>...</td>\n      <td>...</td>\n      <td>...</td>\n      <td>...</td>\n      <td>...</td>\n      <td>...</td>\n      <td>...</td>\n      <td>...</td>\n      <td>...</td>\n    </tr>\n    <tr>\n      <th>331107</th>\n      <td>12029.44125</td>\n      <td>349837</td>\n      <td>82</td>\n      <td>valid</td>\n      <td>66.00</td>\n      <td>94.87</td>\n      <td>71.25</td>\n      <td>194.26</td>\n      <td>refrigerator</td>\n    </tr>\n    <tr>\n      <th>332788</th>\n      <td>23037.46875</td>\n      <td>349837</td>\n      <td>82</td>\n      <td>valid</td>\n      <td>138.00</td>\n      <td>62.63</td>\n      <td>98.25</td>\n      <td>252.00</td>\n      <td>refrigerator</td>\n    </tr>\n    <tr>\n      <th>333394</th>\n      <td>30406.51295</td>\n      <td>349837</td>\n      <td>82</td>\n      <td>valid</td>\n      <td>234.44</td>\n      <td>29.87</td>\n      <td>113.49</td>\n      <td>298.65</td>\n      <td>refrigerator</td>\n    </tr>\n    <tr>\n      <th>333685</th>\n      <td>37187.97840</td>\n      <td>349837</td>\n      <td>82</td>\n      <td>valid</td>\n      <td>335.04</td>\n      <td>10.48</td>\n      <td>125.17</td>\n      <td>318.78</td>\n      <td>refrigerator</td>\n    </tr>\n    <tr>\n      <th>333731</th>\n      <td>12492.52165</td>\n      <td>349837</td>\n      <td>82</td>\n      <td>valid</td>\n      <td>460.39</td>\n      <td>0.00</td>\n      <td>39.61</td>\n      <td>328.64</td>\n      <td>refrigerator</td>\n    </tr>\n  </tbody>\n</table>\n<p>36781 rows × 9 columns</p>\n</div>",
          "text/plain": "               area  image_id  category_id  split    xmin    ymin  box_width  \\\nid                                                                             \n460450  48685.67910    352582            1  valid  112.43  195.32     214.78   \n535917  22650.73800    352582            1  valid    0.00  256.00      80.54   \n602093   2605.72090    352582           34  valid  171.63  424.03      85.89   \n589077   9978.94125    113354           24  valid  260.99  158.88     141.52   \n589740   5784.68620    113354           24  valid  366.49  174.59     115.67   \n...             ...       ...          ...    ...     ...     ...        ...   \n331107  12029.44125    349837           82  valid   66.00   94.87      71.25   \n332788  23037.46875    349837           82  valid  138.00   62.63      98.25   \n333394  30406.51295    349837           82  valid  234.44   29.87     113.49   \n333685  37187.97840    349837           82  valid  335.04   10.48     125.17   \n333731  12492.52165    349837           82  valid  460.39    0.00      39.61   \n\n        box_height  category_str  \nid                                \n460450      438.19        person  \n535917      376.81        person  \n602093       40.67       frisbee  \n589077      194.11         zebra  \n589740      142.71         zebra  \n...            ...           ...  \n331107      194.26  refrigerator  \n332788      252.00  refrigerator  \n333394      298.65  refrigerator  \n333685      318.78  refrigerator  \n333731      328.64  refrigerator  \n\n[36781 rows x 9 columns]"
         },
         "metadata": {},
         "output_type": "display_data"
        }
       ]
      }
     },
     "79e36219930b43ebaf20f7eb22ab73a2": {
      "model_module": "@jupyter-widgets/output",
      "model_module_version": "1.0.0",
      "model_name": "OutputModel",
      "state": {
       "layout": "IPY_MODEL_64fd2e7236644f72a14bd484ee5509b7",
       "outputs": [
        {
         "data": {
          "text/html": "<div>\n<style scoped>\n    .dataframe tbody tr th:only-of-type {\n        vertical-align: middle;\n    }\n\n    .dataframe tbody tr th {\n        vertical-align: top;\n    }\n\n    .dataframe thead th {\n        text-align: right;\n    }\n</style>\n<table border=\"1\" class=\"dataframe\">\n  <thead>\n    <tr style=\"text-align: right;\">\n      <th></th>\n      <th>file_name</th>\n      <th>height</th>\n      <th>relative_path</th>\n      <th>split</th>\n      <th>type</th>\n      <th>width</th>\n    </tr>\n  </thead>\n  <tbody>\n    <tr>\n      <th>139</th>\n      <td>000000000139.jpg</td>\n      <td>426</td>\n      <td>Images/valid/000000000139.jpg</td>\n      <td>valid</td>\n      <td>.jpg</td>\n      <td>640</td>\n    </tr>\n  </tbody>\n</table>\n</div>",
          "text/plain": "            file_name height                  relative_path  split  type width\n139  000000000139.jpg    426  Images/valid/000000000139.jpg  valid  .jpg   640"
         },
         "metadata": {},
         "output_type": "display_data"
        }
       ]
      }
     },
     "79ea9acb8f5044409e6c49c7e9746972": {
      "model_module": "@jupyter-widgets/base",
      "model_module_version": "2.0.0",
      "model_name": "LayoutModel",
      "state": {}
     },
     "7a3af16e6d544442a9138de014dd6013": {
      "model_module": "@jupyter-widgets/output",
      "model_module_version": "1.0.0",
      "model_name": "OutputModel",
      "state": {
       "layout": "IPY_MODEL_9447cd9874d54d04b571561eb30d416b",
       "outputs": [
        {
         "data": {
          "text/html": "<div>\n<style scoped>\n    .dataframe tbody tr th:only-of-type {\n        vertical-align: middle;\n    }\n\n    .dataframe tbody tr th {\n        vertical-align: top;\n    }\n\n    .dataframe thead th {\n        text-align: right;\n    }\n</style>\n<table border=\"1\" class=\"dataframe\">\n  <thead>\n    <tr style=\"text-align: right;\">\n      <th></th>\n      <th>file_name</th>\n      <th>height</th>\n      <th>width</th>\n      <th>split</th>\n      <th>relative_path</th>\n      <th>type</th>\n    </tr>\n    <tr>\n      <th>id</th>\n      <th></th>\n      <th></th>\n      <th></th>\n      <th></th>\n      <th></th>\n      <th></th>\n    </tr>\n  </thead>\n  <tbody>\n    <tr>\n      <th>352582</th>\n      <td>000000352582.jpg</td>\n      <td>640</td>\n      <td>425</td>\n      <td>valid</td>\n      <td>Images/valid/000000352582.jpg</td>\n      <td>.jpg</td>\n    </tr>\n    <tr>\n      <th>113354</th>\n      <td>000000113354.jpg</td>\n      <td>480</td>\n      <td>640</td>\n      <td>valid</td>\n      <td>Images/valid/000000113354.jpg</td>\n      <td>.jpg</td>\n    </tr>\n    <tr>\n      <th>58393</th>\n      <td>000000058393.jpg</td>\n      <td>486</td>\n      <td>640</td>\n      <td>valid</td>\n      <td>Images/valid/000000058393.jpg</td>\n      <td>.jpg</td>\n    </tr>\n    <tr>\n      <th>147729</th>\n      <td>000000147729.jpg</td>\n      <td>375</td>\n      <td>500</td>\n      <td>valid</td>\n      <td>Images/valid/000000147729.jpg</td>\n      <td>.jpg</td>\n    </tr>\n    <tr>\n      <th>310072</th>\n      <td>000000310072.jpg</td>\n      <td>383</td>\n      <td>640</td>\n      <td>valid</td>\n      <td>Images/valid/000000310072.jpg</td>\n      <td>.jpg</td>\n    </tr>\n    <tr>\n      <th>...</th>\n      <td>...</td>\n      <td>...</td>\n      <td>...</td>\n      <td>...</td>\n      <td>...</td>\n      <td>...</td>\n    </tr>\n    <tr>\n      <th>311180</th>\n      <td>000000311180.jpg</td>\n      <td>640</td>\n      <td>480</td>\n      <td>valid</td>\n      <td>Images/valid/000000311180.jpg</td>\n      <td>.jpg</td>\n    </tr>\n    <tr>\n      <th>302030</th>\n      <td>000000302030.jpg</td>\n      <td>359</td>\n      <td>640</td>\n      <td>valid</td>\n      <td>Images/valid/000000302030.jpg</td>\n      <td>.jpg</td>\n    </tr>\n    <tr>\n      <th>105455</th>\n      <td>000000105455.jpg</td>\n      <td>640</td>\n      <td>427</td>\n      <td>valid</td>\n      <td>Images/valid/000000105455.jpg</td>\n      <td>.jpg</td>\n    </tr>\n    <tr>\n      <th>428280</th>\n      <td>000000428280.jpg</td>\n      <td>333</td>\n      <td>500</td>\n      <td>valid</td>\n      <td>Images/valid/000000428280.jpg</td>\n      <td>.jpg</td>\n    </tr>\n    <tr>\n      <th>349837</th>\n      <td>000000349837.jpg</td>\n      <td>333</td>\n      <td>500</td>\n      <td>valid</td>\n      <td>Images/valid/000000349837.jpg</td>\n      <td>.jpg</td>\n    </tr>\n  </tbody>\n</table>\n<p>5000 rows × 6 columns</p>\n</div>",
          "text/plain": "               file_name  height  width  split                  relative_path  \\\nid                                                                              \n352582  000000352582.jpg     640    425  valid  Images/valid/000000352582.jpg   \n113354  000000113354.jpg     480    640  valid  Images/valid/000000113354.jpg   \n58393   000000058393.jpg     486    640  valid  Images/valid/000000058393.jpg   \n147729  000000147729.jpg     375    500  valid  Images/valid/000000147729.jpg   \n310072  000000310072.jpg     383    640  valid  Images/valid/000000310072.jpg   \n...                  ...     ...    ...    ...                            ...   \n311180  000000311180.jpg     640    480  valid  Images/valid/000000311180.jpg   \n302030  000000302030.jpg     359    640  valid  Images/valid/000000302030.jpg   \n105455  000000105455.jpg     640    427  valid  Images/valid/000000105455.jpg   \n428280  000000428280.jpg     333    500  valid  Images/valid/000000428280.jpg   \n349837  000000349837.jpg     333    500  valid  Images/valid/000000349837.jpg   \n\n        type  \nid            \n352582  .jpg  \n113354  .jpg  \n58393   .jpg  \n147729  .jpg  \n310072  .jpg  \n...      ...  \n311180  .jpg  \n302030  .jpg  \n105455  .jpg  \n428280  .jpg  \n349837  .jpg  \n\n[5000 rows x 6 columns]"
         },
         "metadata": {},
         "output_type": "display_data"
        }
       ]
      }
     },
     "7a824f7fa5de46f497012860c026ec2a": {
      "model_module": "@jupyter-widgets/controls",
      "model_module_version": "2.0.0",
      "model_name": "TabModel",
      "state": {
       "children": [
        "IPY_MODEL_f16f9a1cb1124c9baa20b42f6ce84824",
        "IPY_MODEL_8cc196e40e0f4f59917838121c93ba9f",
        "IPY_MODEL_98d797f6b81f4e3f8950b52c24066ca7"
       ],
       "layout": "IPY_MODEL_172e53f7216741298e0459da23732a4d",
       "selected_index": 0,
       "titles": [
        "Images",
        "Annotations",
        "Label Map"
       ]
      }
     },
     "7ae64e7d2f014be4a18d0f09837f5d0d": {
      "model_module": "@jupyter-widgets/controls",
      "model_module_version": "2.0.0",
      "model_name": "VBoxModel",
      "state": {
       "children": [
        "IPY_MODEL_283f0225c421444086ad90f4be301877",
        "IPY_MODEL_b0df6251190342e183cdb7a822697844"
       ],
       "layout": "IPY_MODEL_3f49c444ccba4654b7add5fccd980282"
      }
     },
     "7b8d05ba9dd4493d9a72cfa132b205f0": {
      "model_module": "@jupyter-widgets/controls",
      "model_module_version": "2.0.0",
      "model_name": "HTMLModel",
      "state": {
       "layout": "IPY_MODEL_f2ec01346b6e47ac8edb187eb41eabd9",
       "style": "IPY_MODEL_9ec77b9ffda54fdc94f99beb6921c3bb",
       "value": "<b> Dataset object located at notebook_data, containing 1 images and 20 objects </b>"
      }
     },
     "7d5e2f05402b4cc7b7ed524ef0670b8a": {
      "model_module": "@jupyter-widgets/base",
      "model_module_version": "2.0.0",
      "model_name": "LayoutModel",
      "state": {}
     },
     "7ee20947d42d436f905a8b0d1ae3d569": {
      "model_module": "@jupyter-widgets/controls",
      "model_module_version": "2.0.0",
      "model_name": "TabModel",
      "state": {
       "children": [
        "IPY_MODEL_484551cf328241a0adec8b0bcfc5db8d",
        "IPY_MODEL_900b4c8156e44b8d8202dfaf3fec6933",
        "IPY_MODEL_defb7dbce3cb4fb4a67123914694c16b"
       ],
       "layout": "IPY_MODEL_0c2172133f2145ac9f0b963bad28900f",
       "selected_index": 0,
       "titles": [
        "Images",
        "Annotations",
        "Label Map"
       ]
      }
     },
     "7f0c55d002754f7387a79ab6fee0910c": {
      "model_module": "@jupyter-widgets/output",
      "model_module_version": "1.0.0",
      "model_name": "OutputModel",
      "state": {
       "layout": "IPY_MODEL_f922139855454c629f760fa8b305c8dc",
       "outputs": [
        {
         "data": {
          "text/html": "<div>\n<style scoped>\n    .dataframe tbody tr th:only-of-type {\n        vertical-align: middle;\n    }\n\n    .dataframe tbody tr th {\n        vertical-align: top;\n    }\n\n    .dataframe thead th {\n        text-align: right;\n    }\n</style>\n<table border=\"1\" class=\"dataframe\">\n  <thead>\n    <tr style=\"text-align: right;\">\n      <th></th>\n      <th>file_name</th>\n      <th>height</th>\n      <th>width</th>\n      <th>split</th>\n      <th>relative_path</th>\n      <th>type</th>\n    </tr>\n    <tr>\n      <th>id</th>\n      <th></th>\n      <th></th>\n      <th></th>\n      <th></th>\n      <th></th>\n      <th></th>\n    </tr>\n  </thead>\n  <tbody>\n    <tr>\n      <th>0</th>\n      <td>000000000632.jpg</td>\n      <td>483</td>\n      <td>640</td>\n      <td>valid</td>\n      <td>Images/valid/000000000632.jpg</td>\n      <td>.jpg</td>\n    </tr>\n    <tr>\n      <th>1</th>\n      <td>000000000724.jpg</td>\n      <td>500</td>\n      <td>375</td>\n      <td>valid</td>\n      <td>Images/valid/000000000724.jpg</td>\n      <td>.jpg</td>\n    </tr>\n    <tr>\n      <th>2</th>\n      <td>000000000776.jpg</td>\n      <td>640</td>\n      <td>428</td>\n      <td>valid</td>\n      <td>Images/valid/000000000776.jpg</td>\n      <td>.jpg</td>\n    </tr>\n    <tr>\n      <th>3</th>\n      <td>000000000785.jpg</td>\n      <td>425</td>\n      <td>640</td>\n      <td>valid</td>\n      <td>Images/valid/000000000785.jpg</td>\n      <td>.jpg</td>\n    </tr>\n    <tr>\n      <th>4</th>\n      <td>000000001268.jpg</td>\n      <td>427</td>\n      <td>640</td>\n      <td>valid</td>\n      <td>Images/valid/000000001268.jpg</td>\n      <td>.jpg</td>\n    </tr>\n    <tr>\n      <th>...</th>\n      <td>...</td>\n      <td>...</td>\n      <td>...</td>\n      <td>...</td>\n      <td>...</td>\n      <td>...</td>\n    </tr>\n    <tr>\n      <th>4995</th>\n      <td>000000580418.jpg</td>\n      <td>428</td>\n      <td>640</td>\n      <td>valid</td>\n      <td>Images/valid/000000580418.jpg</td>\n      <td>.jpg</td>\n    </tr>\n    <tr>\n      <th>4996</th>\n      <td>000000580757.jpg</td>\n      <td>425</td>\n      <td>640</td>\n      <td>valid</td>\n      <td>Images/valid/000000580757.jpg</td>\n      <td>.jpg</td>\n    </tr>\n    <tr>\n      <th>4997</th>\n      <td>000000581062.jpg</td>\n      <td>375</td>\n      <td>500</td>\n      <td>valid</td>\n      <td>Images/valid/000000581062.jpg</td>\n      <td>.jpg</td>\n    </tr>\n    <tr>\n      <th>4998</th>\n      <td>000000581206.jpg</td>\n      <td>640</td>\n      <td>479</td>\n      <td>valid</td>\n      <td>Images/valid/000000581206.jpg</td>\n      <td>.jpg</td>\n    </tr>\n    <tr>\n      <th>4999</th>\n      <td>000000581615.jpg</td>\n      <td>640</td>\n      <td>478</td>\n      <td>valid</td>\n      <td>Images/valid/000000581615.jpg</td>\n      <td>.jpg</td>\n    </tr>\n  </tbody>\n</table>\n<p>5000 rows × 6 columns</p>\n</div>",
          "text/plain": "             file_name  height  width  split                  relative_path  \\\nid                                                                            \n0     000000000632.jpg     483    640  valid  Images/valid/000000000632.jpg   \n1     000000000724.jpg     500    375  valid  Images/valid/000000000724.jpg   \n2     000000000776.jpg     640    428  valid  Images/valid/000000000776.jpg   \n3     000000000785.jpg     425    640  valid  Images/valid/000000000785.jpg   \n4     000000001268.jpg     427    640  valid  Images/valid/000000001268.jpg   \n...                ...     ...    ...    ...                            ...   \n4995  000000580418.jpg     428    640  valid  Images/valid/000000580418.jpg   \n4996  000000580757.jpg     425    640  valid  Images/valid/000000580757.jpg   \n4997  000000581062.jpg     375    500  valid  Images/valid/000000581062.jpg   \n4998  000000581206.jpg     640    479  valid  Images/valid/000000581206.jpg   \n4999  000000581615.jpg     640    478  valid  Images/valid/000000581615.jpg   \n\n      type  \nid          \n0     .jpg  \n1     .jpg  \n2     .jpg  \n3     .jpg  \n4     .jpg  \n...    ...  \n4995  .jpg  \n4996  .jpg  \n4997  .jpg  \n4998  .jpg  \n4999  .jpg  \n\n[5000 rows x 6 columns]"
         },
         "metadata": {},
         "output_type": "display_data"
        }
       ]
      }
     },
     "7f2c0ecb805442f6a57fd6d10afb425c": {
      "model_module": "@jupyter-widgets/base",
      "model_module_version": "2.0.0",
      "model_name": "LayoutModel",
      "state": {}
     },
     "7f64eae8bcdd440992ae88e299995175": {
      "model_module": "@jupyter-widgets/controls",
      "model_module_version": "2.0.0",
      "model_name": "TabModel",
      "state": {
       "children": [
        "IPY_MODEL_874334203f9e4fc09026c7efabc13dc2",
        "IPY_MODEL_cbdd7337d5e84d38b15c08365514c962",
        "IPY_MODEL_29d3a6f438084e6ba2461a6b9470cb88"
       ],
       "layout": "IPY_MODEL_2e39e81f029145f7bb63baba9bea938e",
       "selected_index": 0,
       "titles": [
        "Images",
        "Annotations",
        "Label Map"
       ]
      }
     },
     "7ff3da974f2a4eaab0b287772c7320e3": {
      "model_module": "@jupyter-widgets/controls",
      "model_module_version": "2.0.0",
      "model_name": "HTMLStyleModel",
      "state": {
       "description_width": "",
       "font_size": null,
       "text_color": null
      }
     },
     "7ff4793f81ec470f8ce51b6171230be5": {
      "model_module": "@jupyter-widgets/output",
      "model_module_version": "1.0.0",
      "model_name": "OutputModel",
      "state": {
       "layout": "IPY_MODEL_acc182199693485f8cb4be78372c25eb",
       "outputs": [
        {
         "data": {
          "text/html": "<div>\n<style scoped>\n    .dataframe tbody tr th:only-of-type {\n        vertical-align: middle;\n    }\n\n    .dataframe tbody tr th {\n        vertical-align: top;\n    }\n\n    .dataframe thead th {\n        text-align: right;\n    }\n</style>\n<table border=\"1\" class=\"dataframe\">\n  <thead>\n    <tr style=\"text-align: right;\">\n      <th></th>\n      <th>area</th>\n      <th>box_height</th>\n      <th>box_width</th>\n      <th>category_id</th>\n      <th>category_str</th>\n      <th>image_id</th>\n      <th>split</th>\n      <th>xmin</th>\n      <th>ymin</th>\n    </tr>\n    <tr>\n      <th>id</th>\n      <th></th>\n      <th></th>\n      <th></th>\n      <th></th>\n      <th></th>\n      <th></th>\n      <th></th>\n      <th></th>\n      <th></th>\n    </tr>\n  </thead>\n  <tbody>\n    <tr>\n      <th>26547</th>\n      <td>531.80710</td>\n      <td>69.50</td>\n      <td>24.70</td>\n      <td>64</td>\n      <td>potted plant</td>\n      <td>139</td>\n      <td>valid</td>\n      <td>236.98</td>\n      <td>142.51</td>\n    </tr>\n    <tr>\n      <th>34646</th>\n      <td>13244.65770</td>\n      <td>94.87</td>\n      <td>149.32</td>\n      <td>72</td>\n      <td>tv</td>\n      <td>139</td>\n      <td>valid</td>\n      <td>7.03</td>\n      <td>167.76</td>\n    </tr>\n    <tr>\n      <th>35802</th>\n      <td>5833.11795</td>\n      <td>78.73</td>\n      <td>81.35</td>\n      <td>72</td>\n      <td>tv</td>\n      <td>139</td>\n      <td>valid</td>\n      <td>557.21</td>\n      <td>209.19</td>\n    </tr>\n    <tr>\n      <th>103487</th>\n      <td>2245.34355</td>\n      <td>102.83</td>\n      <td>56.00</td>\n      <td>62</td>\n      <td>chair</td>\n      <td>139</td>\n      <td>valid</td>\n      <td>358.98</td>\n      <td>218.05</td>\n    </tr>\n    <tr>\n      <th>104368</th>\n      <td>1833.78400</td>\n      <td>98.48</td>\n      <td>61.83</td>\n      <td>62</td>\n      <td>chair</td>\n      <td>139</td>\n      <td>valid</td>\n      <td>290.69</td>\n      <td>218.00</td>\n    </tr>\n    <tr>\n      <th>105328</th>\n      <td>1289.37345</td>\n      <td>81.36</td>\n      <td>30.17</td>\n      <td>62</td>\n      <td>chair</td>\n      <td>139</td>\n      <td>valid</td>\n      <td>413.20</td>\n      <td>223.01</td>\n    </tr>\n    <tr>\n      <th>110334</th>\n      <td>210.14820</td>\n      <td>11.59</td>\n      <td>21.58</td>\n      <td>62</td>\n      <td>chair</td>\n      <td>139</td>\n      <td>valid</td>\n      <td>317.40</td>\n      <td>219.24</td>\n    </tr>\n    <tr>\n      <th>230831</th>\n      <td>2913.11040</td>\n      <td>138.01</td>\n      <td>53.05</td>\n      <td>1</td>\n      <td>person</td>\n      <td>139</td>\n      <td>valid</td>\n      <td>412.80</td>\n      <td>157.61</td>\n    </tr>\n    <tr>\n      <th>233201</th>\n      <td>435.14495</td>\n      <td>35.74</td>\n      <td>15.12</td>\n      <td>1</td>\n      <td>person</td>\n      <td>139</td>\n      <td>valid</td>\n      <td>384.43</td>\n      <td>172.21</td>\n    </tr>\n    <tr>\n      <th>1640282</th>\n      <td>217.71920</td>\n      <td>15.97</td>\n      <td>14.74</td>\n      <td>78</td>\n      <td>microwave</td>\n      <td>139</td>\n      <td>valid</td>\n      <td>512.22</td>\n      <td>205.75</td>\n    </tr>\n    <tr>\n      <th>1647285</th>\n      <td>2089.97480</td>\n      <td>108.31</td>\n      <td>20.29</td>\n      <td>82</td>\n      <td>refrigerator</td>\n      <td>139</td>\n      <td>valid</td>\n      <td>493.10</td>\n      <td>174.34</td>\n    </tr>\n    <tr>\n      <th>1648594</th>\n      <td>338.60885</td>\n      <td>45.71</td>\n      <td>14.34</td>\n      <td>84</td>\n      <td>book</td>\n      <td>139</td>\n      <td>valid</td>\n      <td>604.77</td>\n      <td>305.89</td>\n    </tr>\n    <tr>\n      <th>1654394</th>\n      <td>322.59360</td>\n      <td>46.44</td>\n      <td>12.88</td>\n      <td>84</td>\n      <td>book</td>\n      <td>139</td>\n      <td>valid</td>\n      <td>613.24</td>\n      <td>308.24</td>\n    </tr>\n    <tr>\n      <th>1666628</th>\n      <td>225.66420</td>\n      <td>21.88</td>\n      <td>13.97</td>\n      <td>85</td>\n      <td>clock</td>\n      <td>139</td>\n      <td>valid</td>\n      <td>447.77</td>\n      <td>121.12</td>\n    </tr>\n    <tr>\n      <th>1667817</th>\n      <td>2171.61885</td>\n      <td>89.67</td>\n      <td>36.68</td>\n      <td>86</td>\n      <td>vase</td>\n      <td>139</td>\n      <td>valid</td>\n      <td>549.06</td>\n      <td>309.43</td>\n    </tr>\n    <tr>\n      <th>1669970</th>\n      <td>178.18510</td>\n      <td>22.55</td>\n      <td>11.37</td>\n      <td>86</td>\n      <td>vase</td>\n      <td>139</td>\n      <td>valid</td>\n      <td>350.76</td>\n      <td>208.84</td>\n    </tr>\n    <tr>\n      <th>1941808</th>\n      <td>90.98725</td>\n      <td>12.52</td>\n      <td>9.63</td>\n      <td>62</td>\n      <td>chair</td>\n      <td>139</td>\n      <td>valid</td>\n      <td>412.25</td>\n      <td>219.02</td>\n    </tr>\n    <tr>\n      <th>2146194</th>\n      <td>189.56010</td>\n      <td>17.63</td>\n      <td>14.22</td>\n      <td>86</td>\n      <td>vase</td>\n      <td>139</td>\n      <td>valid</td>\n      <td>241.24</td>\n      <td>194.99</td>\n    </tr>\n    <tr>\n      <th>2146548</th>\n      <td>120.23200</td>\n      <td>16.73</td>\n      <td>9.73</td>\n      <td>86</td>\n      <td>vase</td>\n      <td>139</td>\n      <td>valid</td>\n      <td>336.79</td>\n      <td>199.50</td>\n    </tr>\n    <tr>\n      <th>2204286</th>\n      <td>2362.48975</td>\n      <td>88.93</td>\n      <td>125.56</td>\n      <td>67</td>\n      <td>dining table</td>\n      <td>139</td>\n      <td>valid</td>\n      <td>321.21</td>\n      <td>231.22</td>\n    </tr>\n  </tbody>\n</table>\n</div>",
          "text/plain": "                area  box_height  box_width  category_id  category_str  \\\nid                                                                       \n26547      531.80710       69.50      24.70           64  potted plant   \n34646    13244.65770       94.87     149.32           72            tv   \n35802     5833.11795       78.73      81.35           72            tv   \n103487    2245.34355      102.83      56.00           62         chair   \n104368    1833.78400       98.48      61.83           62         chair   \n105328    1289.37345       81.36      30.17           62         chair   \n110334     210.14820       11.59      21.58           62         chair   \n230831    2913.11040      138.01      53.05            1        person   \n233201     435.14495       35.74      15.12            1        person   \n1640282    217.71920       15.97      14.74           78     microwave   \n1647285   2089.97480      108.31      20.29           82  refrigerator   \n1648594    338.60885       45.71      14.34           84          book   \n1654394    322.59360       46.44      12.88           84          book   \n1666628    225.66420       21.88      13.97           85         clock   \n1667817   2171.61885       89.67      36.68           86          vase   \n1669970    178.18510       22.55      11.37           86          vase   \n1941808     90.98725       12.52       9.63           62         chair   \n2146194    189.56010       17.63      14.22           86          vase   \n2146548    120.23200       16.73       9.73           86          vase   \n2204286   2362.48975       88.93     125.56           67  dining table   \n\n         image_id  split    xmin    ymin  \nid                                        \n26547         139  valid  236.98  142.51  \n34646         139  valid    7.03  167.76  \n35802         139  valid  557.21  209.19  \n103487        139  valid  358.98  218.05  \n104368        139  valid  290.69  218.00  \n105328        139  valid  413.20  223.01  \n110334        139  valid  317.40  219.24  \n230831        139  valid  412.80  157.61  \n233201        139  valid  384.43  172.21  \n1640282       139  valid  512.22  205.75  \n1647285       139  valid  493.10  174.34  \n1648594       139  valid  604.77  305.89  \n1654394       139  valid  613.24  308.24  \n1666628       139  valid  447.77  121.12  \n1667817       139  valid  549.06  309.43  \n1669970       139  valid  350.76  208.84  \n1941808       139  valid  412.25  219.02  \n2146194       139  valid  241.24  194.99  \n2146548       139  valid  336.79  199.50  \n2204286       139  valid  321.21  231.22  "
         },
         "metadata": {},
         "output_type": "display_data"
        }
       ]
      }
     },
     "806c1ca4dd254135b881863555eebc2b": {
      "model_module": "@jupyter-widgets/base",
      "model_module_version": "2.0.0",
      "model_name": "LayoutModel",
      "state": {}
     },
     "80879f6ac307479383698a3e19e9c900": {
      "model_module": "@jupyter-widgets/output",
      "model_module_version": "1.0.0",
      "model_name": "OutputModel",
      "state": {
       "layout": "IPY_MODEL_e7fd402c6a0b4d6bb37e0b6100f1d9da",
       "outputs": [
        {
         "data": {
          "text/html": "<div>\n<style scoped>\n    .dataframe tbody tr th:only-of-type {\n        vertical-align: middle;\n    }\n\n    .dataframe tbody tr th {\n        vertical-align: top;\n    }\n\n    .dataframe thead th {\n        text-align: right;\n    }\n</style>\n<table border=\"1\" class=\"dataframe\">\n  <thead>\n    <tr style=\"text-align: right;\">\n      <th></th>\n      <th>category string</th>\n    </tr>\n    <tr>\n      <th>categorty_id</th>\n      <th></th>\n    </tr>\n  </thead>\n  <tbody>\n    <tr>\n      <th>1</th>\n      <td>person</td>\n    </tr>\n    <tr>\n      <th>2</th>\n      <td>bicycle</td>\n    </tr>\n    <tr>\n      <th>3</th>\n      <td>car</td>\n    </tr>\n    <tr>\n      <th>4</th>\n      <td>motorcycle</td>\n    </tr>\n    <tr>\n      <th>5</th>\n      <td>airplane</td>\n    </tr>\n    <tr>\n      <th>...</th>\n      <td>...</td>\n    </tr>\n    <tr>\n      <th>86</th>\n      <td>vase</td>\n    </tr>\n    <tr>\n      <th>87</th>\n      <td>scissors</td>\n    </tr>\n    <tr>\n      <th>88</th>\n      <td>teddy bear</td>\n    </tr>\n    <tr>\n      <th>89</th>\n      <td>hair drier</td>\n    </tr>\n    <tr>\n      <th>90</th>\n      <td>toothbrush</td>\n    </tr>\n  </tbody>\n</table>\n<p>80 rows × 1 columns</p>\n</div>",
          "text/plain": "             category string\ncategorty_id                \n1                     person\n2                    bicycle\n3                        car\n4                 motorcycle\n5                   airplane\n...                      ...\n86                      vase\n87                  scissors\n88                teddy bear\n89                hair drier\n90                toothbrush\n\n[80 rows x 1 columns]"
         },
         "metadata": {},
         "output_type": "display_data"
        }
       ]
      }
     },
     "80c0647033c14bccbdbf95db271245e0": {
      "model_module": "@jupyter-widgets/output",
      "model_module_version": "1.0.0",
      "model_name": "OutputModel",
      "state": {
       "layout": "IPY_MODEL_68c3544ad9d940e995d7554669fa0bec",
       "outputs": [
        {
         "data": {
          "text/html": "<div>\n<style scoped>\n    .dataframe tbody tr th:only-of-type {\n        vertical-align: middle;\n    }\n\n    .dataframe tbody tr th {\n        vertical-align: top;\n    }\n\n    .dataframe thead th {\n        text-align: right;\n    }\n</style>\n<table border=\"1\" class=\"dataframe\">\n  <thead>\n    <tr style=\"text-align: right;\">\n      <th></th>\n      <th>area</th>\n      <th>image_id</th>\n      <th>category_id</th>\n      <th>split</th>\n      <th>xmin</th>\n      <th>ymin</th>\n      <th>box_width</th>\n      <th>box_height</th>\n      <th>category_str</th>\n    </tr>\n    <tr>\n      <th>id</th>\n      <th></th>\n      <th></th>\n      <th></th>\n      <th></th>\n      <th></th>\n      <th></th>\n      <th></th>\n      <th></th>\n      <th></th>\n    </tr>\n  </thead>\n  <tbody>\n    <tr>\n      <th>357584</th>\n      <td>14718.47935</td>\n      <td>310072</td>\n      <td>1</td>\n      <td>valid</td>\n      <td>223.85</td>\n      <td>0.00</td>\n      <td>258.83</td>\n      <td>69.08</td>\n      <td>Vehicle</td>\n    </tr>\n    <tr>\n      <th>358258</th>\n      <td>6989.84750</td>\n      <td>310072</td>\n      <td>1</td>\n      <td>valid</td>\n      <td>0.00</td>\n      <td>1.94</td>\n      <td>135.99</td>\n      <td>66.27</td>\n      <td>Vehicle</td>\n    </tr>\n    <tr>\n      <th>363154</th>\n      <td>1729.26630</td>\n      <td>310072</td>\n      <td>1</td>\n      <td>valid</td>\n      <td>170.89</td>\n      <td>0.00</td>\n      <td>71.06</td>\n      <td>36.96</td>\n      <td>Vehicle</td>\n    </tr>\n    <tr>\n      <th>1337431</th>\n      <td>91.97330</td>\n      <td>310072</td>\n      <td>1</td>\n      <td>valid</td>\n      <td>631.99</td>\n      <td>7.35</td>\n      <td>8.01</td>\n      <td>15.46</td>\n      <td>Vehicle</td>\n    </tr>\n    <tr>\n      <th>1368385</th>\n      <td>7558.39585</td>\n      <td>310072</td>\n      <td>1</td>\n      <td>valid</td>\n      <td>0.00</td>\n      <td>0.00</td>\n      <td>131.87</td>\n      <td>71.46</td>\n      <td>Vehicle</td>\n    </tr>\n    <tr>\n      <th>...</th>\n      <td>...</td>\n      <td>...</td>\n      <td>...</td>\n      <td>...</td>\n      <td>...</td>\n      <td>...</td>\n      <td>...</td>\n      <td>...</td>\n      <td>...</td>\n    </tr>\n    <tr>\n      <th>10068</th>\n      <td>10866.03335</td>\n      <td>189806</td>\n      <td>3</td>\n      <td>valid</td>\n      <td>263.63</td>\n      <td>193.10</td>\n      <td>180.04</td>\n      <td>103.59</td>\n      <td>Animal</td>\n    </tr>\n    <tr>\n      <th>46540</th>\n      <td>5204.68295</td>\n      <td>189806</td>\n      <td>3</td>\n      <td>valid</td>\n      <td>130.91</td>\n      <td>165.20</td>\n      <td>94.54</td>\n      <td>104.73</td>\n      <td>Animal</td>\n    </tr>\n    <tr>\n      <th>344755</th>\n      <td>4084.58345</td>\n      <td>363188</td>\n      <td>1</td>\n      <td>valid</td>\n      <td>590.03</td>\n      <td>198.92</td>\n      <td>49.97</td>\n      <td>106.42</td>\n      <td>Vehicle</td>\n    </tr>\n    <tr>\n      <th>1420625</th>\n      <td>865.42470</td>\n      <td>363188</td>\n      <td>2</td>\n      <td>valid</td>\n      <td>221.41</td>\n      <td>199.76</td>\n      <td>91.36</td>\n      <td>63.64</td>\n      <td>Bag</td>\n    </tr>\n    <tr>\n      <th>1192747</th>\n      <td>182.21680</td>\n      <td>105455</td>\n      <td>1</td>\n      <td>valid</td>\n      <td>333.56</td>\n      <td>517.21</td>\n      <td>17.43</td>\n      <td>14.58</td>\n      <td>Vehicle</td>\n    </tr>\n  </tbody>\n</table>\n<p>5143 rows × 9 columns</p>\n</div>",
          "text/plain": "                area  image_id  category_id  split    xmin    ymin  box_width  \\\nid                                                                              \n357584   14718.47935    310072            1  valid  223.85    0.00     258.83   \n358258    6989.84750    310072            1  valid    0.00    1.94     135.99   \n363154    1729.26630    310072            1  valid  170.89    0.00      71.06   \n1337431     91.97330    310072            1  valid  631.99    7.35       8.01   \n1368385   7558.39585    310072            1  valid    0.00    0.00     131.87   \n...              ...       ...          ...    ...     ...     ...        ...   \n10068    10866.03335    189806            3  valid  263.63  193.10     180.04   \n46540     5204.68295    189806            3  valid  130.91  165.20      94.54   \n344755    4084.58345    363188            1  valid  590.03  198.92      49.97   \n1420625    865.42470    363188            2  valid  221.41  199.76      91.36   \n1192747    182.21680    105455            1  valid  333.56  517.21      17.43   \n\n         box_height category_str  \nid                                \n357584        69.08      Vehicle  \n358258        66.27      Vehicle  \n363154        36.96      Vehicle  \n1337431       15.46      Vehicle  \n1368385       71.46      Vehicle  \n...             ...          ...  \n10068        103.59       Animal  \n46540        104.73       Animal  \n344755       106.42      Vehicle  \n1420625       63.64          Bag  \n1192747       14.58      Vehicle  \n\n[5143 rows x 9 columns]"
         },
         "metadata": {},
         "output_type": "display_data"
        }
       ]
      }
     },
     "8137186abd1740ac9f17b8ec1252f8fc": {
      "model_module": "@jupyter-widgets/base",
      "model_module_version": "2.0.0",
      "model_name": "LayoutModel",
      "state": {}
     },
     "8166c180c3f84f0cb92a5a428a606eeb": {
      "model_module": "@jupyter-widgets/output",
      "model_module_version": "1.0.0",
      "model_name": "OutputModel",
      "state": {
       "layout": "IPY_MODEL_49aa9a047a264bf786925342c56d6a1d",
       "outputs": [
        {
         "data": {
          "text/html": "<div>\n<style scoped>\n    .dataframe tbody tr th:only-of-type {\n        vertical-align: middle;\n    }\n\n    .dataframe tbody tr th {\n        vertical-align: top;\n    }\n\n    .dataframe thead th {\n        text-align: right;\n    }\n</style>\n<table border=\"1\" class=\"dataframe\">\n  <thead>\n    <tr style=\"text-align: right;\">\n      <th></th>\n      <th>file_name</th>\n      <th>height</th>\n      <th>width</th>\n      <th>split</th>\n      <th>relative_path</th>\n      <th>type</th>\n    </tr>\n    <tr>\n      <th>id</th>\n      <th></th>\n      <th></th>\n      <th></th>\n      <th></th>\n      <th></th>\n      <th></th>\n    </tr>\n  </thead>\n  <tbody>\n    <tr>\n      <th>352582</th>\n      <td>000000352582.jpg</td>\n      <td>640</td>\n      <td>425</td>\n      <td>valid</td>\n      <td>Images/valid/000000352582.jpg</td>\n      <td>.jpg</td>\n    </tr>\n    <tr>\n      <th>58393</th>\n      <td>000000058393.jpg</td>\n      <td>486</td>\n      <td>640</td>\n      <td>valid</td>\n      <td>Images/valid/000000058393.jpg</td>\n      <td>.jpg</td>\n    </tr>\n    <tr>\n      <th>310072</th>\n      <td>000000310072.jpg</td>\n      <td>383</td>\n      <td>640</td>\n      <td>valid</td>\n      <td>Images/valid/000000310072.jpg</td>\n      <td>.jpg</td>\n    </tr>\n    <tr>\n      <th>519208</th>\n      <td>000000519208.jpg</td>\n      <td>406</td>\n      <td>640</td>\n      <td>valid</td>\n      <td>Images/valid/000000519208.jpg</td>\n      <td>.jpg</td>\n    </tr>\n    <tr>\n      <th>38048</th>\n      <td>000000038048.jpg</td>\n      <td>500</td>\n      <td>299</td>\n      <td>valid</td>\n      <td>Images/valid/000000038048.jpg</td>\n      <td>.jpg</td>\n    </tr>\n    <tr>\n      <th>...</th>\n      <td>...</td>\n      <td>...</td>\n      <td>...</td>\n      <td>...</td>\n      <td>...</td>\n      <td>...</td>\n    </tr>\n    <tr>\n      <th>185409</th>\n      <td>000000185409.jpg</td>\n      <td>424</td>\n      <td>640</td>\n      <td>valid</td>\n      <td>Images/valid/000000185409.jpg</td>\n      <td>.jpg</td>\n    </tr>\n    <tr>\n      <th>577976</th>\n      <td>000000577976.jpg</td>\n      <td>428</td>\n      <td>640</td>\n      <td>valid</td>\n      <td>Images/valid/000000577976.jpg</td>\n      <td>.jpg</td>\n    </tr>\n    <tr>\n      <th>363188</th>\n      <td>000000363188.jpg</td>\n      <td>425</td>\n      <td>640</td>\n      <td>valid</td>\n      <td>Images/valid/000000363188.jpg</td>\n      <td>.jpg</td>\n    </tr>\n    <tr>\n      <th>302030</th>\n      <td>000000302030.jpg</td>\n      <td>359</td>\n      <td>640</td>\n      <td>valid</td>\n      <td>Images/valid/000000302030.jpg</td>\n      <td>.jpg</td>\n    </tr>\n    <tr>\n      <th>428280</th>\n      <td>000000428280.jpg</td>\n      <td>333</td>\n      <td>500</td>\n      <td>valid</td>\n      <td>Images/valid/000000428280.jpg</td>\n      <td>.jpg</td>\n    </tr>\n  </tbody>\n</table>\n<p>2500 rows × 6 columns</p>\n</div>",
          "text/plain": "               file_name  height  width  split                  relative_path  \\\nid                                                                              \n352582  000000352582.jpg     640    425  valid  Images/valid/000000352582.jpg   \n58393   000000058393.jpg     486    640  valid  Images/valid/000000058393.jpg   \n310072  000000310072.jpg     383    640  valid  Images/valid/000000310072.jpg   \n519208  000000519208.jpg     406    640  valid  Images/valid/000000519208.jpg   \n38048   000000038048.jpg     500    299  valid  Images/valid/000000038048.jpg   \n...                  ...     ...    ...    ...                            ...   \n185409  000000185409.jpg     424    640  valid  Images/valid/000000185409.jpg   \n577976  000000577976.jpg     428    640  valid  Images/valid/000000577976.jpg   \n363188  000000363188.jpg     425    640  valid  Images/valid/000000363188.jpg   \n302030  000000302030.jpg     359    640  valid  Images/valid/000000302030.jpg   \n428280  000000428280.jpg     333    500  valid  Images/valid/000000428280.jpg   \n\n        type  \nid            \n352582  .jpg  \n58393   .jpg  \n310072  .jpg  \n519208  .jpg  \n38048   .jpg  \n...      ...  \n185409  .jpg  \n577976  .jpg  \n363188  .jpg  \n302030  .jpg  \n428280  .jpg  \n\n[2500 rows x 6 columns]"
         },
         "metadata": {},
         "output_type": "display_data"
        }
       ]
      }
     },
     "83b45139fd8944f0b72254f802a8ef65": {
      "model_module": "@jupyter-widgets/controls",
      "model_module_version": "2.0.0",
      "model_name": "VBoxModel",
      "state": {
       "children": [
        "IPY_MODEL_572c1c25c8034f13a8740ac22e7f2829",
        "IPY_MODEL_c3b21ba4c56e4df3a5bd1fb970f33a7c"
       ],
       "layout": "IPY_MODEL_cf0c9bb5a0ef43678169e398116d0bc9"
      }
     },
     "84442e0447e64f9b8bd39e3e508f0b3b": {
      "model_module": "@jupyter-widgets/base",
      "model_module_version": "2.0.0",
      "model_name": "LayoutModel",
      "state": {}
     },
     "84527053670e4e29888ea58b549db050": {
      "model_module": "@jupyter-widgets/base",
      "model_module_version": "2.0.0",
      "model_name": "LayoutModel",
      "state": {}
     },
     "846ffdaf65804308bea1789fe282a4b6": {
      "model_module": "@jupyter-widgets/controls",
      "model_module_version": "2.0.0",
      "model_name": "VBoxModel",
      "state": {
       "children": [
        "IPY_MODEL_ce2faa3b4a4d4776ae34a1745212f8b8",
        "IPY_MODEL_934fa3dd4f3c4bff82940aed9d9226b8"
       ],
       "layout": "IPY_MODEL_bb1f9888bcc64ac4b4a394023845d9b7"
      }
     },
     "848eb2f0852f48c4a827895f051f89b0": {
      "model_module": "@jupyter-widgets/controls",
      "model_module_version": "2.0.0",
      "model_name": "HTMLStyleModel",
      "state": {
       "description_width": "",
       "font_size": null,
       "text_color": null
      }
     },
     "84d10ad3139e4345950aa32625719dd1": {
      "model_module": "@jupyter-widgets/base",
      "model_module_version": "2.0.0",
      "model_name": "LayoutModel",
      "state": {}
     },
     "858be78cacfe4bd89b3cf0bafed2e0c9": {
      "model_module": "@jupyter-widgets/controls",
      "model_module_version": "2.0.0",
      "model_name": "TabModel",
      "state": {
       "children": [
        "IPY_MODEL_731346a167d44762bf5bd5265beaad42",
        "IPY_MODEL_80c0647033c14bccbdbf95db271245e0",
        "IPY_MODEL_4e27a791e7834f7785ca1660c19e3826"
       ],
       "layout": "IPY_MODEL_2f6ad2428d4a427183367f966d6826d9",
       "selected_index": 0,
       "titles": [
        "Images",
        "Annotations",
        "Label Map"
       ]
      }
     },
     "85b503b6f42147e8bbba75a7af656ac9": {
      "model_module": "@jupyter-widgets/controls",
      "model_module_version": "2.0.0",
      "model_name": "TabModel",
      "state": {
       "children": [
        "IPY_MODEL_40d71272d96e473684b4345e3e99d490",
        "IPY_MODEL_1c32243c87a24179b882c02a24986f1c",
        "IPY_MODEL_7422e505856c4677a11b56c5ba1edbfe"
       ],
       "layout": "IPY_MODEL_ce85b899a3a64caa82645a30683be928",
       "selected_index": 0,
       "titles": [
        "Images",
        "Annotations",
        "Label Map"
       ]
      }
     },
     "85d85bd24d92434f9007a3de8df2e0fe": {
      "model_module": "@jupyter-widgets/base",
      "model_module_version": "2.0.0",
      "model_name": "LayoutModel",
      "state": {}
     },
     "868c6e40c2d64704bc21697047610c5d": {
      "model_module": "@jupyter-widgets/base",
      "model_module_version": "2.0.0",
      "model_name": "LayoutModel",
      "state": {}
     },
     "86921dd36df641009d371717eadd3e24": {
      "model_module": "@jupyter-widgets/controls",
      "model_module_version": "2.0.0",
      "model_name": "TabModel",
      "state": {
       "children": [
        "IPY_MODEL_24a04013c995481cb6c28b09c99d5fed",
        "IPY_MODEL_29c676092fa045d3b4ae3a24b4fa4ff8",
        "IPY_MODEL_32df7226b3f54d21bfd90119ccbd9bf3"
       ],
       "layout": "IPY_MODEL_ce473645def1403db78f34a6085dce6e",
       "selected_index": 0,
       "titles": [
        "Images",
        "Annotations",
        "Label Map"
       ]
      }
     },
     "874334203f9e4fc09026c7efabc13dc2": {
      "model_module": "@jupyter-widgets/output",
      "model_module_version": "1.0.0",
      "model_name": "OutputModel",
      "state": {
       "layout": "IPY_MODEL_531d02ebafb843ce9e7c08cc4483be7c",
       "outputs": [
        {
         "data": {
          "text/html": "<div>\n<style scoped>\n    .dataframe tbody tr th:only-of-type {\n        vertical-align: middle;\n    }\n\n    .dataframe tbody tr th {\n        vertical-align: top;\n    }\n\n    .dataframe thead th {\n        text-align: right;\n    }\n</style>\n<table border=\"1\" class=\"dataframe\">\n  <thead>\n    <tr style=\"text-align: right;\">\n      <th></th>\n      <th>file_name</th>\n      <th>width</th>\n      <th>height</th>\n      <th>split</th>\n      <th>relative_path</th>\n      <th>type</th>\n    </tr>\n    <tr>\n      <th>id</th>\n      <th></th>\n      <th></th>\n      <th></th>\n      <th></th>\n      <th></th>\n      <th></th>\n    </tr>\n  </thead>\n  <tbody>\n    <tr>\n      <th>6493</th>\n      <td>NORM0020_frame0282.jpg</td>\n      <td>1920</td>\n      <td>1080</td>\n      <td>None</td>\n      <td>Images/NORM0020_frame0282.jpg</td>\n      <td>.jpg</td>\n    </tr>\n    <tr>\n      <th>5890</th>\n      <td>NORM0018_frame0928.jpg</td>\n      <td>1920</td>\n      <td>1080</td>\n      <td>None</td>\n      <td>Images/NORM0018_frame0928.jpg</td>\n      <td>.jpg</td>\n    </tr>\n    <tr>\n      <th>2247</th>\n      <td>NORM0015_frame183.jpg</td>\n      <td>1920</td>\n      <td>1080</td>\n      <td>None</td>\n      <td>Images/NORM0015_frame183.jpg</td>\n      <td>.jpg</td>\n    </tr>\n    <tr>\n      <th>2189</th>\n      <td>NORM0015_frame123.jpg</td>\n      <td>1920</td>\n      <td>1080</td>\n      <td>None</td>\n      <td>Images/NORM0015_frame123.jpg</td>\n      <td>.jpg</td>\n    </tr>\n    <tr>\n      <th>5745</th>\n      <td>NORM0018_frame0763.jpg</td>\n      <td>1920</td>\n      <td>1080</td>\n      <td>None</td>\n      <td>Images/NORM0018_frame0763.jpg</td>\n      <td>.jpg</td>\n    </tr>\n    <tr>\n      <th>...</th>\n      <td>...</td>\n      <td>...</td>\n      <td>...</td>\n      <td>...</td>\n      <td>...</td>\n      <td>...</td>\n    </tr>\n    <tr>\n      <th>545</th>\n      <td>NORM0013_frame0595.jpg</td>\n      <td>1920</td>\n      <td>1080</td>\n      <td>None</td>\n      <td>Images/NORM0013_frame0595.jpg</td>\n      <td>.jpg</td>\n    </tr>\n    <tr>\n      <th>6914</th>\n      <td>NORM0020_frame0743.jpg</td>\n      <td>1920</td>\n      <td>1080</td>\n      <td>None</td>\n      <td>Images/NORM0020_frame0743.jpg</td>\n      <td>.jpg</td>\n    </tr>\n    <tr>\n      <th>1324</th>\n      <td>NORM0014_frame184.jpg</td>\n      <td>1920</td>\n      <td>1080</td>\n      <td>None</td>\n      <td>Images/NORM0014_frame184.jpg</td>\n      <td>.jpg</td>\n    </tr>\n    <tr>\n      <th>6422</th>\n      <td>NORM0020_frame0207.jpg</td>\n      <td>1920</td>\n      <td>1080</td>\n      <td>None</td>\n      <td>Images/NORM0020_frame0207.jpg</td>\n      <td>.jpg</td>\n    </tr>\n    <tr>\n      <th>2599</th>\n      <td>NORM0015_frame565.jpg</td>\n      <td>1920</td>\n      <td>1080</td>\n      <td>None</td>\n      <td>Images/NORM0015_frame565.jpg</td>\n      <td>.jpg</td>\n    </tr>\n  </tbody>\n</table>\n<p>76 rows × 6 columns</p>\n</div>",
          "text/plain": "                   file_name  width  height split  \\\nid                                                  \n6493  NORM0020_frame0282.jpg   1920    1080  None   \n5890  NORM0018_frame0928.jpg   1920    1080  None   \n2247   NORM0015_frame183.jpg   1920    1080  None   \n2189   NORM0015_frame123.jpg   1920    1080  None   \n5745  NORM0018_frame0763.jpg   1920    1080  None   \n...                      ...    ...     ...   ...   \n545   NORM0013_frame0595.jpg   1920    1080  None   \n6914  NORM0020_frame0743.jpg   1920    1080  None   \n1324   NORM0014_frame184.jpg   1920    1080  None   \n6422  NORM0020_frame0207.jpg   1920    1080  None   \n2599   NORM0015_frame565.jpg   1920    1080  None   \n\n                      relative_path  type  \nid                                         \n6493  Images/NORM0020_frame0282.jpg  .jpg  \n5890  Images/NORM0018_frame0928.jpg  .jpg  \n2247   Images/NORM0015_frame183.jpg  .jpg  \n2189   Images/NORM0015_frame123.jpg  .jpg  \n5745  Images/NORM0018_frame0763.jpg  .jpg  \n...                             ...   ...  \n545   Images/NORM0013_frame0595.jpg  .jpg  \n6914  Images/NORM0020_frame0743.jpg  .jpg  \n1324   Images/NORM0014_frame184.jpg  .jpg  \n6422  Images/NORM0020_frame0207.jpg  .jpg  \n2599   Images/NORM0015_frame565.jpg  .jpg  \n\n[76 rows x 6 columns]"
         },
         "metadata": {},
         "output_type": "display_data"
        }
       ]
      }
     },
     "878b5d09fea0490bbab5e6874bde62e0": {
      "model_module": "@jupyter-widgets/base",
      "model_module_version": "2.0.0",
      "model_name": "LayoutModel",
      "state": {}
     },
     "87cce8242d2448f49e3681b4bebea033": {
      "model_module": "@jupyter-widgets/base",
      "model_module_version": "2.0.0",
      "model_name": "LayoutModel",
      "state": {}
     },
     "8819228fc77a4b63acc2204c9eed85d6": {
      "model_module": "@jupyter-widgets/controls",
      "model_module_version": "2.0.0",
      "model_name": "TabModel",
      "state": {
       "children": [
        "IPY_MODEL_ca31b50ae2fe4717bcf7a049403dfaed",
        "IPY_MODEL_fbdf8dd1f1d4426db30b83d97683973f",
        "IPY_MODEL_d337c19073e34157bb59ebea038247d7"
       ],
       "layout": "IPY_MODEL_e3821941d7df4953a31a74666a4f4e5f",
       "selected_index": 0,
       "titles": [
        "Images",
        "Annotations",
        "Label Map"
       ]
      }
     },
     "884ce73e5245427988861553bd210e4a": {
      "model_module": "@jupyter-widgets/controls",
      "model_module_version": "2.0.0",
      "model_name": "VBoxModel",
      "state": {
       "children": [
        "IPY_MODEL_5dd8a3dcf61d4b12b4de46eea2c84ce2",
        "IPY_MODEL_c9d1123be9e64889a66741ba6ed2f378"
       ],
       "layout": "IPY_MODEL_69864d9a8036436c8604f2ca71ddb68b"
      }
     },
     "88f5cd87702b4ebfb3f7710376f2d6fd": {
      "model_module": "@jupyter-widgets/base",
      "model_module_version": "2.0.0",
      "model_name": "LayoutModel",
      "state": {}
     },
     "89af83c2077d46b6902748c7cf9b087c": {
      "model_module": "@jupyter-widgets/base",
      "model_module_version": "2.0.0",
      "model_name": "LayoutModel",
      "state": {}
     },
     "89df013891494785bc8e970be79e7b73": {
      "model_module": "@jupyter-widgets/base",
      "model_module_version": "2.0.0",
      "model_name": "LayoutModel",
      "state": {}
     },
     "8aeca00814e44a55a98f1cd1fd6eb9b5": {
      "model_module": "@jupyter-widgets/output",
      "model_module_version": "1.0.0",
      "model_name": "OutputModel",
      "state": {
       "layout": "IPY_MODEL_8db343389cd14224bf2ee3f0aedfb877",
       "outputs": [
        {
         "data": {
          "text/html": "<div>\n<style scoped>\n    .dataframe tbody tr th:only-of-type {\n        vertical-align: middle;\n    }\n\n    .dataframe tbody tr th {\n        vertical-align: top;\n    }\n\n    .dataframe thead th {\n        text-align: right;\n    }\n</style>\n<table border=\"1\" class=\"dataframe\">\n  <thead>\n    <tr style=\"text-align: right;\">\n      <th></th>\n      <th>area</th>\n      <th>image_id</th>\n      <th>category_id</th>\n      <th>split</th>\n      <th>xmin</th>\n      <th>ymin</th>\n      <th>box_width</th>\n      <th>box_height</th>\n      <th>category_str</th>\n    </tr>\n    <tr>\n      <th>id</th>\n      <th></th>\n      <th></th>\n      <th></th>\n      <th></th>\n      <th></th>\n      <th></th>\n      <th></th>\n      <th></th>\n      <th></th>\n    </tr>\n  </thead>\n  <tbody>\n    <tr>\n      <th>460450</th>\n      <td>48685.67910</td>\n      <td>352582</td>\n      <td>1</td>\n      <td>valid</td>\n      <td>112.43</td>\n      <td>195.32</td>\n      <td>214.78</td>\n      <td>438.19</td>\n      <td>person</td>\n    </tr>\n    <tr>\n      <th>535917</th>\n      <td>22650.73800</td>\n      <td>352582</td>\n      <td>1</td>\n      <td>valid</td>\n      <td>0.00</td>\n      <td>256.00</td>\n      <td>80.54</td>\n      <td>376.81</td>\n      <td>person</td>\n    </tr>\n    <tr>\n      <th>602093</th>\n      <td>2605.72090</td>\n      <td>352582</td>\n      <td>34</td>\n      <td>valid</td>\n      <td>171.63</td>\n      <td>424.03</td>\n      <td>85.89</td>\n      <td>40.67</td>\n      <td>frisbee</td>\n    </tr>\n    <tr>\n      <th>467905</th>\n      <td>5408.64720</td>\n      <td>58393</td>\n      <td>1</td>\n      <td>valid</td>\n      <td>342.52</td>\n      <td>163.33</td>\n      <td>192.24</td>\n      <td>77.47</td>\n      <td>person</td>\n    </tr>\n    <tr>\n      <th>576900</th>\n      <td>82291.54995</td>\n      <td>58393</td>\n      <td>15</td>\n      <td>valid</td>\n      <td>44.78</td>\n      <td>242.27</td>\n      <td>547.16</td>\n      <td>224.98</td>\n      <td>bench</td>\n    </tr>\n    <tr>\n      <th>...</th>\n      <td>...</td>\n      <td>...</td>\n      <td>...</td>\n      <td>...</td>\n      <td>...</td>\n      <td>...</td>\n      <td>...</td>\n      <td>...</td>\n      <td>...</td>\n    </tr>\n    <tr>\n      <th>331107</th>\n      <td>12029.44125</td>\n      <td>349837</td>\n      <td>82</td>\n      <td>valid</td>\n      <td>66.00</td>\n      <td>94.87</td>\n      <td>71.25</td>\n      <td>194.26</td>\n      <td>refrigerator</td>\n    </tr>\n    <tr>\n      <th>332788</th>\n      <td>23037.46875</td>\n      <td>349837</td>\n      <td>82</td>\n      <td>valid</td>\n      <td>138.00</td>\n      <td>62.63</td>\n      <td>98.25</td>\n      <td>252.00</td>\n      <td>refrigerator</td>\n    </tr>\n    <tr>\n      <th>333394</th>\n      <td>30406.51295</td>\n      <td>349837</td>\n      <td>82</td>\n      <td>valid</td>\n      <td>234.44</td>\n      <td>29.87</td>\n      <td>113.49</td>\n      <td>298.65</td>\n      <td>refrigerator</td>\n    </tr>\n    <tr>\n      <th>333685</th>\n      <td>37187.97840</td>\n      <td>349837</td>\n      <td>82</td>\n      <td>valid</td>\n      <td>335.04</td>\n      <td>10.48</td>\n      <td>125.17</td>\n      <td>318.78</td>\n      <td>refrigerator</td>\n    </tr>\n    <tr>\n      <th>333731</th>\n      <td>12492.52165</td>\n      <td>349837</td>\n      <td>82</td>\n      <td>valid</td>\n      <td>460.39</td>\n      <td>0.00</td>\n      <td>39.61</td>\n      <td>328.64</td>\n      <td>refrigerator</td>\n    </tr>\n  </tbody>\n</table>\n<p>36781 rows × 9 columns</p>\n</div>",
          "text/plain": "               area  image_id  category_id  split    xmin    ymin  box_width  \\\nid                                                                             \n460450  48685.67910    352582            1  valid  112.43  195.32     214.78   \n535917  22650.73800    352582            1  valid    0.00  256.00      80.54   \n602093   2605.72090    352582           34  valid  171.63  424.03      85.89   \n467905   5408.64720     58393            1  valid  342.52  163.33     192.24   \n576900  82291.54995     58393           15  valid   44.78  242.27     547.16   \n...             ...       ...          ...    ...     ...     ...        ...   \n331107  12029.44125    349837           82  valid   66.00   94.87      71.25   \n332788  23037.46875    349837           82  valid  138.00   62.63      98.25   \n333394  30406.51295    349837           82  valid  234.44   29.87     113.49   \n333685  37187.97840    349837           82  valid  335.04   10.48     125.17   \n333731  12492.52165    349837           82  valid  460.39    0.00      39.61   \n\n        box_height  category_str  \nid                                \n460450      438.19        person  \n535917      376.81        person  \n602093       40.67       frisbee  \n467905       77.47        person  \n576900      224.98         bench  \n...            ...           ...  \n331107      194.26  refrigerator  \n332788      252.00  refrigerator  \n333394      298.65  refrigerator  \n333685      318.78  refrigerator  \n333731      328.64  refrigerator  \n\n[36781 rows x 9 columns]"
         },
         "metadata": {},
         "output_type": "display_data"
        }
       ]
      }
     },
     "8bbb6d8deadd42fe82166a972c0d1fcf": {
      "model_module": "@jupyter-widgets/output",
      "model_module_version": "1.0.0",
      "model_name": "OutputModel",
      "state": {
       "layout": "IPY_MODEL_096b6140da06449cb1700142d9bf0255",
       "outputs": [
        {
         "data": {
          "text/html": "<div>\n<style scoped>\n    .dataframe tbody tr th:only-of-type {\n        vertical-align: middle;\n    }\n\n    .dataframe tbody tr th {\n        vertical-align: top;\n    }\n\n    .dataframe thead th {\n        text-align: right;\n    }\n</style>\n<table border=\"1\" class=\"dataframe\">\n  <thead>\n    <tr style=\"text-align: right;\">\n      <th></th>\n      <th>category string</th>\n    </tr>\n    <tr>\n      <th>categorty_id</th>\n      <th></th>\n    </tr>\n  </thead>\n  <tbody>\n    <tr>\n      <th>1</th>\n      <td>person</td>\n    </tr>\n    <tr>\n      <th>2</th>\n      <td>bicycle</td>\n    </tr>\n    <tr>\n      <th>3</th>\n      <td>car</td>\n    </tr>\n    <tr>\n      <th>4</th>\n      <td>motorcycle</td>\n    </tr>\n    <tr>\n      <th>5</th>\n      <td>airplane</td>\n    </tr>\n    <tr>\n      <th>...</th>\n      <td>...</td>\n    </tr>\n    <tr>\n      <th>86</th>\n      <td>vase</td>\n    </tr>\n    <tr>\n      <th>87</th>\n      <td>scissors</td>\n    </tr>\n    <tr>\n      <th>88</th>\n      <td>teddy bear</td>\n    </tr>\n    <tr>\n      <th>89</th>\n      <td>hair drier</td>\n    </tr>\n    <tr>\n      <th>90</th>\n      <td>toothbrush</td>\n    </tr>\n  </tbody>\n</table>\n<p>80 rows × 1 columns</p>\n</div>",
          "text/plain": "             category string\ncategorty_id                \n1                     person\n2                    bicycle\n3                        car\n4                 motorcycle\n5                   airplane\n...                      ...\n86                      vase\n87                  scissors\n88                teddy bear\n89                hair drier\n90                toothbrush\n\n[80 rows x 1 columns]"
         },
         "metadata": {},
         "output_type": "display_data"
        }
       ]
      }
     },
     "8cc196e40e0f4f59917838121c93ba9f": {
      "model_module": "@jupyter-widgets/output",
      "model_module_version": "1.0.0",
      "model_name": "OutputModel",
      "state": {
       "layout": "IPY_MODEL_50818b474e244d5aa28cc136d364cdfe",
       "outputs": [
        {
         "data": {
          "text/html": "<div>\n<style scoped>\n    .dataframe tbody tr th:only-of-type {\n        vertical-align: middle;\n    }\n\n    .dataframe tbody tr th {\n        vertical-align: top;\n    }\n\n    .dataframe thead th {\n        text-align: right;\n    }\n</style>\n<table border=\"1\" class=\"dataframe\">\n  <thead>\n    <tr style=\"text-align: right;\">\n      <th></th>\n      <th>area</th>\n      <th>box_height</th>\n      <th>box_width</th>\n      <th>category_id</th>\n      <th>category_str</th>\n      <th>image_id</th>\n      <th>split</th>\n      <th>xmin</th>\n      <th>ymin</th>\n    </tr>\n    <tr>\n      <th>id</th>\n      <th></th>\n      <th></th>\n      <th></th>\n      <th></th>\n      <th></th>\n      <th></th>\n      <th></th>\n      <th></th>\n      <th></th>\n    </tr>\n  </thead>\n  <tbody>\n    <tr>\n      <th>26547</th>\n      <td>531.80710</td>\n      <td>69.50</td>\n      <td>24.70</td>\n      <td>64</td>\n      <td>potted plant</td>\n      <td>139</td>\n      <td>valid</td>\n      <td>236.98</td>\n      <td>142.51</td>\n    </tr>\n    <tr>\n      <th>34646</th>\n      <td>13244.65770</td>\n      <td>94.87</td>\n      <td>149.32</td>\n      <td>72</td>\n      <td>tv</td>\n      <td>139</td>\n      <td>valid</td>\n      <td>7.03</td>\n      <td>167.76</td>\n    </tr>\n    <tr>\n      <th>35802</th>\n      <td>5833.11795</td>\n      <td>78.73</td>\n      <td>81.35</td>\n      <td>72</td>\n      <td>tv</td>\n      <td>139</td>\n      <td>valid</td>\n      <td>557.21</td>\n      <td>209.19</td>\n    </tr>\n    <tr>\n      <th>103487</th>\n      <td>2245.34355</td>\n      <td>102.83</td>\n      <td>56.00</td>\n      <td>62</td>\n      <td>chair</td>\n      <td>139</td>\n      <td>valid</td>\n      <td>358.98</td>\n      <td>218.05</td>\n    </tr>\n    <tr>\n      <th>104368</th>\n      <td>1833.78400</td>\n      <td>98.48</td>\n      <td>61.83</td>\n      <td>62</td>\n      <td>chair</td>\n      <td>139</td>\n      <td>valid</td>\n      <td>290.69</td>\n      <td>218.00</td>\n    </tr>\n    <tr>\n      <th>105328</th>\n      <td>1289.37345</td>\n      <td>81.36</td>\n      <td>30.17</td>\n      <td>62</td>\n      <td>chair</td>\n      <td>139</td>\n      <td>valid</td>\n      <td>413.20</td>\n      <td>223.01</td>\n    </tr>\n    <tr>\n      <th>110334</th>\n      <td>210.14820</td>\n      <td>11.59</td>\n      <td>21.58</td>\n      <td>62</td>\n      <td>chair</td>\n      <td>139</td>\n      <td>valid</td>\n      <td>317.40</td>\n      <td>219.24</td>\n    </tr>\n    <tr>\n      <th>230831</th>\n      <td>2913.11040</td>\n      <td>138.01</td>\n      <td>53.05</td>\n      <td>1</td>\n      <td>person</td>\n      <td>139</td>\n      <td>valid</td>\n      <td>412.80</td>\n      <td>157.61</td>\n    </tr>\n    <tr>\n      <th>233201</th>\n      <td>435.14495</td>\n      <td>35.74</td>\n      <td>15.12</td>\n      <td>1</td>\n      <td>person</td>\n      <td>139</td>\n      <td>valid</td>\n      <td>384.43</td>\n      <td>172.21</td>\n    </tr>\n    <tr>\n      <th>1640282</th>\n      <td>217.71920</td>\n      <td>15.97</td>\n      <td>14.74</td>\n      <td>78</td>\n      <td>microwave</td>\n      <td>139</td>\n      <td>valid</td>\n      <td>512.22</td>\n      <td>205.75</td>\n    </tr>\n    <tr>\n      <th>1647285</th>\n      <td>2089.97480</td>\n      <td>108.31</td>\n      <td>20.29</td>\n      <td>82</td>\n      <td>refrigerator</td>\n      <td>139</td>\n      <td>valid</td>\n      <td>493.10</td>\n      <td>174.34</td>\n    </tr>\n    <tr>\n      <th>1648594</th>\n      <td>338.60885</td>\n      <td>45.71</td>\n      <td>14.34</td>\n      <td>84</td>\n      <td>book</td>\n      <td>139</td>\n      <td>valid</td>\n      <td>604.77</td>\n      <td>305.89</td>\n    </tr>\n    <tr>\n      <th>1654394</th>\n      <td>322.59360</td>\n      <td>46.44</td>\n      <td>12.88</td>\n      <td>84</td>\n      <td>book</td>\n      <td>139</td>\n      <td>valid</td>\n      <td>613.24</td>\n      <td>308.24</td>\n    </tr>\n    <tr>\n      <th>1666628</th>\n      <td>225.66420</td>\n      <td>21.88</td>\n      <td>13.97</td>\n      <td>85</td>\n      <td>clock</td>\n      <td>139</td>\n      <td>valid</td>\n      <td>447.77</td>\n      <td>121.12</td>\n    </tr>\n    <tr>\n      <th>1667817</th>\n      <td>2171.61885</td>\n      <td>89.67</td>\n      <td>36.68</td>\n      <td>86</td>\n      <td>vase</td>\n      <td>139</td>\n      <td>valid</td>\n      <td>549.06</td>\n      <td>309.43</td>\n    </tr>\n    <tr>\n      <th>1669970</th>\n      <td>178.18510</td>\n      <td>22.55</td>\n      <td>11.37</td>\n      <td>86</td>\n      <td>vase</td>\n      <td>139</td>\n      <td>valid</td>\n      <td>350.76</td>\n      <td>208.84</td>\n    </tr>\n    <tr>\n      <th>1941808</th>\n      <td>90.98725</td>\n      <td>12.52</td>\n      <td>9.63</td>\n      <td>62</td>\n      <td>chair</td>\n      <td>139</td>\n      <td>valid</td>\n      <td>412.25</td>\n      <td>219.02</td>\n    </tr>\n    <tr>\n      <th>2146194</th>\n      <td>189.56010</td>\n      <td>17.63</td>\n      <td>14.22</td>\n      <td>86</td>\n      <td>vase</td>\n      <td>139</td>\n      <td>valid</td>\n      <td>241.24</td>\n      <td>194.99</td>\n    </tr>\n    <tr>\n      <th>2146548</th>\n      <td>120.23200</td>\n      <td>16.73</td>\n      <td>9.73</td>\n      <td>86</td>\n      <td>vase</td>\n      <td>139</td>\n      <td>valid</td>\n      <td>336.79</td>\n      <td>199.50</td>\n    </tr>\n    <tr>\n      <th>2204286</th>\n      <td>2362.48975</td>\n      <td>88.93</td>\n      <td>125.56</td>\n      <td>67</td>\n      <td>dining table</td>\n      <td>139</td>\n      <td>valid</td>\n      <td>321.21</td>\n      <td>231.22</td>\n    </tr>\n  </tbody>\n</table>\n</div>",
          "text/plain": "                area  box_height  box_width  category_id  category_str  \\\nid                                                                       \n26547      531.80710       69.50      24.70           64  potted plant   \n34646    13244.65770       94.87     149.32           72            tv   \n35802     5833.11795       78.73      81.35           72            tv   \n103487    2245.34355      102.83      56.00           62         chair   \n104368    1833.78400       98.48      61.83           62         chair   \n105328    1289.37345       81.36      30.17           62         chair   \n110334     210.14820       11.59      21.58           62         chair   \n230831    2913.11040      138.01      53.05            1        person   \n233201     435.14495       35.74      15.12            1        person   \n1640282    217.71920       15.97      14.74           78     microwave   \n1647285   2089.97480      108.31      20.29           82  refrigerator   \n1648594    338.60885       45.71      14.34           84          book   \n1654394    322.59360       46.44      12.88           84          book   \n1666628    225.66420       21.88      13.97           85         clock   \n1667817   2171.61885       89.67      36.68           86          vase   \n1669970    178.18510       22.55      11.37           86          vase   \n1941808     90.98725       12.52       9.63           62         chair   \n2146194    189.56010       17.63      14.22           86          vase   \n2146548    120.23200       16.73       9.73           86          vase   \n2204286   2362.48975       88.93     125.56           67  dining table   \n\n         image_id  split    xmin    ymin  \nid                                        \n26547         139  valid  236.98  142.51  \n34646         139  valid    7.03  167.76  \n35802         139  valid  557.21  209.19  \n103487        139  valid  358.98  218.05  \n104368        139  valid  290.69  218.00  \n105328        139  valid  413.20  223.01  \n110334        139  valid  317.40  219.24  \n230831        139  valid  412.80  157.61  \n233201        139  valid  384.43  172.21  \n1640282       139  valid  512.22  205.75  \n1647285       139  valid  493.10  174.34  \n1648594       139  valid  604.77  305.89  \n1654394       139  valid  613.24  308.24  \n1666628       139  valid  447.77  121.12  \n1667817       139  valid  549.06  309.43  \n1669970       139  valid  350.76  208.84  \n1941808       139  valid  412.25  219.02  \n2146194       139  valid  241.24  194.99  \n2146548       139  valid  336.79  199.50  \n2204286       139  valid  321.21  231.22  "
         },
         "metadata": {},
         "output_type": "display_data"
        }
       ]
      }
     },
     "8db343389cd14224bf2ee3f0aedfb877": {
      "model_module": "@jupyter-widgets/base",
      "model_module_version": "2.0.0",
      "model_name": "LayoutModel",
      "state": {}
     },
     "8e0093b283c0445d9bf6b5cad6367d0f": {
      "model_module": "@jupyter-widgets/base",
      "model_module_version": "2.0.0",
      "model_name": "LayoutModel",
      "state": {}
     },
     "8e93557cfad44ad0935592daedbe2633": {
      "model_module": "@jupyter-widgets/output",
      "model_module_version": "1.0.0",
      "model_name": "OutputModel",
      "state": {
       "layout": "IPY_MODEL_26558a7966bf44aba2c33b58e2104ee7",
       "outputs": [
        {
         "data": {
          "text/html": "<div>\n<style scoped>\n    .dataframe tbody tr th:only-of-type {\n        vertical-align: middle;\n    }\n\n    .dataframe tbody tr th {\n        vertical-align: top;\n    }\n\n    .dataframe thead th {\n        text-align: right;\n    }\n</style>\n<table border=\"1\" class=\"dataframe\">\n  <thead>\n    <tr style=\"text-align: right;\">\n      <th></th>\n      <th>category string</th>\n    </tr>\n    <tr>\n      <th>categorty_id</th>\n      <th></th>\n    </tr>\n  </thead>\n  <tbody>\n    <tr>\n      <th>1</th>\n      <td>vehicle</td>\n    </tr>\n    <tr>\n      <th>2</th>\n      <td>person</td>\n    </tr>\n    <tr>\n      <th>3</th>\n      <td>tool</td>\n    </tr>\n    <tr>\n      <th>6</th>\n      <td>abandoned objects</td>\n    </tr>\n    <tr>\n      <th>10</th>\n      <td>car</td>\n    </tr>\n    <tr>\n      <th>11</th>\n      <td>two-wheeler</td>\n    </tr>\n    <tr>\n      <th>12</th>\n      <td>train</td>\n    </tr>\n    <tr>\n      <th>20</th>\n      <td>standing person</td>\n    </tr>\n    <tr>\n      <th>21</th>\n      <td>sitting person</td>\n    </tr>\n    <tr>\n      <th>22</th>\n      <td>laying person</td>\n    </tr>\n    <tr>\n      <th>28</th>\n      <td>packet</td>\n    </tr>\n    <tr>\n      <th>29</th>\n      <td>bag</td>\n    </tr>\n    <tr>\n      <th>30</th>\n      <td>suitcase</td>\n    </tr>\n    <tr>\n      <th>31</th>\n      <td>head</td>\n    </tr>\n    <tr>\n      <th>32</th>\n      <td>light truck</td>\n    </tr>\n    <tr>\n      <th>33</th>\n      <td>heavy truck</td>\n    </tr>\n    <tr>\n      <th>34</th>\n      <td>garbage truck</td>\n    </tr>\n    <tr>\n      <th>36</th>\n      <td>dump truck</td>\n    </tr>\n    <tr>\n      <th>37</th>\n      <td>truck with trailer</td>\n    </tr>\n    <tr>\n      <th>38</th>\n      <td>truck without trailer</td>\n    </tr>\n    <tr>\n      <th>40</th>\n      <td>tank truck</td>\n    </tr>\n    <tr>\n      <th>41</th>\n      <td>dog</td>\n    </tr>\n    <tr>\n      <th>42</th>\n      <td>motorcycle</td>\n    </tr>\n    <tr>\n      <th>43</th>\n      <td>heavy equipment</td>\n    </tr>\n    <tr>\n      <th>44</th>\n      <td>animals</td>\n    </tr>\n    <tr>\n      <th>46</th>\n      <td>personnal protection equipment</td>\n    </tr>\n    <tr>\n      <th>47</th>\n      <td>utility vehicle</td>\n    </tr>\n    <tr>\n      <th>48</th>\n      <td>minibus</td>\n    </tr>\n    <tr>\n      <th>49</th>\n      <td>taxi</td>\n    </tr>\n    <tr>\n      <th>50</th>\n      <td>body parts</td>\n    </tr>\n    <tr>\n      <th>51</th>\n      <td>vehicle parts</td>\n    </tr>\n    <tr>\n      <th>52</th>\n      <td>taxi light</td>\n    </tr>\n    <tr>\n      <th>53</th>\n      <td>safety helmet</td>\n    </tr>\n    <tr>\n      <th>54</th>\n      <td>safety vest</td>\n    </tr>\n    <tr>\n      <th>55</th>\n      <td>domestic animals</td>\n    </tr>\n    <tr>\n      <th>100</th>\n      <td>sedan</td>\n    </tr>\n    <tr>\n      <th>101</th>\n      <td>van</td>\n    </tr>\n    <tr>\n      <th>102</th>\n      <td>bus</td>\n    </tr>\n    <tr>\n      <th>103</th>\n      <td>truck</td>\n    </tr>\n    <tr>\n      <th>104</th>\n      <td>special</td>\n    </tr>\n    <tr>\n      <th>111</th>\n      <td>bicycle</td>\n    </tr>\n    <tr>\n      <th>112</th>\n      <td>scooter</td>\n    </tr>\n    <tr>\n      <th>113</th>\n      <td>wheelchair</td>\n    </tr>\n    <tr>\n      <th>210</th>\n      <td>biker</td>\n    </tr>\n    <tr>\n      <th>211</th>\n      <td>cyclist</td>\n    </tr>\n    <tr>\n      <th>212</th>\n      <td>scooter rider</td>\n    </tr>\n    <tr>\n      <th>213</th>\n      <td>tricyclist</td>\n    </tr>\n    <tr>\n      <th>214</th>\n      <td>wheelchair user</td>\n    </tr>\n    <tr>\n      <th>1040</th>\n      <td>police</td>\n    </tr>\n    <tr>\n      <th>1041</th>\n      <td>ambulance</td>\n    </tr>\n    <tr>\n      <th>1042</th>\n      <td>firefighter</td>\n    </tr>\n    <tr>\n      <th>1100</th>\n      <td>motorbike</td>\n    </tr>\n    <tr>\n      <th>1121</th>\n      <td>standing scooter</td>\n    </tr>\n  </tbody>\n</table>\n</div>",
          "text/plain": "                             category string\ncategorty_id                                \n1                                    vehicle\n2                                     person\n3                                       tool\n6                          abandoned objects\n10                                       car\n11                               two-wheeler\n12                                     train\n20                           standing person\n21                            sitting person\n22                             laying person\n28                                    packet\n29                                       bag\n30                                  suitcase\n31                                      head\n32                               light truck\n33                               heavy truck\n34                             garbage truck\n36                                dump truck\n37                        truck with trailer\n38                     truck without trailer\n40                                tank truck\n41                                       dog\n42                                motorcycle\n43                           heavy equipment\n44                                   animals\n46            personnal protection equipment\n47                           utility vehicle\n48                                   minibus\n49                                      taxi\n50                                body parts\n51                             vehicle parts\n52                                taxi light\n53                             safety helmet\n54                               safety vest\n55                          domestic animals\n100                                    sedan\n101                                      van\n102                                      bus\n103                                    truck\n104                                  special\n111                                  bicycle\n112                                  scooter\n113                               wheelchair\n210                                    biker\n211                                  cyclist\n212                            scooter rider\n213                               tricyclist\n214                          wheelchair user\n1040                                  police\n1041                               ambulance\n1042                             firefighter\n1100                               motorbike\n1121                        standing scooter"
         },
         "metadata": {},
         "output_type": "display_data"
        }
       ]
      }
     },
     "8ed52c5a2f2243ca8f1949736ad13b2a": {
      "model_module": "@jupyter-widgets/controls",
      "model_module_version": "2.0.0",
      "model_name": "HTMLModel",
      "state": {
       "layout": "IPY_MODEL_9689c4e90a1e4ca7bce04a38bc4600d4",
       "style": "IPY_MODEL_b1a06db76c9143ad88dcaa616d7bc35e",
       "value": "<b> Dataset object located at notebook_data, containing 5,000 images and 36,781 objects </b>"
      }
     },
     "8f2994302c924f7faeb56ccc8fab3426": {
      "model_module": "@jupyter-widgets/base",
      "model_module_version": "2.0.0",
      "model_name": "LayoutModel",
      "state": {}
     },
     "8f56f683ad544ed3b6f86fccaa6dbb35": {
      "model_module": "@jupyter-widgets/base",
      "model_module_version": "2.0.0",
      "model_name": "LayoutModel",
      "state": {}
     },
     "8ff362f22b6c4e248cebda64080f3945": {
      "model_module": "@jupyter-widgets/controls",
      "model_module_version": "2.0.0",
      "model_name": "HTMLModel",
      "state": {
       "layout": "IPY_MODEL_09aa8623e898415a86e7d2473e17b969",
       "style": "IPY_MODEL_349580956873407f845a688dbe891f50",
       "value": "<b> Dataset object located at notebook_data, containing 5,000 images and 5,143 objects </b>"
      }
     },
     "900b4c8156e44b8d8202dfaf3fec6933": {
      "model_module": "@jupyter-widgets/output",
      "model_module_version": "1.0.0",
      "model_name": "OutputModel",
      "state": {
       "layout": "IPY_MODEL_9af0f21e82c54b369ab2e3902fdcd8e8",
       "outputs": [
        {
         "data": {
          "text/html": "<div>\n<style scoped>\n    .dataframe tbody tr th:only-of-type {\n        vertical-align: middle;\n    }\n\n    .dataframe tbody tr th {\n        vertical-align: top;\n    }\n\n    .dataframe thead th {\n        text-align: right;\n    }\n</style>\n<table border=\"1\" class=\"dataframe\">\n  <thead>\n    <tr style=\"text-align: right;\">\n      <th></th>\n      <th>area</th>\n      <th>image_id</th>\n      <th>category_id</th>\n      <th>split</th>\n      <th>xmin</th>\n      <th>ymin</th>\n      <th>box_width</th>\n      <th>box_height</th>\n      <th>category_str</th>\n    </tr>\n    <tr>\n      <th>id</th>\n      <th></th>\n      <th></th>\n      <th></th>\n      <th></th>\n      <th></th>\n      <th></th>\n      <th></th>\n      <th></th>\n      <th></th>\n    </tr>\n  </thead>\n  <tbody>\n    <tr>\n      <th>460450</th>\n      <td>48685.67910</td>\n      <td>352582</td>\n      <td>1</td>\n      <td>valid</td>\n      <td>112.43</td>\n      <td>195.32</td>\n      <td>214.78</td>\n      <td>438.19</td>\n      <td>person</td>\n    </tr>\n    <tr>\n      <th>535917</th>\n      <td>22650.73800</td>\n      <td>352582</td>\n      <td>1</td>\n      <td>valid</td>\n      <td>0.00</td>\n      <td>256.00</td>\n      <td>80.54</td>\n      <td>376.81</td>\n      <td>person</td>\n    </tr>\n    <tr>\n      <th>602093</th>\n      <td>2605.72090</td>\n      <td>352582</td>\n      <td>34</td>\n      <td>valid</td>\n      <td>171.63</td>\n      <td>424.03</td>\n      <td>85.89</td>\n      <td>40.67</td>\n      <td>frisbee</td>\n    </tr>\n    <tr>\n      <th>467905</th>\n      <td>5408.64720</td>\n      <td>58393</td>\n      <td>1</td>\n      <td>valid</td>\n      <td>342.52</td>\n      <td>163.33</td>\n      <td>192.24</td>\n      <td>77.47</td>\n      <td>person</td>\n    </tr>\n    <tr>\n      <th>576900</th>\n      <td>82291.54995</td>\n      <td>58393</td>\n      <td>15</td>\n      <td>valid</td>\n      <td>44.78</td>\n      <td>242.27</td>\n      <td>547.16</td>\n      <td>224.98</td>\n      <td>bench</td>\n    </tr>\n    <tr>\n      <th>...</th>\n      <td>...</td>\n      <td>...</td>\n      <td>...</td>\n      <td>...</td>\n      <td>...</td>\n      <td>...</td>\n      <td>...</td>\n      <td>...</td>\n      <td>...</td>\n    </tr>\n    <tr>\n      <th>331107</th>\n      <td>12029.44125</td>\n      <td>349837</td>\n      <td>82</td>\n      <td>valid</td>\n      <td>66.00</td>\n      <td>94.87</td>\n      <td>71.25</td>\n      <td>194.26</td>\n      <td>refrigerator</td>\n    </tr>\n    <tr>\n      <th>332788</th>\n      <td>23037.46875</td>\n      <td>349837</td>\n      <td>82</td>\n      <td>valid</td>\n      <td>138.00</td>\n      <td>62.63</td>\n      <td>98.25</td>\n      <td>252.00</td>\n      <td>refrigerator</td>\n    </tr>\n    <tr>\n      <th>333394</th>\n      <td>30406.51295</td>\n      <td>349837</td>\n      <td>82</td>\n      <td>valid</td>\n      <td>234.44</td>\n      <td>29.87</td>\n      <td>113.49</td>\n      <td>298.65</td>\n      <td>refrigerator</td>\n    </tr>\n    <tr>\n      <th>333685</th>\n      <td>37187.97840</td>\n      <td>349837</td>\n      <td>82</td>\n      <td>valid</td>\n      <td>335.04</td>\n      <td>10.48</td>\n      <td>125.17</td>\n      <td>318.78</td>\n      <td>refrigerator</td>\n    </tr>\n    <tr>\n      <th>333731</th>\n      <td>12492.52165</td>\n      <td>349837</td>\n      <td>82</td>\n      <td>valid</td>\n      <td>460.39</td>\n      <td>0.00</td>\n      <td>39.61</td>\n      <td>328.64</td>\n      <td>refrigerator</td>\n    </tr>\n  </tbody>\n</table>\n<p>36781 rows × 9 columns</p>\n</div>",
          "text/plain": "               area  image_id  category_id  split    xmin    ymin  box_width  \\\nid                                                                             \n460450  48685.67910    352582            1  valid  112.43  195.32     214.78   \n535917  22650.73800    352582            1  valid    0.00  256.00      80.54   \n602093   2605.72090    352582           34  valid  171.63  424.03      85.89   \n467905   5408.64720     58393            1  valid  342.52  163.33     192.24   \n576900  82291.54995     58393           15  valid   44.78  242.27     547.16   \n...             ...       ...          ...    ...     ...     ...        ...   \n331107  12029.44125    349837           82  valid   66.00   94.87      71.25   \n332788  23037.46875    349837           82  valid  138.00   62.63      98.25   \n333394  30406.51295    349837           82  valid  234.44   29.87     113.49   \n333685  37187.97840    349837           82  valid  335.04   10.48     125.17   \n333731  12492.52165    349837           82  valid  460.39    0.00      39.61   \n\n        box_height  category_str  \nid                                \n460450      438.19        person  \n535917      376.81        person  \n602093       40.67       frisbee  \n467905       77.47        person  \n576900      224.98         bench  \n...            ...           ...  \n331107      194.26  refrigerator  \n332788      252.00  refrigerator  \n333394      298.65  refrigerator  \n333685      318.78  refrigerator  \n333731      328.64  refrigerator  \n\n[36781 rows x 9 columns]"
         },
         "metadata": {},
         "output_type": "display_data"
        }
       ]
      }
     },
     "900f80ac8dc846c49a08eff621d61268": {
      "model_module": "@jupyter-widgets/base",
      "model_module_version": "2.0.0",
      "model_name": "LayoutModel",
      "state": {}
     },
     "90bb9ec855dc4a96b417f9ca00eef37e": {
      "model_module": "@jupyter-widgets/controls",
      "model_module_version": "2.0.0",
      "model_name": "HTMLModel",
      "state": {
       "layout": "IPY_MODEL_271a23cfdd374312bee6629602fec381",
       "style": "IPY_MODEL_db7ac0ad322345f8bcbbfcd4f5fefc8e",
       "value": "<b> Dataset object located at notebook_data, containing 76 images and 3,675 objects </b>"
      }
     },
     "90f108ad3dbd47a895a9ee9db2382ea6": {
      "model_module": "@jupyter-widgets/controls",
      "model_module_version": "2.0.0",
      "model_name": "HTMLModel",
      "state": {
       "layout": "IPY_MODEL_433b79eefef2432cb2d271b2980908f4",
       "style": "IPY_MODEL_c06b67c146da4c7d88073482ce4acb98",
       "value": "<b> Dataset object located at notebook_data, containing 5,000 images and 5,143 objects </b>"
      }
     },
     "91274fe66cdf437fa2443289f8ca5857": {
      "model_module": "@jupyter-widgets/base",
      "model_module_version": "2.0.0",
      "model_name": "LayoutModel",
      "state": {}
     },
     "912bb597eeba4ba2b64cf1abbbc3e8c0": {
      "model_module": "@jupyter-widgets/controls",
      "model_module_version": "2.0.0",
      "model_name": "TabModel",
      "state": {
       "children": [
        "IPY_MODEL_9ebce3db958b4c11b922d03aef48b220",
        "IPY_MODEL_dfa17a54d58046a180afca01383888dc",
        "IPY_MODEL_5afa8c277992456d937dda5dc21339af"
       ],
       "layout": "IPY_MODEL_d9086102a70e4996b1a8bc2090f87f76",
       "selected_index": 0,
       "titles": [
        "Images",
        "Annotations",
        "Label Map"
       ]
      }
     },
     "9134bfa3452e4ec283fc40d476867b93": {
      "model_module": "@jupyter-widgets/output",
      "model_module_version": "1.0.0",
      "model_name": "OutputModel",
      "state": {
       "layout": "IPY_MODEL_f2ab69ada39646f9a9e103d9d98a2914",
       "outputs": [
        {
         "data": {
          "text/html": "<div>\n<style scoped>\n    .dataframe tbody tr th:only-of-type {\n        vertical-align: middle;\n    }\n\n    .dataframe tbody tr th {\n        vertical-align: top;\n    }\n\n    .dataframe thead th {\n        text-align: right;\n    }\n</style>\n<table border=\"1\" class=\"dataframe\">\n  <thead>\n    <tr style=\"text-align: right;\">\n      <th></th>\n      <th>image_id</th>\n      <th>category_id</th>\n      <th>object_id</th>\n      <th>area</th>\n      <th>split</th>\n      <th>xmin</th>\n      <th>ymin</th>\n      <th>box_width</th>\n      <th>box_height</th>\n      <th>category_str</th>\n    </tr>\n    <tr>\n      <th>id</th>\n      <th></th>\n      <th></th>\n      <th></th>\n      <th></th>\n      <th></th>\n      <th></th>\n      <th></th>\n      <th></th>\n      <th></th>\n      <th></th>\n    </tr>\n  </thead>\n  <tbody>\n    <tr>\n      <th>319049</th>\n      <td>6493</td>\n      <td>100</td>\n      <td>55689</td>\n      <td>33390</td>\n      <td>None</td>\n      <td>0</td>\n      <td>632</td>\n      <td>210</td>\n      <td>159</td>\n      <td>sedan</td>\n    </tr>\n    <tr>\n      <th>319050</th>\n      <td>6493</td>\n      <td>1100</td>\n      <td>30178</td>\n      <td>7396</td>\n      <td>None</td>\n      <td>203</td>\n      <td>611</td>\n      <td>86</td>\n      <td>86</td>\n      <td>motorbike</td>\n    </tr>\n    <tr>\n      <th>319051</th>\n      <td>6493</td>\n      <td>1100</td>\n      <td>48923</td>\n      <td>6391</td>\n      <td>None</td>\n      <td>272</td>\n      <td>589</td>\n      <td>77</td>\n      <td>83</td>\n      <td>motorbike</td>\n    </tr>\n    <tr>\n      <th>319052</th>\n      <td>6493</td>\n      <td>1100</td>\n      <td>8678</td>\n      <td>6279</td>\n      <td>None</td>\n      <td>341</td>\n      <td>559</td>\n      <td>69</td>\n      <td>91</td>\n      <td>motorbike</td>\n    </tr>\n    <tr>\n      <th>319053</th>\n      <td>6493</td>\n      <td>20</td>\n      <td>560</td>\n      <td>3116</td>\n      <td>None</td>\n      <td>517</td>\n      <td>527</td>\n      <td>38</td>\n      <td>82</td>\n      <td>standing person</td>\n    </tr>\n    <tr>\n      <th>...</th>\n      <td>...</td>\n      <td>...</td>\n      <td>...</td>\n      <td>...</td>\n      <td>...</td>\n      <td>...</td>\n      <td>...</td>\n      <td>...</td>\n      <td>...</td>\n      <td>...</td>\n    </tr>\n    <tr>\n      <th>103031</th>\n      <td>2599</td>\n      <td>111</td>\n      <td>36067</td>\n      <td>1269</td>\n      <td>None</td>\n      <td>1873</td>\n      <td>391</td>\n      <td>27</td>\n      <td>47</td>\n      <td>bicycle</td>\n    </tr>\n    <tr>\n      <th>103032</th>\n      <td>2599</td>\n      <td>111</td>\n      <td>64239</td>\n      <td>4950</td>\n      <td>None</td>\n      <td>1753</td>\n      <td>404</td>\n      <td>66</td>\n      <td>75</td>\n      <td>bicycle</td>\n    </tr>\n    <tr>\n      <th>103033</th>\n      <td>2599</td>\n      <td>20</td>\n      <td>65100</td>\n      <td>14268</td>\n      <td>None</td>\n      <td>1816</td>\n      <td>447</td>\n      <td>87</td>\n      <td>164</td>\n      <td>standing person</td>\n    </tr>\n    <tr>\n      <th>103034</th>\n      <td>2599</td>\n      <td>28</td>\n      <td>14145</td>\n      <td>1020</td>\n      <td>None</td>\n      <td>1863</td>\n      <td>493</td>\n      <td>51</td>\n      <td>20</td>\n      <td>packet</td>\n    </tr>\n    <tr>\n      <th>103035</th>\n      <td>2599</td>\n      <td>29</td>\n      <td>7528</td>\n      <td>624</td>\n      <td>None</td>\n      <td>1877</td>\n      <td>512</td>\n      <td>16</td>\n      <td>39</td>\n      <td>bag</td>\n    </tr>\n  </tbody>\n</table>\n<p>3675 rows × 10 columns</p>\n</div>",
          "text/plain": "        image_id  category_id  object_id   area split  xmin  ymin  box_width  \\\nid                                                                             \n319049      6493          100      55689  33390  None     0   632        210   \n319050      6493         1100      30178   7396  None   203   611         86   \n319051      6493         1100      48923   6391  None   272   589         77   \n319052      6493         1100       8678   6279  None   341   559         69   \n319053      6493           20        560   3116  None   517   527         38   \n...          ...          ...        ...    ...   ...   ...   ...        ...   \n103031      2599          111      36067   1269  None  1873   391         27   \n103032      2599          111      64239   4950  None  1753   404         66   \n103033      2599           20      65100  14268  None  1816   447         87   \n103034      2599           28      14145   1020  None  1863   493         51   \n103035      2599           29       7528    624  None  1877   512         16   \n\n        box_height     category_str  \nid                                   \n319049         159            sedan  \n319050          86        motorbike  \n319051          83        motorbike  \n319052          91        motorbike  \n319053          82  standing person  \n...            ...              ...  \n103031          47          bicycle  \n103032          75          bicycle  \n103033         164  standing person  \n103034          20           packet  \n103035          39              bag  \n\n[3675 rows x 10 columns]"
         },
         "metadata": {},
         "output_type": "display_data"
        }
       ]
      }
     },
     "91a24accb0f84080905024b948b97417": {
      "model_module": "@jupyter-widgets/output",
      "model_module_version": "1.0.0",
      "model_name": "OutputModel",
      "state": {
       "layout": "IPY_MODEL_10005f66d29f4e89a4882651f8873df1",
       "outputs": [
        {
         "data": {
          "text/html": "<div>\n<style scoped>\n    .dataframe tbody tr th:only-of-type {\n        vertical-align: middle;\n    }\n\n    .dataframe tbody tr th {\n        vertical-align: top;\n    }\n\n    .dataframe thead th {\n        text-align: right;\n    }\n</style>\n<table border=\"1\" class=\"dataframe\">\n  <thead>\n    <tr style=\"text-align: right;\">\n      <th></th>\n      <th>file_name</th>\n      <th>height</th>\n      <th>width</th>\n      <th>split</th>\n      <th>relative_path</th>\n      <th>type</th>\n    </tr>\n    <tr>\n      <th>id</th>\n      <th></th>\n      <th></th>\n      <th></th>\n      <th></th>\n      <th></th>\n      <th></th>\n    </tr>\n  </thead>\n  <tbody>\n    <tr>\n      <th>352582</th>\n      <td>000000352582.jpg</td>\n      <td>640</td>\n      <td>425</td>\n      <td>valid</td>\n      <td>Images/valid/000000352582.jpg</td>\n      <td>.jpg</td>\n    </tr>\n    <tr>\n      <th>58393</th>\n      <td>000000058393.jpg</td>\n      <td>486</td>\n      <td>640</td>\n      <td>valid</td>\n      <td>Images/valid/000000058393.jpg</td>\n      <td>.jpg</td>\n    </tr>\n    <tr>\n      <th>310072</th>\n      <td>000000310072.jpg</td>\n      <td>383</td>\n      <td>640</td>\n      <td>valid</td>\n      <td>Images/valid/000000310072.jpg</td>\n      <td>.jpg</td>\n    </tr>\n    <tr>\n      <th>519208</th>\n      <td>000000519208.jpg</td>\n      <td>406</td>\n      <td>640</td>\n      <td>valid</td>\n      <td>Images/valid/000000519208.jpg</td>\n      <td>.jpg</td>\n    </tr>\n    <tr>\n      <th>38048</th>\n      <td>000000038048.jpg</td>\n      <td>500</td>\n      <td>299</td>\n      <td>valid</td>\n      <td>Images/valid/000000038048.jpg</td>\n      <td>.jpg</td>\n    </tr>\n    <tr>\n      <th>...</th>\n      <td>...</td>\n      <td>...</td>\n      <td>...</td>\n      <td>...</td>\n      <td>...</td>\n      <td>...</td>\n    </tr>\n    <tr>\n      <th>885</th>\n      <td>000000000885.jpg</td>\n      <td>427</td>\n      <td>640</td>\n      <td>valid</td>\n      <td>Images/valid/000000000885.jpg</td>\n      <td>.jpg</td>\n    </tr>\n    <tr>\n      <th>189806</th>\n      <td>000000189806.jpg</td>\n      <td>400</td>\n      <td>500</td>\n      <td>valid</td>\n      <td>Images/valid/000000189806.jpg</td>\n      <td>.jpg</td>\n    </tr>\n    <tr>\n      <th>311180</th>\n      <td>000000311180.jpg</td>\n      <td>640</td>\n      <td>480</td>\n      <td>valid</td>\n      <td>Images/valid/000000311180.jpg</td>\n      <td>.jpg</td>\n    </tr>\n    <tr>\n      <th>105455</th>\n      <td>000000105455.jpg</td>\n      <td>640</td>\n      <td>427</td>\n      <td>valid</td>\n      <td>Images/valid/000000105455.jpg</td>\n      <td>.jpg</td>\n    </tr>\n    <tr>\n      <th>349837</th>\n      <td>000000349837.jpg</td>\n      <td>333</td>\n      <td>500</td>\n      <td>valid</td>\n      <td>Images/valid/000000349837.jpg</td>\n      <td>.jpg</td>\n    </tr>\n  </tbody>\n</table>\n<p>5000 rows × 6 columns</p>\n</div>",
          "text/plain": "               file_name  height  width  split                  relative_path  \\\nid                                                                              \n352582  000000352582.jpg     640    425  valid  Images/valid/000000352582.jpg   \n58393   000000058393.jpg     486    640  valid  Images/valid/000000058393.jpg   \n310072  000000310072.jpg     383    640  valid  Images/valid/000000310072.jpg   \n519208  000000519208.jpg     406    640  valid  Images/valid/000000519208.jpg   \n38048   000000038048.jpg     500    299  valid  Images/valid/000000038048.jpg   \n...                  ...     ...    ...    ...                            ...   \n885     000000000885.jpg     427    640  valid  Images/valid/000000000885.jpg   \n189806  000000189806.jpg     400    500  valid  Images/valid/000000189806.jpg   \n311180  000000311180.jpg     640    480  valid  Images/valid/000000311180.jpg   \n105455  000000105455.jpg     640    427  valid  Images/valid/000000105455.jpg   \n349837  000000349837.jpg     333    500  valid  Images/valid/000000349837.jpg   \n\n        type  \nid            \n352582  .jpg  \n58393   .jpg  \n310072  .jpg  \n519208  .jpg  \n38048   .jpg  \n...      ...  \n885     .jpg  \n189806  .jpg  \n311180  .jpg  \n105455  .jpg  \n349837  .jpg  \n\n[5000 rows x 6 columns]"
         },
         "metadata": {},
         "output_type": "display_data"
        }
       ]
      }
     },
     "922f1b40e7a2402cbcec1aaf37130e8d": {
      "model_module": "@jupyter-widgets/base",
      "model_module_version": "2.0.0",
      "model_name": "LayoutModel",
      "state": {}
     },
     "926936cb78944a52926613640a97c9ed": {
      "model_module": "@jupyter-widgets/controls",
      "model_module_version": "2.0.0",
      "model_name": "HTMLStyleModel",
      "state": {
       "description_width": "",
       "font_size": null,
       "text_color": null
      }
     },
     "929e9d95d12e4fcabdcfc64386095c8c": {
      "model_module": "@jupyter-widgets/controls",
      "model_module_version": "2.0.0",
      "model_name": "HTMLModel",
      "state": {
       "layout": "IPY_MODEL_114b7cf3be2a4b77a259a0a4cd734ed7",
       "style": "IPY_MODEL_e8ee3373143f47c8a5390f3694e84afc",
       "value": "<b> Dataset object located at notebook_data, containing 5,000 images and 36,781 objects </b>"
      }
     },
     "92de65d1d31f4f3b8d91ac7b6f002c97": {
      "model_module": "@jupyter-widgets/controls",
      "model_module_version": "2.0.0",
      "model_name": "HTMLStyleModel",
      "state": {
       "description_width": "",
       "font_size": null,
       "text_color": null
      }
     },
     "93253f54a8cc40ac8d31a50849fe18d3": {
      "model_module": "@jupyter-widgets/output",
      "model_module_version": "1.0.0",
      "model_name": "OutputModel",
      "state": {
       "layout": "IPY_MODEL_2a91f41e1b2743868317953603aab709",
       "outputs": [
        {
         "data": {
          "text/html": "<div>\n<style scoped>\n    .dataframe tbody tr th:only-of-type {\n        vertical-align: middle;\n    }\n\n    .dataframe tbody tr th {\n        vertical-align: top;\n    }\n\n    .dataframe thead th {\n        text-align: right;\n    }\n</style>\n<table border=\"1\" class=\"dataframe\">\n  <thead>\n    <tr style=\"text-align: right;\">\n      <th></th>\n      <th>category string</th>\n    </tr>\n    <tr>\n      <th>categorty_id</th>\n      <th></th>\n    </tr>\n  </thead>\n  <tbody>\n    <tr>\n      <th>1</th>\n      <td>person</td>\n    </tr>\n    <tr>\n      <th>2</th>\n      <td>bicycle</td>\n    </tr>\n    <tr>\n      <th>3</th>\n      <td>car</td>\n    </tr>\n    <tr>\n      <th>4</th>\n      <td>motorcycle</td>\n    </tr>\n    <tr>\n      <th>5</th>\n      <td>airplane</td>\n    </tr>\n    <tr>\n      <th>...</th>\n      <td>...</td>\n    </tr>\n    <tr>\n      <th>86</th>\n      <td>vase</td>\n    </tr>\n    <tr>\n      <th>87</th>\n      <td>scissors</td>\n    </tr>\n    <tr>\n      <th>88</th>\n      <td>teddy bear</td>\n    </tr>\n    <tr>\n      <th>89</th>\n      <td>hair drier</td>\n    </tr>\n    <tr>\n      <th>90</th>\n      <td>toothbrush</td>\n    </tr>\n  </tbody>\n</table>\n<p>80 rows × 1 columns</p>\n</div>",
          "text/plain": "             category string\ncategorty_id                \n1                     person\n2                    bicycle\n3                        car\n4                 motorcycle\n5                   airplane\n...                      ...\n86                      vase\n87                  scissors\n88                teddy bear\n89                hair drier\n90                toothbrush\n\n[80 rows x 1 columns]"
         },
         "metadata": {},
         "output_type": "display_data"
        }
       ]
      }
     },
     "934fa3dd4f3c4bff82940aed9d9226b8": {
      "model_module": "@jupyter-widgets/controls",
      "model_module_version": "2.0.0",
      "model_name": "TabModel",
      "state": {
       "children": [
        "IPY_MODEL_04a6ba81bc25413f9fb6853852961a39",
        "IPY_MODEL_1028a8abdb4d4e2493633df2d111a6e6",
        "IPY_MODEL_a446988816064c3fb9cfd984130d26e2"
       ],
       "layout": "IPY_MODEL_ff935f66a39147288211a49d6e556761",
       "selected_index": 0,
       "titles": [
        "Images",
        "Annotations",
        "Label Map"
       ]
      }
     },
     "939fba0b426b44d3b8efac420bc36ed4": {
      "model_module": "@jupyter-widgets/controls",
      "model_module_version": "2.0.0",
      "model_name": "HTMLModel",
      "state": {
       "layout": "IPY_MODEL_11329462f108447699e86cdb641a33f6",
       "style": "IPY_MODEL_22ee20e19e364778938ec6da08f103ca",
       "value": "<b> Dataset object located at notebook_data, containing 5,000 images and 36,781 objects </b>"
      }
     },
     "9447cd9874d54d04b571561eb30d416b": {
      "model_module": "@jupyter-widgets/base",
      "model_module_version": "2.0.0",
      "model_name": "LayoutModel",
      "state": {}
     },
     "9466010f920b45b59359fa1178b7dbf0": {
      "model_module": "@jupyter-widgets/base",
      "model_module_version": "2.0.0",
      "model_name": "LayoutModel",
      "state": {}
     },
     "946e0233a1974f008b1bd6389dd9595f": {
      "model_module": "@jupyter-widgets/output",
      "model_module_version": "1.0.0",
      "model_name": "OutputModel",
      "state": {
       "layout": "IPY_MODEL_87cce8242d2448f49e3681b4bebea033",
       "outputs": [
        {
         "data": {
          "text/html": "<div>\n<style scoped>\n    .dataframe tbody tr th:only-of-type {\n        vertical-align: middle;\n    }\n\n    .dataframe tbody tr th {\n        vertical-align: top;\n    }\n\n    .dataframe thead th {\n        text-align: right;\n    }\n</style>\n<table border=\"1\" class=\"dataframe\">\n  <thead>\n    <tr style=\"text-align: right;\">\n      <th></th>\n      <th>category string</th>\n    </tr>\n    <tr>\n      <th>categorty_id</th>\n      <th></th>\n    </tr>\n  </thead>\n  <tbody>\n    <tr>\n      <th>1</th>\n      <td>vehicle</td>\n    </tr>\n    <tr>\n      <th>2</th>\n      <td>bag</td>\n    </tr>\n    <tr>\n      <th>3</th>\n      <td>animal</td>\n    </tr>\n  </tbody>\n</table>\n</div>",
          "text/plain": "             category string\ncategorty_id                \n1                    vehicle\n2                        bag\n3                     animal"
         },
         "metadata": {},
         "output_type": "display_data"
        }
       ]
      }
     },
     "948133105e8244048e5940aa651b3cf3": {
      "model_module": "@jupyter-widgets/base",
      "model_module_version": "2.0.0",
      "model_name": "LayoutModel",
      "state": {}
     },
     "94904e2d8a1d420394b533a3a33c64f1": {
      "model_module": "@jupyter-widgets/base",
      "model_module_version": "2.0.0",
      "model_name": "LayoutModel",
      "state": {}
     },
     "9580d2eae4c642cb887e311bcf0e4762": {
      "model_module": "@jupyter-widgets/base",
      "model_module_version": "2.0.0",
      "model_name": "LayoutModel",
      "state": {}
     },
     "95e8d8bfe50947cc8f00f8447aac0936": {
      "model_module": "@jupyter-widgets/output",
      "model_module_version": "1.0.0",
      "model_name": "OutputModel",
      "state": {
       "layout": "IPY_MODEL_84442e0447e64f9b8bd39e3e508f0b3b",
       "outputs": [
        {
         "data": {
          "text/html": "<div>\n<style scoped>\n    .dataframe tbody tr th:only-of-type {\n        vertical-align: middle;\n    }\n\n    .dataframe tbody tr th {\n        vertical-align: top;\n    }\n\n    .dataframe thead th {\n        text-align: right;\n    }\n</style>\n<table border=\"1\" class=\"dataframe\">\n  <thead>\n    <tr style=\"text-align: right;\">\n      <th></th>\n      <th>area</th>\n      <th>image_id</th>\n      <th>category_id</th>\n      <th>split</th>\n      <th>xmin</th>\n      <th>ymin</th>\n      <th>box_width</th>\n      <th>box_height</th>\n      <th>category_str</th>\n    </tr>\n    <tr>\n      <th>id</th>\n      <th></th>\n      <th></th>\n      <th></th>\n      <th></th>\n      <th></th>\n      <th></th>\n      <th></th>\n      <th></th>\n      <th></th>\n    </tr>\n  </thead>\n  <tbody>\n    <tr>\n      <th>357584</th>\n      <td>14718.47935</td>\n      <td>310072</td>\n      <td>1</td>\n      <td>valid</td>\n      <td>223.85</td>\n      <td>0.00</td>\n      <td>258.83</td>\n      <td>69.08</td>\n      <td>Vehicle</td>\n    </tr>\n    <tr>\n      <th>358258</th>\n      <td>6989.84750</td>\n      <td>310072</td>\n      <td>1</td>\n      <td>valid</td>\n      <td>0.00</td>\n      <td>1.94</td>\n      <td>135.99</td>\n      <td>66.27</td>\n      <td>Vehicle</td>\n    </tr>\n    <tr>\n      <th>363154</th>\n      <td>1729.26630</td>\n      <td>310072</td>\n      <td>1</td>\n      <td>valid</td>\n      <td>170.89</td>\n      <td>0.00</td>\n      <td>71.06</td>\n      <td>36.96</td>\n      <td>Vehicle</td>\n    </tr>\n    <tr>\n      <th>1337431</th>\n      <td>91.97330</td>\n      <td>310072</td>\n      <td>1</td>\n      <td>valid</td>\n      <td>631.99</td>\n      <td>7.35</td>\n      <td>8.01</td>\n      <td>15.46</td>\n      <td>Vehicle</td>\n    </tr>\n    <tr>\n      <th>1368385</th>\n      <td>7558.39585</td>\n      <td>310072</td>\n      <td>1</td>\n      <td>valid</td>\n      <td>0.00</td>\n      <td>0.00</td>\n      <td>131.87</td>\n      <td>71.46</td>\n      <td>Vehicle</td>\n    </tr>\n    <tr>\n      <th>...</th>\n      <td>...</td>\n      <td>...</td>\n      <td>...</td>\n      <td>...</td>\n      <td>...</td>\n      <td>...</td>\n      <td>...</td>\n      <td>...</td>\n      <td>...</td>\n    </tr>\n    <tr>\n      <th>10068</th>\n      <td>10866.03335</td>\n      <td>189806</td>\n      <td>3</td>\n      <td>valid</td>\n      <td>263.63</td>\n      <td>193.10</td>\n      <td>180.04</td>\n      <td>103.59</td>\n      <td>Animal</td>\n    </tr>\n    <tr>\n      <th>46540</th>\n      <td>5204.68295</td>\n      <td>189806</td>\n      <td>3</td>\n      <td>valid</td>\n      <td>130.91</td>\n      <td>165.20</td>\n      <td>94.54</td>\n      <td>104.73</td>\n      <td>Animal</td>\n    </tr>\n    <tr>\n      <th>344755</th>\n      <td>4084.58345</td>\n      <td>363188</td>\n      <td>1</td>\n      <td>valid</td>\n      <td>590.03</td>\n      <td>198.92</td>\n      <td>49.97</td>\n      <td>106.42</td>\n      <td>Vehicle</td>\n    </tr>\n    <tr>\n      <th>1420625</th>\n      <td>865.42470</td>\n      <td>363188</td>\n      <td>2</td>\n      <td>valid</td>\n      <td>221.41</td>\n      <td>199.76</td>\n      <td>91.36</td>\n      <td>63.64</td>\n      <td>Bag</td>\n    </tr>\n    <tr>\n      <th>1192747</th>\n      <td>182.21680</td>\n      <td>105455</td>\n      <td>1</td>\n      <td>valid</td>\n      <td>333.56</td>\n      <td>517.21</td>\n      <td>17.43</td>\n      <td>14.58</td>\n      <td>Vehicle</td>\n    </tr>\n  </tbody>\n</table>\n<p>5143 rows × 9 columns</p>\n</div>",
          "text/plain": "                area  image_id  category_id  split    xmin    ymin  box_width  \\\nid                                                                              \n357584   14718.47935    310072            1  valid  223.85    0.00     258.83   \n358258    6989.84750    310072            1  valid    0.00    1.94     135.99   \n363154    1729.26630    310072            1  valid  170.89    0.00      71.06   \n1337431     91.97330    310072            1  valid  631.99    7.35       8.01   \n1368385   7558.39585    310072            1  valid    0.00    0.00     131.87   \n...              ...       ...          ...    ...     ...     ...        ...   \n10068    10866.03335    189806            3  valid  263.63  193.10     180.04   \n46540     5204.68295    189806            3  valid  130.91  165.20      94.54   \n344755    4084.58345    363188            1  valid  590.03  198.92      49.97   \n1420625    865.42470    363188            2  valid  221.41  199.76      91.36   \n1192747    182.21680    105455            1  valid  333.56  517.21      17.43   \n\n         box_height category_str  \nid                                \n357584        69.08      Vehicle  \n358258        66.27      Vehicle  \n363154        36.96      Vehicle  \n1337431       15.46      Vehicle  \n1368385       71.46      Vehicle  \n...             ...          ...  \n10068        103.59       Animal  \n46540        104.73       Animal  \n344755       106.42      Vehicle  \n1420625       63.64          Bag  \n1192747       14.58      Vehicle  \n\n[5143 rows x 9 columns]"
         },
         "metadata": {},
         "output_type": "display_data"
        }
       ]
      }
     },
     "9601c36d68f44f7ba516c55a4b6ad7ec": {
      "model_module": "@jupyter-widgets/base",
      "model_module_version": "2.0.0",
      "model_name": "LayoutModel",
      "state": {}
     },
     "9689c4e90a1e4ca7bce04a38bc4600d4": {
      "model_module": "@jupyter-widgets/base",
      "model_module_version": "2.0.0",
      "model_name": "LayoutModel",
      "state": {}
     },
     "96ce9feaec154671a16510532f18ffa1": {
      "model_module": "@jupyter-widgets/controls",
      "model_module_version": "2.0.0",
      "model_name": "HTMLStyleModel",
      "state": {
       "description_width": "",
       "font_size": null,
       "text_color": null
      }
     },
     "970e1a5d7ad746b987991781d739566f": {
      "model_module": "@jupyter-widgets/base",
      "model_module_version": "2.0.0",
      "model_name": "LayoutModel",
      "state": {}
     },
     "98d797f6b81f4e3f8950b52c24066ca7": {
      "model_module": "@jupyter-widgets/output",
      "model_module_version": "1.0.0",
      "model_name": "OutputModel",
      "state": {
       "layout": "IPY_MODEL_24f8ca04b3634d529e33be1a19b69cd2",
       "outputs": [
        {
         "data": {
          "text/html": "<div>\n<style scoped>\n    .dataframe tbody tr th:only-of-type {\n        vertical-align: middle;\n    }\n\n    .dataframe tbody tr th {\n        vertical-align: top;\n    }\n\n    .dataframe thead th {\n        text-align: right;\n    }\n</style>\n<table border=\"1\" class=\"dataframe\">\n  <thead>\n    <tr style=\"text-align: right;\">\n      <th></th>\n      <th>category string</th>\n    </tr>\n    <tr>\n      <th>categorty_id</th>\n      <th></th>\n    </tr>\n  </thead>\n  <tbody>\n    <tr>\n      <th>1</th>\n      <td>person</td>\n    </tr>\n    <tr>\n      <th>2</th>\n      <td>bicycle</td>\n    </tr>\n    <tr>\n      <th>3</th>\n      <td>car</td>\n    </tr>\n    <tr>\n      <th>4</th>\n      <td>motorcycle</td>\n    </tr>\n    <tr>\n      <th>5</th>\n      <td>airplane</td>\n    </tr>\n    <tr>\n      <th>...</th>\n      <td>...</td>\n    </tr>\n    <tr>\n      <th>86</th>\n      <td>vase</td>\n    </tr>\n    <tr>\n      <th>87</th>\n      <td>scissors</td>\n    </tr>\n    <tr>\n      <th>88</th>\n      <td>teddy bear</td>\n    </tr>\n    <tr>\n      <th>89</th>\n      <td>hair drier</td>\n    </tr>\n    <tr>\n      <th>90</th>\n      <td>toothbrush</td>\n    </tr>\n  </tbody>\n</table>\n<p>80 rows × 1 columns</p>\n</div>",
          "text/plain": "             category string\ncategorty_id                \n1                     person\n2                    bicycle\n3                        car\n4                 motorcycle\n5                   airplane\n...                      ...\n86                      vase\n87                  scissors\n88                teddy bear\n89                hair drier\n90                toothbrush\n\n[80 rows x 1 columns]"
         },
         "metadata": {},
         "output_type": "display_data"
        }
       ]
      }
     },
     "99263dc103a240198c92b2925714df12": {
      "model_module": "@jupyter-widgets/base",
      "model_module_version": "2.0.0",
      "model_name": "LayoutModel",
      "state": {}
     },
     "993a126c84294ef88489038e2c9519bc": {
      "model_module": "@jupyter-widgets/output",
      "model_module_version": "1.0.0",
      "model_name": "OutputModel",
      "state": {
       "layout": "IPY_MODEL_89df013891494785bc8e970be79e7b73",
       "outputs": [
        {
         "data": {
          "text/html": "<div>\n<style scoped>\n    .dataframe tbody tr th:only-of-type {\n        vertical-align: middle;\n    }\n\n    .dataframe tbody tr th {\n        vertical-align: top;\n    }\n\n    .dataframe thead th {\n        text-align: right;\n    }\n</style>\n<table border=\"1\" class=\"dataframe\">\n  <thead>\n    <tr style=\"text-align: right;\">\n      <th></th>\n      <th>file_name</th>\n      <th>height</th>\n      <th>width</th>\n      <th>split</th>\n      <th>relative_path</th>\n      <th>type</th>\n    </tr>\n    <tr>\n      <th>id</th>\n      <th></th>\n      <th></th>\n      <th></th>\n      <th></th>\n      <th></th>\n      <th></th>\n    </tr>\n  </thead>\n  <tbody>\n    <tr>\n      <th>352582</th>\n      <td>000000352582.jpg</td>\n      <td>640</td>\n      <td>425</td>\n      <td>valid</td>\n      <td>Images/valid/000000352582.jpg</td>\n      <td>.jpg</td>\n    </tr>\n    <tr>\n      <th>113354</th>\n      <td>000000113354.jpg</td>\n      <td>480</td>\n      <td>640</td>\n      <td>valid</td>\n      <td>Images/valid/000000113354.jpg</td>\n      <td>.jpg</td>\n    </tr>\n    <tr>\n      <th>58393</th>\n      <td>000000058393.jpg</td>\n      <td>486</td>\n      <td>640</td>\n      <td>valid</td>\n      <td>Images/valid/000000058393.jpg</td>\n      <td>.jpg</td>\n    </tr>\n    <tr>\n      <th>147729</th>\n      <td>000000147729.jpg</td>\n      <td>375</td>\n      <td>500</td>\n      <td>valid</td>\n      <td>Images/valid/000000147729.jpg</td>\n      <td>.jpg</td>\n    </tr>\n    <tr>\n      <th>310072</th>\n      <td>000000310072.jpg</td>\n      <td>383</td>\n      <td>640</td>\n      <td>valid</td>\n      <td>Images/valid/000000310072.jpg</td>\n      <td>.jpg</td>\n    </tr>\n    <tr>\n      <th>...</th>\n      <td>...</td>\n      <td>...</td>\n      <td>...</td>\n      <td>...</td>\n      <td>...</td>\n      <td>...</td>\n    </tr>\n    <tr>\n      <th>311180</th>\n      <td>000000311180.jpg</td>\n      <td>640</td>\n      <td>480</td>\n      <td>valid</td>\n      <td>Images/valid/000000311180.jpg</td>\n      <td>.jpg</td>\n    </tr>\n    <tr>\n      <th>302030</th>\n      <td>000000302030.jpg</td>\n      <td>359</td>\n      <td>640</td>\n      <td>valid</td>\n      <td>Images/valid/000000302030.jpg</td>\n      <td>.jpg</td>\n    </tr>\n    <tr>\n      <th>105455</th>\n      <td>000000105455.jpg</td>\n      <td>640</td>\n      <td>427</td>\n      <td>valid</td>\n      <td>Images/valid/000000105455.jpg</td>\n      <td>.jpg</td>\n    </tr>\n    <tr>\n      <th>428280</th>\n      <td>000000428280.jpg</td>\n      <td>333</td>\n      <td>500</td>\n      <td>valid</td>\n      <td>Images/valid/000000428280.jpg</td>\n      <td>.jpg</td>\n    </tr>\n    <tr>\n      <th>349837</th>\n      <td>000000349837.jpg</td>\n      <td>333</td>\n      <td>500</td>\n      <td>valid</td>\n      <td>Images/valid/000000349837.jpg</td>\n      <td>.jpg</td>\n    </tr>\n  </tbody>\n</table>\n<p>5000 rows × 6 columns</p>\n</div>",
          "text/plain": "               file_name  height  width  split                  relative_path  \\\nid                                                                              \n352582  000000352582.jpg     640    425  valid  Images/valid/000000352582.jpg   \n113354  000000113354.jpg     480    640  valid  Images/valid/000000113354.jpg   \n58393   000000058393.jpg     486    640  valid  Images/valid/000000058393.jpg   \n147729  000000147729.jpg     375    500  valid  Images/valid/000000147729.jpg   \n310072  000000310072.jpg     383    640  valid  Images/valid/000000310072.jpg   \n...                  ...     ...    ...    ...                            ...   \n311180  000000311180.jpg     640    480  valid  Images/valid/000000311180.jpg   \n302030  000000302030.jpg     359    640  valid  Images/valid/000000302030.jpg   \n105455  000000105455.jpg     640    427  valid  Images/valid/000000105455.jpg   \n428280  000000428280.jpg     333    500  valid  Images/valid/000000428280.jpg   \n349837  000000349837.jpg     333    500  valid  Images/valid/000000349837.jpg   \n\n        type  \nid            \n352582  .jpg  \n113354  .jpg  \n58393   .jpg  \n147729  .jpg  \n310072  .jpg  \n...      ...  \n311180  .jpg  \n302030  .jpg  \n105455  .jpg  \n428280  .jpg  \n349837  .jpg  \n\n[5000 rows x 6 columns]"
         },
         "metadata": {},
         "output_type": "display_data"
        }
       ]
      }
     },
     "99e65b29956c486faacd6527a3463412": {
      "model_module": "@jupyter-widgets/base",
      "model_module_version": "2.0.0",
      "model_name": "LayoutModel",
      "state": {}
     },
     "9a54b942667e49309e70738e04fbad76": {
      "model_module": "@jupyter-widgets/base",
      "model_module_version": "2.0.0",
      "model_name": "LayoutModel",
      "state": {}
     },
     "9ac4d71792354264ac4c99dea9212ae2": {
      "model_module": "@jupyter-widgets/output",
      "model_module_version": "1.0.0",
      "model_name": "OutputModel",
      "state": {
       "layout": "IPY_MODEL_6e293e805de04661b2409465782665a9",
       "outputs": [
        {
         "data": {
          "text/html": "<div>\n<style scoped>\n    .dataframe tbody tr th:only-of-type {\n        vertical-align: middle;\n    }\n\n    .dataframe tbody tr th {\n        vertical-align: top;\n    }\n\n    .dataframe thead th {\n        text-align: right;\n    }\n</style>\n<table border=\"1\" class=\"dataframe\">\n  <thead>\n    <tr style=\"text-align: right;\">\n      <th></th>\n      <th>file_name</th>\n      <th>height</th>\n      <th>width</th>\n      <th>split</th>\n      <th>relative_path</th>\n      <th>type</th>\n    </tr>\n    <tr>\n      <th>id</th>\n      <th></th>\n      <th></th>\n      <th></th>\n      <th></th>\n      <th></th>\n      <th></th>\n    </tr>\n  </thead>\n  <tbody>\n    <tr>\n      <th>352582</th>\n      <td>000000352582.jpg</td>\n      <td>640</td>\n      <td>425</td>\n      <td>valid</td>\n      <td>Images/valid/000000352582.jpg</td>\n      <td>.jpg</td>\n    </tr>\n    <tr>\n      <th>113354</th>\n      <td>000000113354.jpg</td>\n      <td>480</td>\n      <td>640</td>\n      <td>valid</td>\n      <td>Images/valid/000000113354.jpg</td>\n      <td>.jpg</td>\n    </tr>\n    <tr>\n      <th>58393</th>\n      <td>000000058393.jpg</td>\n      <td>486</td>\n      <td>640</td>\n      <td>valid</td>\n      <td>Images/valid/000000058393.jpg</td>\n      <td>.jpg</td>\n    </tr>\n    <tr>\n      <th>147729</th>\n      <td>000000147729.jpg</td>\n      <td>375</td>\n      <td>500</td>\n      <td>valid</td>\n      <td>Images/valid/000000147729.jpg</td>\n      <td>.jpg</td>\n    </tr>\n    <tr>\n      <th>310072</th>\n      <td>000000310072.jpg</td>\n      <td>383</td>\n      <td>640</td>\n      <td>valid</td>\n      <td>Images/valid/000000310072.jpg</td>\n      <td>.jpg</td>\n    </tr>\n    <tr>\n      <th>...</th>\n      <td>...</td>\n      <td>...</td>\n      <td>...</td>\n      <td>...</td>\n      <td>...</td>\n      <td>...</td>\n    </tr>\n    <tr>\n      <th>311180</th>\n      <td>000000311180.jpg</td>\n      <td>640</td>\n      <td>480</td>\n      <td>valid</td>\n      <td>Images/valid/000000311180.jpg</td>\n      <td>.jpg</td>\n    </tr>\n    <tr>\n      <th>302030</th>\n      <td>000000302030.jpg</td>\n      <td>359</td>\n      <td>640</td>\n      <td>valid</td>\n      <td>Images/valid/000000302030.jpg</td>\n      <td>.jpg</td>\n    </tr>\n    <tr>\n      <th>105455</th>\n      <td>000000105455.jpg</td>\n      <td>640</td>\n      <td>427</td>\n      <td>valid</td>\n      <td>Images/valid/000000105455.jpg</td>\n      <td>.jpg</td>\n    </tr>\n    <tr>\n      <th>428280</th>\n      <td>000000428280.jpg</td>\n      <td>333</td>\n      <td>500</td>\n      <td>valid</td>\n      <td>Images/valid/000000428280.jpg</td>\n      <td>.jpg</td>\n    </tr>\n    <tr>\n      <th>349837</th>\n      <td>000000349837.jpg</td>\n      <td>333</td>\n      <td>500</td>\n      <td>valid</td>\n      <td>Images/valid/000000349837.jpg</td>\n      <td>.jpg</td>\n    </tr>\n  </tbody>\n</table>\n<p>5000 rows × 6 columns</p>\n</div>",
          "text/plain": "               file_name  height  width  split                  relative_path  \\\nid                                                                              \n352582  000000352582.jpg     640    425  valid  Images/valid/000000352582.jpg   \n113354  000000113354.jpg     480    640  valid  Images/valid/000000113354.jpg   \n58393   000000058393.jpg     486    640  valid  Images/valid/000000058393.jpg   \n147729  000000147729.jpg     375    500  valid  Images/valid/000000147729.jpg   \n310072  000000310072.jpg     383    640  valid  Images/valid/000000310072.jpg   \n...                  ...     ...    ...    ...                            ...   \n311180  000000311180.jpg     640    480  valid  Images/valid/000000311180.jpg   \n302030  000000302030.jpg     359    640  valid  Images/valid/000000302030.jpg   \n105455  000000105455.jpg     640    427  valid  Images/valid/000000105455.jpg   \n428280  000000428280.jpg     333    500  valid  Images/valid/000000428280.jpg   \n349837  000000349837.jpg     333    500  valid  Images/valid/000000349837.jpg   \n\n        type  \nid            \n352582  .jpg  \n113354  .jpg  \n58393   .jpg  \n147729  .jpg  \n310072  .jpg  \n...      ...  \n311180  .jpg  \n302030  .jpg  \n105455  .jpg  \n428280  .jpg  \n349837  .jpg  \n\n[5000 rows x 6 columns]"
         },
         "metadata": {},
         "output_type": "display_data"
        }
       ]
      }
     },
     "9af0f21e82c54b369ab2e3902fdcd8e8": {
      "model_module": "@jupyter-widgets/base",
      "model_module_version": "2.0.0",
      "model_name": "LayoutModel",
      "state": {}
     },
     "9b105897baf548c5bf57a02fee5214e8": {
      "model_module": "@jupyter-widgets/base",
      "model_module_version": "2.0.0",
      "model_name": "LayoutModel",
      "state": {}
     },
     "9b1cc659540d4db88034f9a994a5d5b9": {
      "model_module": "@jupyter-widgets/base",
      "model_module_version": "2.0.0",
      "model_name": "LayoutModel",
      "state": {}
     },
     "9b29ca7125804ad59e82dd7a0a7b3a6c": {
      "model_module": "@jupyter-widgets/base",
      "model_module_version": "2.0.0",
      "model_name": "LayoutModel",
      "state": {}
     },
     "9b62112c8cbb4a3fb17c20a61e916dba": {
      "model_module": "@jupyter-widgets/controls",
      "model_module_version": "2.0.0",
      "model_name": "HTMLModel",
      "state": {
       "layout": "IPY_MODEL_bd79685710004a3997063ad29ec61bbc",
       "style": "IPY_MODEL_240019f956474499ac719fd50e99de02",
       "value": "<b> Dataset object located at notebook_data, containing 5,000 images and 5,143 objects </b>"
      }
     },
     "9b844ff8c565499d8f0a15a3e014e63b": {
      "model_module": "@jupyter-widgets/controls",
      "model_module_version": "2.0.0",
      "model_name": "HTMLStyleModel",
      "state": {
       "description_width": "",
       "font_size": null,
       "text_color": null
      }
     },
     "9c704c16ad5f48cd8bfab1c0e420f7b8": {
      "model_module": "@jupyter-widgets/controls",
      "model_module_version": "2.0.0",
      "model_name": "HTMLModel",
      "state": {
       "layout": "IPY_MODEL_bbe27fb9dc30414faad681c2c71d03bd",
       "style": "IPY_MODEL_2c9ba351443f4a738359cb0586e18b22",
       "value": "<b> Dataset object located at notebook_data, containing 5,000 images and 36,781 objects </b>"
      }
     },
     "9c79d45604f643a6bf27c097312a6462": {
      "model_module": "@jupyter-widgets/output",
      "model_module_version": "1.0.0",
      "model_name": "OutputModel",
      "state": {
       "layout": "IPY_MODEL_fa32b17fa8144ab8a9c22185a67adc35",
       "outputs": [
        {
         "data": {
          "text/html": "<div>\n<style scoped>\n    .dataframe tbody tr th:only-of-type {\n        vertical-align: middle;\n    }\n\n    .dataframe tbody tr th {\n        vertical-align: top;\n    }\n\n    .dataframe thead th {\n        text-align: right;\n    }\n</style>\n<table border=\"1\" class=\"dataframe\">\n  <thead>\n    <tr style=\"text-align: right;\">\n      <th></th>\n      <th>file_name</th>\n      <th>height</th>\n      <th>relative_path</th>\n      <th>split</th>\n      <th>type</th>\n      <th>width</th>\n    </tr>\n    <tr>\n      <th>id</th>\n      <th></th>\n      <th></th>\n      <th></th>\n      <th></th>\n      <th></th>\n      <th></th>\n    </tr>\n  </thead>\n  <tbody>\n    <tr>\n      <th>139</th>\n      <td>000000000139.jpg</td>\n      <td>426</td>\n      <td>Images/valid/000000000139.jpg</td>\n      <td>valid</td>\n      <td>.jpg</td>\n      <td>640</td>\n    </tr>\n    <tr>\n      <th>285</th>\n      <td>000000000285.jpg</td>\n      <td>640</td>\n      <td>Images/valid/000000000285.jpg</td>\n      <td>valid</td>\n      <td>.jpg</td>\n      <td>586</td>\n    </tr>\n    <tr>\n      <th>632</th>\n      <td>000000000632.jpg</td>\n      <td>483</td>\n      <td>Images/valid/000000000632.jpg</td>\n      <td>valid</td>\n      <td>.jpg</td>\n      <td>640</td>\n    </tr>\n    <tr>\n      <th>724</th>\n      <td>000000000724.jpg</td>\n      <td>500</td>\n      <td>Images/valid/000000000724.jpg</td>\n      <td>valid</td>\n      <td>.jpg</td>\n      <td>375</td>\n    </tr>\n    <tr>\n      <th>776</th>\n      <td>000000000776.jpg</td>\n      <td>640</td>\n      <td>Images/valid/000000000776.jpg</td>\n      <td>valid</td>\n      <td>.jpg</td>\n      <td>428</td>\n    </tr>\n    <tr>\n      <th>...</th>\n      <td>...</td>\n      <td>...</td>\n      <td>...</td>\n      <td>...</td>\n      <td>...</td>\n      <td>...</td>\n    </tr>\n    <tr>\n      <th>581317</th>\n      <td>000000581317.jpg</td>\n      <td>354</td>\n      <td>Images/valid/000000581317.jpg</td>\n      <td>valid</td>\n      <td>.jpg</td>\n      <td>640</td>\n    </tr>\n    <tr>\n      <th>581357</th>\n      <td>000000581357.jpg</td>\n      <td>612</td>\n      <td>Images/valid/000000581357.jpg</td>\n      <td>valid</td>\n      <td>.jpg</td>\n      <td>612</td>\n    </tr>\n    <tr>\n      <th>581482</th>\n      <td>000000581482.jpg</td>\n      <td>427</td>\n      <td>Images/valid/000000581482.jpg</td>\n      <td>valid</td>\n      <td>.jpg</td>\n      <td>640</td>\n    </tr>\n    <tr>\n      <th>581615</th>\n      <td>000000581615.jpg</td>\n      <td>640</td>\n      <td>Images/valid/000000581615.jpg</td>\n      <td>valid</td>\n      <td>.jpg</td>\n      <td>478</td>\n    </tr>\n    <tr>\n      <th>581781</th>\n      <td>000000581781.jpg</td>\n      <td>478</td>\n      <td>Images/valid/000000581781.jpg</td>\n      <td>valid</td>\n      <td>.jpg</td>\n      <td>640</td>\n    </tr>\n  </tbody>\n</table>\n<p>5000 rows × 6 columns</p>\n</div>",
          "text/plain": "               file_name  height                  relative_path  split  type  \\\nid                                                                             \n139     000000000139.jpg     426  Images/valid/000000000139.jpg  valid  .jpg   \n285     000000000285.jpg     640  Images/valid/000000000285.jpg  valid  .jpg   \n632     000000000632.jpg     483  Images/valid/000000000632.jpg  valid  .jpg   \n724     000000000724.jpg     500  Images/valid/000000000724.jpg  valid  .jpg   \n776     000000000776.jpg     640  Images/valid/000000000776.jpg  valid  .jpg   \n...                  ...     ...                            ...    ...   ...   \n581317  000000581317.jpg     354  Images/valid/000000581317.jpg  valid  .jpg   \n581357  000000581357.jpg     612  Images/valid/000000581357.jpg  valid  .jpg   \n581482  000000581482.jpg     427  Images/valid/000000581482.jpg  valid  .jpg   \n581615  000000581615.jpg     640  Images/valid/000000581615.jpg  valid  .jpg   \n581781  000000581781.jpg     478  Images/valid/000000581781.jpg  valid  .jpg   \n\n        width  \nid             \n139       640  \n285       586  \n632       640  \n724       375  \n776       428  \n...       ...  \n581317    640  \n581357    612  \n581482    640  \n581615    478  \n581781    640  \n\n[5000 rows x 6 columns]"
         },
         "metadata": {},
         "output_type": "display_data"
        }
       ]
      }
     },
     "9cbe273ab82740e7b0288e72fc3f8c6d": {
      "model_module": "@jupyter-widgets/controls",
      "model_module_version": "2.0.0",
      "model_name": "TabModel",
      "state": {
       "children": [
        "IPY_MODEL_dc105d4d246b4382adecb945d3bbc20a",
        "IPY_MODEL_57898f24f8014a66a2569483f3588f64",
        "IPY_MODEL_235ff665f5ea40208c4dc62494eabdc8"
       ],
       "layout": "IPY_MODEL_84d10ad3139e4345950aa32625719dd1",
       "selected_index": 0,
       "titles": [
        "Images",
        "Annotations",
        "Label Map"
       ]
      }
     },
     "9d4a79c05969421e803a7d02e9a2bea1": {
      "model_module": "@jupyter-widgets/base",
      "model_module_version": "2.0.0",
      "model_name": "LayoutModel",
      "state": {}
     },
     "9d83de8d57784abf930d767d3fee9808": {
      "model_module": "@jupyter-widgets/controls",
      "model_module_version": "2.0.0",
      "model_name": "HTMLStyleModel",
      "state": {
       "description_width": "",
       "font_size": null,
       "text_color": null
      }
     },
     "9d9e06e183414ad5aa08a6533805b348": {
      "model_module": "@jupyter-widgets/output",
      "model_module_version": "1.0.0",
      "model_name": "OutputModel",
      "state": {
       "layout": "IPY_MODEL_55b605415adf404eb8dc96ae07b1de48",
       "outputs": [
        {
         "data": {
          "text/html": "<div>\n<style scoped>\n    .dataframe tbody tr th:only-of-type {\n        vertical-align: middle;\n    }\n\n    .dataframe tbody tr th {\n        vertical-align: top;\n    }\n\n    .dataframe thead th {\n        text-align: right;\n    }\n</style>\n<table border=\"1\" class=\"dataframe\">\n  <thead>\n    <tr style=\"text-align: right;\">\n      <th></th>\n      <th>area</th>\n      <th>image_id</th>\n      <th>category_id</th>\n      <th>split</th>\n      <th>xmin</th>\n      <th>ymin</th>\n      <th>box_width</th>\n      <th>box_height</th>\n      <th>category_str</th>\n    </tr>\n    <tr>\n      <th>id</th>\n      <th></th>\n      <th></th>\n      <th></th>\n      <th></th>\n      <th></th>\n      <th></th>\n      <th></th>\n      <th></th>\n      <th></th>\n    </tr>\n  </thead>\n  <tbody>\n    <tr>\n      <th>460450</th>\n      <td>48685.67910</td>\n      <td>352582</td>\n      <td>1</td>\n      <td>valid</td>\n      <td>112.43</td>\n      <td>195.32</td>\n      <td>214.78</td>\n      <td>438.19</td>\n      <td>person</td>\n    </tr>\n    <tr>\n      <th>535917</th>\n      <td>22650.73800</td>\n      <td>352582</td>\n      <td>1</td>\n      <td>valid</td>\n      <td>0.00</td>\n      <td>256.00</td>\n      <td>80.54</td>\n      <td>376.81</td>\n      <td>person</td>\n    </tr>\n    <tr>\n      <th>602093</th>\n      <td>2605.72090</td>\n      <td>352582</td>\n      <td>34</td>\n      <td>valid</td>\n      <td>171.63</td>\n      <td>424.03</td>\n      <td>85.89</td>\n      <td>40.67</td>\n      <td>frisbee</td>\n    </tr>\n    <tr>\n      <th>467905</th>\n      <td>5408.64720</td>\n      <td>58393</td>\n      <td>1</td>\n      <td>valid</td>\n      <td>342.52</td>\n      <td>163.33</td>\n      <td>192.24</td>\n      <td>77.47</td>\n      <td>person</td>\n    </tr>\n    <tr>\n      <th>576900</th>\n      <td>82291.54995</td>\n      <td>58393</td>\n      <td>15</td>\n      <td>valid</td>\n      <td>44.78</td>\n      <td>242.27</td>\n      <td>547.16</td>\n      <td>224.98</td>\n      <td>bench</td>\n    </tr>\n    <tr>\n      <th>...</th>\n      <td>...</td>\n      <td>...</td>\n      <td>...</td>\n      <td>...</td>\n      <td>...</td>\n      <td>...</td>\n      <td>...</td>\n      <td>...</td>\n      <td>...</td>\n    </tr>\n    <tr>\n      <th>331107</th>\n      <td>12029.44125</td>\n      <td>349837</td>\n      <td>82</td>\n      <td>valid</td>\n      <td>66.00</td>\n      <td>94.87</td>\n      <td>71.25</td>\n      <td>194.26</td>\n      <td>refrigerator</td>\n    </tr>\n    <tr>\n      <th>332788</th>\n      <td>23037.46875</td>\n      <td>349837</td>\n      <td>82</td>\n      <td>valid</td>\n      <td>138.00</td>\n      <td>62.63</td>\n      <td>98.25</td>\n      <td>252.00</td>\n      <td>refrigerator</td>\n    </tr>\n    <tr>\n      <th>333394</th>\n      <td>30406.51295</td>\n      <td>349837</td>\n      <td>82</td>\n      <td>valid</td>\n      <td>234.44</td>\n      <td>29.87</td>\n      <td>113.49</td>\n      <td>298.65</td>\n      <td>refrigerator</td>\n    </tr>\n    <tr>\n      <th>333685</th>\n      <td>37187.97840</td>\n      <td>349837</td>\n      <td>82</td>\n      <td>valid</td>\n      <td>335.04</td>\n      <td>10.48</td>\n      <td>125.17</td>\n      <td>318.78</td>\n      <td>refrigerator</td>\n    </tr>\n    <tr>\n      <th>333731</th>\n      <td>12492.52165</td>\n      <td>349837</td>\n      <td>82</td>\n      <td>valid</td>\n      <td>460.39</td>\n      <td>0.00</td>\n      <td>39.61</td>\n      <td>328.64</td>\n      <td>refrigerator</td>\n    </tr>\n  </tbody>\n</table>\n<p>36781 rows × 9 columns</p>\n</div>",
          "text/plain": "               area  image_id  category_id  split    xmin    ymin  box_width  \\\nid                                                                             \n460450  48685.67910    352582            1  valid  112.43  195.32     214.78   \n535917  22650.73800    352582            1  valid    0.00  256.00      80.54   \n602093   2605.72090    352582           34  valid  171.63  424.03      85.89   \n467905   5408.64720     58393            1  valid  342.52  163.33     192.24   \n576900  82291.54995     58393           15  valid   44.78  242.27     547.16   \n...             ...       ...          ...    ...     ...     ...        ...   \n331107  12029.44125    349837           82  valid   66.00   94.87      71.25   \n332788  23037.46875    349837           82  valid  138.00   62.63      98.25   \n333394  30406.51295    349837           82  valid  234.44   29.87     113.49   \n333685  37187.97840    349837           82  valid  335.04   10.48     125.17   \n333731  12492.52165    349837           82  valid  460.39    0.00      39.61   \n\n        box_height  category_str  \nid                                \n460450      438.19        person  \n535917      376.81        person  \n602093       40.67       frisbee  \n467905       77.47        person  \n576900      224.98         bench  \n...            ...           ...  \n331107      194.26  refrigerator  \n332788      252.00  refrigerator  \n333394      298.65  refrigerator  \n333685      318.78  refrigerator  \n333731      328.64  refrigerator  \n\n[36781 rows x 9 columns]"
         },
         "metadata": {},
         "output_type": "display_data"
        }
       ]
      }
     },
     "9e13c567a01d478cb43fb2565ac71476": {
      "model_module": "@jupyter-widgets/base",
      "model_module_version": "2.0.0",
      "model_name": "LayoutModel",
      "state": {}
     },
     "9ebce3db958b4c11b922d03aef48b220": {
      "model_module": "@jupyter-widgets/output",
      "model_module_version": "1.0.0",
      "model_name": "OutputModel",
      "state": {
       "layout": "IPY_MODEL_023b800bc92f4dd1a732b909cd97ffed",
       "outputs": [
        {
         "data": {
          "text/html": "<div>\n<style scoped>\n    .dataframe tbody tr th:only-of-type {\n        vertical-align: middle;\n    }\n\n    .dataframe tbody tr th {\n        vertical-align: top;\n    }\n\n    .dataframe thead th {\n        text-align: right;\n    }\n</style>\n<table border=\"1\" class=\"dataframe\">\n  <thead>\n    <tr style=\"text-align: right;\">\n      <th></th>\n      <th>file_name</th>\n      <th>height</th>\n      <th>width</th>\n      <th>split</th>\n      <th>relative_path</th>\n      <th>type</th>\n    </tr>\n    <tr>\n      <th>id</th>\n      <th></th>\n      <th></th>\n      <th></th>\n      <th></th>\n      <th></th>\n      <th></th>\n    </tr>\n  </thead>\n  <tbody>\n    <tr>\n      <th>352582</th>\n      <td>000000352582.jpg</td>\n      <td>640</td>\n      <td>425</td>\n      <td>valid</td>\n      <td>Images/valid/000000352582.jpg</td>\n      <td>.jpg</td>\n    </tr>\n    <tr>\n      <th>113354</th>\n      <td>000000113354.jpg</td>\n      <td>480</td>\n      <td>640</td>\n      <td>valid</td>\n      <td>Images/valid/000000113354.jpg</td>\n      <td>.jpg</td>\n    </tr>\n    <tr>\n      <th>58393</th>\n      <td>000000058393.jpg</td>\n      <td>486</td>\n      <td>640</td>\n      <td>valid</td>\n      <td>Images/valid/000000058393.jpg</td>\n      <td>.jpg</td>\n    </tr>\n    <tr>\n      <th>147729</th>\n      <td>000000147729.jpg</td>\n      <td>375</td>\n      <td>500</td>\n      <td>valid</td>\n      <td>Images/valid/000000147729.jpg</td>\n      <td>.jpg</td>\n    </tr>\n    <tr>\n      <th>310072</th>\n      <td>000000310072.jpg</td>\n      <td>383</td>\n      <td>640</td>\n      <td>valid</td>\n      <td>Images/valid/000000310072.jpg</td>\n      <td>.jpg</td>\n    </tr>\n    <tr>\n      <th>...</th>\n      <td>...</td>\n      <td>...</td>\n      <td>...</td>\n      <td>...</td>\n      <td>...</td>\n      <td>...</td>\n    </tr>\n    <tr>\n      <th>311180</th>\n      <td>000000311180.jpg</td>\n      <td>640</td>\n      <td>480</td>\n      <td>valid</td>\n      <td>Images/valid/000000311180.jpg</td>\n      <td>.jpg</td>\n    </tr>\n    <tr>\n      <th>302030</th>\n      <td>000000302030.jpg</td>\n      <td>359</td>\n      <td>640</td>\n      <td>valid</td>\n      <td>Images/valid/000000302030.jpg</td>\n      <td>.jpg</td>\n    </tr>\n    <tr>\n      <th>105455</th>\n      <td>000000105455.jpg</td>\n      <td>640</td>\n      <td>427</td>\n      <td>valid</td>\n      <td>Images/valid/000000105455.jpg</td>\n      <td>.jpg</td>\n    </tr>\n    <tr>\n      <th>428280</th>\n      <td>000000428280.jpg</td>\n      <td>333</td>\n      <td>500</td>\n      <td>valid</td>\n      <td>Images/valid/000000428280.jpg</td>\n      <td>.jpg</td>\n    </tr>\n    <tr>\n      <th>349837</th>\n      <td>000000349837.jpg</td>\n      <td>333</td>\n      <td>500</td>\n      <td>valid</td>\n      <td>Images/valid/000000349837.jpg</td>\n      <td>.jpg</td>\n    </tr>\n  </tbody>\n</table>\n<p>5000 rows × 6 columns</p>\n</div>",
          "text/plain": "               file_name  height  width  split                  relative_path  \\\nid                                                                              \n352582  000000352582.jpg     640    425  valid  Images/valid/000000352582.jpg   \n113354  000000113354.jpg     480    640  valid  Images/valid/000000113354.jpg   \n58393   000000058393.jpg     486    640  valid  Images/valid/000000058393.jpg   \n147729  000000147729.jpg     375    500  valid  Images/valid/000000147729.jpg   \n310072  000000310072.jpg     383    640  valid  Images/valid/000000310072.jpg   \n...                  ...     ...    ...    ...                            ...   \n311180  000000311180.jpg     640    480  valid  Images/valid/000000311180.jpg   \n302030  000000302030.jpg     359    640  valid  Images/valid/000000302030.jpg   \n105455  000000105455.jpg     640    427  valid  Images/valid/000000105455.jpg   \n428280  000000428280.jpg     333    500  valid  Images/valid/000000428280.jpg   \n349837  000000349837.jpg     333    500  valid  Images/valid/000000349837.jpg   \n\n        type  \nid            \n352582  .jpg  \n113354  .jpg  \n58393   .jpg  \n147729  .jpg  \n310072  .jpg  \n...      ...  \n311180  .jpg  \n302030  .jpg  \n105455  .jpg  \n428280  .jpg  \n349837  .jpg  \n\n[5000 rows x 6 columns]"
         },
         "metadata": {},
         "output_type": "display_data"
        }
       ]
      }
     },
     "9ec77b9ffda54fdc94f99beb6921c3bb": {
      "model_module": "@jupyter-widgets/controls",
      "model_module_version": "2.0.0",
      "model_name": "HTMLStyleModel",
      "state": {
       "description_width": "",
       "font_size": null,
       "text_color": null
      }
     },
     "9f1172d834ab41b498dd4051cc0406d5": {
      "model_module": "@jupyter-widgets/base",
      "model_module_version": "2.0.0",
      "model_name": "LayoutModel",
      "state": {}
     },
     "9f673f0161004c0da42f7e323ca6a418": {
      "model_module": "@jupyter-widgets/base",
      "model_module_version": "2.0.0",
      "model_name": "LayoutModel",
      "state": {}
     },
     "9f9bc1a3ec2b4362ace5dce8d4dba19b": {
      "model_module": "@jupyter-widgets/controls",
      "model_module_version": "2.0.0",
      "model_name": "HTMLModel",
      "state": {
       "layout": "IPY_MODEL_2879575f6af74c8a90015ea50843d165",
       "style": "IPY_MODEL_5e68635311d24cad979c85ad6919c7ce",
       "value": "<b> Dataset object located at notebook_data, containing 2,500 images and 18,670 objects </b>"
      }
     },
     "9fa180c105b2401cbd871c64f549a6ec": {
      "model_module": "@jupyter-widgets/base",
      "model_module_version": "2.0.0",
      "model_name": "LayoutModel",
      "state": {}
     },
     "a0d93fa1dec044fb9fd7606378076118": {
      "model_module": "@jupyter-widgets/base",
      "model_module_version": "2.0.0",
      "model_name": "LayoutModel",
      "state": {}
     },
     "a1d0632d556e445c81bac5e6c94b17d3": {
      "model_module": "@jupyter-widgets/controls",
      "model_module_version": "2.0.0",
      "model_name": "HTMLModel",
      "state": {
       "layout": "IPY_MODEL_89af83c2077d46b6902748c7cf9b087c",
       "style": "IPY_MODEL_71de0f8bb8994f42a0f8f3b2b4fc5327",
       "value": "<b> Dataset object located at notebook_data, containing 76 images and 3,675 objects </b>"
      }
     },
     "a1e73a71e45444c7a2838f2adcd1be51": {
      "model_module": "@jupyter-widgets/output",
      "model_module_version": "1.0.0",
      "model_name": "OutputModel",
      "state": {
       "layout": "IPY_MODEL_b0e3f5aa64154f7b9badd762d913fa31",
       "outputs": [
        {
         "data": {
          "text/html": "<div>\n<style scoped>\n    .dataframe tbody tr th:only-of-type {\n        vertical-align: middle;\n    }\n\n    .dataframe tbody tr th {\n        vertical-align: top;\n    }\n\n    .dataframe thead th {\n        text-align: right;\n    }\n</style>\n<table border=\"1\" class=\"dataframe\">\n  <thead>\n    <tr style=\"text-align: right;\">\n      <th></th>\n      <th>area</th>\n      <th>image_id</th>\n      <th>category_id</th>\n      <th>split</th>\n      <th>xmin</th>\n      <th>ymin</th>\n      <th>box_width</th>\n      <th>box_height</th>\n      <th>category_str</th>\n    </tr>\n    <tr>\n      <th>id</th>\n      <th></th>\n      <th></th>\n      <th></th>\n      <th></th>\n      <th></th>\n      <th></th>\n      <th></th>\n      <th></th>\n      <th></th>\n    </tr>\n  </thead>\n  <tbody>\n    <tr>\n      <th>357584</th>\n      <td>14718.47935</td>\n      <td>310072</td>\n      <td>1</td>\n      <td>valid</td>\n      <td>223.85</td>\n      <td>0.00</td>\n      <td>258.83</td>\n      <td>69.08</td>\n      <td>Vehicle</td>\n    </tr>\n    <tr>\n      <th>358258</th>\n      <td>6989.84750</td>\n      <td>310072</td>\n      <td>1</td>\n      <td>valid</td>\n      <td>0.00</td>\n      <td>1.94</td>\n      <td>135.99</td>\n      <td>66.27</td>\n      <td>Vehicle</td>\n    </tr>\n    <tr>\n      <th>363154</th>\n      <td>1729.26630</td>\n      <td>310072</td>\n      <td>1</td>\n      <td>valid</td>\n      <td>170.89</td>\n      <td>0.00</td>\n      <td>71.06</td>\n      <td>36.96</td>\n      <td>Vehicle</td>\n    </tr>\n    <tr>\n      <th>1337431</th>\n      <td>91.97330</td>\n      <td>310072</td>\n      <td>1</td>\n      <td>valid</td>\n      <td>631.99</td>\n      <td>7.35</td>\n      <td>8.01</td>\n      <td>15.46</td>\n      <td>Vehicle</td>\n    </tr>\n    <tr>\n      <th>1368385</th>\n      <td>7558.39585</td>\n      <td>310072</td>\n      <td>1</td>\n      <td>valid</td>\n      <td>0.00</td>\n      <td>0.00</td>\n      <td>131.87</td>\n      <td>71.46</td>\n      <td>Vehicle</td>\n    </tr>\n    <tr>\n      <th>...</th>\n      <td>...</td>\n      <td>...</td>\n      <td>...</td>\n      <td>...</td>\n      <td>...</td>\n      <td>...</td>\n      <td>...</td>\n      <td>...</td>\n      <td>...</td>\n    </tr>\n    <tr>\n      <th>10068</th>\n      <td>10866.03335</td>\n      <td>189806</td>\n      <td>3</td>\n      <td>valid</td>\n      <td>263.63</td>\n      <td>193.10</td>\n      <td>180.04</td>\n      <td>103.59</td>\n      <td>Animal</td>\n    </tr>\n    <tr>\n      <th>46540</th>\n      <td>5204.68295</td>\n      <td>189806</td>\n      <td>3</td>\n      <td>valid</td>\n      <td>130.91</td>\n      <td>165.20</td>\n      <td>94.54</td>\n      <td>104.73</td>\n      <td>Animal</td>\n    </tr>\n    <tr>\n      <th>344755</th>\n      <td>4084.58345</td>\n      <td>363188</td>\n      <td>1</td>\n      <td>valid</td>\n      <td>590.03</td>\n      <td>198.92</td>\n      <td>49.97</td>\n      <td>106.42</td>\n      <td>Vehicle</td>\n    </tr>\n    <tr>\n      <th>1420625</th>\n      <td>865.42470</td>\n      <td>363188</td>\n      <td>2</td>\n      <td>valid</td>\n      <td>221.41</td>\n      <td>199.76</td>\n      <td>91.36</td>\n      <td>63.64</td>\n      <td>Bag</td>\n    </tr>\n    <tr>\n      <th>1192747</th>\n      <td>182.21680</td>\n      <td>105455</td>\n      <td>1</td>\n      <td>valid</td>\n      <td>333.56</td>\n      <td>517.21</td>\n      <td>17.43</td>\n      <td>14.58</td>\n      <td>Vehicle</td>\n    </tr>\n  </tbody>\n</table>\n<p>5143 rows × 9 columns</p>\n</div>",
          "text/plain": "                area  image_id  category_id  split    xmin    ymin  box_width  \\\nid                                                                              \n357584   14718.47935    310072            1  valid  223.85    0.00     258.83   \n358258    6989.84750    310072            1  valid    0.00    1.94     135.99   \n363154    1729.26630    310072            1  valid  170.89    0.00      71.06   \n1337431     91.97330    310072            1  valid  631.99    7.35       8.01   \n1368385   7558.39585    310072            1  valid    0.00    0.00     131.87   \n...              ...       ...          ...    ...     ...     ...        ...   \n10068    10866.03335    189806            3  valid  263.63  193.10     180.04   \n46540     5204.68295    189806            3  valid  130.91  165.20      94.54   \n344755    4084.58345    363188            1  valid  590.03  198.92      49.97   \n1420625    865.42470    363188            2  valid  221.41  199.76      91.36   \n1192747    182.21680    105455            1  valid  333.56  517.21      17.43   \n\n         box_height category_str  \nid                                \n357584        69.08      Vehicle  \n358258        66.27      Vehicle  \n363154        36.96      Vehicle  \n1337431       15.46      Vehicle  \n1368385       71.46      Vehicle  \n...             ...          ...  \n10068        103.59       Animal  \n46540        104.73       Animal  \n344755       106.42      Vehicle  \n1420625       63.64          Bag  \n1192747       14.58      Vehicle  \n\n[5143 rows x 9 columns]"
         },
         "metadata": {},
         "output_type": "display_data"
        }
       ]
      }
     },
     "a25e807195394a179ab799bc10a217de": {
      "model_module": "@jupyter-widgets/base",
      "model_module_version": "2.0.0",
      "model_name": "LayoutModel",
      "state": {}
     },
     "a271db90b77a48a7a1550bc054aa1b8c": {
      "model_module": "@jupyter-widgets/controls",
      "model_module_version": "2.0.0",
      "model_name": "TabModel",
      "state": {
       "children": [
        "IPY_MODEL_32f83af7ec6742a5aaf6f9185454bb67",
        "IPY_MODEL_52c8dda9f5aa4c9585f23541f3287966",
        "IPY_MODEL_5031f03974b24f97852fa6884825ef99"
       ],
       "layout": "IPY_MODEL_91274fe66cdf437fa2443289f8ca5857",
       "selected_index": 0,
       "titles": [
        "Images",
        "Annotations",
        "Label Map"
       ]
      }
     },
     "a4347dcfe96b4c09bd32b453bdd2cee5": {
      "model_module": "@jupyter-widgets/output",
      "model_module_version": "1.0.0",
      "model_name": "OutputModel",
      "state": {
       "layout": "IPY_MODEL_1b57c48081074469b261ceb8b6afba19",
       "outputs": [
        {
         "data": {
          "text/html": "<div>\n<style scoped>\n    .dataframe tbody tr th:only-of-type {\n        vertical-align: middle;\n    }\n\n    .dataframe tbody tr th {\n        vertical-align: top;\n    }\n\n    .dataframe thead th {\n        text-align: right;\n    }\n</style>\n<table border=\"1\" class=\"dataframe\">\n  <thead>\n    <tr style=\"text-align: right;\">\n      <th></th>\n      <th>file_name</th>\n      <th>width</th>\n      <th>height</th>\n      <th>split</th>\n      <th>relative_path</th>\n      <th>type</th>\n    </tr>\n    <tr>\n      <th>id</th>\n      <th></th>\n      <th></th>\n      <th></th>\n      <th></th>\n      <th></th>\n      <th></th>\n    </tr>\n  </thead>\n  <tbody>\n    <tr>\n      <th>6493</th>\n      <td>NORM0020_frame0282.jpg</td>\n      <td>1920</td>\n      <td>1080</td>\n      <td>None</td>\n      <td>Images/NORM0020_frame0282.jpg</td>\n      <td>.jpg</td>\n    </tr>\n    <tr>\n      <th>5890</th>\n      <td>NORM0018_frame0928.jpg</td>\n      <td>1920</td>\n      <td>1080</td>\n      <td>None</td>\n      <td>Images/NORM0018_frame0928.jpg</td>\n      <td>.jpg</td>\n    </tr>\n    <tr>\n      <th>2247</th>\n      <td>NORM0015_frame183.jpg</td>\n      <td>1920</td>\n      <td>1080</td>\n      <td>None</td>\n      <td>Images/NORM0015_frame183.jpg</td>\n      <td>.jpg</td>\n    </tr>\n    <tr>\n      <th>2189</th>\n      <td>NORM0015_frame123.jpg</td>\n      <td>1920</td>\n      <td>1080</td>\n      <td>None</td>\n      <td>Images/NORM0015_frame123.jpg</td>\n      <td>.jpg</td>\n    </tr>\n    <tr>\n      <th>5745</th>\n      <td>NORM0018_frame0763.jpg</td>\n      <td>1920</td>\n      <td>1080</td>\n      <td>None</td>\n      <td>Images/NORM0018_frame0763.jpg</td>\n      <td>.jpg</td>\n    </tr>\n    <tr>\n      <th>...</th>\n      <td>...</td>\n      <td>...</td>\n      <td>...</td>\n      <td>...</td>\n      <td>...</td>\n      <td>...</td>\n    </tr>\n    <tr>\n      <th>545</th>\n      <td>NORM0013_frame0595.jpg</td>\n      <td>1920</td>\n      <td>1080</td>\n      <td>None</td>\n      <td>Images/NORM0013_frame0595.jpg</td>\n      <td>.jpg</td>\n    </tr>\n    <tr>\n      <th>6914</th>\n      <td>NORM0020_frame0743.jpg</td>\n      <td>1920</td>\n      <td>1080</td>\n      <td>None</td>\n      <td>Images/NORM0020_frame0743.jpg</td>\n      <td>.jpg</td>\n    </tr>\n    <tr>\n      <th>1324</th>\n      <td>NORM0014_frame184.jpg</td>\n      <td>1920</td>\n      <td>1080</td>\n      <td>None</td>\n      <td>Images/NORM0014_frame184.jpg</td>\n      <td>.jpg</td>\n    </tr>\n    <tr>\n      <th>6422</th>\n      <td>NORM0020_frame0207.jpg</td>\n      <td>1920</td>\n      <td>1080</td>\n      <td>None</td>\n      <td>Images/NORM0020_frame0207.jpg</td>\n      <td>.jpg</td>\n    </tr>\n    <tr>\n      <th>2599</th>\n      <td>NORM0015_frame565.jpg</td>\n      <td>1920</td>\n      <td>1080</td>\n      <td>None</td>\n      <td>Images/NORM0015_frame565.jpg</td>\n      <td>.jpg</td>\n    </tr>\n  </tbody>\n</table>\n<p>76 rows × 6 columns</p>\n</div>",
          "text/plain": "                   file_name  width  height split  \\\nid                                                  \n6493  NORM0020_frame0282.jpg   1920    1080  None   \n5890  NORM0018_frame0928.jpg   1920    1080  None   \n2247   NORM0015_frame183.jpg   1920    1080  None   \n2189   NORM0015_frame123.jpg   1920    1080  None   \n5745  NORM0018_frame0763.jpg   1920    1080  None   \n...                      ...    ...     ...   ...   \n545   NORM0013_frame0595.jpg   1920    1080  None   \n6914  NORM0020_frame0743.jpg   1920    1080  None   \n1324   NORM0014_frame184.jpg   1920    1080  None   \n6422  NORM0020_frame0207.jpg   1920    1080  None   \n2599   NORM0015_frame565.jpg   1920    1080  None   \n\n                      relative_path  type  \nid                                         \n6493  Images/NORM0020_frame0282.jpg  .jpg  \n5890  Images/NORM0018_frame0928.jpg  .jpg  \n2247   Images/NORM0015_frame183.jpg  .jpg  \n2189   Images/NORM0015_frame123.jpg  .jpg  \n5745  Images/NORM0018_frame0763.jpg  .jpg  \n...                             ...   ...  \n545   Images/NORM0013_frame0595.jpg  .jpg  \n6914  Images/NORM0020_frame0743.jpg  .jpg  \n1324   Images/NORM0014_frame184.jpg  .jpg  \n6422  Images/NORM0020_frame0207.jpg  .jpg  \n2599   Images/NORM0015_frame565.jpg  .jpg  \n\n[76 rows x 6 columns]"
         },
         "metadata": {},
         "output_type": "display_data"
        }
       ]
      }
     },
     "a446988816064c3fb9cfd984130d26e2": {
      "model_module": "@jupyter-widgets/output",
      "model_module_version": "1.0.0",
      "model_name": "OutputModel",
      "state": {
       "layout": "IPY_MODEL_1ba7404814c14f7986347c84d764a7df",
       "outputs": [
        {
         "data": {
          "text/html": "<div>\n<style scoped>\n    .dataframe tbody tr th:only-of-type {\n        vertical-align: middle;\n    }\n\n    .dataframe tbody tr th {\n        vertical-align: top;\n    }\n\n    .dataframe thead th {\n        text-align: right;\n    }\n</style>\n<table border=\"1\" class=\"dataframe\">\n  <thead>\n    <tr style=\"text-align: right;\">\n      <th></th>\n      <th>category string</th>\n    </tr>\n    <tr>\n      <th>categorty_id</th>\n      <th></th>\n    </tr>\n  </thead>\n  <tbody>\n    <tr>\n      <th>1</th>\n      <td>person</td>\n    </tr>\n    <tr>\n      <th>2</th>\n      <td>bicycle</td>\n    </tr>\n    <tr>\n      <th>3</th>\n      <td>car</td>\n    </tr>\n    <tr>\n      <th>4</th>\n      <td>motorcycle</td>\n    </tr>\n    <tr>\n      <th>5</th>\n      <td>airplane</td>\n    </tr>\n    <tr>\n      <th>...</th>\n      <td>...</td>\n    </tr>\n    <tr>\n      <th>86</th>\n      <td>vase</td>\n    </tr>\n    <tr>\n      <th>87</th>\n      <td>scissors</td>\n    </tr>\n    <tr>\n      <th>88</th>\n      <td>teddy bear</td>\n    </tr>\n    <tr>\n      <th>89</th>\n      <td>hair drier</td>\n    </tr>\n    <tr>\n      <th>90</th>\n      <td>toothbrush</td>\n    </tr>\n  </tbody>\n</table>\n<p>80 rows × 1 columns</p>\n</div>",
          "text/plain": "             category string\ncategorty_id                \n1                     person\n2                    bicycle\n3                        car\n4                 motorcycle\n5                   airplane\n...                      ...\n86                      vase\n87                  scissors\n88                teddy bear\n89                hair drier\n90                toothbrush\n\n[80 rows x 1 columns]"
         },
         "metadata": {},
         "output_type": "display_data"
        }
       ]
      }
     },
     "a4724f186c474cd2bda600e075fae88f": {
      "model_module": "@jupyter-widgets/base",
      "model_module_version": "2.0.0",
      "model_name": "LayoutModel",
      "state": {}
     },
     "a519b5d52b0d4b3486e87a3b3487419d": {
      "model_module": "@jupyter-widgets/output",
      "model_module_version": "1.0.0",
      "model_name": "OutputModel",
      "state": {
       "layout": "IPY_MODEL_8e0093b283c0445d9bf6b5cad6367d0f",
       "outputs": [
        {
         "data": {
          "text/html": "<div>\n<style scoped>\n    .dataframe tbody tr th:only-of-type {\n        vertical-align: middle;\n    }\n\n    .dataframe tbody tr th {\n        vertical-align: top;\n    }\n\n    .dataframe thead th {\n        text-align: right;\n    }\n</style>\n<table border=\"1\" class=\"dataframe\">\n  <thead>\n    <tr style=\"text-align: right;\">\n      <th></th>\n      <th>category string</th>\n    </tr>\n    <tr>\n      <th>categorty_id</th>\n      <th></th>\n    </tr>\n  </thead>\n  <tbody>\n    <tr>\n      <th>1</th>\n      <td>person</td>\n    </tr>\n    <tr>\n      <th>2</th>\n      <td>bicycle</td>\n    </tr>\n    <tr>\n      <th>3</th>\n      <td>car</td>\n    </tr>\n    <tr>\n      <th>4</th>\n      <td>motorcycle</td>\n    </tr>\n    <tr>\n      <th>5</th>\n      <td>airplane</td>\n    </tr>\n    <tr>\n      <th>...</th>\n      <td>...</td>\n    </tr>\n    <tr>\n      <th>86</th>\n      <td>vase</td>\n    </tr>\n    <tr>\n      <th>87</th>\n      <td>scissors</td>\n    </tr>\n    <tr>\n      <th>88</th>\n      <td>teddy bear</td>\n    </tr>\n    <tr>\n      <th>89</th>\n      <td>hair drier</td>\n    </tr>\n    <tr>\n      <th>90</th>\n      <td>toothbrush</td>\n    </tr>\n  </tbody>\n</table>\n<p>80 rows × 1 columns</p>\n</div>",
          "text/plain": "             category string\ncategorty_id                \n1                     person\n2                    bicycle\n3                        car\n4                 motorcycle\n5                   airplane\n...                      ...\n86                      vase\n87                  scissors\n88                teddy bear\n89                hair drier\n90                toothbrush\n\n[80 rows x 1 columns]"
         },
         "metadata": {},
         "output_type": "display_data"
        }
       ]
      }
     },
     "a5f501bca6a94837a4f28c9752bc1d85": {
      "model_module": "@jupyter-widgets/controls",
      "model_module_version": "2.0.0",
      "model_name": "HTMLModel",
      "state": {
       "layout": "IPY_MODEL_9b1cc659540d4db88034f9a994a5d5b9",
       "style": "IPY_MODEL_38137eea41644e098573a26d4ef6059b",
       "value": "<b> Dataset object located at notebook_data, containing 5,000 images and 36,781 objects </b>"
      }
     },
     "a5fd527a6b0b4fb59ca7915424894ecb": {
      "model_module": "@jupyter-widgets/output",
      "model_module_version": "1.0.0",
      "model_name": "OutputModel",
      "state": {
       "layout": "IPY_MODEL_ecc851f2a5aa4fcea9e41adf502d6802",
       "outputs": [
        {
         "data": {
          "text/html": "<div>\n<style scoped>\n    .dataframe tbody tr th:only-of-type {\n        vertical-align: middle;\n    }\n\n    .dataframe tbody tr th {\n        vertical-align: top;\n    }\n\n    .dataframe thead th {\n        text-align: right;\n    }\n</style>\n<table border=\"1\" class=\"dataframe\">\n  <thead>\n    <tr style=\"text-align: right;\">\n      <th></th>\n      <th>file_name</th>\n      <th>width</th>\n      <th>height</th>\n      <th>split</th>\n      <th>relative_path</th>\n      <th>type</th>\n    </tr>\n    <tr>\n      <th>id</th>\n      <th></th>\n      <th></th>\n      <th></th>\n      <th></th>\n      <th></th>\n      <th></th>\n    </tr>\n  </thead>\n  <tbody>\n    <tr>\n      <th>6493</th>\n      <td>NORM0020_frame0282.jpg</td>\n      <td>1920</td>\n      <td>1080</td>\n      <td>None</td>\n      <td>Images/NORM0020_frame0282.jpg</td>\n      <td>.jpg</td>\n    </tr>\n    <tr>\n      <th>5890</th>\n      <td>NORM0018_frame0928.jpg</td>\n      <td>1920</td>\n      <td>1080</td>\n      <td>None</td>\n      <td>Images/NORM0018_frame0928.jpg</td>\n      <td>.jpg</td>\n    </tr>\n    <tr>\n      <th>2247</th>\n      <td>NORM0015_frame183.jpg</td>\n      <td>1920</td>\n      <td>1080</td>\n      <td>None</td>\n      <td>Images/NORM0015_frame183.jpg</td>\n      <td>.jpg</td>\n    </tr>\n    <tr>\n      <th>2189</th>\n      <td>NORM0015_frame123.jpg</td>\n      <td>1920</td>\n      <td>1080</td>\n      <td>None</td>\n      <td>Images/NORM0015_frame123.jpg</td>\n      <td>.jpg</td>\n    </tr>\n    <tr>\n      <th>5745</th>\n      <td>NORM0018_frame0763.jpg</td>\n      <td>1920</td>\n      <td>1080</td>\n      <td>None</td>\n      <td>Images/NORM0018_frame0763.jpg</td>\n      <td>.jpg</td>\n    </tr>\n    <tr>\n      <th>...</th>\n      <td>...</td>\n      <td>...</td>\n      <td>...</td>\n      <td>...</td>\n      <td>...</td>\n      <td>...</td>\n    </tr>\n    <tr>\n      <th>545</th>\n      <td>NORM0013_frame0595.jpg</td>\n      <td>1920</td>\n      <td>1080</td>\n      <td>None</td>\n      <td>Images/NORM0013_frame0595.jpg</td>\n      <td>.jpg</td>\n    </tr>\n    <tr>\n      <th>6914</th>\n      <td>NORM0020_frame0743.jpg</td>\n      <td>1920</td>\n      <td>1080</td>\n      <td>None</td>\n      <td>Images/NORM0020_frame0743.jpg</td>\n      <td>.jpg</td>\n    </tr>\n    <tr>\n      <th>1324</th>\n      <td>NORM0014_frame184.jpg</td>\n      <td>1920</td>\n      <td>1080</td>\n      <td>None</td>\n      <td>Images/NORM0014_frame184.jpg</td>\n      <td>.jpg</td>\n    </tr>\n    <tr>\n      <th>6422</th>\n      <td>NORM0020_frame0207.jpg</td>\n      <td>1920</td>\n      <td>1080</td>\n      <td>None</td>\n      <td>Images/NORM0020_frame0207.jpg</td>\n      <td>.jpg</td>\n    </tr>\n    <tr>\n      <th>2599</th>\n      <td>NORM0015_frame565.jpg</td>\n      <td>1920</td>\n      <td>1080</td>\n      <td>None</td>\n      <td>Images/NORM0015_frame565.jpg</td>\n      <td>.jpg</td>\n    </tr>\n  </tbody>\n</table>\n<p>76 rows × 6 columns</p>\n</div>",
          "text/plain": "                   file_name  width  height split  \\\nid                                                  \n6493  NORM0020_frame0282.jpg   1920    1080  None   \n5890  NORM0018_frame0928.jpg   1920    1080  None   \n2247   NORM0015_frame183.jpg   1920    1080  None   \n2189   NORM0015_frame123.jpg   1920    1080  None   \n5745  NORM0018_frame0763.jpg   1920    1080  None   \n...                      ...    ...     ...   ...   \n545   NORM0013_frame0595.jpg   1920    1080  None   \n6914  NORM0020_frame0743.jpg   1920    1080  None   \n1324   NORM0014_frame184.jpg   1920    1080  None   \n6422  NORM0020_frame0207.jpg   1920    1080  None   \n2599   NORM0015_frame565.jpg   1920    1080  None   \n\n                      relative_path  type  \nid                                         \n6493  Images/NORM0020_frame0282.jpg  .jpg  \n5890  Images/NORM0018_frame0928.jpg  .jpg  \n2247   Images/NORM0015_frame183.jpg  .jpg  \n2189   Images/NORM0015_frame123.jpg  .jpg  \n5745  Images/NORM0018_frame0763.jpg  .jpg  \n...                             ...   ...  \n545   Images/NORM0013_frame0595.jpg  .jpg  \n6914  Images/NORM0020_frame0743.jpg  .jpg  \n1324   Images/NORM0014_frame184.jpg  .jpg  \n6422  Images/NORM0020_frame0207.jpg  .jpg  \n2599   Images/NORM0015_frame565.jpg  .jpg  \n\n[76 rows x 6 columns]"
         },
         "metadata": {},
         "output_type": "display_data"
        }
       ]
      }
     },
     "a65e5724706f4452b06cf53fc92cbeec": {
      "model_module": "@jupyter-widgets/base",
      "model_module_version": "2.0.0",
      "model_name": "LayoutModel",
      "state": {}
     },
     "a6b482f2d0804c5ebad3c90151569035": {
      "model_module": "@jupyter-widgets/controls",
      "model_module_version": "2.0.0",
      "model_name": "HTMLStyleModel",
      "state": {
       "description_width": "",
       "font_size": null,
       "text_color": null
      }
     },
     "a7590f6d6a904296882c829459c8c333": {
      "model_module": "@jupyter-widgets/base",
      "model_module_version": "2.0.0",
      "model_name": "LayoutModel",
      "state": {}
     },
     "a775362d2407486e989b21c237082c15": {
      "model_module": "@jupyter-widgets/controls",
      "model_module_version": "2.0.0",
      "model_name": "HTMLModel",
      "state": {
       "layout": "IPY_MODEL_6c35fff4fa79465ea1663f867c201c04",
       "style": "IPY_MODEL_9d83de8d57784abf930d767d3fee9808",
       "value": "<b> Dataset object located at notebook_data, containing 2,500 images and 18,670 objects </b>"
      }
     },
     "a81938e7c361409aaf7c11d35fc2fa43": {
      "model_module": "@jupyter-widgets/controls",
      "model_module_version": "2.0.0",
      "model_name": "VBoxModel",
      "state": {
       "children": [
        "IPY_MODEL_0cb7479cfb8848e89867141e4a21598c",
        "IPY_MODEL_62b66410ed2b43fa911546da93b820fb"
       ],
       "layout": "IPY_MODEL_0ba1f1a8b74b4249aee6bdd5c60ae1ff"
      }
     },
     "a8ceb0598d764be680186a43da148b97": {
      "model_module": "@jupyter-widgets/base",
      "model_module_version": "2.0.0",
      "model_name": "LayoutModel",
      "state": {}
     },
     "a8e2a30412254274988c619ec69003a3": {
      "model_module": "@jupyter-widgets/controls",
      "model_module_version": "2.0.0",
      "model_name": "HTMLModel",
      "state": {
       "layout": "IPY_MODEL_abbb6d9b4ced4aedb88a2572b4f95c56",
       "style": "IPY_MODEL_96ce9feaec154671a16510532f18ffa1",
       "value": "<b> Dataset object located at notebook_data, containing 76 images and 3,675 objects </b>"
      }
     },
     "a948c97c784a47f6a9dee43e2cec5adb": {
      "model_module": "@jupyter-widgets/base",
      "model_module_version": "2.0.0",
      "model_name": "LayoutModel",
      "state": {}
     },
     "a989a5bef80145caa2e24fd9b6b51455": {
      "model_module": "@jupyter-widgets/controls",
      "model_module_version": "2.0.0",
      "model_name": "HTMLModel",
      "state": {
       "layout": "IPY_MODEL_148a51b59106487f89ea8f5e801245d8",
       "style": "IPY_MODEL_18e3a2811d3940a8bfcccb1b0c63ca87",
       "value": "<b> Dataset object located at notebook_data, containing 5,000 images and 5,143 objects </b>"
      }
     },
     "aa2a7b30e209433da956e07d99635370": {
      "model_module": "@jupyter-widgets/base",
      "model_module_version": "2.0.0",
      "model_name": "LayoutModel",
      "state": {}
     },
     "abbb6d9b4ced4aedb88a2572b4f95c56": {
      "model_module": "@jupyter-widgets/base",
      "model_module_version": "2.0.0",
      "model_name": "LayoutModel",
      "state": {}
     },
     "acc182199693485f8cb4be78372c25eb": {
      "model_module": "@jupyter-widgets/base",
      "model_module_version": "2.0.0",
      "model_name": "LayoutModel",
      "state": {}
     },
     "ae1cb1338bee40be999536e533f6ed0d": {
      "model_module": "@jupyter-widgets/controls",
      "model_module_version": "2.0.0",
      "model_name": "VBoxModel",
      "state": {
       "children": [
        "IPY_MODEL_199480db10a64b97a71080f2d5712a58",
        "IPY_MODEL_4453bdfbfd434f478b4467670e3dcbd6"
       ],
       "layout": "IPY_MODEL_3c19936a17c24b4b931bad53826c49b0"
      }
     },
     "ae70908cbcde45cc93f8e0dc95c26e0e": {
      "model_module": "@jupyter-widgets/base",
      "model_module_version": "2.0.0",
      "model_name": "LayoutModel",
      "state": {}
     },
     "ae77f91f59c943dd990ea4871480bb13": {
      "model_module": "@jupyter-widgets/controls",
      "model_module_version": "2.0.0",
      "model_name": "TabModel",
      "state": {
       "children": [
        "IPY_MODEL_7a3af16e6d544442a9138de014dd6013",
        "IPY_MODEL_cc60f165b1804c7f8c4b9c5f73369ef0",
        "IPY_MODEL_6df03c11acf349ec89de655f7d5d87b1"
       ],
       "layout": "IPY_MODEL_719f61dbc6794dcfa88c7f4adb61cbb5",
       "selected_index": 0,
       "titles": [
        "Images",
        "Annotations",
        "Label Map"
       ]
      }
     },
     "afc62c9e1c1641b79e89a593feca1329": {
      "model_module": "@jupyter-widgets/output",
      "model_module_version": "1.0.0",
      "model_name": "OutputModel",
      "state": {
       "layout": "IPY_MODEL_35999343e34445fbb8bc3839b86d72c4",
       "outputs": [
        {
         "data": {
          "text/html": "<div>\n<style scoped>\n    .dataframe tbody tr th:only-of-type {\n        vertical-align: middle;\n    }\n\n    .dataframe tbody tr th {\n        vertical-align: top;\n    }\n\n    .dataframe thead th {\n        text-align: right;\n    }\n</style>\n<table border=\"1\" class=\"dataframe\">\n  <thead>\n    <tr style=\"text-align: right;\">\n      <th></th>\n      <th>area</th>\n      <th>box_height</th>\n      <th>box_width</th>\n      <th>category_id</th>\n      <th>category_str</th>\n      <th>image_id</th>\n      <th>split</th>\n      <th>xmin</th>\n      <th>ymin</th>\n    </tr>\n    <tr>\n      <th>id</th>\n      <th></th>\n      <th></th>\n      <th></th>\n      <th></th>\n      <th></th>\n      <th></th>\n      <th></th>\n      <th></th>\n      <th></th>\n    </tr>\n  </thead>\n  <tbody>\n    <tr>\n      <th>26547</th>\n      <td>531.80710</td>\n      <td>69.50</td>\n      <td>24.70</td>\n      <td>64</td>\n      <td>potted plant</td>\n      <td>139</td>\n      <td>valid</td>\n      <td>236.98</td>\n      <td>142.51</td>\n    </tr>\n    <tr>\n      <th>34646</th>\n      <td>13244.65770</td>\n      <td>94.87</td>\n      <td>149.32</td>\n      <td>72</td>\n      <td>tv</td>\n      <td>139</td>\n      <td>valid</td>\n      <td>7.03</td>\n      <td>167.76</td>\n    </tr>\n    <tr>\n      <th>35802</th>\n      <td>5833.11795</td>\n      <td>78.73</td>\n      <td>81.35</td>\n      <td>72</td>\n      <td>tv</td>\n      <td>139</td>\n      <td>valid</td>\n      <td>557.21</td>\n      <td>209.19</td>\n    </tr>\n    <tr>\n      <th>103487</th>\n      <td>2245.34355</td>\n      <td>102.83</td>\n      <td>56.00</td>\n      <td>62</td>\n      <td>chair</td>\n      <td>139</td>\n      <td>valid</td>\n      <td>358.98</td>\n      <td>218.05</td>\n    </tr>\n    <tr>\n      <th>104368</th>\n      <td>1833.78400</td>\n      <td>98.48</td>\n      <td>61.83</td>\n      <td>62</td>\n      <td>chair</td>\n      <td>139</td>\n      <td>valid</td>\n      <td>290.69</td>\n      <td>218.00</td>\n    </tr>\n    <tr>\n      <th>105328</th>\n      <td>1289.37345</td>\n      <td>81.36</td>\n      <td>30.17</td>\n      <td>62</td>\n      <td>chair</td>\n      <td>139</td>\n      <td>valid</td>\n      <td>413.20</td>\n      <td>223.01</td>\n    </tr>\n    <tr>\n      <th>110334</th>\n      <td>210.14820</td>\n      <td>11.59</td>\n      <td>21.58</td>\n      <td>62</td>\n      <td>chair</td>\n      <td>139</td>\n      <td>valid</td>\n      <td>317.40</td>\n      <td>219.24</td>\n    </tr>\n    <tr>\n      <th>230831</th>\n      <td>2913.11040</td>\n      <td>138.01</td>\n      <td>53.05</td>\n      <td>1</td>\n      <td>person</td>\n      <td>139</td>\n      <td>valid</td>\n      <td>412.80</td>\n      <td>157.61</td>\n    </tr>\n    <tr>\n      <th>233201</th>\n      <td>435.14495</td>\n      <td>35.74</td>\n      <td>15.12</td>\n      <td>1</td>\n      <td>person</td>\n      <td>139</td>\n      <td>valid</td>\n      <td>384.43</td>\n      <td>172.21</td>\n    </tr>\n    <tr>\n      <th>1640282</th>\n      <td>217.71920</td>\n      <td>15.97</td>\n      <td>14.74</td>\n      <td>78</td>\n      <td>microwave</td>\n      <td>139</td>\n      <td>valid</td>\n      <td>512.22</td>\n      <td>205.75</td>\n    </tr>\n    <tr>\n      <th>1647285</th>\n      <td>2089.97480</td>\n      <td>108.31</td>\n      <td>20.29</td>\n      <td>82</td>\n      <td>refrigerator</td>\n      <td>139</td>\n      <td>valid</td>\n      <td>493.10</td>\n      <td>174.34</td>\n    </tr>\n    <tr>\n      <th>1648594</th>\n      <td>338.60885</td>\n      <td>45.71</td>\n      <td>14.34</td>\n      <td>84</td>\n      <td>book</td>\n      <td>139</td>\n      <td>valid</td>\n      <td>604.77</td>\n      <td>305.89</td>\n    </tr>\n    <tr>\n      <th>1654394</th>\n      <td>322.59360</td>\n      <td>46.44</td>\n      <td>12.88</td>\n      <td>84</td>\n      <td>book</td>\n      <td>139</td>\n      <td>valid</td>\n      <td>613.24</td>\n      <td>308.24</td>\n    </tr>\n    <tr>\n      <th>1666628</th>\n      <td>225.66420</td>\n      <td>21.88</td>\n      <td>13.97</td>\n      <td>85</td>\n      <td>clock</td>\n      <td>139</td>\n      <td>valid</td>\n      <td>447.77</td>\n      <td>121.12</td>\n    </tr>\n    <tr>\n      <th>1667817</th>\n      <td>2171.61885</td>\n      <td>89.67</td>\n      <td>36.68</td>\n      <td>86</td>\n      <td>vase</td>\n      <td>139</td>\n      <td>valid</td>\n      <td>549.06</td>\n      <td>309.43</td>\n    </tr>\n    <tr>\n      <th>1669970</th>\n      <td>178.18510</td>\n      <td>22.55</td>\n      <td>11.37</td>\n      <td>86</td>\n      <td>vase</td>\n      <td>139</td>\n      <td>valid</td>\n      <td>350.76</td>\n      <td>208.84</td>\n    </tr>\n    <tr>\n      <th>1941808</th>\n      <td>90.98725</td>\n      <td>12.52</td>\n      <td>9.63</td>\n      <td>62</td>\n      <td>chair</td>\n      <td>139</td>\n      <td>valid</td>\n      <td>412.25</td>\n      <td>219.02</td>\n    </tr>\n    <tr>\n      <th>2146194</th>\n      <td>189.56010</td>\n      <td>17.63</td>\n      <td>14.22</td>\n      <td>86</td>\n      <td>vase</td>\n      <td>139</td>\n      <td>valid</td>\n      <td>241.24</td>\n      <td>194.99</td>\n    </tr>\n    <tr>\n      <th>2146548</th>\n      <td>120.23200</td>\n      <td>16.73</td>\n      <td>9.73</td>\n      <td>86</td>\n      <td>vase</td>\n      <td>139</td>\n      <td>valid</td>\n      <td>336.79</td>\n      <td>199.50</td>\n    </tr>\n    <tr>\n      <th>2204286</th>\n      <td>2362.48975</td>\n      <td>88.93</td>\n      <td>125.56</td>\n      <td>67</td>\n      <td>dining table</td>\n      <td>139</td>\n      <td>valid</td>\n      <td>321.21</td>\n      <td>231.22</td>\n    </tr>\n  </tbody>\n</table>\n</div>",
          "text/plain": "                area  box_height  box_width  category_id  category_str  \\\nid                                                                       \n26547      531.80710       69.50      24.70           64  potted plant   \n34646    13244.65770       94.87     149.32           72            tv   \n35802     5833.11795       78.73      81.35           72            tv   \n103487    2245.34355      102.83      56.00           62         chair   \n104368    1833.78400       98.48      61.83           62         chair   \n105328    1289.37345       81.36      30.17           62         chair   \n110334     210.14820       11.59      21.58           62         chair   \n230831    2913.11040      138.01      53.05            1        person   \n233201     435.14495       35.74      15.12            1        person   \n1640282    217.71920       15.97      14.74           78     microwave   \n1647285   2089.97480      108.31      20.29           82  refrigerator   \n1648594    338.60885       45.71      14.34           84          book   \n1654394    322.59360       46.44      12.88           84          book   \n1666628    225.66420       21.88      13.97           85         clock   \n1667817   2171.61885       89.67      36.68           86          vase   \n1669970    178.18510       22.55      11.37           86          vase   \n1941808     90.98725       12.52       9.63           62         chair   \n2146194    189.56010       17.63      14.22           86          vase   \n2146548    120.23200       16.73       9.73           86          vase   \n2204286   2362.48975       88.93     125.56           67  dining table   \n\n         image_id  split    xmin    ymin  \nid                                        \n26547         139  valid  236.98  142.51  \n34646         139  valid    7.03  167.76  \n35802         139  valid  557.21  209.19  \n103487        139  valid  358.98  218.05  \n104368        139  valid  290.69  218.00  \n105328        139  valid  413.20  223.01  \n110334        139  valid  317.40  219.24  \n230831        139  valid  412.80  157.61  \n233201        139  valid  384.43  172.21  \n1640282       139  valid  512.22  205.75  \n1647285       139  valid  493.10  174.34  \n1648594       139  valid  604.77  305.89  \n1654394       139  valid  613.24  308.24  \n1666628       139  valid  447.77  121.12  \n1667817       139  valid  549.06  309.43  \n1669970       139  valid  350.76  208.84  \n1941808       139  valid  412.25  219.02  \n2146194       139  valid  241.24  194.99  \n2146548       139  valid  336.79  199.50  \n2204286       139  valid  321.21  231.22  "
         },
         "metadata": {},
         "output_type": "display_data"
        }
       ]
      }
     },
     "b0df6251190342e183cdb7a822697844": {
      "model_module": "@jupyter-widgets/controls",
      "model_module_version": "2.0.0",
      "model_name": "TabModel",
      "state": {
       "children": [
        "IPY_MODEL_2f6fc928d79f4dffbc7a8cb58ca4eb6b",
        "IPY_MODEL_15aa82b106b04f4d95cc6a4b1001fb73",
        "IPY_MODEL_93253f54a8cc40ac8d31a50849fe18d3"
       ],
       "layout": "IPY_MODEL_393421b06c27453f928e1b224aeb4773",
       "selected_index": 0,
       "titles": [
        "Images",
        "Annotations",
        "Label Map"
       ]
      }
     },
     "b0e3f5aa64154f7b9badd762d913fa31": {
      "model_module": "@jupyter-widgets/base",
      "model_module_version": "2.0.0",
      "model_name": "LayoutModel",
      "state": {}
     },
     "b1a06db76c9143ad88dcaa616d7bc35e": {
      "model_module": "@jupyter-widgets/controls",
      "model_module_version": "2.0.0",
      "model_name": "HTMLStyleModel",
      "state": {
       "description_width": "",
       "font_size": null,
       "text_color": null
      }
     },
     "b22f3949fbc942f0b85fe047a2909ef5": {
      "model_module": "@jupyter-widgets/controls",
      "model_module_version": "2.0.0",
      "model_name": "HTMLModel",
      "state": {
       "layout": "IPY_MODEL_2c48c49b85b44fb1b2ba82a024718b09",
       "style": "IPY_MODEL_848eb2f0852f48c4a827895f051f89b0",
       "value": "<b> Dataset object located at notebook_data, containing 5,000 images and 5,143 objects </b>"
      }
     },
     "b252eb970ebc463f8323ddda7b7adc45": {
      "model_module": "@jupyter-widgets/base",
      "model_module_version": "2.0.0",
      "model_name": "LayoutModel",
      "state": {}
     },
     "b44ba0eaed4143a38ac1fed897c1f3ff": {
      "model_module": "@jupyter-widgets/base",
      "model_module_version": "2.0.0",
      "model_name": "LayoutModel",
      "state": {}
     },
     "b484845ab78b4a49a6b1b597d6d28c62": {
      "model_module": "@jupyter-widgets/controls",
      "model_module_version": "2.0.0",
      "model_name": "VBoxModel",
      "state": {
       "children": [
        "IPY_MODEL_8ff362f22b6c4e248cebda64080f3945",
        "IPY_MODEL_d7228fd6cc844823b905f7aa27b37d22"
       ],
       "layout": "IPY_MODEL_75a8a60192454301a6f365f4e0281764"
      }
     },
     "b4b1a2b3bb7a454c950eacf66af0f8f0": {
      "model_module": "@jupyter-widgets/base",
      "model_module_version": "2.0.0",
      "model_name": "LayoutModel",
      "state": {}
     },
     "b512ae0a56e440489c1cf9fab7e4f40e": {
      "model_module": "@jupyter-widgets/base",
      "model_module_version": "2.0.0",
      "model_name": "LayoutModel",
      "state": {}
     },
     "b58094e7f38e4660a1f3c4686c8ece2b": {
      "model_module": "@jupyter-widgets/base",
      "model_module_version": "2.0.0",
      "model_name": "LayoutModel",
      "state": {}
     },
     "b624e94dac18444f88d9512b407eaf45": {
      "model_module": "@jupyter-widgets/base",
      "model_module_version": "2.0.0",
      "model_name": "LayoutModel",
      "state": {}
     },
     "b67d05db8d6e419b886cf5b20f124d0e": {
      "model_module": "@jupyter-widgets/base",
      "model_module_version": "2.0.0",
      "model_name": "LayoutModel",
      "state": {}
     },
     "b69ec3a8aa4445ef95438bed8192ae49": {
      "model_module": "@jupyter-widgets/base",
      "model_module_version": "2.0.0",
      "model_name": "LayoutModel",
      "state": {}
     },
     "b790945605a74db08059f66743b4c5eb": {
      "model_module": "@jupyter-widgets/base",
      "model_module_version": "2.0.0",
      "model_name": "LayoutModel",
      "state": {}
     },
     "b81be570247b44afa1fec2c6c8e635c0": {
      "model_module": "@jupyter-widgets/output",
      "model_module_version": "1.0.0",
      "model_name": "OutputModel",
      "state": {
       "layout": "IPY_MODEL_7953dfe9729944d6b19630335b099c6a",
       "outputs": [
        {
         "data": {
          "text/html": "<div>\n<style scoped>\n    .dataframe tbody tr th:only-of-type {\n        vertical-align: middle;\n    }\n\n    .dataframe tbody tr th {\n        vertical-align: top;\n    }\n\n    .dataframe thead th {\n        text-align: right;\n    }\n</style>\n<table border=\"1\" class=\"dataframe\">\n  <thead>\n    <tr style=\"text-align: right;\">\n      <th></th>\n      <th>category string</th>\n    </tr>\n    <tr>\n      <th>categorty_id</th>\n      <th></th>\n    </tr>\n  </thead>\n  <tbody>\n    <tr>\n      <th>2</th>\n      <td>person</td>\n    </tr>\n    <tr>\n      <th>10</th>\n      <td>car</td>\n    </tr>\n    <tr>\n      <th>12</th>\n      <td>train</td>\n    </tr>\n    <tr>\n      <th>41</th>\n      <td>domestical animal</td>\n    </tr>\n    <tr>\n      <th>60</th>\n      <td>suitcase</td>\n    </tr>\n    <tr>\n      <th>61</th>\n      <td>bag</td>\n    </tr>\n    <tr>\n      <th>100</th>\n      <td>sedan</td>\n    </tr>\n    <tr>\n      <th>102</th>\n      <td>bus</td>\n    </tr>\n    <tr>\n      <th>110</th>\n      <td>motorcycle</td>\n    </tr>\n    <tr>\n      <th>111</th>\n      <td>bicycle</td>\n    </tr>\n    <tr>\n      <th>410</th>\n      <td>dog</td>\n    </tr>\n  </tbody>\n</table>\n</div>",
          "text/plain": "                category string\ncategorty_id                   \n2                        person\n10                          car\n12                        train\n41            domestical animal\n60                     suitcase\n61                          bag\n100                       sedan\n102                         bus\n110                  motorcycle\n111                     bicycle\n410                         dog"
         },
         "metadata": {},
         "output_type": "display_data"
        }
       ]
      }
     },
     "b9b1e3973910428fac8bcb57ae57f925": {
      "model_module": "@jupyter-widgets/base",
      "model_module_version": "2.0.0",
      "model_name": "LayoutModel",
      "state": {}
     },
     "badee0577f8142c9aa20ec88d1f987bb": {
      "model_module": "@jupyter-widgets/controls",
      "model_module_version": "2.0.0",
      "model_name": "HTMLStyleModel",
      "state": {
       "description_width": "",
       "font_size": null,
       "text_color": null
      }
     },
     "bae87ee302b847c2b0780dd8b0303e90": {
      "model_module": "@jupyter-widgets/output",
      "model_module_version": "1.0.0",
      "model_name": "OutputModel",
      "state": {
       "layout": "IPY_MODEL_e2264dca3017419aaffceeccb00f9961",
       "outputs": [
        {
         "data": {
          "text/html": "<div>\n<style scoped>\n    .dataframe tbody tr th:only-of-type {\n        vertical-align: middle;\n    }\n\n    .dataframe tbody tr th {\n        vertical-align: top;\n    }\n\n    .dataframe thead th {\n        text-align: right;\n    }\n</style>\n<table border=\"1\" class=\"dataframe\">\n  <thead>\n    <tr style=\"text-align: right;\">\n      <th></th>\n      <th>category string</th>\n    </tr>\n    <tr>\n      <th>categorty_id</th>\n      <th></th>\n    </tr>\n  </thead>\n  <tbody>\n    <tr>\n      <th>1</th>\n      <td>person</td>\n    </tr>\n    <tr>\n      <th>2</th>\n      <td>bicycle</td>\n    </tr>\n    <tr>\n      <th>3</th>\n      <td>car</td>\n    </tr>\n    <tr>\n      <th>4</th>\n      <td>motorcycle</td>\n    </tr>\n    <tr>\n      <th>5</th>\n      <td>airplane</td>\n    </tr>\n    <tr>\n      <th>...</th>\n      <td>...</td>\n    </tr>\n    <tr>\n      <th>86</th>\n      <td>vase</td>\n    </tr>\n    <tr>\n      <th>87</th>\n      <td>scissors</td>\n    </tr>\n    <tr>\n      <th>88</th>\n      <td>teddy bear</td>\n    </tr>\n    <tr>\n      <th>89</th>\n      <td>hair drier</td>\n    </tr>\n    <tr>\n      <th>90</th>\n      <td>toothbrush</td>\n    </tr>\n  </tbody>\n</table>\n<p>80 rows × 1 columns</p>\n</div>",
          "text/plain": "             category string\ncategorty_id                \n1                     person\n2                    bicycle\n3                        car\n4                 motorcycle\n5                   airplane\n...                      ...\n86                      vase\n87                  scissors\n88                teddy bear\n89                hair drier\n90                toothbrush\n\n[80 rows x 1 columns]"
         },
         "metadata": {},
         "output_type": "display_data"
        }
       ]
      }
     },
     "bb1721830a0a44f4837dd94ee94d71e8": {
      "model_module": "@jupyter-widgets/controls",
      "model_module_version": "2.0.0",
      "model_name": "VBoxModel",
      "state": {
       "children": [
        "IPY_MODEL_a5f501bca6a94837a4f28c9752bc1d85",
        "IPY_MODEL_cd7ce9bea0d04ef4a1ce7b5101b73596"
       ],
       "layout": "IPY_MODEL_1096bfa0fb2b495fa139bad195fcee17"
      }
     },
     "bb1f9888bcc64ac4b4a394023845d9b7": {
      "model_module": "@jupyter-widgets/base",
      "model_module_version": "2.0.0",
      "model_name": "LayoutModel",
      "state": {}
     },
     "bbdb10a3c991435cbec7b0db93cf7b82": {
      "model_module": "@jupyter-widgets/controls",
      "model_module_version": "2.0.0",
      "model_name": "VBoxModel",
      "state": {
       "children": [
        "IPY_MODEL_51776a1155c148d7a0d52c124eb32f4f",
        "IPY_MODEL_629bbbc9c64248309a79b78a553f123c"
       ],
       "layout": "IPY_MODEL_c6e0d772e1a143d69315ec6f10933bbe"
      }
     },
     "bbe27fb9dc30414faad681c2c71d03bd": {
      "model_module": "@jupyter-widgets/base",
      "model_module_version": "2.0.0",
      "model_name": "LayoutModel",
      "state": {}
     },
     "bc002b447c0a43f5a251ae9a58602a90": {
      "model_module": "@jupyter-widgets/base",
      "model_module_version": "2.0.0",
      "model_name": "LayoutModel",
      "state": {}
     },
     "bd3e6de1bf784b1085a87ed5f545535e": {
      "model_module": "@jupyter-widgets/output",
      "model_module_version": "1.0.0",
      "model_name": "OutputModel",
      "state": {
       "layout": "IPY_MODEL_9d4a79c05969421e803a7d02e9a2bea1",
       "outputs": [
        {
         "data": {
          "text/html": "<div>\n<style scoped>\n    .dataframe tbody tr th:only-of-type {\n        vertical-align: middle;\n    }\n\n    .dataframe tbody tr th {\n        vertical-align: top;\n    }\n\n    .dataframe thead th {\n        text-align: right;\n    }\n</style>\n<table border=\"1\" class=\"dataframe\">\n  <thead>\n    <tr style=\"text-align: right;\">\n      <th></th>\n      <th>area</th>\n      <th>image_id</th>\n      <th>category_id</th>\n      <th>split</th>\n      <th>xmin</th>\n      <th>ymin</th>\n      <th>box_width</th>\n      <th>box_height</th>\n      <th>category_str</th>\n    </tr>\n    <tr>\n      <th>id</th>\n      <th></th>\n      <th></th>\n      <th></th>\n      <th></th>\n      <th></th>\n      <th></th>\n      <th></th>\n      <th></th>\n      <th></th>\n    </tr>\n  </thead>\n  <tbody>\n    <tr>\n      <th>357584</th>\n      <td>14718.47935</td>\n      <td>310072</td>\n      <td>1</td>\n      <td>valid</td>\n      <td>223.85</td>\n      <td>0.00</td>\n      <td>258.83</td>\n      <td>69.08</td>\n      <td>vehicle</td>\n    </tr>\n    <tr>\n      <th>358258</th>\n      <td>6989.84750</td>\n      <td>310072</td>\n      <td>1</td>\n      <td>valid</td>\n      <td>0.00</td>\n      <td>1.94</td>\n      <td>135.99</td>\n      <td>66.27</td>\n      <td>vehicle</td>\n    </tr>\n    <tr>\n      <th>363154</th>\n      <td>1729.26630</td>\n      <td>310072</td>\n      <td>1</td>\n      <td>valid</td>\n      <td>170.89</td>\n      <td>0.00</td>\n      <td>71.06</td>\n      <td>36.96</td>\n      <td>vehicle</td>\n    </tr>\n    <tr>\n      <th>1337431</th>\n      <td>91.97330</td>\n      <td>310072</td>\n      <td>1</td>\n      <td>valid</td>\n      <td>631.99</td>\n      <td>7.35</td>\n      <td>8.01</td>\n      <td>15.46</td>\n      <td>vehicle</td>\n    </tr>\n    <tr>\n      <th>1368385</th>\n      <td>7558.39585</td>\n      <td>310072</td>\n      <td>1</td>\n      <td>valid</td>\n      <td>0.00</td>\n      <td>0.00</td>\n      <td>131.87</td>\n      <td>71.46</td>\n      <td>vehicle</td>\n    </tr>\n    <tr>\n      <th>...</th>\n      <td>...</td>\n      <td>...</td>\n      <td>...</td>\n      <td>...</td>\n      <td>...</td>\n      <td>...</td>\n      <td>...</td>\n      <td>...</td>\n      <td>...</td>\n    </tr>\n    <tr>\n      <th>10068</th>\n      <td>10866.03335</td>\n      <td>189806</td>\n      <td>3</td>\n      <td>valid</td>\n      <td>263.63</td>\n      <td>193.10</td>\n      <td>180.04</td>\n      <td>103.59</td>\n      <td>animal</td>\n    </tr>\n    <tr>\n      <th>46540</th>\n      <td>5204.68295</td>\n      <td>189806</td>\n      <td>3</td>\n      <td>valid</td>\n      <td>130.91</td>\n      <td>165.20</td>\n      <td>94.54</td>\n      <td>104.73</td>\n      <td>animal</td>\n    </tr>\n    <tr>\n      <th>344755</th>\n      <td>4084.58345</td>\n      <td>363188</td>\n      <td>1</td>\n      <td>valid</td>\n      <td>590.03</td>\n      <td>198.92</td>\n      <td>49.97</td>\n      <td>106.42</td>\n      <td>vehicle</td>\n    </tr>\n    <tr>\n      <th>1420625</th>\n      <td>865.42470</td>\n      <td>363188</td>\n      <td>2</td>\n      <td>valid</td>\n      <td>221.41</td>\n      <td>199.76</td>\n      <td>91.36</td>\n      <td>63.64</td>\n      <td>bag</td>\n    </tr>\n    <tr>\n      <th>1192747</th>\n      <td>182.21680</td>\n      <td>105455</td>\n      <td>1</td>\n      <td>valid</td>\n      <td>333.56</td>\n      <td>517.21</td>\n      <td>17.43</td>\n      <td>14.58</td>\n      <td>vehicle</td>\n    </tr>\n  </tbody>\n</table>\n<p>5143 rows × 9 columns</p>\n</div>",
          "text/plain": "                area  image_id  category_id  split    xmin    ymin  box_width  \\\nid                                                                              \n357584   14718.47935    310072            1  valid  223.85    0.00     258.83   \n358258    6989.84750    310072            1  valid    0.00    1.94     135.99   \n363154    1729.26630    310072            1  valid  170.89    0.00      71.06   \n1337431     91.97330    310072            1  valid  631.99    7.35       8.01   \n1368385   7558.39585    310072            1  valid    0.00    0.00     131.87   \n...              ...       ...          ...    ...     ...     ...        ...   \n10068    10866.03335    189806            3  valid  263.63  193.10     180.04   \n46540     5204.68295    189806            3  valid  130.91  165.20      94.54   \n344755    4084.58345    363188            1  valid  590.03  198.92      49.97   \n1420625    865.42470    363188            2  valid  221.41  199.76      91.36   \n1192747    182.21680    105455            1  valid  333.56  517.21      17.43   \n\n         box_height category_str  \nid                                \n357584        69.08      vehicle  \n358258        66.27      vehicle  \n363154        36.96      vehicle  \n1337431       15.46      vehicle  \n1368385       71.46      vehicle  \n...             ...          ...  \n10068        103.59       animal  \n46540        104.73       animal  \n344755       106.42      vehicle  \n1420625       63.64          bag  \n1192747       14.58      vehicle  \n\n[5143 rows x 9 columns]"
         },
         "metadata": {},
         "output_type": "display_data"
        }
       ]
      }
     },
     "bd79685710004a3997063ad29ec61bbc": {
      "model_module": "@jupyter-widgets/base",
      "model_module_version": "2.0.0",
      "model_name": "LayoutModel",
      "state": {}
     },
     "bd83e9ba08c14c8fbdd1c1e7a7f5b6e6": {
      "model_module": "@jupyter-widgets/base",
      "model_module_version": "2.0.0",
      "model_name": "LayoutModel",
      "state": {}
     },
     "be5cc71506364e3fba87b03c417e6189": {
      "model_module": "@jupyter-widgets/controls",
      "model_module_version": "2.0.0",
      "model_name": "VBoxModel",
      "state": {
       "children": [
        "IPY_MODEL_69a7d7e1efe9491f999708922eed324b",
        "IPY_MODEL_d56142dcc4a344939f68c47756dd8887"
       ],
       "layout": "IPY_MODEL_aa2a7b30e209433da956e07d99635370"
      }
     },
     "bec4d44dae2f44e586187b257b6f46a0": {
      "model_module": "@jupyter-widgets/base",
      "model_module_version": "2.0.0",
      "model_name": "LayoutModel",
      "state": {}
     },
     "bf0844fbe30e4e4a966098a89ebef96f": {
      "model_module": "@jupyter-widgets/controls",
      "model_module_version": "2.0.0",
      "model_name": "HTMLModel",
      "state": {
       "layout": "IPY_MODEL_7d5e2f05402b4cc7b7ed524ef0670b8a",
       "style": "IPY_MODEL_926936cb78944a52926613640a97c9ed",
       "value": "<b> Dataset object located at notebook_data, containing 5,000 images and 36,781 objects </b>"
      }
     },
     "bf1c98b66f2d414ba3d3ccad8fa100fc": {
      "model_module": "@jupyter-widgets/output",
      "model_module_version": "1.0.0",
      "model_name": "OutputModel",
      "state": {
       "layout": "IPY_MODEL_3d4335149f864c15a96f45b98ae48c93",
       "outputs": [
        {
         "data": {
          "text/html": "<div>\n<style scoped>\n    .dataframe tbody tr th:only-of-type {\n        vertical-align: middle;\n    }\n\n    .dataframe tbody tr th {\n        vertical-align: top;\n    }\n\n    .dataframe thead th {\n        text-align: right;\n    }\n</style>\n<table border=\"1\" class=\"dataframe\">\n  <thead>\n    <tr style=\"text-align: right;\">\n      <th></th>\n      <th>file_name</th>\n      <th>height</th>\n      <th>width</th>\n      <th>split</th>\n      <th>relative_path</th>\n      <th>type</th>\n    </tr>\n    <tr>\n      <th>id</th>\n      <th></th>\n      <th></th>\n      <th></th>\n      <th></th>\n      <th></th>\n      <th></th>\n    </tr>\n  </thead>\n  <tbody>\n    <tr>\n      <th>352582</th>\n      <td>000000352582.jpg</td>\n      <td>640</td>\n      <td>425</td>\n      <td>valid</td>\n      <td>Images/valid/000000352582.jpg</td>\n      <td>.jpg</td>\n    </tr>\n    <tr>\n      <th>113354</th>\n      <td>000000113354.jpg</td>\n      <td>480</td>\n      <td>640</td>\n      <td>valid</td>\n      <td>Images/valid/000000113354.jpg</td>\n      <td>.jpg</td>\n    </tr>\n    <tr>\n      <th>58393</th>\n      <td>000000058393.jpg</td>\n      <td>486</td>\n      <td>640</td>\n      <td>valid</td>\n      <td>Images/valid/000000058393.jpg</td>\n      <td>.jpg</td>\n    </tr>\n    <tr>\n      <th>147729</th>\n      <td>000000147729.jpg</td>\n      <td>375</td>\n      <td>500</td>\n      <td>valid</td>\n      <td>Images/valid/000000147729.jpg</td>\n      <td>.jpg</td>\n    </tr>\n    <tr>\n      <th>310072</th>\n      <td>000000310072.jpg</td>\n      <td>383</td>\n      <td>640</td>\n      <td>valid</td>\n      <td>Images/valid/000000310072.jpg</td>\n      <td>.jpg</td>\n    </tr>\n    <tr>\n      <th>...</th>\n      <td>...</td>\n      <td>...</td>\n      <td>...</td>\n      <td>...</td>\n      <td>...</td>\n      <td>...</td>\n    </tr>\n    <tr>\n      <th>311180</th>\n      <td>000000311180.jpg</td>\n      <td>640</td>\n      <td>480</td>\n      <td>valid</td>\n      <td>Images/valid/000000311180.jpg</td>\n      <td>.jpg</td>\n    </tr>\n    <tr>\n      <th>302030</th>\n      <td>000000302030.jpg</td>\n      <td>359</td>\n      <td>640</td>\n      <td>valid</td>\n      <td>Images/valid/000000302030.jpg</td>\n      <td>.jpg</td>\n    </tr>\n    <tr>\n      <th>105455</th>\n      <td>000000105455.jpg</td>\n      <td>640</td>\n      <td>427</td>\n      <td>valid</td>\n      <td>Images/valid/000000105455.jpg</td>\n      <td>.jpg</td>\n    </tr>\n    <tr>\n      <th>428280</th>\n      <td>000000428280.jpg</td>\n      <td>333</td>\n      <td>500</td>\n      <td>valid</td>\n      <td>Images/valid/000000428280.jpg</td>\n      <td>.jpg</td>\n    </tr>\n    <tr>\n      <th>349837</th>\n      <td>000000349837.jpg</td>\n      <td>333</td>\n      <td>500</td>\n      <td>valid</td>\n      <td>Images/valid/000000349837.jpg</td>\n      <td>.jpg</td>\n    </tr>\n  </tbody>\n</table>\n<p>5000 rows × 6 columns</p>\n</div>",
          "text/plain": "               file_name  height  width  split                  relative_path  \\\nid                                                                              \n352582  000000352582.jpg     640    425  valid  Images/valid/000000352582.jpg   \n113354  000000113354.jpg     480    640  valid  Images/valid/000000113354.jpg   \n58393   000000058393.jpg     486    640  valid  Images/valid/000000058393.jpg   \n147729  000000147729.jpg     375    500  valid  Images/valid/000000147729.jpg   \n310072  000000310072.jpg     383    640  valid  Images/valid/000000310072.jpg   \n...                  ...     ...    ...    ...                            ...   \n311180  000000311180.jpg     640    480  valid  Images/valid/000000311180.jpg   \n302030  000000302030.jpg     359    640  valid  Images/valid/000000302030.jpg   \n105455  000000105455.jpg     640    427  valid  Images/valid/000000105455.jpg   \n428280  000000428280.jpg     333    500  valid  Images/valid/000000428280.jpg   \n349837  000000349837.jpg     333    500  valid  Images/valid/000000349837.jpg   \n\n        type  \nid            \n352582  .jpg  \n113354  .jpg  \n58393   .jpg  \n147729  .jpg  \n310072  .jpg  \n...      ...  \n311180  .jpg  \n302030  .jpg  \n105455  .jpg  \n428280  .jpg  \n349837  .jpg  \n\n[5000 rows x 6 columns]"
         },
         "metadata": {},
         "output_type": "display_data"
        }
       ]
      }
     },
     "bf96b134967c4dbeb08c6f74011653aa": {
      "model_module": "@jupyter-widgets/controls",
      "model_module_version": "2.0.0",
      "model_name": "TabModel",
      "state": {
       "children": [
        "IPY_MODEL_7f0c55d002754f7387a79ab6fee0910c",
        "IPY_MODEL_23354e076c2d4280965a6ea4dfaecc31",
        "IPY_MODEL_5cdcc1880a70473c895ebb5828dc7acf"
       ],
       "layout": "IPY_MODEL_194cc6145c83479ea321e79c1f5c3631",
       "selected_index": 0,
       "titles": [
        "Images",
        "Annotations",
        "Label Map"
       ]
      }
     },
     "bfa35b2c3de2434f968e044c9faebe62": {
      "model_module": "@jupyter-widgets/base",
      "model_module_version": "2.0.0",
      "model_name": "LayoutModel",
      "state": {}
     },
     "c06b67c146da4c7d88073482ce4acb98": {
      "model_module": "@jupyter-widgets/controls",
      "model_module_version": "2.0.0",
      "model_name": "HTMLStyleModel",
      "state": {
       "description_width": "",
       "font_size": null,
       "text_color": null
      }
     },
     "c08f28df00ab4a50a2e0146b32945a1d": {
      "model_module": "@jupyter-widgets/controls",
      "model_module_version": "2.0.0",
      "model_name": "VBoxModel",
      "state": {
       "children": [
        "IPY_MODEL_a1d0632d556e445c81bac5e6c94b17d3",
        "IPY_MODEL_86921dd36df641009d371717eadd3e24"
       ],
       "layout": "IPY_MODEL_e49dd820735b4fd8a6efd90c84197f69"
      }
     },
     "c1fdfb97e9de44dc936ff8a5c7ed6223": {
      "model_module": "@jupyter-widgets/output",
      "model_module_version": "1.0.0",
      "model_name": "OutputModel",
      "state": {
       "layout": "IPY_MODEL_b252eb970ebc463f8323ddda7b7adc45",
       "outputs": [
        {
         "data": {
          "text/html": "<div>\n<style scoped>\n    .dataframe tbody tr th:only-of-type {\n        vertical-align: middle;\n    }\n\n    .dataframe tbody tr th {\n        vertical-align: top;\n    }\n\n    .dataframe thead th {\n        text-align: right;\n    }\n</style>\n<table border=\"1\" class=\"dataframe\">\n  <thead>\n    <tr style=\"text-align: right;\">\n      <th></th>\n      <th>category string</th>\n    </tr>\n    <tr>\n      <th>categorty_id</th>\n      <th></th>\n    </tr>\n  </thead>\n  <tbody>\n    <tr>\n      <th>1</th>\n      <td>person</td>\n    </tr>\n    <tr>\n      <th>2</th>\n      <td>bicycle</td>\n    </tr>\n    <tr>\n      <th>3</th>\n      <td>car</td>\n    </tr>\n    <tr>\n      <th>4</th>\n      <td>motorcycle</td>\n    </tr>\n    <tr>\n      <th>5</th>\n      <td>airplane</td>\n    </tr>\n    <tr>\n      <th>...</th>\n      <td>...</td>\n    </tr>\n    <tr>\n      <th>86</th>\n      <td>vase</td>\n    </tr>\n    <tr>\n      <th>87</th>\n      <td>scissors</td>\n    </tr>\n    <tr>\n      <th>88</th>\n      <td>teddy bear</td>\n    </tr>\n    <tr>\n      <th>89</th>\n      <td>hair drier</td>\n    </tr>\n    <tr>\n      <th>90</th>\n      <td>toothbrush</td>\n    </tr>\n  </tbody>\n</table>\n<p>80 rows × 1 columns</p>\n</div>",
          "text/plain": "             category string\ncategorty_id                \n1                     person\n2                    bicycle\n3                        car\n4                 motorcycle\n5                   airplane\n...                      ...\n86                      vase\n87                  scissors\n88                teddy bear\n89                hair drier\n90                toothbrush\n\n[80 rows x 1 columns]"
         },
         "metadata": {},
         "output_type": "display_data"
        }
       ]
      }
     },
     "c22b367711a44ffd96f76b526300fc4e": {
      "model_module": "@jupyter-widgets/controls",
      "model_module_version": "2.0.0",
      "model_name": "TabModel",
      "state": {
       "children": [
        "IPY_MODEL_1aa61a4db5ae43958453019a2ab1465d",
        "IPY_MODEL_bd3e6de1bf784b1085a87ed5f545535e",
        "IPY_MODEL_f58fe5007c9d40d0b1dcb69478a3a034"
       ],
       "layout": "IPY_MODEL_694b41d93fdd4e39b27b0dff52253230",
       "selected_index": 0,
       "titles": [
        "Images",
        "Annotations",
        "Label Map"
       ]
      }
     },
     "c3a864b8eb9245fd8dc12b9f8c4d403d": {
      "model_module": "@jupyter-widgets/base",
      "model_module_version": "2.0.0",
      "model_name": "LayoutModel",
      "state": {}
     },
     "c3b21ba4c56e4df3a5bd1fb970f33a7c": {
      "model_module": "@jupyter-widgets/controls",
      "model_module_version": "2.0.0",
      "model_name": "TabModel",
      "state": {
       "children": [
        "IPY_MODEL_77f06f5c3d8b4c9ba13138cd15cf1b81",
        "IPY_MODEL_04923e365af647078c51d894aa811d16",
        "IPY_MODEL_8bbb6d8deadd42fe82166a972c0d1fcf"
       ],
       "layout": "IPY_MODEL_e91cbec2bc104f5fae8a06615191e111",
       "selected_index": 0,
       "titles": [
        "Images",
        "Annotations",
        "Label Map"
       ]
      }
     },
     "c3dc8688d1df433381462e428cb2c454": {
      "model_module": "@jupyter-widgets/base",
      "model_module_version": "2.0.0",
      "model_name": "LayoutModel",
      "state": {}
     },
     "c5711152300643608555ce5e997cb45e": {
      "model_module": "@jupyter-widgets/base",
      "model_module_version": "2.0.0",
      "model_name": "LayoutModel",
      "state": {}
     },
     "c65c25558c8e4d11a526ba16bc4f54ff": {
      "model_module": "@jupyter-widgets/controls",
      "model_module_version": "2.0.0",
      "model_name": "TabModel",
      "state": {
       "children": [
        "IPY_MODEL_62585a0601a4412fb3bbbaf1262dce72",
        "IPY_MODEL_72e63c714b0c4936ba5ba1a4c5ef50a7",
        "IPY_MODEL_c9d2baefd75442d79e5c5de7cc5d550f"
       ],
       "layout": "IPY_MODEL_5fe878963e824b60bbfbd4fc929bef8f",
       "selected_index": 0,
       "titles": [
        "Images",
        "Annotations",
        "Label Map"
       ]
      }
     },
     "c6be9a4a51c64c1dbcd844186225dbb3": {
      "model_module": "@jupyter-widgets/base",
      "model_module_version": "2.0.0",
      "model_name": "LayoutModel",
      "state": {}
     },
     "c6e0d772e1a143d69315ec6f10933bbe": {
      "model_module": "@jupyter-widgets/base",
      "model_module_version": "2.0.0",
      "model_name": "LayoutModel",
      "state": {}
     },
     "c70c9765d7e94c7f85f088d6c79206e4": {
      "model_module": "@jupyter-widgets/base",
      "model_module_version": "2.0.0",
      "model_name": "LayoutModel",
      "state": {}
     },
     "c73d992dabcd4a3bab6ec2cbd275aa02": {
      "model_module": "@jupyter-widgets/base",
      "model_module_version": "2.0.0",
      "model_name": "LayoutModel",
      "state": {}
     },
     "c78dcf11a17d44c7ba58e4dc9ff73db3": {
      "model_module": "@jupyter-widgets/controls",
      "model_module_version": "2.0.0",
      "model_name": "VBoxModel",
      "state": {
       "children": [
        "IPY_MODEL_11aaa4af270e41bdb619439f754eede7",
        "IPY_MODEL_7ee20947d42d436f905a8b0d1ae3d569"
       ],
       "layout": "IPY_MODEL_5fd56552119c4a568a82bc4e7123644d"
      }
     },
     "c85d3fc2854d481fb75645ba4a20909b": {
      "model_module": "@jupyter-widgets/base",
      "model_module_version": "2.0.0",
      "model_name": "LayoutModel",
      "state": {}
     },
     "c9d1123be9e64889a66741ba6ed2f378": {
      "model_module": "@jupyter-widgets/controls",
      "model_module_version": "2.0.0",
      "model_name": "TabModel",
      "state": {
       "children": [
        "IPY_MODEL_2e6a2a41ed444719b0734a0f37d0dee0",
        "IPY_MODEL_a1e73a71e45444c7a2838f2adcd1be51",
        "IPY_MODEL_216bb1c64c18466ea726e4604e09f005"
       ],
       "layout": "IPY_MODEL_2426ab1b3666470693c4af48b4207319",
       "selected_index": 0,
       "titles": [
        "Images",
        "Annotations",
        "Label Map"
       ]
      }
     },
     "c9d2baefd75442d79e5c5de7cc5d550f": {
      "model_module": "@jupyter-widgets/output",
      "model_module_version": "1.0.0",
      "model_name": "OutputModel",
      "state": {
       "layout": "IPY_MODEL_43d72f13d0594ed1b5aafeb7cad5bc33",
       "outputs": [
        {
         "data": {
          "text/html": "<div>\n<style scoped>\n    .dataframe tbody tr th:only-of-type {\n        vertical-align: middle;\n    }\n\n    .dataframe tbody tr th {\n        vertical-align: top;\n    }\n\n    .dataframe thead th {\n        text-align: right;\n    }\n</style>\n<table border=\"1\" class=\"dataframe\">\n  <thead>\n    <tr style=\"text-align: right;\">\n      <th></th>\n      <th>category string</th>\n    </tr>\n    <tr>\n      <th>categorty_id</th>\n      <th></th>\n    </tr>\n  </thead>\n  <tbody>\n    <tr>\n      <th>1</th>\n      <td>person</td>\n    </tr>\n    <tr>\n      <th>2</th>\n      <td>bicycle</td>\n    </tr>\n    <tr>\n      <th>3</th>\n      <td>car</td>\n    </tr>\n    <tr>\n      <th>4</th>\n      <td>motorcycle</td>\n    </tr>\n    <tr>\n      <th>5</th>\n      <td>airplane</td>\n    </tr>\n    <tr>\n      <th>...</th>\n      <td>...</td>\n    </tr>\n    <tr>\n      <th>86</th>\n      <td>vase</td>\n    </tr>\n    <tr>\n      <th>87</th>\n      <td>scissors</td>\n    </tr>\n    <tr>\n      <th>88</th>\n      <td>teddy bear</td>\n    </tr>\n    <tr>\n      <th>89</th>\n      <td>hair drier</td>\n    </tr>\n    <tr>\n      <th>90</th>\n      <td>toothbrush</td>\n    </tr>\n  </tbody>\n</table>\n<p>80 rows × 1 columns</p>\n</div>",
          "text/plain": "             category string\ncategorty_id                \n1                     person\n2                    bicycle\n3                        car\n4                 motorcycle\n5                   airplane\n...                      ...\n86                      vase\n87                  scissors\n88                teddy bear\n89                hair drier\n90                toothbrush\n\n[80 rows x 1 columns]"
         },
         "metadata": {},
         "output_type": "display_data"
        }
       ]
      }
     },
     "ca29611c97594902970f62514ad309b8": {
      "model_module": "@jupyter-widgets/base",
      "model_module_version": "2.0.0",
      "model_name": "LayoutModel",
      "state": {}
     },
     "ca31b50ae2fe4717bcf7a049403dfaed": {
      "model_module": "@jupyter-widgets/output",
      "model_module_version": "1.0.0",
      "model_name": "OutputModel",
      "state": {
       "layout": "IPY_MODEL_d04322afb17f4eb7aa0511cf893e690a",
       "outputs": [
        {
         "data": {
          "text/html": "<div>\n<style scoped>\n    .dataframe tbody tr th:only-of-type {\n        vertical-align: middle;\n    }\n\n    .dataframe tbody tr th {\n        vertical-align: top;\n    }\n\n    .dataframe thead th {\n        text-align: right;\n    }\n</style>\n<table border=\"1\" class=\"dataframe\">\n  <thead>\n    <tr style=\"text-align: right;\">\n      <th></th>\n      <th>file_name</th>\n      <th>height</th>\n      <th>width</th>\n      <th>split</th>\n      <th>relative_path</th>\n      <th>type</th>\n    </tr>\n    <tr>\n      <th>id</th>\n      <th></th>\n      <th></th>\n      <th></th>\n      <th></th>\n      <th></th>\n      <th></th>\n    </tr>\n  </thead>\n  <tbody>\n    <tr>\n      <th>352582</th>\n      <td>000000352582.jpg</td>\n      <td>640</td>\n      <td>425</td>\n      <td>valid</td>\n      <td>Images/valid/000000352582.jpg</td>\n      <td>.jpg</td>\n    </tr>\n    <tr>\n      <th>113354</th>\n      <td>000000113354.jpg</td>\n      <td>480</td>\n      <td>640</td>\n      <td>valid</td>\n      <td>Images/valid/000000113354.jpg</td>\n      <td>.jpg</td>\n    </tr>\n    <tr>\n      <th>58393</th>\n      <td>000000058393.jpg</td>\n      <td>486</td>\n      <td>640</td>\n      <td>valid</td>\n      <td>Images/valid/000000058393.jpg</td>\n      <td>.jpg</td>\n    </tr>\n    <tr>\n      <th>147729</th>\n      <td>000000147729.jpg</td>\n      <td>375</td>\n      <td>500</td>\n      <td>valid</td>\n      <td>Images/valid/000000147729.jpg</td>\n      <td>.jpg</td>\n    </tr>\n    <tr>\n      <th>310072</th>\n      <td>000000310072.jpg</td>\n      <td>383</td>\n      <td>640</td>\n      <td>valid</td>\n      <td>Images/valid/000000310072.jpg</td>\n      <td>.jpg</td>\n    </tr>\n    <tr>\n      <th>...</th>\n      <td>...</td>\n      <td>...</td>\n      <td>...</td>\n      <td>...</td>\n      <td>...</td>\n      <td>...</td>\n    </tr>\n    <tr>\n      <th>311180</th>\n      <td>000000311180.jpg</td>\n      <td>640</td>\n      <td>480</td>\n      <td>valid</td>\n      <td>Images/valid/000000311180.jpg</td>\n      <td>.jpg</td>\n    </tr>\n    <tr>\n      <th>302030</th>\n      <td>000000302030.jpg</td>\n      <td>359</td>\n      <td>640</td>\n      <td>valid</td>\n      <td>Images/valid/000000302030.jpg</td>\n      <td>.jpg</td>\n    </tr>\n    <tr>\n      <th>105455</th>\n      <td>000000105455.jpg</td>\n      <td>640</td>\n      <td>427</td>\n      <td>valid</td>\n      <td>Images/valid/000000105455.jpg</td>\n      <td>.jpg</td>\n    </tr>\n    <tr>\n      <th>428280</th>\n      <td>000000428280.jpg</td>\n      <td>333</td>\n      <td>500</td>\n      <td>valid</td>\n      <td>Images/valid/000000428280.jpg</td>\n      <td>.jpg</td>\n    </tr>\n    <tr>\n      <th>349837</th>\n      <td>000000349837.jpg</td>\n      <td>333</td>\n      <td>500</td>\n      <td>valid</td>\n      <td>Images/valid/000000349837.jpg</td>\n      <td>.jpg</td>\n    </tr>\n  </tbody>\n</table>\n<p>5000 rows × 6 columns</p>\n</div>",
          "text/plain": "               file_name  height  width  split                  relative_path  \\\nid                                                                              \n352582  000000352582.jpg     640    425  valid  Images/valid/000000352582.jpg   \n113354  000000113354.jpg     480    640  valid  Images/valid/000000113354.jpg   \n58393   000000058393.jpg     486    640  valid  Images/valid/000000058393.jpg   \n147729  000000147729.jpg     375    500  valid  Images/valid/000000147729.jpg   \n310072  000000310072.jpg     383    640  valid  Images/valid/000000310072.jpg   \n...                  ...     ...    ...    ...                            ...   \n311180  000000311180.jpg     640    480  valid  Images/valid/000000311180.jpg   \n302030  000000302030.jpg     359    640  valid  Images/valid/000000302030.jpg   \n105455  000000105455.jpg     640    427  valid  Images/valid/000000105455.jpg   \n428280  000000428280.jpg     333    500  valid  Images/valid/000000428280.jpg   \n349837  000000349837.jpg     333    500  valid  Images/valid/000000349837.jpg   \n\n        type  \nid            \n352582  .jpg  \n113354  .jpg  \n58393   .jpg  \n147729  .jpg  \n310072  .jpg  \n...      ...  \n311180  .jpg  \n302030  .jpg  \n105455  .jpg  \n428280  .jpg  \n349837  .jpg  \n\n[5000 rows x 6 columns]"
         },
         "metadata": {},
         "output_type": "display_data"
        }
       ]
      }
     },
     "cac5c259802d412bb5e0de5416c46f09": {
      "model_module": "@jupyter-widgets/output",
      "model_module_version": "1.0.0",
      "model_name": "OutputModel",
      "state": {
       "layout": "IPY_MODEL_caef835bd0b54d6d8a13444a0d184f04",
       "outputs": [
        {
         "data": {
          "text/html": "<div>\n<style scoped>\n    .dataframe tbody tr th:only-of-type {\n        vertical-align: middle;\n    }\n\n    .dataframe tbody tr th {\n        vertical-align: top;\n    }\n\n    .dataframe thead th {\n        text-align: right;\n    }\n</style>\n<table border=\"1\" class=\"dataframe\">\n  <thead>\n    <tr style=\"text-align: right;\">\n      <th></th>\n      <th>area</th>\n      <th>image_id</th>\n      <th>category_id</th>\n      <th>split</th>\n      <th>xmin</th>\n      <th>ymin</th>\n      <th>box_width</th>\n      <th>box_height</th>\n      <th>category_str</th>\n    </tr>\n    <tr>\n      <th>id</th>\n      <th></th>\n      <th></th>\n      <th></th>\n      <th></th>\n      <th></th>\n      <th></th>\n      <th></th>\n      <th></th>\n      <th></th>\n    </tr>\n  </thead>\n  <tbody>\n    <tr>\n      <th>357584</th>\n      <td>14718.47935</td>\n      <td>310072</td>\n      <td>1</td>\n      <td>valid</td>\n      <td>223.85</td>\n      <td>0.00</td>\n      <td>258.83</td>\n      <td>69.08</td>\n      <td>vehicle</td>\n    </tr>\n    <tr>\n      <th>358258</th>\n      <td>6989.84750</td>\n      <td>310072</td>\n      <td>1</td>\n      <td>valid</td>\n      <td>0.00</td>\n      <td>1.94</td>\n      <td>135.99</td>\n      <td>66.27</td>\n      <td>vehicle</td>\n    </tr>\n    <tr>\n      <th>363154</th>\n      <td>1729.26630</td>\n      <td>310072</td>\n      <td>1</td>\n      <td>valid</td>\n      <td>170.89</td>\n      <td>0.00</td>\n      <td>71.06</td>\n      <td>36.96</td>\n      <td>vehicle</td>\n    </tr>\n    <tr>\n      <th>1337431</th>\n      <td>91.97330</td>\n      <td>310072</td>\n      <td>1</td>\n      <td>valid</td>\n      <td>631.99</td>\n      <td>7.35</td>\n      <td>8.01</td>\n      <td>15.46</td>\n      <td>vehicle</td>\n    </tr>\n    <tr>\n      <th>1368385</th>\n      <td>7558.39585</td>\n      <td>310072</td>\n      <td>1</td>\n      <td>valid</td>\n      <td>0.00</td>\n      <td>0.00</td>\n      <td>131.87</td>\n      <td>71.46</td>\n      <td>vehicle</td>\n    </tr>\n    <tr>\n      <th>...</th>\n      <td>...</td>\n      <td>...</td>\n      <td>...</td>\n      <td>...</td>\n      <td>...</td>\n      <td>...</td>\n      <td>...</td>\n      <td>...</td>\n      <td>...</td>\n    </tr>\n    <tr>\n      <th>10068</th>\n      <td>10866.03335</td>\n      <td>189806</td>\n      <td>3</td>\n      <td>valid</td>\n      <td>263.63</td>\n      <td>193.10</td>\n      <td>180.04</td>\n      <td>103.59</td>\n      <td>animal</td>\n    </tr>\n    <tr>\n      <th>46540</th>\n      <td>5204.68295</td>\n      <td>189806</td>\n      <td>3</td>\n      <td>valid</td>\n      <td>130.91</td>\n      <td>165.20</td>\n      <td>94.54</td>\n      <td>104.73</td>\n      <td>animal</td>\n    </tr>\n    <tr>\n      <th>344755</th>\n      <td>4084.58345</td>\n      <td>363188</td>\n      <td>1</td>\n      <td>valid</td>\n      <td>590.03</td>\n      <td>198.92</td>\n      <td>49.97</td>\n      <td>106.42</td>\n      <td>vehicle</td>\n    </tr>\n    <tr>\n      <th>1420625</th>\n      <td>865.42470</td>\n      <td>363188</td>\n      <td>2</td>\n      <td>valid</td>\n      <td>221.41</td>\n      <td>199.76</td>\n      <td>91.36</td>\n      <td>63.64</td>\n      <td>bag</td>\n    </tr>\n    <tr>\n      <th>1192747</th>\n      <td>182.21680</td>\n      <td>105455</td>\n      <td>1</td>\n      <td>valid</td>\n      <td>333.56</td>\n      <td>517.21</td>\n      <td>17.43</td>\n      <td>14.58</td>\n      <td>vehicle</td>\n    </tr>\n  </tbody>\n</table>\n<p>5143 rows × 9 columns</p>\n</div>",
          "text/plain": "                area  image_id  category_id  split    xmin    ymin  box_width  \\\nid                                                                              \n357584   14718.47935    310072            1  valid  223.85    0.00     258.83   \n358258    6989.84750    310072            1  valid    0.00    1.94     135.99   \n363154    1729.26630    310072            1  valid  170.89    0.00      71.06   \n1337431     91.97330    310072            1  valid  631.99    7.35       8.01   \n1368385   7558.39585    310072            1  valid    0.00    0.00     131.87   \n...              ...       ...          ...    ...     ...     ...        ...   \n10068    10866.03335    189806            3  valid  263.63  193.10     180.04   \n46540     5204.68295    189806            3  valid  130.91  165.20      94.54   \n344755    4084.58345    363188            1  valid  590.03  198.92      49.97   \n1420625    865.42470    363188            2  valid  221.41  199.76      91.36   \n1192747    182.21680    105455            1  valid  333.56  517.21      17.43   \n\n         box_height category_str  \nid                                \n357584        69.08      vehicle  \n358258        66.27      vehicle  \n363154        36.96      vehicle  \n1337431       15.46      vehicle  \n1368385       71.46      vehicle  \n...             ...          ...  \n10068        103.59       animal  \n46540        104.73       animal  \n344755       106.42      vehicle  \n1420625       63.64          bag  \n1192747       14.58      vehicle  \n\n[5143 rows x 9 columns]"
         },
         "metadata": {},
         "output_type": "display_data"
        }
       ]
      }
     },
     "caef835bd0b54d6d8a13444a0d184f04": {
      "model_module": "@jupyter-widgets/base",
      "model_module_version": "2.0.0",
      "model_name": "LayoutModel",
      "state": {}
     },
     "cb2cb8ec156c44eba9094bb35260eb45": {
      "model_module": "@jupyter-widgets/controls",
      "model_module_version": "2.0.0",
      "model_name": "HTMLModel",
      "state": {
       "layout": "IPY_MODEL_1d9f99e26eb146bcad55f36e67ec4cd5",
       "style": "IPY_MODEL_643de79a0db74706a416a89692b1b4ca",
       "value": "<b> Dataset object located at notebook_data, containing 1 images and 20 objects </b>"
      }
     },
     "cb6775d69a8f44d2ba45b542f96e6512": {
      "model_module": "@jupyter-widgets/controls",
      "model_module_version": "2.0.0",
      "model_name": "TabModel",
      "state": {
       "children": [
        "IPY_MODEL_bf1c98b66f2d414ba3d3ccad8fa100fc",
        "IPY_MODEL_f7b79fd8734742c9aa191160c623e6ce",
        "IPY_MODEL_e895c5221daf49efbda1fbe974a1b826"
       ],
       "layout": "IPY_MODEL_9f1172d834ab41b498dd4051cc0406d5",
       "selected_index": 0,
       "titles": [
        "Images",
        "Annotations",
        "Label Map"
       ]
      }
     },
     "cbdd7337d5e84d38b15c08365514c962": {
      "model_module": "@jupyter-widgets/output",
      "model_module_version": "1.0.0",
      "model_name": "OutputModel",
      "state": {
       "layout": "IPY_MODEL_b4b1a2b3bb7a454c950eacf66af0f8f0",
       "outputs": [
        {
         "data": {
          "text/html": "<div>\n<style scoped>\n    .dataframe tbody tr th:only-of-type {\n        vertical-align: middle;\n    }\n\n    .dataframe tbody tr th {\n        vertical-align: top;\n    }\n\n    .dataframe thead th {\n        text-align: right;\n    }\n</style>\n<table border=\"1\" class=\"dataframe\">\n  <thead>\n    <tr style=\"text-align: right;\">\n      <th></th>\n      <th>image_id</th>\n      <th>category_id</th>\n      <th>object_id</th>\n      <th>area</th>\n      <th>split</th>\n      <th>xmin</th>\n      <th>ymin</th>\n      <th>box_width</th>\n      <th>box_height</th>\n      <th>category_str</th>\n    </tr>\n    <tr>\n      <th>id</th>\n      <th></th>\n      <th></th>\n      <th></th>\n      <th></th>\n      <th></th>\n      <th></th>\n      <th></th>\n      <th></th>\n      <th></th>\n      <th></th>\n    </tr>\n  </thead>\n  <tbody>\n    <tr>\n      <th>319049</th>\n      <td>6493</td>\n      <td>100</td>\n      <td>55689</td>\n      <td>33390</td>\n      <td>None</td>\n      <td>0</td>\n      <td>632</td>\n      <td>210</td>\n      <td>159</td>\n      <td>sedan</td>\n    </tr>\n    <tr>\n      <th>319050</th>\n      <td>6493</td>\n      <td>1100</td>\n      <td>30178</td>\n      <td>7396</td>\n      <td>None</td>\n      <td>203</td>\n      <td>611</td>\n      <td>86</td>\n      <td>86</td>\n      <td>motorbike</td>\n    </tr>\n    <tr>\n      <th>319051</th>\n      <td>6493</td>\n      <td>1100</td>\n      <td>48923</td>\n      <td>6391</td>\n      <td>None</td>\n      <td>272</td>\n      <td>589</td>\n      <td>77</td>\n      <td>83</td>\n      <td>motorbike</td>\n    </tr>\n    <tr>\n      <th>319052</th>\n      <td>6493</td>\n      <td>1100</td>\n      <td>8678</td>\n      <td>6279</td>\n      <td>None</td>\n      <td>341</td>\n      <td>559</td>\n      <td>69</td>\n      <td>91</td>\n      <td>motorbike</td>\n    </tr>\n    <tr>\n      <th>319053</th>\n      <td>6493</td>\n      <td>20</td>\n      <td>560</td>\n      <td>3116</td>\n      <td>None</td>\n      <td>517</td>\n      <td>527</td>\n      <td>38</td>\n      <td>82</td>\n      <td>standing person</td>\n    </tr>\n    <tr>\n      <th>...</th>\n      <td>...</td>\n      <td>...</td>\n      <td>...</td>\n      <td>...</td>\n      <td>...</td>\n      <td>...</td>\n      <td>...</td>\n      <td>...</td>\n      <td>...</td>\n      <td>...</td>\n    </tr>\n    <tr>\n      <th>103031</th>\n      <td>2599</td>\n      <td>111</td>\n      <td>36067</td>\n      <td>1269</td>\n      <td>None</td>\n      <td>1873</td>\n      <td>391</td>\n      <td>27</td>\n      <td>47</td>\n      <td>bicycle</td>\n    </tr>\n    <tr>\n      <th>103032</th>\n      <td>2599</td>\n      <td>111</td>\n      <td>64239</td>\n      <td>4950</td>\n      <td>None</td>\n      <td>1753</td>\n      <td>404</td>\n      <td>66</td>\n      <td>75</td>\n      <td>bicycle</td>\n    </tr>\n    <tr>\n      <th>103033</th>\n      <td>2599</td>\n      <td>20</td>\n      <td>65100</td>\n      <td>14268</td>\n      <td>None</td>\n      <td>1816</td>\n      <td>447</td>\n      <td>87</td>\n      <td>164</td>\n      <td>standing person</td>\n    </tr>\n    <tr>\n      <th>103034</th>\n      <td>2599</td>\n      <td>28</td>\n      <td>14145</td>\n      <td>1020</td>\n      <td>None</td>\n      <td>1863</td>\n      <td>493</td>\n      <td>51</td>\n      <td>20</td>\n      <td>packet</td>\n    </tr>\n    <tr>\n      <th>103035</th>\n      <td>2599</td>\n      <td>29</td>\n      <td>7528</td>\n      <td>624</td>\n      <td>None</td>\n      <td>1877</td>\n      <td>512</td>\n      <td>16</td>\n      <td>39</td>\n      <td>bag</td>\n    </tr>\n  </tbody>\n</table>\n<p>3675 rows × 10 columns</p>\n</div>",
          "text/plain": "        image_id  category_id  object_id   area split  xmin  ymin  box_width  \\\nid                                                                             \n319049      6493          100      55689  33390  None     0   632        210   \n319050      6493         1100      30178   7396  None   203   611         86   \n319051      6493         1100      48923   6391  None   272   589         77   \n319052      6493         1100       8678   6279  None   341   559         69   \n319053      6493           20        560   3116  None   517   527         38   \n...          ...          ...        ...    ...   ...   ...   ...        ...   \n103031      2599          111      36067   1269  None  1873   391         27   \n103032      2599          111      64239   4950  None  1753   404         66   \n103033      2599           20      65100  14268  None  1816   447         87   \n103034      2599           28      14145   1020  None  1863   493         51   \n103035      2599           29       7528    624  None  1877   512         16   \n\n        box_height     category_str  \nid                                   \n319049         159            sedan  \n319050          86        motorbike  \n319051          83        motorbike  \n319052          91        motorbike  \n319053          82  standing person  \n...            ...              ...  \n103031          47          bicycle  \n103032          75          bicycle  \n103033         164  standing person  \n103034          20           packet  \n103035          39              bag  \n\n[3675 rows x 10 columns]"
         },
         "metadata": {},
         "output_type": "display_data"
        }
       ]
      }
     },
     "cc43f74952ef47fcab28139ebe997408": {
      "model_module": "@jupyter-widgets/output",
      "model_module_version": "1.0.0",
      "model_name": "OutputModel",
      "state": {
       "layout": "IPY_MODEL_0bd3317127784cc29c0677a2677738d2",
       "outputs": [
        {
         "data": {
          "text/html": "<div>\n<style scoped>\n    .dataframe tbody tr th:only-of-type {\n        vertical-align: middle;\n    }\n\n    .dataframe tbody tr th {\n        vertical-align: top;\n    }\n\n    .dataframe thead th {\n        text-align: right;\n    }\n</style>\n<table border=\"1\" class=\"dataframe\">\n  <thead>\n    <tr style=\"text-align: right;\">\n      <th></th>\n      <th>area</th>\n      <th>box_height</th>\n      <th>box_width</th>\n      <th>category_id</th>\n      <th>category_str</th>\n      <th>image_id</th>\n      <th>split</th>\n      <th>xmin</th>\n      <th>ymin</th>\n    </tr>\n    <tr>\n      <th>id</th>\n      <th></th>\n      <th></th>\n      <th></th>\n      <th></th>\n      <th></th>\n      <th></th>\n      <th></th>\n      <th></th>\n      <th></th>\n    </tr>\n  </thead>\n  <tbody>\n    <tr>\n      <th>283</th>\n      <td>47310.21745</td>\n      <td>290.67</td>\n      <td>288.09</td>\n      <td>58</td>\n      <td>hot dog</td>\n      <td>118367</td>\n      <td>valid</td>\n      <td>154.34</td>\n      <td>31.72</td>\n    </tr>\n    <tr>\n      <th>381</th>\n      <td>107452.60385</td>\n      <td>370.41</td>\n      <td>589.58</td>\n      <td>58</td>\n      <td>hot dog</td>\n      <td>464786</td>\n      <td>valid</td>\n      <td>25.78</td>\n      <td>52.43</td>\n    </tr>\n    <tr>\n      <th>567</th>\n      <td>14878.08055</td>\n      <td>206.45</td>\n      <td>246.36</td>\n      <td>58</td>\n      <td>hot dog</td>\n      <td>581206</td>\n      <td>valid</td>\n      <td>147.27</td>\n      <td>282.15</td>\n    </tr>\n    <tr>\n      <th>760</th>\n      <td>8424.12670</td>\n      <td>146.09</td>\n      <td>134.25</td>\n      <td>58</td>\n      <td>hot dog</td>\n      <td>157601</td>\n      <td>valid</td>\n      <td>110.55</td>\n      <td>188.21</td>\n    </tr>\n    <tr>\n      <th>810</th>\n      <td>3211.34430</td>\n      <td>67.98</td>\n      <td>103.00</td>\n      <td>58</td>\n      <td>hot dog</td>\n      <td>513567</td>\n      <td>valid</td>\n      <td>124.64</td>\n      <td>281.32</td>\n    </tr>\n    <tr>\n      <th>...</th>\n      <td>...</td>\n      <td>...</td>\n      <td>...</td>\n      <td>...</td>\n      <td>...</td>\n      <td>...</td>\n      <td>...</td>\n      <td>...</td>\n      <td>...</td>\n    </tr>\n    <tr>\n      <th>908400571893</th>\n      <td>10572.00000</td>\n      <td>225.00</td>\n      <td>177.00</td>\n      <td>84</td>\n      <td>book</td>\n      <td>571893</td>\n      <td>valid</td>\n      <td>270.00</td>\n      <td>167.00</td>\n    </tr>\n    <tr>\n      <th>908600097585</th>\n      <td>10467.00000</td>\n      <td>95.00</td>\n      <td>402.00</td>\n      <td>86</td>\n      <td>vase</td>\n      <td>97585</td>\n      <td>valid</td>\n      <td>41.00</td>\n      <td>0.00</td>\n    </tr>\n    <tr>\n      <th>908600370042</th>\n      <td>4816.00000</td>\n      <td>75.00</td>\n      <td>96.00</td>\n      <td>86</td>\n      <td>vase</td>\n      <td>370042</td>\n      <td>valid</td>\n      <td>43.00</td>\n      <td>147.00</td>\n    </tr>\n    <tr>\n      <th>908600434230</th>\n      <td>16632.00000</td>\n      <td>167.00</td>\n      <td>179.00</td>\n      <td>86</td>\n      <td>vase</td>\n      <td>434230</td>\n      <td>valid</td>\n      <td>58.00</td>\n      <td>56.00</td>\n    </tr>\n    <tr>\n      <th>908800474293</th>\n      <td>20047.00000</td>\n      <td>246.00</td>\n      <td>345.00</td>\n      <td>88</td>\n      <td>teddy bear</td>\n      <td>474293</td>\n      <td>valid</td>\n      <td>136.00</td>\n      <td>73.00</td>\n    </tr>\n  </tbody>\n</table>\n<p>36781 rows × 9 columns</p>\n</div>",
          "text/plain": "                      area  box_height  box_width  category_id category_str  \\\nid                                                                            \n283            47310.21745      290.67     288.09           58      hot dog   \n381           107452.60385      370.41     589.58           58      hot dog   \n567            14878.08055      206.45     246.36           58      hot dog   \n760             8424.12670      146.09     134.25           58      hot dog   \n810             3211.34430       67.98     103.00           58      hot dog   \n...                    ...         ...        ...          ...          ...   \n908400571893   10572.00000      225.00     177.00           84         book   \n908600097585   10467.00000       95.00     402.00           86         vase   \n908600370042    4816.00000       75.00      96.00           86         vase   \n908600434230   16632.00000      167.00     179.00           86         vase   \n908800474293   20047.00000      246.00     345.00           88   teddy bear   \n\n              image_id  split    xmin    ymin  \nid                                             \n283             118367  valid  154.34   31.72  \n381             464786  valid   25.78   52.43  \n567             581206  valid  147.27  282.15  \n760             157601  valid  110.55  188.21  \n810             513567  valid  124.64  281.32  \n...                ...    ...     ...     ...  \n908400571893    571893  valid  270.00  167.00  \n908600097585     97585  valid   41.00    0.00  \n908600370042    370042  valid   43.00  147.00  \n908600434230    434230  valid   58.00   56.00  \n908800474293    474293  valid  136.00   73.00  \n\n[36781 rows x 9 columns]"
         },
         "metadata": {},
         "output_type": "display_data"
        }
       ]
      }
     },
     "cc60f165b1804c7f8c4b9c5f73369ef0": {
      "model_module": "@jupyter-widgets/output",
      "model_module_version": "1.0.0",
      "model_name": "OutputModel",
      "state": {
       "layout": "IPY_MODEL_cd99ce89adc94761a00fc96bb2f86c72",
       "outputs": [
        {
         "data": {
          "text/html": "<div>\n<style scoped>\n    .dataframe tbody tr th:only-of-type {\n        vertical-align: middle;\n    }\n\n    .dataframe tbody tr th {\n        vertical-align: top;\n    }\n\n    .dataframe thead th {\n        text-align: right;\n    }\n</style>\n<table border=\"1\" class=\"dataframe\">\n  <thead>\n    <tr style=\"text-align: right;\">\n      <th></th>\n      <th>area</th>\n      <th>image_id</th>\n      <th>category_id</th>\n      <th>split</th>\n      <th>xmin</th>\n      <th>ymin</th>\n      <th>box_width</th>\n      <th>box_height</th>\n      <th>category_str</th>\n    </tr>\n    <tr>\n      <th>id</th>\n      <th></th>\n      <th></th>\n      <th></th>\n      <th></th>\n      <th></th>\n      <th></th>\n      <th></th>\n      <th></th>\n      <th></th>\n    </tr>\n  </thead>\n  <tbody>\n    <tr>\n      <th>460450</th>\n      <td>48685.67910</td>\n      <td>352582</td>\n      <td>1</td>\n      <td>valid</td>\n      <td>112.43</td>\n      <td>195.32</td>\n      <td>214.78</td>\n      <td>438.19</td>\n      <td>person</td>\n    </tr>\n    <tr>\n      <th>535917</th>\n      <td>22650.73800</td>\n      <td>352582</td>\n      <td>1</td>\n      <td>valid</td>\n      <td>0.00</td>\n      <td>256.00</td>\n      <td>80.54</td>\n      <td>376.81</td>\n      <td>person</td>\n    </tr>\n    <tr>\n      <th>602093</th>\n      <td>2605.72090</td>\n      <td>352582</td>\n      <td>34</td>\n      <td>valid</td>\n      <td>171.63</td>\n      <td>424.03</td>\n      <td>85.89</td>\n      <td>40.67</td>\n      <td>frisbee</td>\n    </tr>\n    <tr>\n      <th>589077</th>\n      <td>9978.94125</td>\n      <td>113354</td>\n      <td>24</td>\n      <td>valid</td>\n      <td>260.99</td>\n      <td>158.88</td>\n      <td>141.52</td>\n      <td>194.11</td>\n      <td>zebra</td>\n    </tr>\n    <tr>\n      <th>589740</th>\n      <td>5784.68620</td>\n      <td>113354</td>\n      <td>24</td>\n      <td>valid</td>\n      <td>366.49</td>\n      <td>174.59</td>\n      <td>115.67</td>\n      <td>142.71</td>\n      <td>zebra</td>\n    </tr>\n    <tr>\n      <th>...</th>\n      <td>...</td>\n      <td>...</td>\n      <td>...</td>\n      <td>...</td>\n      <td>...</td>\n      <td>...</td>\n      <td>...</td>\n      <td>...</td>\n      <td>...</td>\n    </tr>\n    <tr>\n      <th>331107</th>\n      <td>12029.44125</td>\n      <td>349837</td>\n      <td>82</td>\n      <td>valid</td>\n      <td>66.00</td>\n      <td>94.87</td>\n      <td>71.25</td>\n      <td>194.26</td>\n      <td>refrigerator</td>\n    </tr>\n    <tr>\n      <th>332788</th>\n      <td>23037.46875</td>\n      <td>349837</td>\n      <td>82</td>\n      <td>valid</td>\n      <td>138.00</td>\n      <td>62.63</td>\n      <td>98.25</td>\n      <td>252.00</td>\n      <td>refrigerator</td>\n    </tr>\n    <tr>\n      <th>333394</th>\n      <td>30406.51295</td>\n      <td>349837</td>\n      <td>82</td>\n      <td>valid</td>\n      <td>234.44</td>\n      <td>29.87</td>\n      <td>113.49</td>\n      <td>298.65</td>\n      <td>refrigerator</td>\n    </tr>\n    <tr>\n      <th>333685</th>\n      <td>37187.97840</td>\n      <td>349837</td>\n      <td>82</td>\n      <td>valid</td>\n      <td>335.04</td>\n      <td>10.48</td>\n      <td>125.17</td>\n      <td>318.78</td>\n      <td>refrigerator</td>\n    </tr>\n    <tr>\n      <th>333731</th>\n      <td>12492.52165</td>\n      <td>349837</td>\n      <td>82</td>\n      <td>valid</td>\n      <td>460.39</td>\n      <td>0.00</td>\n      <td>39.61</td>\n      <td>328.64</td>\n      <td>refrigerator</td>\n    </tr>\n  </tbody>\n</table>\n<p>36781 rows × 9 columns</p>\n</div>",
          "text/plain": "               area  image_id  category_id  split    xmin    ymin  box_width  \\\nid                                                                             \n460450  48685.67910    352582            1  valid  112.43  195.32     214.78   \n535917  22650.73800    352582            1  valid    0.00  256.00      80.54   \n602093   2605.72090    352582           34  valid  171.63  424.03      85.89   \n589077   9978.94125    113354           24  valid  260.99  158.88     141.52   \n589740   5784.68620    113354           24  valid  366.49  174.59     115.67   \n...             ...       ...          ...    ...     ...     ...        ...   \n331107  12029.44125    349837           82  valid   66.00   94.87      71.25   \n332788  23037.46875    349837           82  valid  138.00   62.63      98.25   \n333394  30406.51295    349837           82  valid  234.44   29.87     113.49   \n333685  37187.97840    349837           82  valid  335.04   10.48     125.17   \n333731  12492.52165    349837           82  valid  460.39    0.00      39.61   \n\n        box_height  category_str  \nid                                \n460450      438.19        person  \n535917      376.81        person  \n602093       40.67       frisbee  \n589077      194.11         zebra  \n589740      142.71         zebra  \n...            ...           ...  \n331107      194.26  refrigerator  \n332788      252.00  refrigerator  \n333394      298.65  refrigerator  \n333685      318.78  refrigerator  \n333731      328.64  refrigerator  \n\n[36781 rows x 9 columns]"
         },
         "metadata": {},
         "output_type": "display_data"
        }
       ]
      }
     },
     "ccd2eccbc7db4252b07ef07a8b2a7afd": {
      "model_module": "@jupyter-widgets/controls",
      "model_module_version": "2.0.0",
      "model_name": "TabModel",
      "state": {
       "children": [
        "IPY_MODEL_79e36219930b43ebaf20f7eb22ab73a2",
        "IPY_MODEL_afc62c9e1c1641b79e89a593feca1329",
        "IPY_MODEL_bae87ee302b847c2b0780dd8b0303e90"
       ],
       "layout": "IPY_MODEL_bec4d44dae2f44e586187b257b6f46a0",
       "selected_index": 0,
       "titles": [
        "Images",
        "Annotations",
        "Label Map"
       ]
      }
     },
     "cd7ce9bea0d04ef4a1ce7b5101b73596": {
      "model_module": "@jupyter-widgets/controls",
      "model_module_version": "2.0.0",
      "model_name": "TabModel",
      "state": {
       "children": [
        "IPY_MODEL_75d05d9b842e468da1f33ea5f93a4bc4",
        "IPY_MODEL_e8168737678548d58f80deb179818958",
        "IPY_MODEL_ece019398ca24ffa9afbc367c35cd5f0"
       ],
       "layout": "IPY_MODEL_9e13c567a01d478cb43fb2565ac71476",
       "selected_index": 0,
       "titles": [
        "Images",
        "Annotations",
        "Label Map"
       ]
      }
     },
     "cd7f27b4100949d9abe6ca983615bffd": {
      "model_module": "@jupyter-widgets/base",
      "model_module_version": "2.0.0",
      "model_name": "LayoutModel",
      "state": {}
     },
     "cd99ce89adc94761a00fc96bb2f86c72": {
      "model_module": "@jupyter-widgets/base",
      "model_module_version": "2.0.0",
      "model_name": "LayoutModel",
      "state": {}
     },
     "cda1274110794e688d3314550cde7874": {
      "model_module": "@jupyter-widgets/base",
      "model_module_version": "2.0.0",
      "model_name": "LayoutModel",
      "state": {}
     },
     "cdcf388cbee04e1ab294a9d74e97f293": {
      "model_module": "@jupyter-widgets/base",
      "model_module_version": "2.0.0",
      "model_name": "LayoutModel",
      "state": {}
     },
     "ce2faa3b4a4d4776ae34a1745212f8b8": {
      "model_module": "@jupyter-widgets/controls",
      "model_module_version": "2.0.0",
      "model_name": "HTMLModel",
      "state": {
       "layout": "IPY_MODEL_c70c9765d7e94c7f85f088d6c79206e4",
       "style": "IPY_MODEL_78891f9b81c1400fa02fbe7877afbc98",
       "value": "<b> Dataset object located at notebook_data, containing 5,000 images and 36,781 objects </b>"
      }
     },
     "ce473645def1403db78f34a6085dce6e": {
      "model_module": "@jupyter-widgets/base",
      "model_module_version": "2.0.0",
      "model_name": "LayoutModel",
      "state": {}
     },
     "ce85b899a3a64caa82645a30683be928": {
      "model_module": "@jupyter-widgets/base",
      "model_module_version": "2.0.0",
      "model_name": "LayoutModel",
      "state": {}
     },
     "cf0c9bb5a0ef43678169e398116d0bc9": {
      "model_module": "@jupyter-widgets/base",
      "model_module_version": "2.0.0",
      "model_name": "LayoutModel",
      "state": {}
     },
     "cf5839082dcd4c289b5c81c76f575828": {
      "model_module": "@jupyter-widgets/controls",
      "model_module_version": "2.0.0",
      "model_name": "VBoxModel",
      "state": {
       "children": [
        "IPY_MODEL_fef046f9fdb949398492b4445da12b91",
        "IPY_MODEL_ae77f91f59c943dd990ea4871480bb13"
       ],
       "layout": "IPY_MODEL_f7457eb09a914357bf4305eb592490dc"
      }
     },
     "d04322afb17f4eb7aa0511cf893e690a": {
      "model_module": "@jupyter-widgets/base",
      "model_module_version": "2.0.0",
      "model_name": "LayoutModel",
      "state": {}
     },
     "d297c48038284f2392b577a7542aeac3": {
      "model_module": "@jupyter-widgets/base",
      "model_module_version": "2.0.0",
      "model_name": "LayoutModel",
      "state": {}
     },
     "d32f6132c02e4f44b5964b1d08261d02": {
      "model_module": "@jupyter-widgets/controls",
      "model_module_version": "2.0.0",
      "model_name": "HTMLModel",
      "state": {
       "layout": "IPY_MODEL_0fc9822747bf4f28bffe745db33261bb",
       "style": "IPY_MODEL_110bbfdef61145c0a61c5a73982468c0",
       "value": "<b> Dataset object located at notebook_data, containing 5,000 images and 16,147 objects </b>"
      }
     },
     "d337c19073e34157bb59ebea038247d7": {
      "model_module": "@jupyter-widgets/output",
      "model_module_version": "1.0.0",
      "model_name": "OutputModel",
      "state": {
       "layout": "IPY_MODEL_a0d93fa1dec044fb9fd7606378076118",
       "outputs": [
        {
         "data": {
          "text/html": "<div>\n<style scoped>\n    .dataframe tbody tr th:only-of-type {\n        vertical-align: middle;\n    }\n\n    .dataframe tbody tr th {\n        vertical-align: top;\n    }\n\n    .dataframe thead th {\n        text-align: right;\n    }\n</style>\n<table border=\"1\" class=\"dataframe\">\n  <thead>\n    <tr style=\"text-align: right;\">\n      <th></th>\n      <th>category string</th>\n    </tr>\n    <tr>\n      <th>categorty_id</th>\n      <th></th>\n    </tr>\n  </thead>\n  <tbody>\n    <tr>\n      <th>2</th>\n      <td>person</td>\n    </tr>\n    <tr>\n      <th>10</th>\n      <td>car</td>\n    </tr>\n    <tr>\n      <th>12</th>\n      <td>train</td>\n    </tr>\n    <tr>\n      <th>41</th>\n      <td>domestical animal</td>\n    </tr>\n    <tr>\n      <th>60</th>\n      <td>suitcase</td>\n    </tr>\n    <tr>\n      <th>61</th>\n      <td>bag</td>\n    </tr>\n    <tr>\n      <th>100</th>\n      <td>sedan</td>\n    </tr>\n    <tr>\n      <th>102</th>\n      <td>bus</td>\n    </tr>\n    <tr>\n      <th>110</th>\n      <td>motorcycle</td>\n    </tr>\n    <tr>\n      <th>111</th>\n      <td>bicycle</td>\n    </tr>\n    <tr>\n      <th>410</th>\n      <td>dog</td>\n    </tr>\n  </tbody>\n</table>\n</div>",
          "text/plain": "                category string\ncategorty_id                   \n2                        person\n10                          car\n12                        train\n41            domestical animal\n60                     suitcase\n61                          bag\n100                       sedan\n102                         bus\n110                  motorcycle\n111                     bicycle\n410                         dog"
         },
         "metadata": {},
         "output_type": "display_data"
        }
       ]
      }
     },
     "d3409bbb726249d0806d656acd368cb4": {
      "model_module": "@jupyter-widgets/base",
      "model_module_version": "2.0.0",
      "model_name": "LayoutModel",
      "state": {}
     },
     "d56142dcc4a344939f68c47756dd8887": {
      "model_module": "@jupyter-widgets/controls",
      "model_module_version": "2.0.0",
      "model_name": "TabModel",
      "state": {
       "children": [
        "IPY_MODEL_f1175676110f4cc9829ad6f6a8211481",
        "IPY_MODEL_1f853a6f75fd426c9530ad25504e1ef4",
        "IPY_MODEL_b81be570247b44afa1fec2c6c8e635c0"
       ],
       "layout": "IPY_MODEL_73c56c172193413fbd59ac4d568f7688",
       "selected_index": 0,
       "titles": [
        "Images",
        "Annotations",
        "Label Map"
       ]
      }
     },
     "d64f6eb2212f4a3caf2e821dae57130f": {
      "model_module": "@jupyter-widgets/base",
      "model_module_version": "2.0.0",
      "model_name": "LayoutModel",
      "state": {}
     },
     "d659c5e499c745d1b6c57b210d6b40da": {
      "model_module": "@jupyter-widgets/base",
      "model_module_version": "2.0.0",
      "model_name": "LayoutModel",
      "state": {}
     },
     "d7228fd6cc844823b905f7aa27b37d22": {
      "model_module": "@jupyter-widgets/controls",
      "model_module_version": "2.0.0",
      "model_name": "TabModel",
      "state": {
       "children": [
        "IPY_MODEL_7724239e368f47b1993dd2d51b0eba7d",
        "IPY_MODEL_66fb21eef2f6433e8c0a85a90e06f8f5",
        "IPY_MODEL_7528d9b8f8544f4a90caf716a803d948"
       ],
       "layout": "IPY_MODEL_777d6d6eb9f747deb6b5a2d5cefdf229",
       "selected_index": 0,
       "titles": [
        "Images",
        "Annotations",
        "Label Map"
       ]
      }
     },
     "d83a5a9ee19f482c8485639aff7d7534": {
      "model_module": "@jupyter-widgets/controls",
      "model_module_version": "2.0.0",
      "model_name": "HTMLStyleModel",
      "state": {
       "description_width": "",
       "font_size": null,
       "text_color": null
      }
     },
     "d9086102a70e4996b1a8bc2090f87f76": {
      "model_module": "@jupyter-widgets/base",
      "model_module_version": "2.0.0",
      "model_name": "LayoutModel",
      "state": {}
     },
     "dacc5b1aea99482090b3533b1ec5859a": {
      "model_module": "@jupyter-widgets/base",
      "model_module_version": "2.0.0",
      "model_name": "LayoutModel",
      "state": {}
     },
     "db596ffb84694f3aa5293bb42a8e515b": {
      "model_module": "@jupyter-widgets/controls",
      "model_module_version": "2.0.0",
      "model_name": "HTMLModel",
      "state": {
       "layout": "IPY_MODEL_1264f089a7d5425aaad40ecd0a511b82",
       "style": "IPY_MODEL_a6b482f2d0804c5ebad3c90151569035",
       "value": "<b> Dataset object located at notebook_data, containing 5,000 images and 5,143 objects </b>"
      }
     },
     "db77c1e502614d3d8e177e8d42329bc3": {
      "model_module": "@jupyter-widgets/base",
      "model_module_version": "2.0.0",
      "model_name": "LayoutModel",
      "state": {}
     },
     "db7aaaa05039407f8780467c00efb9b7": {
      "model_module": "@jupyter-widgets/base",
      "model_module_version": "2.0.0",
      "model_name": "LayoutModel",
      "state": {}
     },
     "db7ac0ad322345f8bcbbfcd4f5fefc8e": {
      "model_module": "@jupyter-widgets/controls",
      "model_module_version": "2.0.0",
      "model_name": "HTMLStyleModel",
      "state": {
       "description_width": "",
       "font_size": null,
       "text_color": null
      }
     },
     "db959a83d78c4755b3b20cfdf2779e23": {
      "model_module": "@jupyter-widgets/controls",
      "model_module_version": "2.0.0",
      "model_name": "TabModel",
      "state": {
       "children": [
        "IPY_MODEL_91a24accb0f84080905024b948b97417",
        "IPY_MODEL_8aeca00814e44a55a98f1cd1fd6eb9b5",
        "IPY_MODEL_c1fdfb97e9de44dc936ff8a5c7ed6223"
       ],
       "layout": "IPY_MODEL_8137186abd1740ac9f17b8ec1252f8fc",
       "selected_index": 0,
       "titles": [
        "Images",
        "Annotations",
        "Label Map"
       ]
      }
     },
     "dbea35a68121489293538fdcf5f430df": {
      "model_module": "@jupyter-widgets/output",
      "model_module_version": "1.0.0",
      "model_name": "OutputModel",
      "state": {
       "layout": "IPY_MODEL_22503253d8e74a8e9132264be3eccfeb",
       "outputs": [
        {
         "data": {
          "text/html": "<div>\n<style scoped>\n    .dataframe tbody tr th:only-of-type {\n        vertical-align: middle;\n    }\n\n    .dataframe tbody tr th {\n        vertical-align: top;\n    }\n\n    .dataframe thead th {\n        text-align: right;\n    }\n</style>\n<table border=\"1\" class=\"dataframe\">\n  <thead>\n    <tr style=\"text-align: right;\">\n      <th></th>\n      <th>category string</th>\n    </tr>\n    <tr>\n      <th>categorty_id</th>\n      <th></th>\n    </tr>\n  </thead>\n  <tbody>\n    <tr>\n      <th>1</th>\n      <td>Vehicle</td>\n    </tr>\n    <tr>\n      <th>2</th>\n      <td>Bag</td>\n    </tr>\n    <tr>\n      <th>3</th>\n      <td>Animal</td>\n    </tr>\n  </tbody>\n</table>\n</div>",
          "text/plain": "             category string\ncategorty_id                \n1                    Vehicle\n2                        Bag\n3                     Animal"
         },
         "metadata": {},
         "output_type": "display_data"
        }
       ]
      }
     },
     "dc105d4d246b4382adecb945d3bbc20a": {
      "model_module": "@jupyter-widgets/output",
      "model_module_version": "1.0.0",
      "model_name": "OutputModel",
      "state": {
       "layout": "IPY_MODEL_2be508a14149421387fb4b91a5e9b1f6",
       "outputs": [
        {
         "data": {
          "text/html": "<div>\n<style scoped>\n    .dataframe tbody tr th:only-of-type {\n        vertical-align: middle;\n    }\n\n    .dataframe tbody tr th {\n        vertical-align: top;\n    }\n\n    .dataframe thead th {\n        text-align: right;\n    }\n</style>\n<table border=\"1\" class=\"dataframe\">\n  <thead>\n    <tr style=\"text-align: right;\">\n      <th></th>\n      <th>file_name</th>\n      <th>height</th>\n      <th>relative_path</th>\n      <th>split</th>\n      <th>type</th>\n      <th>width</th>\n    </tr>\n    <tr>\n      <th>id</th>\n      <th></th>\n      <th></th>\n      <th></th>\n      <th></th>\n      <th></th>\n      <th></th>\n    </tr>\n  </thead>\n  <tbody>\n    <tr>\n      <th>139</th>\n      <td>000000000139.jpg</td>\n      <td>426</td>\n      <td>Images/valid/000000000139.jpg</td>\n      <td>valid</td>\n      <td>.jpg</td>\n      <td>640</td>\n    </tr>\n    <tr>\n      <th>285</th>\n      <td>000000000285.jpg</td>\n      <td>640</td>\n      <td>Images/valid/000000000285.jpg</td>\n      <td>valid</td>\n      <td>.jpg</td>\n      <td>586</td>\n    </tr>\n    <tr>\n      <th>632</th>\n      <td>000000000632.jpg</td>\n      <td>483</td>\n      <td>Images/valid/000000000632.jpg</td>\n      <td>valid</td>\n      <td>.jpg</td>\n      <td>640</td>\n    </tr>\n    <tr>\n      <th>724</th>\n      <td>000000000724.jpg</td>\n      <td>500</td>\n      <td>Images/valid/000000000724.jpg</td>\n      <td>valid</td>\n      <td>.jpg</td>\n      <td>375</td>\n    </tr>\n    <tr>\n      <th>776</th>\n      <td>000000000776.jpg</td>\n      <td>640</td>\n      <td>Images/valid/000000000776.jpg</td>\n      <td>valid</td>\n      <td>.jpg</td>\n      <td>428</td>\n    </tr>\n    <tr>\n      <th>...</th>\n      <td>...</td>\n      <td>...</td>\n      <td>...</td>\n      <td>...</td>\n      <td>...</td>\n      <td>...</td>\n    </tr>\n    <tr>\n      <th>581317</th>\n      <td>000000581317.jpg</td>\n      <td>354</td>\n      <td>Images/valid/000000581317.jpg</td>\n      <td>valid</td>\n      <td>.jpg</td>\n      <td>640</td>\n    </tr>\n    <tr>\n      <th>581357</th>\n      <td>000000581357.jpg</td>\n      <td>612</td>\n      <td>Images/valid/000000581357.jpg</td>\n      <td>valid</td>\n      <td>.jpg</td>\n      <td>612</td>\n    </tr>\n    <tr>\n      <th>581482</th>\n      <td>000000581482.jpg</td>\n      <td>427</td>\n      <td>Images/valid/000000581482.jpg</td>\n      <td>valid</td>\n      <td>.jpg</td>\n      <td>640</td>\n    </tr>\n    <tr>\n      <th>581615</th>\n      <td>000000581615.jpg</td>\n      <td>640</td>\n      <td>Images/valid/000000581615.jpg</td>\n      <td>valid</td>\n      <td>.jpg</td>\n      <td>478</td>\n    </tr>\n    <tr>\n      <th>581781</th>\n      <td>000000581781.jpg</td>\n      <td>478</td>\n      <td>Images/valid/000000581781.jpg</td>\n      <td>valid</td>\n      <td>.jpg</td>\n      <td>640</td>\n    </tr>\n  </tbody>\n</table>\n<p>5000 rows × 6 columns</p>\n</div>",
          "text/plain": "               file_name  height                  relative_path  split  type  \\\nid                                                                             \n139     000000000139.jpg     426  Images/valid/000000000139.jpg  valid  .jpg   \n285     000000000285.jpg     640  Images/valid/000000000285.jpg  valid  .jpg   \n632     000000000632.jpg     483  Images/valid/000000000632.jpg  valid  .jpg   \n724     000000000724.jpg     500  Images/valid/000000000724.jpg  valid  .jpg   \n776     000000000776.jpg     640  Images/valid/000000000776.jpg  valid  .jpg   \n...                  ...     ...                            ...    ...   ...   \n581317  000000581317.jpg     354  Images/valid/000000581317.jpg  valid  .jpg   \n581357  000000581357.jpg     612  Images/valid/000000581357.jpg  valid  .jpg   \n581482  000000581482.jpg     427  Images/valid/000000581482.jpg  valid  .jpg   \n581615  000000581615.jpg     640  Images/valid/000000581615.jpg  valid  .jpg   \n581781  000000581781.jpg     478  Images/valid/000000581781.jpg  valid  .jpg   \n\n        width  \nid             \n139       640  \n285       586  \n632       640  \n724       375  \n776       428  \n...       ...  \n581317    640  \n581357    612  \n581482    640  \n581615    478  \n581781    640  \n\n[5000 rows x 6 columns]"
         },
         "metadata": {},
         "output_type": "display_data"
        }
       ]
      }
     },
     "dc412ef0ce16469c94a613b47a0807b8": {
      "model_module": "@jupyter-widgets/output",
      "model_module_version": "1.0.0",
      "model_name": "OutputModel",
      "state": {
       "layout": "IPY_MODEL_ae70908cbcde45cc93f8e0dc95c26e0e",
       "outputs": [
        {
         "data": {
          "text/html": "<div>\n<style scoped>\n    .dataframe tbody tr th:only-of-type {\n        vertical-align: middle;\n    }\n\n    .dataframe tbody tr th {\n        vertical-align: top;\n    }\n\n    .dataframe thead th {\n        text-align: right;\n    }\n</style>\n<table border=\"1\" class=\"dataframe\">\n  <thead>\n    <tr style=\"text-align: right;\">\n      <th></th>\n      <th>category string</th>\n    </tr>\n    <tr>\n      <th>categorty_id</th>\n      <th></th>\n    </tr>\n  </thead>\n  <tbody>\n    <tr>\n      <th>1</th>\n      <td>person</td>\n    </tr>\n    <tr>\n      <th>2</th>\n      <td>bicycle</td>\n    </tr>\n    <tr>\n      <th>3</th>\n      <td>car</td>\n    </tr>\n    <tr>\n      <th>4</th>\n      <td>motorcycle</td>\n    </tr>\n    <tr>\n      <th>5</th>\n      <td>airplane</td>\n    </tr>\n    <tr>\n      <th>...</th>\n      <td>...</td>\n    </tr>\n    <tr>\n      <th>86</th>\n      <td>vase</td>\n    </tr>\n    <tr>\n      <th>87</th>\n      <td>scissors</td>\n    </tr>\n    <tr>\n      <th>88</th>\n      <td>teddy bear</td>\n    </tr>\n    <tr>\n      <th>89</th>\n      <td>hair drier</td>\n    </tr>\n    <tr>\n      <th>90</th>\n      <td>toothbrush</td>\n    </tr>\n  </tbody>\n</table>\n<p>80 rows × 1 columns</p>\n</div>",
          "text/plain": "             category string\ncategorty_id                \n1                     person\n2                    bicycle\n3                        car\n4                 motorcycle\n5                   airplane\n...                      ...\n86                      vase\n87                  scissors\n88                teddy bear\n89                hair drier\n90                toothbrush\n\n[80 rows x 1 columns]"
         },
         "metadata": {},
         "output_type": "display_data"
        }
       ]
      }
     },
     "dd015c1c4b0e4b72ae51c9434abdbae8": {
      "model_module": "@jupyter-widgets/controls",
      "model_module_version": "2.0.0",
      "model_name": "VBoxModel",
      "state": {
       "children": [
        "IPY_MODEL_325ee858754c4b86b71ac671d75d9cbb",
        "IPY_MODEL_85b503b6f42147e8bbba75a7af656ac9"
       ],
       "layout": "IPY_MODEL_f9b17308956a40a08e9454d95ae8a143"
      }
     },
     "de22f785f4fb4df8a505fd43e9f166f7": {
      "model_module": "@jupyter-widgets/base",
      "model_module_version": "2.0.0",
      "model_name": "LayoutModel",
      "state": {}
     },
     "defb7dbce3cb4fb4a67123914694c16b": {
      "model_module": "@jupyter-widgets/output",
      "model_module_version": "1.0.0",
      "model_name": "OutputModel",
      "state": {
       "layout": "IPY_MODEL_a25e807195394a179ab799bc10a217de",
       "outputs": [
        {
         "data": {
          "text/html": "<div>\n<style scoped>\n    .dataframe tbody tr th:only-of-type {\n        vertical-align: middle;\n    }\n\n    .dataframe tbody tr th {\n        vertical-align: top;\n    }\n\n    .dataframe thead th {\n        text-align: right;\n    }\n</style>\n<table border=\"1\" class=\"dataframe\">\n  <thead>\n    <tr style=\"text-align: right;\">\n      <th></th>\n      <th>category string</th>\n    </tr>\n    <tr>\n      <th>categorty_id</th>\n      <th></th>\n    </tr>\n  </thead>\n  <tbody>\n    <tr>\n      <th>1</th>\n      <td>person</td>\n    </tr>\n    <tr>\n      <th>2</th>\n      <td>bicycle</td>\n    </tr>\n    <tr>\n      <th>3</th>\n      <td>car</td>\n    </tr>\n    <tr>\n      <th>4</th>\n      <td>motorcycle</td>\n    </tr>\n    <tr>\n      <th>5</th>\n      <td>airplane</td>\n    </tr>\n    <tr>\n      <th>...</th>\n      <td>...</td>\n    </tr>\n    <tr>\n      <th>86</th>\n      <td>vase</td>\n    </tr>\n    <tr>\n      <th>87</th>\n      <td>scissors</td>\n    </tr>\n    <tr>\n      <th>88</th>\n      <td>teddy bear</td>\n    </tr>\n    <tr>\n      <th>89</th>\n      <td>hair drier</td>\n    </tr>\n    <tr>\n      <th>90</th>\n      <td>toothbrush</td>\n    </tr>\n  </tbody>\n</table>\n<p>80 rows × 1 columns</p>\n</div>",
          "text/plain": "             category string\ncategorty_id                \n1                     person\n2                    bicycle\n3                        car\n4                 motorcycle\n5                   airplane\n...                      ...\n86                      vase\n87                  scissors\n88                teddy bear\n89                hair drier\n90                toothbrush\n\n[80 rows x 1 columns]"
         },
         "metadata": {},
         "output_type": "display_data"
        }
       ]
      }
     },
     "dfa17a54d58046a180afca01383888dc": {
      "model_module": "@jupyter-widgets/output",
      "model_module_version": "1.0.0",
      "model_name": "OutputModel",
      "state": {
       "layout": "IPY_MODEL_cda1274110794e688d3314550cde7874",
       "outputs": [
        {
         "data": {
          "text/html": "<div>\n<style scoped>\n    .dataframe tbody tr th:only-of-type {\n        vertical-align: middle;\n    }\n\n    .dataframe tbody tr th {\n        vertical-align: top;\n    }\n\n    .dataframe thead th {\n        text-align: right;\n    }\n</style>\n<table border=\"1\" class=\"dataframe\">\n  <thead>\n    <tr style=\"text-align: right;\">\n      <th></th>\n      <th>area</th>\n      <th>image_id</th>\n      <th>category_id</th>\n      <th>split</th>\n      <th>xmin</th>\n      <th>ymin</th>\n      <th>box_width</th>\n      <th>box_height</th>\n      <th>category_str</th>\n    </tr>\n    <tr>\n      <th>id</th>\n      <th></th>\n      <th></th>\n      <th></th>\n      <th></th>\n      <th></th>\n      <th></th>\n      <th></th>\n      <th></th>\n      <th></th>\n    </tr>\n  </thead>\n  <tbody>\n    <tr>\n      <th>357584</th>\n      <td>14718.47935</td>\n      <td>310072</td>\n      <td>1</td>\n      <td>valid</td>\n      <td>223.85</td>\n      <td>0.00</td>\n      <td>258.83</td>\n      <td>69.08</td>\n      <td>vehicle</td>\n    </tr>\n    <tr>\n      <th>358258</th>\n      <td>6989.84750</td>\n      <td>310072</td>\n      <td>1</td>\n      <td>valid</td>\n      <td>0.00</td>\n      <td>1.94</td>\n      <td>135.99</td>\n      <td>66.27</td>\n      <td>vehicle</td>\n    </tr>\n    <tr>\n      <th>363154</th>\n      <td>1729.26630</td>\n      <td>310072</td>\n      <td>1</td>\n      <td>valid</td>\n      <td>170.89</td>\n      <td>0.00</td>\n      <td>71.06</td>\n      <td>36.96</td>\n      <td>vehicle</td>\n    </tr>\n    <tr>\n      <th>1337431</th>\n      <td>91.97330</td>\n      <td>310072</td>\n      <td>1</td>\n      <td>valid</td>\n      <td>631.99</td>\n      <td>7.35</td>\n      <td>8.01</td>\n      <td>15.46</td>\n      <td>vehicle</td>\n    </tr>\n    <tr>\n      <th>1368385</th>\n      <td>7558.39585</td>\n      <td>310072</td>\n      <td>1</td>\n      <td>valid</td>\n      <td>0.00</td>\n      <td>0.00</td>\n      <td>131.87</td>\n      <td>71.46</td>\n      <td>vehicle</td>\n    </tr>\n    <tr>\n      <th>...</th>\n      <td>...</td>\n      <td>...</td>\n      <td>...</td>\n      <td>...</td>\n      <td>...</td>\n      <td>...</td>\n      <td>...</td>\n      <td>...</td>\n      <td>...</td>\n    </tr>\n    <tr>\n      <th>10068</th>\n      <td>10866.03335</td>\n      <td>189806</td>\n      <td>3</td>\n      <td>valid</td>\n      <td>263.63</td>\n      <td>193.10</td>\n      <td>180.04</td>\n      <td>103.59</td>\n      <td>animal</td>\n    </tr>\n    <tr>\n      <th>46540</th>\n      <td>5204.68295</td>\n      <td>189806</td>\n      <td>3</td>\n      <td>valid</td>\n      <td>130.91</td>\n      <td>165.20</td>\n      <td>94.54</td>\n      <td>104.73</td>\n      <td>animal</td>\n    </tr>\n    <tr>\n      <th>344755</th>\n      <td>4084.58345</td>\n      <td>363188</td>\n      <td>1</td>\n      <td>valid</td>\n      <td>590.03</td>\n      <td>198.92</td>\n      <td>49.97</td>\n      <td>106.42</td>\n      <td>vehicle</td>\n    </tr>\n    <tr>\n      <th>1420625</th>\n      <td>865.42470</td>\n      <td>363188</td>\n      <td>2</td>\n      <td>valid</td>\n      <td>221.41</td>\n      <td>199.76</td>\n      <td>91.36</td>\n      <td>63.64</td>\n      <td>bag</td>\n    </tr>\n    <tr>\n      <th>1192747</th>\n      <td>182.21680</td>\n      <td>105455</td>\n      <td>1</td>\n      <td>valid</td>\n      <td>333.56</td>\n      <td>517.21</td>\n      <td>17.43</td>\n      <td>14.58</td>\n      <td>vehicle</td>\n    </tr>\n  </tbody>\n</table>\n<p>5143 rows × 9 columns</p>\n</div>",
          "text/plain": "                area  image_id  category_id  split    xmin    ymin  box_width  \\\nid                                                                              \n357584   14718.47935    310072            1  valid  223.85    0.00     258.83   \n358258    6989.84750    310072            1  valid    0.00    1.94     135.99   \n363154    1729.26630    310072            1  valid  170.89    0.00      71.06   \n1337431     91.97330    310072            1  valid  631.99    7.35       8.01   \n1368385   7558.39585    310072            1  valid    0.00    0.00     131.87   \n...              ...       ...          ...    ...     ...     ...        ...   \n10068    10866.03335    189806            3  valid  263.63  193.10     180.04   \n46540     5204.68295    189806            3  valid  130.91  165.20      94.54   \n344755    4084.58345    363188            1  valid  590.03  198.92      49.97   \n1420625    865.42470    363188            2  valid  221.41  199.76      91.36   \n1192747    182.21680    105455            1  valid  333.56  517.21      17.43   \n\n         box_height category_str  \nid                                \n357584        69.08      vehicle  \n358258        66.27      vehicle  \n363154        36.96      vehicle  \n1337431       15.46      vehicle  \n1368385       71.46      vehicle  \n...             ...          ...  \n10068        103.59       animal  \n46540        104.73       animal  \n344755       106.42      vehicle  \n1420625       63.64          bag  \n1192747       14.58      vehicle  \n\n[5143 rows x 9 columns]"
         },
         "metadata": {},
         "output_type": "display_data"
        }
       ]
      }
     },
     "dfee635ea2d14970aaf7f42e254d860a": {
      "model_module": "@jupyter-widgets/output",
      "model_module_version": "1.0.0",
      "model_name": "OutputModel",
      "state": {
       "layout": "IPY_MODEL_a4724f186c474cd2bda600e075fae88f",
       "outputs": [
        {
         "data": {
          "text/html": "<div>\n<style scoped>\n    .dataframe tbody tr th:only-of-type {\n        vertical-align: middle;\n    }\n\n    .dataframe tbody tr th {\n        vertical-align: top;\n    }\n\n    .dataframe thead th {\n        text-align: right;\n    }\n</style>\n<table border=\"1\" class=\"dataframe\">\n  <thead>\n    <tr style=\"text-align: right;\">\n      <th></th>\n      <th>file_name</th>\n      <th>height</th>\n      <th>width</th>\n      <th>split</th>\n      <th>relative_path</th>\n      <th>type</th>\n    </tr>\n    <tr>\n      <th>id</th>\n      <th></th>\n      <th></th>\n      <th></th>\n      <th></th>\n      <th></th>\n      <th></th>\n    </tr>\n  </thead>\n  <tbody>\n    <tr>\n      <th>352582</th>\n      <td>000000352582.jpg</td>\n      <td>640</td>\n      <td>425</td>\n      <td>valid</td>\n      <td>Images/valid/000000352582.jpg</td>\n      <td>.jpg</td>\n    </tr>\n    <tr>\n      <th>58393</th>\n      <td>000000058393.jpg</td>\n      <td>486</td>\n      <td>640</td>\n      <td>valid</td>\n      <td>Images/valid/000000058393.jpg</td>\n      <td>.jpg</td>\n    </tr>\n    <tr>\n      <th>310072</th>\n      <td>000000310072.jpg</td>\n      <td>383</td>\n      <td>640</td>\n      <td>valid</td>\n      <td>Images/valid/000000310072.jpg</td>\n      <td>.jpg</td>\n    </tr>\n    <tr>\n      <th>519208</th>\n      <td>000000519208.jpg</td>\n      <td>406</td>\n      <td>640</td>\n      <td>valid</td>\n      <td>Images/valid/000000519208.jpg</td>\n      <td>.jpg</td>\n    </tr>\n    <tr>\n      <th>38048</th>\n      <td>000000038048.jpg</td>\n      <td>500</td>\n      <td>299</td>\n      <td>valid</td>\n      <td>Images/valid/000000038048.jpg</td>\n      <td>.jpg</td>\n    </tr>\n    <tr>\n      <th>...</th>\n      <td>...</td>\n      <td>...</td>\n      <td>...</td>\n      <td>...</td>\n      <td>...</td>\n      <td>...</td>\n    </tr>\n    <tr>\n      <th>885</th>\n      <td>000000000885.jpg</td>\n      <td>427</td>\n      <td>640</td>\n      <td>valid</td>\n      <td>Images/valid/000000000885.jpg</td>\n      <td>.jpg</td>\n    </tr>\n    <tr>\n      <th>189806</th>\n      <td>000000189806.jpg</td>\n      <td>400</td>\n      <td>500</td>\n      <td>valid</td>\n      <td>Images/valid/000000189806.jpg</td>\n      <td>.jpg</td>\n    </tr>\n    <tr>\n      <th>311180</th>\n      <td>000000311180.jpg</td>\n      <td>640</td>\n      <td>480</td>\n      <td>valid</td>\n      <td>Images/valid/000000311180.jpg</td>\n      <td>.jpg</td>\n    </tr>\n    <tr>\n      <th>105455</th>\n      <td>000000105455.jpg</td>\n      <td>640</td>\n      <td>427</td>\n      <td>valid</td>\n      <td>Images/valid/000000105455.jpg</td>\n      <td>.jpg</td>\n    </tr>\n    <tr>\n      <th>349837</th>\n      <td>000000349837.jpg</td>\n      <td>333</td>\n      <td>500</td>\n      <td>valid</td>\n      <td>Images/valid/000000349837.jpg</td>\n      <td>.jpg</td>\n    </tr>\n  </tbody>\n</table>\n<p>5000 rows × 6 columns</p>\n</div>",
          "text/plain": "               file_name  height  width  split                  relative_path  \\\nid                                                                              \n352582  000000352582.jpg     640    425  valid  Images/valid/000000352582.jpg   \n58393   000000058393.jpg     486    640  valid  Images/valid/000000058393.jpg   \n310072  000000310072.jpg     383    640  valid  Images/valid/000000310072.jpg   \n519208  000000519208.jpg     406    640  valid  Images/valid/000000519208.jpg   \n38048   000000038048.jpg     500    299  valid  Images/valid/000000038048.jpg   \n...                  ...     ...    ...    ...                            ...   \n885     000000000885.jpg     427    640  valid  Images/valid/000000000885.jpg   \n189806  000000189806.jpg     400    500  valid  Images/valid/000000189806.jpg   \n311180  000000311180.jpg     640    480  valid  Images/valid/000000311180.jpg   \n105455  000000105455.jpg     640    427  valid  Images/valid/000000105455.jpg   \n349837  000000349837.jpg     333    500  valid  Images/valid/000000349837.jpg   \n\n        type  \nid            \n352582  .jpg  \n58393   .jpg  \n310072  .jpg  \n519208  .jpg  \n38048   .jpg  \n...      ...  \n885     .jpg  \n189806  .jpg  \n311180  .jpg  \n105455  .jpg  \n349837  .jpg  \n\n[5000 rows x 6 columns]"
         },
         "metadata": {},
         "output_type": "display_data"
        }
       ]
      }
     },
     "e02804ef50c348c2b0887803343e5c16": {
      "model_module": "@jupyter-widgets/base",
      "model_module_version": "2.0.0",
      "model_name": "LayoutModel",
      "state": {}
     },
     "e161dc35c80c4ebdbd831b60c9f7fc24": {
      "model_module": "@jupyter-widgets/controls",
      "model_module_version": "2.0.0",
      "model_name": "VBoxModel",
      "state": {
       "children": [
        "IPY_MODEL_90bb9ec855dc4a96b417f9ca00eef37e",
        "IPY_MODEL_fe320dda6eaa43fc873ea0fff7a63682"
       ],
       "layout": "IPY_MODEL_1ff80e34b5444858846ae45264dbd1c2"
      }
     },
     "e2264dca3017419aaffceeccb00f9961": {
      "model_module": "@jupyter-widgets/base",
      "model_module_version": "2.0.0",
      "model_name": "LayoutModel",
      "state": {}
     },
     "e36f0ca9ee354d01a569bbf611a0ce5a": {
      "model_module": "@jupyter-widgets/controls",
      "model_module_version": "2.0.0",
      "model_name": "HTMLStyleModel",
      "state": {
       "description_width": "",
       "font_size": null,
       "text_color": null
      }
     },
     "e3821941d7df4953a31a74666a4f4e5f": {
      "model_module": "@jupyter-widgets/base",
      "model_module_version": "2.0.0",
      "model_name": "LayoutModel",
      "state": {}
     },
     "e42412c7f53b45299ce5fe7241870f00": {
      "model_module": "@jupyter-widgets/base",
      "model_module_version": "2.0.0",
      "model_name": "LayoutModel",
      "state": {}
     },
     "e49dd820735b4fd8a6efd90c84197f69": {
      "model_module": "@jupyter-widgets/base",
      "model_module_version": "2.0.0",
      "model_name": "LayoutModel",
      "state": {}
     },
     "e4be0b990456418096feb72ba96f3c86": {
      "model_module": "@jupyter-widgets/base",
      "model_module_version": "2.0.0",
      "model_name": "LayoutModel",
      "state": {}
     },
     "e57d3f435e154d2a87b0b71c53ce2590": {
      "model_module": "@jupyter-widgets/controls",
      "model_module_version": "2.0.0",
      "model_name": "HTMLModel",
      "state": {
       "layout": "IPY_MODEL_383bd6b93b0b4f76ab7b492584b5aa97",
       "style": "IPY_MODEL_d83a5a9ee19f482c8485639aff7d7534",
       "value": "<b> Dataset object located at notebook_data, containing 5,000 images and 16,147 objects </b>"
      }
     },
     "e587f203848e4bf8acad47b28dfe580f": {
      "model_module": "@jupyter-widgets/controls",
      "model_module_version": "2.0.0",
      "model_name": "VBoxModel",
      "state": {
       "children": [
        "IPY_MODEL_939fba0b426b44d3b8efac420bc36ed4",
        "IPY_MODEL_f4a0df7c1e064705a09d20ea42a369fd"
       ],
       "layout": "IPY_MODEL_3b65188f62c04d40bf6108558e049bb0"
      }
     },
     "e7fd402c6a0b4d6bb37e0b6100f1d9da": {
      "model_module": "@jupyter-widgets/base",
      "model_module_version": "2.0.0",
      "model_name": "LayoutModel",
      "state": {}
     },
     "e8168737678548d58f80deb179818958": {
      "model_module": "@jupyter-widgets/output",
      "model_module_version": "1.0.0",
      "model_name": "OutputModel",
      "state": {
       "layout": "IPY_MODEL_1888279809ab487a8112c897e0b62dbe",
       "outputs": [
        {
         "data": {
          "text/html": "<div>\n<style scoped>\n    .dataframe tbody tr th:only-of-type {\n        vertical-align: middle;\n    }\n\n    .dataframe tbody tr th {\n        vertical-align: top;\n    }\n\n    .dataframe thead th {\n        text-align: right;\n    }\n</style>\n<table border=\"1\" class=\"dataframe\">\n  <thead>\n    <tr style=\"text-align: right;\">\n      <th></th>\n      <th>area</th>\n      <th>image_id</th>\n      <th>category_id</th>\n      <th>split</th>\n      <th>xmin</th>\n      <th>ymin</th>\n      <th>box_width</th>\n      <th>box_height</th>\n      <th>category_str</th>\n    </tr>\n    <tr>\n      <th>id</th>\n      <th></th>\n      <th></th>\n      <th></th>\n      <th></th>\n      <th></th>\n      <th></th>\n      <th></th>\n      <th></th>\n      <th></th>\n    </tr>\n  </thead>\n  <tbody>\n    <tr>\n      <th>460450</th>\n      <td>48685.67910</td>\n      <td>352582</td>\n      <td>1</td>\n      <td>valid</td>\n      <td>112.43</td>\n      <td>195.32</td>\n      <td>214.78</td>\n      <td>438.19</td>\n      <td>person</td>\n    </tr>\n    <tr>\n      <th>535917</th>\n      <td>22650.73800</td>\n      <td>352582</td>\n      <td>1</td>\n      <td>valid</td>\n      <td>0.00</td>\n      <td>256.00</td>\n      <td>80.54</td>\n      <td>376.81</td>\n      <td>person</td>\n    </tr>\n    <tr>\n      <th>602093</th>\n      <td>2605.72090</td>\n      <td>352582</td>\n      <td>34</td>\n      <td>valid</td>\n      <td>171.63</td>\n      <td>424.03</td>\n      <td>85.89</td>\n      <td>40.67</td>\n      <td>frisbee</td>\n    </tr>\n    <tr>\n      <th>589077</th>\n      <td>9978.94125</td>\n      <td>113354</td>\n      <td>24</td>\n      <td>valid</td>\n      <td>260.99</td>\n      <td>158.88</td>\n      <td>141.52</td>\n      <td>194.11</td>\n      <td>zebra</td>\n    </tr>\n    <tr>\n      <th>589740</th>\n      <td>5784.68620</td>\n      <td>113354</td>\n      <td>24</td>\n      <td>valid</td>\n      <td>366.49</td>\n      <td>174.59</td>\n      <td>115.67</td>\n      <td>142.71</td>\n      <td>zebra</td>\n    </tr>\n    <tr>\n      <th>...</th>\n      <td>...</td>\n      <td>...</td>\n      <td>...</td>\n      <td>...</td>\n      <td>...</td>\n      <td>...</td>\n      <td>...</td>\n      <td>...</td>\n      <td>...</td>\n    </tr>\n    <tr>\n      <th>331107</th>\n      <td>12029.44125</td>\n      <td>349837</td>\n      <td>82</td>\n      <td>valid</td>\n      <td>66.00</td>\n      <td>94.87</td>\n      <td>71.25</td>\n      <td>194.26</td>\n      <td>refrigerator</td>\n    </tr>\n    <tr>\n      <th>332788</th>\n      <td>23037.46875</td>\n      <td>349837</td>\n      <td>82</td>\n      <td>valid</td>\n      <td>138.00</td>\n      <td>62.63</td>\n      <td>98.25</td>\n      <td>252.00</td>\n      <td>refrigerator</td>\n    </tr>\n    <tr>\n      <th>333394</th>\n      <td>30406.51295</td>\n      <td>349837</td>\n      <td>82</td>\n      <td>valid</td>\n      <td>234.44</td>\n      <td>29.87</td>\n      <td>113.49</td>\n      <td>298.65</td>\n      <td>refrigerator</td>\n    </tr>\n    <tr>\n      <th>333685</th>\n      <td>37187.97840</td>\n      <td>349837</td>\n      <td>82</td>\n      <td>valid</td>\n      <td>335.04</td>\n      <td>10.48</td>\n      <td>125.17</td>\n      <td>318.78</td>\n      <td>refrigerator</td>\n    </tr>\n    <tr>\n      <th>333731</th>\n      <td>12492.52165</td>\n      <td>349837</td>\n      <td>82</td>\n      <td>valid</td>\n      <td>460.39</td>\n      <td>0.00</td>\n      <td>39.61</td>\n      <td>328.64</td>\n      <td>refrigerator</td>\n    </tr>\n  </tbody>\n</table>\n<p>36781 rows × 9 columns</p>\n</div>",
          "text/plain": "               area  image_id  category_id  split    xmin    ymin  box_width  \\\nid                                                                             \n460450  48685.67910    352582            1  valid  112.43  195.32     214.78   \n535917  22650.73800    352582            1  valid    0.00  256.00      80.54   \n602093   2605.72090    352582           34  valid  171.63  424.03      85.89   \n589077   9978.94125    113354           24  valid  260.99  158.88     141.52   \n589740   5784.68620    113354           24  valid  366.49  174.59     115.67   \n...             ...       ...          ...    ...     ...     ...        ...   \n331107  12029.44125    349837           82  valid   66.00   94.87      71.25   \n332788  23037.46875    349837           82  valid  138.00   62.63      98.25   \n333394  30406.51295    349837           82  valid  234.44   29.87     113.49   \n333685  37187.97840    349837           82  valid  335.04   10.48     125.17   \n333731  12492.52165    349837           82  valid  460.39    0.00      39.61   \n\n        box_height  category_str  \nid                                \n460450      438.19        person  \n535917      376.81        person  \n602093       40.67       frisbee  \n589077      194.11         zebra  \n589740      142.71         zebra  \n...            ...           ...  \n331107      194.26  refrigerator  \n332788      252.00  refrigerator  \n333394      298.65  refrigerator  \n333685      318.78  refrigerator  \n333731      328.64  refrigerator  \n\n[36781 rows x 9 columns]"
         },
         "metadata": {},
         "output_type": "display_data"
        }
       ]
      }
     },
     "e833acf2e4ad4d1196b62e6e4ce0bfec": {
      "model_module": "@jupyter-widgets/base",
      "model_module_version": "2.0.0",
      "model_name": "LayoutModel",
      "state": {}
     },
     "e85759be071841528bf736536aa70c1b": {
      "model_module": "@jupyter-widgets/controls",
      "model_module_version": "2.0.0",
      "model_name": "HTMLModel",
      "state": {
       "layout": "IPY_MODEL_94904e2d8a1d420394b533a3a33c64f1",
       "style": "IPY_MODEL_e36f0ca9ee354d01a569bbf611a0ce5a",
       "value": "<b> Dataset object located at notebook_data, containing 5,000 images and 36,781 objects </b>"
      }
     },
     "e887e6e5b212464895e32090b398ed33": {
      "model_module": "@jupyter-widgets/output",
      "model_module_version": "1.0.0",
      "model_name": "OutputModel",
      "state": {
       "layout": "IPY_MODEL_b790945605a74db08059f66743b4c5eb",
       "outputs": [
        {
         "data": {
          "text/html": "<div>\n<style scoped>\n    .dataframe tbody tr th:only-of-type {\n        vertical-align: middle;\n    }\n\n    .dataframe tbody tr th {\n        vertical-align: top;\n    }\n\n    .dataframe thead th {\n        text-align: right;\n    }\n</style>\n<table border=\"1\" class=\"dataframe\">\n  <thead>\n    <tr style=\"text-align: right;\">\n      <th></th>\n      <th>file_name</th>\n      <th>width</th>\n      <th>height</th>\n      <th>split</th>\n      <th>relative_path</th>\n      <th>type</th>\n    </tr>\n    <tr>\n      <th>id</th>\n      <th></th>\n      <th></th>\n      <th></th>\n      <th></th>\n      <th></th>\n      <th></th>\n    </tr>\n  </thead>\n  <tbody>\n    <tr>\n      <th>6493</th>\n      <td>NORM0020_frame0282.jpg</td>\n      <td>1920</td>\n      <td>1080</td>\n      <td>None</td>\n      <td>Images/NORM0020_frame0282.jpg</td>\n      <td>.jpg</td>\n    </tr>\n    <tr>\n      <th>5890</th>\n      <td>NORM0018_frame0928.jpg</td>\n      <td>1920</td>\n      <td>1080</td>\n      <td>None</td>\n      <td>Images/NORM0018_frame0928.jpg</td>\n      <td>.jpg</td>\n    </tr>\n    <tr>\n      <th>2247</th>\n      <td>NORM0015_frame183.jpg</td>\n      <td>1920</td>\n      <td>1080</td>\n      <td>None</td>\n      <td>Images/NORM0015_frame183.jpg</td>\n      <td>.jpg</td>\n    </tr>\n    <tr>\n      <th>2189</th>\n      <td>NORM0015_frame123.jpg</td>\n      <td>1920</td>\n      <td>1080</td>\n      <td>None</td>\n      <td>Images/NORM0015_frame123.jpg</td>\n      <td>.jpg</td>\n    </tr>\n    <tr>\n      <th>5745</th>\n      <td>NORM0018_frame0763.jpg</td>\n      <td>1920</td>\n      <td>1080</td>\n      <td>None</td>\n      <td>Images/NORM0018_frame0763.jpg</td>\n      <td>.jpg</td>\n    </tr>\n    <tr>\n      <th>...</th>\n      <td>...</td>\n      <td>...</td>\n      <td>...</td>\n      <td>...</td>\n      <td>...</td>\n      <td>...</td>\n    </tr>\n    <tr>\n      <th>545</th>\n      <td>NORM0013_frame0595.jpg</td>\n      <td>1920</td>\n      <td>1080</td>\n      <td>None</td>\n      <td>Images/NORM0013_frame0595.jpg</td>\n      <td>.jpg</td>\n    </tr>\n    <tr>\n      <th>6914</th>\n      <td>NORM0020_frame0743.jpg</td>\n      <td>1920</td>\n      <td>1080</td>\n      <td>None</td>\n      <td>Images/NORM0020_frame0743.jpg</td>\n      <td>.jpg</td>\n    </tr>\n    <tr>\n      <th>1324</th>\n      <td>NORM0014_frame184.jpg</td>\n      <td>1920</td>\n      <td>1080</td>\n      <td>None</td>\n      <td>Images/NORM0014_frame184.jpg</td>\n      <td>.jpg</td>\n    </tr>\n    <tr>\n      <th>6422</th>\n      <td>NORM0020_frame0207.jpg</td>\n      <td>1920</td>\n      <td>1080</td>\n      <td>None</td>\n      <td>Images/NORM0020_frame0207.jpg</td>\n      <td>.jpg</td>\n    </tr>\n    <tr>\n      <th>2599</th>\n      <td>NORM0015_frame565.jpg</td>\n      <td>1920</td>\n      <td>1080</td>\n      <td>None</td>\n      <td>Images/NORM0015_frame565.jpg</td>\n      <td>.jpg</td>\n    </tr>\n  </tbody>\n</table>\n<p>76 rows × 6 columns</p>\n</div>",
          "text/plain": "                   file_name  width  height split  \\\nid                                                  \n6493  NORM0020_frame0282.jpg   1920    1080  None   \n5890  NORM0018_frame0928.jpg   1920    1080  None   \n2247   NORM0015_frame183.jpg   1920    1080  None   \n2189   NORM0015_frame123.jpg   1920    1080  None   \n5745  NORM0018_frame0763.jpg   1920    1080  None   \n...                      ...    ...     ...   ...   \n545   NORM0013_frame0595.jpg   1920    1080  None   \n6914  NORM0020_frame0743.jpg   1920    1080  None   \n1324   NORM0014_frame184.jpg   1920    1080  None   \n6422  NORM0020_frame0207.jpg   1920    1080  None   \n2599   NORM0015_frame565.jpg   1920    1080  None   \n\n                      relative_path  type  \nid                                         \n6493  Images/NORM0020_frame0282.jpg  .jpg  \n5890  Images/NORM0018_frame0928.jpg  .jpg  \n2247   Images/NORM0015_frame183.jpg  .jpg  \n2189   Images/NORM0015_frame123.jpg  .jpg  \n5745  Images/NORM0018_frame0763.jpg  .jpg  \n...                             ...   ...  \n545   Images/NORM0013_frame0595.jpg  .jpg  \n6914  Images/NORM0020_frame0743.jpg  .jpg  \n1324   Images/NORM0014_frame184.jpg  .jpg  \n6422  Images/NORM0020_frame0207.jpg  .jpg  \n2599   Images/NORM0015_frame565.jpg  .jpg  \n\n[76 rows x 6 columns]"
         },
         "metadata": {},
         "output_type": "display_data"
        }
       ]
      }
     },
     "e895c5221daf49efbda1fbe974a1b826": {
      "model_module": "@jupyter-widgets/output",
      "model_module_version": "1.0.0",
      "model_name": "OutputModel",
      "state": {
       "layout": "IPY_MODEL_b58094e7f38e4660a1f3c4686c8ece2b",
       "outputs": [
        {
         "data": {
          "text/html": "<div>\n<style scoped>\n    .dataframe tbody tr th:only-of-type {\n        vertical-align: middle;\n    }\n\n    .dataframe tbody tr th {\n        vertical-align: top;\n    }\n\n    .dataframe thead th {\n        text-align: right;\n    }\n</style>\n<table border=\"1\" class=\"dataframe\">\n  <thead>\n    <tr style=\"text-align: right;\">\n      <th></th>\n      <th>category string</th>\n    </tr>\n    <tr>\n      <th>categorty_id</th>\n      <th></th>\n    </tr>\n  </thead>\n  <tbody>\n    <tr>\n      <th>1</th>\n      <td>vehicle</td>\n    </tr>\n    <tr>\n      <th>2</th>\n      <td>bag</td>\n    </tr>\n    <tr>\n      <th>3</th>\n      <td>animal</td>\n    </tr>\n  </tbody>\n</table>\n</div>",
          "text/plain": "             category string\ncategorty_id                \n1                    vehicle\n2                        bag\n3                     animal"
         },
         "metadata": {},
         "output_type": "display_data"
        }
       ]
      }
     },
     "e8c88a6db66640d0895c861ec173c281": {
      "model_module": "@jupyter-widgets/base",
      "model_module_version": "2.0.0",
      "model_name": "LayoutModel",
      "state": {}
     },
     "e8e91675ecf542b89fcaecf3e49e32d5": {
      "model_module": "@jupyter-widgets/controls",
      "model_module_version": "2.0.0",
      "model_name": "HTMLStyleModel",
      "state": {
       "description_width": "",
       "font_size": null,
       "text_color": null
      }
     },
     "e8ee3373143f47c8a5390f3694e84afc": {
      "model_module": "@jupyter-widgets/controls",
      "model_module_version": "2.0.0",
      "model_name": "HTMLStyleModel",
      "state": {
       "description_width": "",
       "font_size": null,
       "text_color": null
      }
     },
     "e91cbec2bc104f5fae8a06615191e111": {
      "model_module": "@jupyter-widgets/base",
      "model_module_version": "2.0.0",
      "model_name": "LayoutModel",
      "state": {}
     },
     "e9cc55717f0a412997466d614379e321": {
      "model_module": "@jupyter-widgets/output",
      "model_module_version": "1.0.0",
      "model_name": "OutputModel",
      "state": {
       "layout": "IPY_MODEL_806c1ca4dd254135b881863555eebc2b",
       "outputs": [
        {
         "data": {
          "text/html": "<div>\n<style scoped>\n    .dataframe tbody tr th:only-of-type {\n        vertical-align: middle;\n    }\n\n    .dataframe tbody tr th {\n        vertical-align: top;\n    }\n\n    .dataframe thead th {\n        text-align: right;\n    }\n</style>\n<table border=\"1\" class=\"dataframe\">\n  <thead>\n    <tr style=\"text-align: right;\">\n      <th></th>\n      <th>category string</th>\n    </tr>\n    <tr>\n      <th>categorty_id</th>\n      <th></th>\n    </tr>\n  </thead>\n  <tbody>\n    <tr>\n      <th>1</th>\n      <td>person</td>\n    </tr>\n    <tr>\n      <th>2</th>\n      <td>bicycle</td>\n    </tr>\n    <tr>\n      <th>3</th>\n      <td>car</td>\n    </tr>\n    <tr>\n      <th>4</th>\n      <td>motorcycle</td>\n    </tr>\n    <tr>\n      <th>5</th>\n      <td>airplane</td>\n    </tr>\n    <tr>\n      <th>...</th>\n      <td>...</td>\n    </tr>\n    <tr>\n      <th>86</th>\n      <td>vase</td>\n    </tr>\n    <tr>\n      <th>87</th>\n      <td>scissors</td>\n    </tr>\n    <tr>\n      <th>88</th>\n      <td>teddy bear</td>\n    </tr>\n    <tr>\n      <th>89</th>\n      <td>hair drier</td>\n    </tr>\n    <tr>\n      <th>90</th>\n      <td>toothbrush</td>\n    </tr>\n  </tbody>\n</table>\n<p>80 rows × 1 columns</p>\n</div>",
          "text/plain": "             category string\ncategorty_id                \n1                     person\n2                    bicycle\n3                        car\n4                 motorcycle\n5                   airplane\n...                      ...\n86                      vase\n87                  scissors\n88                teddy bear\n89                hair drier\n90                toothbrush\n\n[80 rows x 1 columns]"
         },
         "metadata": {},
         "output_type": "display_data"
        }
       ]
      }
     },
     "ea40a69285a2491eb41963c5776ee600": {
      "model_module": "@jupyter-widgets/base",
      "model_module_version": "2.0.0",
      "model_name": "LayoutModel",
      "state": {}
     },
     "ea8bfec5918841c08debdd5c41cdf5e2": {
      "model_module": "@jupyter-widgets/controls",
      "model_module_version": "2.0.0",
      "model_name": "TabModel",
      "state": {
       "children": [
        "IPY_MODEL_32782b9557134fc995626d79902451e5",
        "IPY_MODEL_cc43f74952ef47fcab28139ebe997408",
        "IPY_MODEL_80879f6ac307479383698a3e19e9c900"
       ],
       "layout": "IPY_MODEL_d3409bbb726249d0806d656acd368cb4",
       "selected_index": 0,
       "titles": [
        "Images",
        "Annotations",
        "Label Map"
       ]
      }
     },
     "ecc851f2a5aa4fcea9e41adf502d6802": {
      "model_module": "@jupyter-widgets/base",
      "model_module_version": "2.0.0",
      "model_name": "LayoutModel",
      "state": {}
     },
     "ece019398ca24ffa9afbc367c35cd5f0": {
      "model_module": "@jupyter-widgets/output",
      "model_module_version": "1.0.0",
      "model_name": "OutputModel",
      "state": {
       "layout": "IPY_MODEL_ed69e041c6484ce8a25e09298ff2dc8e",
       "outputs": [
        {
         "data": {
          "text/html": "<div>\n<style scoped>\n    .dataframe tbody tr th:only-of-type {\n        vertical-align: middle;\n    }\n\n    .dataframe tbody tr th {\n        vertical-align: top;\n    }\n\n    .dataframe thead th {\n        text-align: right;\n    }\n</style>\n<table border=\"1\" class=\"dataframe\">\n  <thead>\n    <tr style=\"text-align: right;\">\n      <th></th>\n      <th>category string</th>\n    </tr>\n    <tr>\n      <th>categorty_id</th>\n      <th></th>\n    </tr>\n  </thead>\n  <tbody>\n    <tr>\n      <th>1</th>\n      <td>person</td>\n    </tr>\n    <tr>\n      <th>2</th>\n      <td>bicycle</td>\n    </tr>\n    <tr>\n      <th>3</th>\n      <td>car</td>\n    </tr>\n    <tr>\n      <th>4</th>\n      <td>motorcycle</td>\n    </tr>\n    <tr>\n      <th>5</th>\n      <td>airplane</td>\n    </tr>\n    <tr>\n      <th>...</th>\n      <td>...</td>\n    </tr>\n    <tr>\n      <th>86</th>\n      <td>vase</td>\n    </tr>\n    <tr>\n      <th>87</th>\n      <td>scissors</td>\n    </tr>\n    <tr>\n      <th>88</th>\n      <td>teddy bear</td>\n    </tr>\n    <tr>\n      <th>89</th>\n      <td>hair drier</td>\n    </tr>\n    <tr>\n      <th>90</th>\n      <td>toothbrush</td>\n    </tr>\n  </tbody>\n</table>\n<p>80 rows × 1 columns</p>\n</div>",
          "text/plain": "             category string\ncategorty_id                \n1                     person\n2                    bicycle\n3                        car\n4                 motorcycle\n5                   airplane\n...                      ...\n86                      vase\n87                  scissors\n88                teddy bear\n89                hair drier\n90                toothbrush\n\n[80 rows x 1 columns]"
         },
         "metadata": {},
         "output_type": "display_data"
        }
       ]
      }
     },
     "ecf13b3967844333a277d28f50cb8f25": {
      "model_module": "@jupyter-widgets/controls",
      "model_module_version": "2.0.0",
      "model_name": "HTMLStyleModel",
      "state": {
       "description_width": "",
       "font_size": null,
       "text_color": null
      }
     },
     "ed69e041c6484ce8a25e09298ff2dc8e": {
      "model_module": "@jupyter-widgets/base",
      "model_module_version": "2.0.0",
      "model_name": "LayoutModel",
      "state": {}
     },
     "ede87f5976884a85a95c7ee126782ab0": {
      "model_module": "@jupyter-widgets/output",
      "model_module_version": "1.0.0",
      "model_name": "OutputModel",
      "state": {
       "layout": "IPY_MODEL_2966e599cae24eeda2bc34a674716c60",
       "outputs": [
        {
         "data": {
          "text/html": "<div>\n<style scoped>\n    .dataframe tbody tr th:only-of-type {\n        vertical-align: middle;\n    }\n\n    .dataframe tbody tr th {\n        vertical-align: top;\n    }\n\n    .dataframe thead th {\n        text-align: right;\n    }\n</style>\n<table border=\"1\" class=\"dataframe\">\n  <thead>\n    <tr style=\"text-align: right;\">\n      <th></th>\n      <th>area</th>\n      <th>box_height</th>\n      <th>box_width</th>\n      <th>category_id</th>\n      <th>category_str</th>\n      <th>image_id</th>\n      <th>split</th>\n      <th>xmin</th>\n      <th>ymin</th>\n    </tr>\n    <tr>\n      <th>id</th>\n      <th></th>\n      <th></th>\n      <th></th>\n      <th></th>\n      <th></th>\n      <th></th>\n      <th></th>\n      <th></th>\n      <th></th>\n    </tr>\n  </thead>\n  <tbody>\n    <tr>\n      <th>283</th>\n      <td>47310.21745</td>\n      <td>290.67</td>\n      <td>288.09</td>\n      <td>58</td>\n      <td>hot dog</td>\n      <td>118367</td>\n      <td>valid</td>\n      <td>154.34</td>\n      <td>31.72</td>\n    </tr>\n    <tr>\n      <th>381</th>\n      <td>107452.60385</td>\n      <td>370.41</td>\n      <td>589.58</td>\n      <td>58</td>\n      <td>hot dog</td>\n      <td>464786</td>\n      <td>valid</td>\n      <td>25.78</td>\n      <td>52.43</td>\n    </tr>\n    <tr>\n      <th>567</th>\n      <td>14878.08055</td>\n      <td>206.45</td>\n      <td>246.36</td>\n      <td>58</td>\n      <td>hot dog</td>\n      <td>581206</td>\n      <td>valid</td>\n      <td>147.27</td>\n      <td>282.15</td>\n    </tr>\n    <tr>\n      <th>760</th>\n      <td>8424.12670</td>\n      <td>146.09</td>\n      <td>134.25</td>\n      <td>58</td>\n      <td>hot dog</td>\n      <td>157601</td>\n      <td>valid</td>\n      <td>110.55</td>\n      <td>188.21</td>\n    </tr>\n    <tr>\n      <th>810</th>\n      <td>3211.34430</td>\n      <td>67.98</td>\n      <td>103.00</td>\n      <td>58</td>\n      <td>hot dog</td>\n      <td>513567</td>\n      <td>valid</td>\n      <td>124.64</td>\n      <td>281.32</td>\n    </tr>\n    <tr>\n      <th>...</th>\n      <td>...</td>\n      <td>...</td>\n      <td>...</td>\n      <td>...</td>\n      <td>...</td>\n      <td>...</td>\n      <td>...</td>\n      <td>...</td>\n      <td>...</td>\n    </tr>\n    <tr>\n      <th>908400571893</th>\n      <td>10572.00000</td>\n      <td>225.00</td>\n      <td>177.00</td>\n      <td>84</td>\n      <td>book</td>\n      <td>571893</td>\n      <td>valid</td>\n      <td>270.00</td>\n      <td>167.00</td>\n    </tr>\n    <tr>\n      <th>908600097585</th>\n      <td>10467.00000</td>\n      <td>95.00</td>\n      <td>402.00</td>\n      <td>86</td>\n      <td>vase</td>\n      <td>97585</td>\n      <td>valid</td>\n      <td>41.00</td>\n      <td>0.00</td>\n    </tr>\n    <tr>\n      <th>908600370042</th>\n      <td>4816.00000</td>\n      <td>75.00</td>\n      <td>96.00</td>\n      <td>86</td>\n      <td>vase</td>\n      <td>370042</td>\n      <td>valid</td>\n      <td>43.00</td>\n      <td>147.00</td>\n    </tr>\n    <tr>\n      <th>908600434230</th>\n      <td>16632.00000</td>\n      <td>167.00</td>\n      <td>179.00</td>\n      <td>86</td>\n      <td>vase</td>\n      <td>434230</td>\n      <td>valid</td>\n      <td>58.00</td>\n      <td>56.00</td>\n    </tr>\n    <tr>\n      <th>908800474293</th>\n      <td>20047.00000</td>\n      <td>246.00</td>\n      <td>345.00</td>\n      <td>88</td>\n      <td>teddy bear</td>\n      <td>474293</td>\n      <td>valid</td>\n      <td>136.00</td>\n      <td>73.00</td>\n    </tr>\n  </tbody>\n</table>\n<p>36781 rows × 9 columns</p>\n</div>",
          "text/plain": "                      area  box_height  box_width  category_id category_str  \\\nid                                                                            \n283            47310.21745      290.67     288.09           58      hot dog   \n381           107452.60385      370.41     589.58           58      hot dog   \n567            14878.08055      206.45     246.36           58      hot dog   \n760             8424.12670      146.09     134.25           58      hot dog   \n810             3211.34430       67.98     103.00           58      hot dog   \n...                    ...         ...        ...          ...          ...   \n908400571893   10572.00000      225.00     177.00           84         book   \n908600097585   10467.00000       95.00     402.00           86         vase   \n908600370042    4816.00000       75.00      96.00           86         vase   \n908600434230   16632.00000      167.00     179.00           86         vase   \n908800474293   20047.00000      246.00     345.00           88   teddy bear   \n\n              image_id  split    xmin    ymin  \nid                                             \n283             118367  valid  154.34   31.72  \n381             464786  valid   25.78   52.43  \n567             581206  valid  147.27  282.15  \n760             157601  valid  110.55  188.21  \n810             513567  valid  124.64  281.32  \n...                ...    ...     ...     ...  \n908400571893    571893  valid  270.00  167.00  \n908600097585     97585  valid   41.00    0.00  \n908600370042    370042  valid   43.00  147.00  \n908600434230    434230  valid   58.00   56.00  \n908800474293    474293  valid  136.00   73.00  \n\n[36781 rows x 9 columns]"
         },
         "metadata": {},
         "output_type": "display_data"
        }
       ]
      }
     },
     "edf71520d1634792b8b33a0dcc5780da": {
      "model_module": "@jupyter-widgets/output",
      "model_module_version": "1.0.0",
      "model_name": "OutputModel",
      "state": {
       "layout": "IPY_MODEL_672cfee0accb43e6b66b4bd80e62b937",
       "outputs": [
        {
         "data": {
          "text/html": "<div>\n<style scoped>\n    .dataframe tbody tr th:only-of-type {\n        vertical-align: middle;\n    }\n\n    .dataframe tbody tr th {\n        vertical-align: top;\n    }\n\n    .dataframe thead th {\n        text-align: right;\n    }\n</style>\n<table border=\"1\" class=\"dataframe\">\n  <thead>\n    <tr style=\"text-align: right;\">\n      <th></th>\n      <th>category string</th>\n    </tr>\n    <tr>\n      <th>categorty_id</th>\n      <th></th>\n    </tr>\n  </thead>\n  <tbody>\n    <tr>\n      <th>1</th>\n      <td>person</td>\n    </tr>\n    <tr>\n      <th>2</th>\n      <td>bicycle</td>\n    </tr>\n    <tr>\n      <th>3</th>\n      <td>car</td>\n    </tr>\n    <tr>\n      <th>4</th>\n      <td>motorcycle</td>\n    </tr>\n    <tr>\n      <th>5</th>\n      <td>airplane</td>\n    </tr>\n    <tr>\n      <th>...</th>\n      <td>...</td>\n    </tr>\n    <tr>\n      <th>86</th>\n      <td>vase</td>\n    </tr>\n    <tr>\n      <th>87</th>\n      <td>scissors</td>\n    </tr>\n    <tr>\n      <th>88</th>\n      <td>teddy bear</td>\n    </tr>\n    <tr>\n      <th>89</th>\n      <td>hair drier</td>\n    </tr>\n    <tr>\n      <th>90</th>\n      <td>toothbrush</td>\n    </tr>\n  </tbody>\n</table>\n<p>80 rows × 1 columns</p>\n</div>",
          "text/plain": "             category string\ncategorty_id                \n1                     person\n2                    bicycle\n3                        car\n4                 motorcycle\n5                   airplane\n...                      ...\n86                      vase\n87                  scissors\n88                teddy bear\n89                hair drier\n90                toothbrush\n\n[80 rows x 1 columns]"
         },
         "metadata": {},
         "output_type": "display_data"
        }
       ]
      }
     },
     "efe731a7f9274af2a77e45e1d38a7714": {
      "model_module": "@jupyter-widgets/base",
      "model_module_version": "2.0.0",
      "model_name": "LayoutModel",
      "state": {}
     },
     "f1175676110f4cc9829ad6f6a8211481": {
      "model_module": "@jupyter-widgets/output",
      "model_module_version": "1.0.0",
      "model_name": "OutputModel",
      "state": {
       "layout": "IPY_MODEL_970e1a5d7ad746b987991781d739566f",
       "outputs": [
        {
         "data": {
          "text/html": "<div>\n<style scoped>\n    .dataframe tbody tr th:only-of-type {\n        vertical-align: middle;\n    }\n\n    .dataframe tbody tr th {\n        vertical-align: top;\n    }\n\n    .dataframe thead th {\n        text-align: right;\n    }\n</style>\n<table border=\"1\" class=\"dataframe\">\n  <thead>\n    <tr style=\"text-align: right;\">\n      <th></th>\n      <th>file_name</th>\n      <th>height</th>\n      <th>width</th>\n      <th>split</th>\n      <th>relative_path</th>\n      <th>type</th>\n    </tr>\n    <tr>\n      <th>id</th>\n      <th></th>\n      <th></th>\n      <th></th>\n      <th></th>\n      <th></th>\n      <th></th>\n    </tr>\n  </thead>\n  <tbody>\n    <tr>\n      <th>352582</th>\n      <td>000000352582.jpg</td>\n      <td>640</td>\n      <td>425</td>\n      <td>valid</td>\n      <td>Images/valid/000000352582.jpg</td>\n      <td>.jpg</td>\n    </tr>\n    <tr>\n      <th>113354</th>\n      <td>000000113354.jpg</td>\n      <td>480</td>\n      <td>640</td>\n      <td>valid</td>\n      <td>Images/valid/000000113354.jpg</td>\n      <td>.jpg</td>\n    </tr>\n    <tr>\n      <th>58393</th>\n      <td>000000058393.jpg</td>\n      <td>486</td>\n      <td>640</td>\n      <td>valid</td>\n      <td>Images/valid/000000058393.jpg</td>\n      <td>.jpg</td>\n    </tr>\n    <tr>\n      <th>147729</th>\n      <td>000000147729.jpg</td>\n      <td>375</td>\n      <td>500</td>\n      <td>valid</td>\n      <td>Images/valid/000000147729.jpg</td>\n      <td>.jpg</td>\n    </tr>\n    <tr>\n      <th>310072</th>\n      <td>000000310072.jpg</td>\n      <td>383</td>\n      <td>640</td>\n      <td>valid</td>\n      <td>Images/valid/000000310072.jpg</td>\n      <td>.jpg</td>\n    </tr>\n    <tr>\n      <th>...</th>\n      <td>...</td>\n      <td>...</td>\n      <td>...</td>\n      <td>...</td>\n      <td>...</td>\n      <td>...</td>\n    </tr>\n    <tr>\n      <th>311180</th>\n      <td>000000311180.jpg</td>\n      <td>640</td>\n      <td>480</td>\n      <td>valid</td>\n      <td>Images/valid/000000311180.jpg</td>\n      <td>.jpg</td>\n    </tr>\n    <tr>\n      <th>302030</th>\n      <td>000000302030.jpg</td>\n      <td>359</td>\n      <td>640</td>\n      <td>valid</td>\n      <td>Images/valid/000000302030.jpg</td>\n      <td>.jpg</td>\n    </tr>\n    <tr>\n      <th>105455</th>\n      <td>000000105455.jpg</td>\n      <td>640</td>\n      <td>427</td>\n      <td>valid</td>\n      <td>Images/valid/000000105455.jpg</td>\n      <td>.jpg</td>\n    </tr>\n    <tr>\n      <th>428280</th>\n      <td>000000428280.jpg</td>\n      <td>333</td>\n      <td>500</td>\n      <td>valid</td>\n      <td>Images/valid/000000428280.jpg</td>\n      <td>.jpg</td>\n    </tr>\n    <tr>\n      <th>349837</th>\n      <td>000000349837.jpg</td>\n      <td>333</td>\n      <td>500</td>\n      <td>valid</td>\n      <td>Images/valid/000000349837.jpg</td>\n      <td>.jpg</td>\n    </tr>\n  </tbody>\n</table>\n<p>5000 rows × 6 columns</p>\n</div>",
          "text/plain": "               file_name  height  width  split                  relative_path  \\\nid                                                                              \n352582  000000352582.jpg     640    425  valid  Images/valid/000000352582.jpg   \n113354  000000113354.jpg     480    640  valid  Images/valid/000000113354.jpg   \n58393   000000058393.jpg     486    640  valid  Images/valid/000000058393.jpg   \n147729  000000147729.jpg     375    500  valid  Images/valid/000000147729.jpg   \n310072  000000310072.jpg     383    640  valid  Images/valid/000000310072.jpg   \n...                  ...     ...    ...    ...                            ...   \n311180  000000311180.jpg     640    480  valid  Images/valid/000000311180.jpg   \n302030  000000302030.jpg     359    640  valid  Images/valid/000000302030.jpg   \n105455  000000105455.jpg     640    427  valid  Images/valid/000000105455.jpg   \n428280  000000428280.jpg     333    500  valid  Images/valid/000000428280.jpg   \n349837  000000349837.jpg     333    500  valid  Images/valid/000000349837.jpg   \n\n        type  \nid            \n352582  .jpg  \n113354  .jpg  \n58393   .jpg  \n147729  .jpg  \n310072  .jpg  \n...      ...  \n311180  .jpg  \n302030  .jpg  \n105455  .jpg  \n428280  .jpg  \n349837  .jpg  \n\n[5000 rows x 6 columns]"
         },
         "metadata": {},
         "output_type": "display_data"
        }
       ]
      }
     },
     "f16f9a1cb1124c9baa20b42f6ce84824": {
      "model_module": "@jupyter-widgets/output",
      "model_module_version": "1.0.0",
      "model_name": "OutputModel",
      "state": {
       "layout": "IPY_MODEL_84527053670e4e29888ea58b549db050",
       "outputs": [
        {
         "data": {
          "text/html": "<div>\n<style scoped>\n    .dataframe tbody tr th:only-of-type {\n        vertical-align: middle;\n    }\n\n    .dataframe tbody tr th {\n        vertical-align: top;\n    }\n\n    .dataframe thead th {\n        text-align: right;\n    }\n</style>\n<table border=\"1\" class=\"dataframe\">\n  <thead>\n    <tr style=\"text-align: right;\">\n      <th></th>\n      <th>file_name</th>\n      <th>height</th>\n      <th>relative_path</th>\n      <th>split</th>\n      <th>type</th>\n      <th>width</th>\n    </tr>\n  </thead>\n  <tbody>\n    <tr>\n      <th>139</th>\n      <td>000000000139.jpg</td>\n      <td>426</td>\n      <td>Images/valid/000000000139.jpg</td>\n      <td>valid</td>\n      <td>.jpg</td>\n      <td>640</td>\n    </tr>\n  </tbody>\n</table>\n</div>",
          "text/plain": "            file_name height                  relative_path  split  type width\n139  000000000139.jpg    426  Images/valid/000000000139.jpg  valid  .jpg   640"
         },
         "metadata": {},
         "output_type": "display_data"
        }
       ]
      }
     },
     "f2ab69ada39646f9a9e103d9d98a2914": {
      "model_module": "@jupyter-widgets/base",
      "model_module_version": "2.0.0",
      "model_name": "LayoutModel",
      "state": {}
     },
     "f2d09f59408a489ca6af02bc38f24fe1": {
      "model_module": "@jupyter-widgets/base",
      "model_module_version": "2.0.0",
      "model_name": "LayoutModel",
      "state": {}
     },
     "f2ec01346b6e47ac8edb187eb41eabd9": {
      "model_module": "@jupyter-widgets/base",
      "model_module_version": "2.0.0",
      "model_name": "LayoutModel",
      "state": {}
     },
     "f464277d43214263af79e605f4df030d": {
      "model_module": "@jupyter-widgets/output",
      "model_module_version": "1.0.0",
      "model_name": "OutputModel",
      "state": {
       "layout": "IPY_MODEL_c73d992dabcd4a3bab6ec2cbd275aa02",
       "outputs": [
        {
         "data": {
          "text/html": "<div>\n<style scoped>\n    .dataframe tbody tr th:only-of-type {\n        vertical-align: middle;\n    }\n\n    .dataframe tbody tr th {\n        vertical-align: top;\n    }\n\n    .dataframe thead th {\n        text-align: right;\n    }\n</style>\n<table border=\"1\" class=\"dataframe\">\n  <thead>\n    <tr style=\"text-align: right;\">\n      <th></th>\n      <th>category string</th>\n    </tr>\n    <tr>\n      <th>categorty_id</th>\n      <th></th>\n    </tr>\n  </thead>\n  <tbody>\n    <tr>\n      <th>1</th>\n      <td>person</td>\n    </tr>\n    <tr>\n      <th>2</th>\n      <td>bicycle</td>\n    </tr>\n    <tr>\n      <th>3</th>\n      <td>car</td>\n    </tr>\n    <tr>\n      <th>4</th>\n      <td>motorcycle</td>\n    </tr>\n    <tr>\n      <th>5</th>\n      <td>airplane</td>\n    </tr>\n    <tr>\n      <th>...</th>\n      <td>...</td>\n    </tr>\n    <tr>\n      <th>86</th>\n      <td>vase</td>\n    </tr>\n    <tr>\n      <th>87</th>\n      <td>scissors</td>\n    </tr>\n    <tr>\n      <th>88</th>\n      <td>teddy bear</td>\n    </tr>\n    <tr>\n      <th>89</th>\n      <td>hair drier</td>\n    </tr>\n    <tr>\n      <th>90</th>\n      <td>toothbrush</td>\n    </tr>\n  </tbody>\n</table>\n<p>80 rows × 1 columns</p>\n</div>",
          "text/plain": "             category string\ncategorty_id                \n1                     person\n2                    bicycle\n3                        car\n4                 motorcycle\n5                   airplane\n...                      ...\n86                      vase\n87                  scissors\n88                teddy bear\n89                hair drier\n90                toothbrush\n\n[80 rows x 1 columns]"
         },
         "metadata": {},
         "output_type": "display_data"
        }
       ]
      }
     },
     "f4a0df7c1e064705a09d20ea42a369fd": {
      "model_module": "@jupyter-widgets/controls",
      "model_module_version": "2.0.0",
      "model_name": "TabModel",
      "state": {
       "children": [
        "IPY_MODEL_dfee635ea2d14970aaf7f42e254d860a",
        "IPY_MODEL_9d9e06e183414ad5aa08a6533805b348",
        "IPY_MODEL_211bfad605fb4ad09385b4f26030bf36"
       ],
       "layout": "IPY_MODEL_a7590f6d6a904296882c829459c8c333",
       "selected_index": 0,
       "titles": [
        "Images",
        "Annotations",
        "Label Map"
       ]
      }
     },
     "f58fe5007c9d40d0b1dcb69478a3a034": {
      "model_module": "@jupyter-widgets/output",
      "model_module_version": "1.0.0",
      "model_name": "OutputModel",
      "state": {
       "layout": "IPY_MODEL_4fb77b8e036d4e5c999a23589d5cb361",
       "outputs": [
        {
         "data": {
          "text/html": "<div>\n<style scoped>\n    .dataframe tbody tr th:only-of-type {\n        vertical-align: middle;\n    }\n\n    .dataframe tbody tr th {\n        vertical-align: top;\n    }\n\n    .dataframe thead th {\n        text-align: right;\n    }\n</style>\n<table border=\"1\" class=\"dataframe\">\n  <thead>\n    <tr style=\"text-align: right;\">\n      <th></th>\n      <th>category string</th>\n    </tr>\n    <tr>\n      <th>categorty_id</th>\n      <th></th>\n    </tr>\n  </thead>\n  <tbody>\n    <tr>\n      <th>1</th>\n      <td>vehicle</td>\n    </tr>\n    <tr>\n      <th>2</th>\n      <td>bag</td>\n    </tr>\n    <tr>\n      <th>3</th>\n      <td>animal</td>\n    </tr>\n  </tbody>\n</table>\n</div>",
          "text/plain": "             category string\ncategorty_id                \n1                    vehicle\n2                        bag\n3                     animal"
         },
         "metadata": {},
         "output_type": "display_data"
        }
       ]
      }
     },
     "f60194fcf7354277a9e7a0b6506ba265": {
      "model_module": "@jupyter-widgets/controls",
      "model_module_version": "2.0.0",
      "model_name": "VBoxModel",
      "state": {
       "children": [
        "IPY_MODEL_7895477de769455889a18c096566a63d",
        "IPY_MODEL_071fbdc5b78346d5aa3e8083f9f3d7df"
       ],
       "layout": "IPY_MODEL_9a54b942667e49309e70738e04fbad76"
      }
     },
     "f6fac567792740cba2b6ad8b2254009b": {
      "model_module": "@jupyter-widgets/controls",
      "model_module_version": "2.0.0",
      "model_name": "VBoxModel",
      "state": {
       "children": [
        "IPY_MODEL_72a646e228a3489a9e49a1112fc47986",
        "IPY_MODEL_117302493ab840ea83cc6abb14a242b5"
       ],
       "layout": "IPY_MODEL_49a168525b3e441895d0d9d5e56aa732"
      }
     },
     "f7457eb09a914357bf4305eb592490dc": {
      "model_module": "@jupyter-widgets/base",
      "model_module_version": "2.0.0",
      "model_name": "LayoutModel",
      "state": {}
     },
     "f7b79fd8734742c9aa191160c623e6ce": {
      "model_module": "@jupyter-widgets/output",
      "model_module_version": "1.0.0",
      "model_name": "OutputModel",
      "state": {
       "layout": "IPY_MODEL_7f2c0ecb805442f6a57fd6d10afb425c",
       "outputs": [
        {
         "data": {
          "text/html": "<div>\n<style scoped>\n    .dataframe tbody tr th:only-of-type {\n        vertical-align: middle;\n    }\n\n    .dataframe tbody tr th {\n        vertical-align: top;\n    }\n\n    .dataframe thead th {\n        text-align: right;\n    }\n</style>\n<table border=\"1\" class=\"dataframe\">\n  <thead>\n    <tr style=\"text-align: right;\">\n      <th></th>\n      <th>area</th>\n      <th>image_id</th>\n      <th>category_id</th>\n      <th>split</th>\n      <th>xmin</th>\n      <th>ymin</th>\n      <th>box_width</th>\n      <th>box_height</th>\n      <th>category_str</th>\n    </tr>\n    <tr>\n      <th>id</th>\n      <th></th>\n      <th></th>\n      <th></th>\n      <th></th>\n      <th></th>\n      <th></th>\n      <th></th>\n      <th></th>\n      <th></th>\n    </tr>\n  </thead>\n  <tbody>\n    <tr>\n      <th>357584</th>\n      <td>14718.47935</td>\n      <td>310072</td>\n      <td>1</td>\n      <td>valid</td>\n      <td>223.85</td>\n      <td>0.00</td>\n      <td>258.83</td>\n      <td>69.08</td>\n      <td>vehicle</td>\n    </tr>\n    <tr>\n      <th>358258</th>\n      <td>6989.84750</td>\n      <td>310072</td>\n      <td>1</td>\n      <td>valid</td>\n      <td>0.00</td>\n      <td>1.94</td>\n      <td>135.99</td>\n      <td>66.27</td>\n      <td>vehicle</td>\n    </tr>\n    <tr>\n      <th>363154</th>\n      <td>1729.26630</td>\n      <td>310072</td>\n      <td>1</td>\n      <td>valid</td>\n      <td>170.89</td>\n      <td>0.00</td>\n      <td>71.06</td>\n      <td>36.96</td>\n      <td>vehicle</td>\n    </tr>\n    <tr>\n      <th>1337431</th>\n      <td>91.97330</td>\n      <td>310072</td>\n      <td>1</td>\n      <td>valid</td>\n      <td>631.99</td>\n      <td>7.35</td>\n      <td>8.01</td>\n      <td>15.46</td>\n      <td>vehicle</td>\n    </tr>\n    <tr>\n      <th>1368385</th>\n      <td>7558.39585</td>\n      <td>310072</td>\n      <td>1</td>\n      <td>valid</td>\n      <td>0.00</td>\n      <td>0.00</td>\n      <td>131.87</td>\n      <td>71.46</td>\n      <td>vehicle</td>\n    </tr>\n    <tr>\n      <th>...</th>\n      <td>...</td>\n      <td>...</td>\n      <td>...</td>\n      <td>...</td>\n      <td>...</td>\n      <td>...</td>\n      <td>...</td>\n      <td>...</td>\n      <td>...</td>\n    </tr>\n    <tr>\n      <th>10068</th>\n      <td>10866.03335</td>\n      <td>189806</td>\n      <td>3</td>\n      <td>valid</td>\n      <td>263.63</td>\n      <td>193.10</td>\n      <td>180.04</td>\n      <td>103.59</td>\n      <td>animal</td>\n    </tr>\n    <tr>\n      <th>46540</th>\n      <td>5204.68295</td>\n      <td>189806</td>\n      <td>3</td>\n      <td>valid</td>\n      <td>130.91</td>\n      <td>165.20</td>\n      <td>94.54</td>\n      <td>104.73</td>\n      <td>animal</td>\n    </tr>\n    <tr>\n      <th>344755</th>\n      <td>4084.58345</td>\n      <td>363188</td>\n      <td>1</td>\n      <td>valid</td>\n      <td>590.03</td>\n      <td>198.92</td>\n      <td>49.97</td>\n      <td>106.42</td>\n      <td>vehicle</td>\n    </tr>\n    <tr>\n      <th>1420625</th>\n      <td>865.42470</td>\n      <td>363188</td>\n      <td>2</td>\n      <td>valid</td>\n      <td>221.41</td>\n      <td>199.76</td>\n      <td>91.36</td>\n      <td>63.64</td>\n      <td>bag</td>\n    </tr>\n    <tr>\n      <th>1192747</th>\n      <td>182.21680</td>\n      <td>105455</td>\n      <td>1</td>\n      <td>valid</td>\n      <td>333.56</td>\n      <td>517.21</td>\n      <td>17.43</td>\n      <td>14.58</td>\n      <td>vehicle</td>\n    </tr>\n  </tbody>\n</table>\n<p>5143 rows × 9 columns</p>\n</div>",
          "text/plain": "                area  image_id  category_id  split    xmin    ymin  box_width  \\\nid                                                                              \n357584   14718.47935    310072            1  valid  223.85    0.00     258.83   \n358258    6989.84750    310072            1  valid    0.00    1.94     135.99   \n363154    1729.26630    310072            1  valid  170.89    0.00      71.06   \n1337431     91.97330    310072            1  valid  631.99    7.35       8.01   \n1368385   7558.39585    310072            1  valid    0.00    0.00     131.87   \n...              ...       ...          ...    ...     ...     ...        ...   \n10068    10866.03335    189806            3  valid  263.63  193.10     180.04   \n46540     5204.68295    189806            3  valid  130.91  165.20      94.54   \n344755    4084.58345    363188            1  valid  590.03  198.92      49.97   \n1420625    865.42470    363188            2  valid  221.41  199.76      91.36   \n1192747    182.21680    105455            1  valid  333.56  517.21      17.43   \n\n         box_height category_str  \nid                                \n357584        69.08      vehicle  \n358258        66.27      vehicle  \n363154        36.96      vehicle  \n1337431       15.46      vehicle  \n1368385       71.46      vehicle  \n...             ...          ...  \n10068        103.59       animal  \n46540        104.73       animal  \n344755       106.42      vehicle  \n1420625       63.64          bag  \n1192747       14.58      vehicle  \n\n[5143 rows x 9 columns]"
         },
         "metadata": {},
         "output_type": "display_data"
        }
       ]
      }
     },
     "f7e885702c4042b595534d634d9ea388": {
      "model_module": "@jupyter-widgets/base",
      "model_module_version": "2.0.0",
      "model_name": "LayoutModel",
      "state": {}
     },
     "f7fee9813b20459ba0b1c4ad8a1888eb": {
      "model_module": "@jupyter-widgets/controls",
      "model_module_version": "2.0.0",
      "model_name": "HTMLModel",
      "state": {
       "layout": "IPY_MODEL_88f5cd87702b4ebfb3f7710376f2d6fd",
       "style": "IPY_MODEL_734c241eb085423dad61c4bfd82d1d89",
       "value": "<b> Dataset object located at notebook_data, containing 5,000 images and 5,143 objects </b>"
      }
     },
     "f842f3cb230e464ca755ef6dc2005ab5": {
      "model_module": "@jupyter-widgets/controls",
      "model_module_version": "2.0.0",
      "model_name": "TabModel",
      "state": {
       "children": [
        "IPY_MODEL_4c83a20da7f746f1965d78e1b066fb5b",
        "IPY_MODEL_95e8d8bfe50947cc8f00f8447aac0936",
        "IPY_MODEL_dbea35a68121489293538fdcf5f430df"
       ],
       "layout": "IPY_MODEL_b624e94dac18444f88d9512b407eaf45",
       "selected_index": 0,
       "titles": [
        "Images",
        "Annotations",
        "Label Map"
       ]
      }
     },
     "f922139855454c629f760fa8b305c8dc": {
      "model_module": "@jupyter-widgets/base",
      "model_module_version": "2.0.0",
      "model_name": "LayoutModel",
      "state": {}
     },
     "f94cf3d3dfc94d4f9223e2abad00cb8b": {
      "model_module": "@jupyter-widgets/controls",
      "model_module_version": "2.0.0",
      "model_name": "TabModel",
      "state": {
       "children": [
        "IPY_MODEL_8166c180c3f84f0cb92a5a428a606eeb",
        "IPY_MODEL_24aa9a6bf5fc4a1689da9a52c4efd632",
        "IPY_MODEL_dc412ef0ce16469c94a613b47a0807b8"
       ],
       "layout": "IPY_MODEL_d64f6eb2212f4a3caf2e821dae57130f",
       "selected_index": 0,
       "titles": [
        "Images",
        "Annotations",
        "Label Map"
       ]
      }
     },
     "f95b4d54e1874ba6861974c760f96e99": {
      "model_module": "@jupyter-widgets/base",
      "model_module_version": "2.0.0",
      "model_name": "LayoutModel",
      "state": {}
     },
     "f96852ba6434440988a2a07e751a38f6": {
      "model_module": "@jupyter-widgets/controls",
      "model_module_version": "2.0.0",
      "model_name": "VBoxModel",
      "state": {
       "children": [
        "IPY_MODEL_a8e2a30412254274988c619ec69003a3",
        "IPY_MODEL_7f64eae8bcdd440992ae88e299995175"
       ],
       "layout": "IPY_MODEL_63974f338f7e406d9346c3e42f259407"
      }
     },
     "f9b17308956a40a08e9454d95ae8a143": {
      "model_module": "@jupyter-widgets/base",
      "model_module_version": "2.0.0",
      "model_name": "LayoutModel",
      "state": {}
     },
     "fa32b17fa8144ab8a9c22185a67adc35": {
      "model_module": "@jupyter-widgets/base",
      "model_module_version": "2.0.0",
      "model_name": "LayoutModel",
      "state": {}
     },
     "fa8532415eed47b6bf39f391544301a8": {
      "model_module": "@jupyter-widgets/controls",
      "model_module_version": "2.0.0",
      "model_name": "VBoxModel",
      "state": {
       "children": [
        "IPY_MODEL_73e7d38bbe794da7a36f39670359f056",
        "IPY_MODEL_cb6775d69a8f44d2ba45b542f96e6512"
       ],
       "layout": "IPY_MODEL_7793632462b943a0ab76cd9f2ae755ca"
      }
     },
     "fbdf8dd1f1d4426db30b83d97683973f": {
      "model_module": "@jupyter-widgets/output",
      "model_module_version": "1.0.0",
      "model_name": "OutputModel",
      "state": {
       "layout": "IPY_MODEL_9b29ca7125804ad59e82dd7a0a7b3a6c",
       "outputs": [
        {
         "data": {
          "text/html": "<div>\n<style scoped>\n    .dataframe tbody tr th:only-of-type {\n        vertical-align: middle;\n    }\n\n    .dataframe tbody tr th {\n        vertical-align: top;\n    }\n\n    .dataframe thead th {\n        text-align: right;\n    }\n</style>\n<table border=\"1\" class=\"dataframe\">\n  <thead>\n    <tr style=\"text-align: right;\">\n      <th></th>\n      <th>area</th>\n      <th>image_id</th>\n      <th>category_id</th>\n      <th>split</th>\n      <th>xmin</th>\n      <th>ymin</th>\n      <th>box_width</th>\n      <th>box_height</th>\n      <th>category_str</th>\n    </tr>\n    <tr>\n      <th>id</th>\n      <th></th>\n      <th></th>\n      <th></th>\n      <th></th>\n      <th></th>\n      <th></th>\n      <th></th>\n      <th></th>\n      <th></th>\n    </tr>\n  </thead>\n  <tbody>\n    <tr>\n      <th>460450</th>\n      <td>48685.67910</td>\n      <td>352582</td>\n      <td>2</td>\n      <td>valid</td>\n      <td>112.43</td>\n      <td>195.32</td>\n      <td>214.78</td>\n      <td>438.19</td>\n      <td>person</td>\n    </tr>\n    <tr>\n      <th>535917</th>\n      <td>22650.73800</td>\n      <td>352582</td>\n      <td>2</td>\n      <td>valid</td>\n      <td>0.00</td>\n      <td>256.00</td>\n      <td>80.54</td>\n      <td>376.81</td>\n      <td>person</td>\n    </tr>\n    <tr>\n      <th>467905</th>\n      <td>5408.64720</td>\n      <td>58393</td>\n      <td>2</td>\n      <td>valid</td>\n      <td>342.52</td>\n      <td>163.33</td>\n      <td>192.24</td>\n      <td>77.47</td>\n      <td>person</td>\n    </tr>\n    <tr>\n      <th>1710990</th>\n      <td>1792.80770</td>\n      <td>58393</td>\n      <td>2</td>\n      <td>valid</td>\n      <td>418.99</td>\n      <td>182.65</td>\n      <td>61.12</td>\n      <td>45.00</td>\n      <td>person</td>\n    </tr>\n    <tr>\n      <th>1238519</th>\n      <td>55847.52705</td>\n      <td>147729</td>\n      <td>2</td>\n      <td>valid</td>\n      <td>0.00</td>\n      <td>87.01</td>\n      <td>310.67</td>\n      <td>287.99</td>\n      <td>person</td>\n    </tr>\n    <tr>\n      <th>...</th>\n      <td>...</td>\n      <td>...</td>\n      <td>...</td>\n      <td>...</td>\n      <td>...</td>\n      <td>...</td>\n      <td>...</td>\n      <td>...</td>\n      <td>...</td>\n    </tr>\n    <tr>\n      <th>1420625</th>\n      <td>865.42470</td>\n      <td>363188</td>\n      <td>61</td>\n      <td>valid</td>\n      <td>221.41</td>\n      <td>199.76</td>\n      <td>91.36</td>\n      <td>63.64</td>\n      <td>bag</td>\n    </tr>\n    <tr>\n      <th>2026890</th>\n      <td>600.52020</td>\n      <td>363188</td>\n      <td>2</td>\n      <td>valid</td>\n      <td>80.77</td>\n      <td>158.46</td>\n      <td>23.14</td>\n      <td>45.34</td>\n      <td>person</td>\n    </tr>\n    <tr>\n      <th>900100363188</th>\n      <td>4293.00000</td>\n      <td>363188</td>\n      <td>2</td>\n      <td>valid</td>\n      <td>0.00</td>\n      <td>129.00</td>\n      <td>305.00</td>\n      <td>115.00</td>\n      <td>person</td>\n    </tr>\n    <tr>\n      <th>1724916</th>\n      <td>125482.38805</td>\n      <td>311180</td>\n      <td>2</td>\n      <td>valid</td>\n      <td>0.92</td>\n      <td>103.12</td>\n      <td>446.49</td>\n      <td>536.47</td>\n      <td>person</td>\n    </tr>\n    <tr>\n      <th>1192747</th>\n      <td>182.21680</td>\n      <td>105455</td>\n      <td>100</td>\n      <td>valid</td>\n      <td>333.56</td>\n      <td>517.21</td>\n      <td>17.43</td>\n      <td>14.58</td>\n      <td>sedan</td>\n    </tr>\n  </tbody>\n</table>\n<p>16147 rows × 9 columns</p>\n</div>",
          "text/plain": "                      area  image_id  category_id  split    xmin    ymin  \\\nid                                                                         \n460450         48685.67910    352582            2  valid  112.43  195.32   \n535917         22650.73800    352582            2  valid    0.00  256.00   \n467905          5408.64720     58393            2  valid  342.52  163.33   \n1710990         1792.80770     58393            2  valid  418.99  182.65   \n1238519        55847.52705    147729            2  valid    0.00   87.01   \n...                    ...       ...          ...    ...     ...     ...   \n1420625          865.42470    363188           61  valid  221.41  199.76   \n2026890          600.52020    363188            2  valid   80.77  158.46   \n900100363188    4293.00000    363188            2  valid    0.00  129.00   \n1724916       125482.38805    311180            2  valid    0.92  103.12   \n1192747          182.21680    105455          100  valid  333.56  517.21   \n\n              box_width  box_height category_str  \nid                                                \n460450           214.78      438.19       person  \n535917            80.54      376.81       person  \n467905           192.24       77.47       person  \n1710990           61.12       45.00       person  \n1238519          310.67      287.99       person  \n...                 ...         ...          ...  \n1420625           91.36       63.64          bag  \n2026890           23.14       45.34       person  \n900100363188     305.00      115.00       person  \n1724916          446.49      536.47       person  \n1192747           17.43       14.58        sedan  \n\n[16147 rows x 9 columns]"
         },
         "metadata": {},
         "output_type": "display_data"
        }
       ]
      }
     },
     "fd8fbd59b8ab49218e4164d6644b5577": {
      "model_module": "@jupyter-widgets/base",
      "model_module_version": "2.0.0",
      "model_name": "LayoutModel",
      "state": {}
     },
     "fe320dda6eaa43fc873ea0fff7a63682": {
      "model_module": "@jupyter-widgets/controls",
      "model_module_version": "2.0.0",
      "model_name": "TabModel",
      "state": {
       "children": [
        "IPY_MODEL_e887e6e5b212464895e32090b398ed33",
        "IPY_MODEL_9134bfa3452e4ec283fc40d476867b93",
        "IPY_MODEL_41cf5a010daa4e3b82acb209a9acaffa"
       ],
       "layout": "IPY_MODEL_922f1b40e7a2402cbcec1aaf37130e8d",
       "selected_index": 0,
       "titles": [
        "Images",
        "Annotations",
        "Label Map"
       ]
      }
     },
     "fea8bf71cd074be0bee0c9141b22feb7": {
      "model_module": "@jupyter-widgets/base",
      "model_module_version": "2.0.0",
      "model_name": "LayoutModel",
      "state": {}
     },
     "fef046f9fdb949398492b4445da12b91": {
      "model_module": "@jupyter-widgets/controls",
      "model_module_version": "2.0.0",
      "model_name": "HTMLModel",
      "state": {
       "layout": "IPY_MODEL_0d294e250d0c45edae6058b5a2d4cda6",
       "style": "IPY_MODEL_92de65d1d31f4f3b8d91ac7b6f002c97",
       "value": "<b> Dataset object located at notebook_data, containing 5,000 images and 36,781 objects </b>"
      }
     },
     "ff935f66a39147288211a49d6e556761": {
      "model_module": "@jupyter-widgets/base",
      "model_module_version": "2.0.0",
      "model_name": "LayoutModel",
      "state": {}
     }
    },
    "version_major": 2,
    "version_minor": 0
   }
  }
 },
 "nbformat": 4,
 "nbformat_minor": 5
}
